{
 "cells": [
  {
   "cell_type": "markdown",
   "id": "583b63e3",
   "metadata": {},
   "source": [
    "# Indexing\n",
    "\n",
    "Alle Daten in die Datenbank bringen. Ich verwende ChromaDB weil lokal. Es ist die Grundlage für das spätere System und gleichzeitig die Quelle für die Evaluation."
   ]
  },
  {
   "cell_type": "code",
   "execution_count": 12,
   "id": "08041623",
   "metadata": {},
   "outputs": [],
   "source": [
    "import chromadb\n",
    "import random\n",
    "import pandas as pd\n",
    "import numpy as np\n",
    "from sentence_transformers import SentenceTransformer\n"
   ]
  },
  {
   "cell_type": "markdown",
   "id": "8b379d84",
   "metadata": {},
   "source": [
    "## Embeddings laden"
   ]
  },
  {
   "cell_type": "code",
   "execution_count": 3,
   "id": "818fe947",
   "metadata": {},
   "outputs": [],
   "source": [
    "embeddings = np.load('../2-embedding/embeddings_gbert.npy')\n",
    "chunks_meta = pd.read_json('../2-embedding/chunks_metadata.jsonl', lines=True)"
   ]
  },
  {
   "cell_type": "markdown",
   "id": "9fe5fc1c",
   "metadata": {},
   "source": [
    "## DB und Collection erstellen"
   ]
  },
  {
   "cell_type": "code",
   "execution_count": 4,
   "id": "b4e8cb24",
   "metadata": {},
   "outputs": [],
   "source": [
    "client = chromadb.PersistentClient(path=\"./chroma_db\")\n",
    "\n",
    "collection = client.get_or_create_collection(\n",
    "    name = \"prdukt_chunks\",\n",
    "    metadata = {\"description\": \"Product chunks with GBERT embeddings\"}\n",
    ")"
   ]
  },
  {
   "cell_type": "markdown",
   "id": "bace3256",
   "metadata": {},
   "source": [
    "## Daten vorverarbeiten"
   ]
  },
  {
   "cell_type": "code",
   "execution_count": 5,
   "id": "1c10737c",
   "metadata": {},
   "outputs": [],
   "source": [
    "ids = [str(i) for i in range(len(chunks_meta))]\n",
    "documents = chunks_meta['document'].tolist()\n",
    "metadatas = chunks_meta['metadata'].tolist()\n",
    "embeddings_list = embeddings.tolist()"
   ]
  },
  {
   "cell_type": "markdown",
   "id": "25029164",
   "metadata": {},
   "source": [
    "## Indexieren"
   ]
  },
  {
   "cell_type": "code",
   "execution_count": 7,
   "id": "a1617457",
   "metadata": {},
   "outputs": [
    {
     "name": "stdout",
     "output_type": "stream",
     "text": [
      "Done\n"
     ]
    }
   ],
   "source": [
    "collection.add(\n",
    "    ids = ids,\n",
    "    documents = documents,\n",
    "    embeddings = embeddings_list,\n",
    "    metadatas = metadatas\n",
    ")\n",
    "\n",
    "print(f\"Done\")"
   ]
  },
  {
   "cell_type": "markdown",
   "id": "f2e38f91",
   "metadata": {},
   "source": [
    "## Check DB"
   ]
  },
  {
   "cell_type": "code",
   "execution_count": 18,
   "id": "e80a0bf2",
   "metadata": {},
   "outputs": [
    {
     "name": "stdout",
     "output_type": "stream",
     "text": [
      "Anzahl der Dokumente: 1800\n",
      "--- Dokuemnt 0 ---\n",
      "Text: Der Kirsch MED-126 PRO-ACTIVE ist ein Medikamentenkühlschrank mit 120 Litern Nutzvolumen und einer Temperaturregelung von +2 bis +14°C. Der Kühlschrank entspricht der DIN 58345-Norm und ist ideal für \n",
      "Metadata: {'chunk_id': 'Kirsch-MED-126-PRO-ACTIVE-Medikamentenkuehlschrank_summ_0', 'product_manufacturer': 'Kirsch', 'chunk_type': 'description', 'product_id': 'Kirsch-MED-126-PRO-ACTIVE-Medikamentenkuehlschrank', 'product_url': 'https://www.rainer-medizintechnik.de/Kirsch-MED-126-PRO-ACTIVE-Medikamentenkuehlschrank', 'product_price': '2.650,38\\xa0€', 'product_sku': 'KIR 12136', 'product_category': 'Medikamentenkühlschrank', 'product_title': 'MED-126 PRO-ACTIVE'}\n",
      "--- Dokuemnt 1 ---\n",
      "Text: Die Isolierung des FROSTER MED-95 ist 50 mm stark und besteht aus hochwertigem, druckgeschäumtem und umweltschonendem Material. Der Innenraum ist aus schlagfestem, weißem Kunststoff mit eingeformten A\n",
      "Metadata: {'product_sku': 'KIR 10304', 'chunk_id': 'Kirsch-FROSTER-MED-95-PRO-ACTIVE-Medikamentenkuehlschrank_desc_2', 'product_id': 'Kirsch-FROSTER-MED-95-PRO-ACTIVE-Medikamentenkuehlschrank', 'product_manufacturer': 'Kirsch', 'product_price': '3.315,38\\xa0€', 'product_category': 'Medikamentenkühlschrank', 'product_url': 'https://www.rainer-medizintechnik.de/Kirsch-FROSTER-MED-95-PRO-ACTIVE-Medikamentenkuehlschrank', 'chunk_type': 'description', 'product_title': 'FROSTER MED-95 PRO-ACTIVE'}\n",
      "--- Dokuemnt 2 ---\n",
      "Text: Der Kirsch MED-468 ist ein nach DIN 58345 genormter Medikamentenkühlschrank mit PRO-Active-Steuerung. Er verfügt über 10 auf Rollen gelagerten und arretierenden Schubfächern, die eine große Staukapazi\n",
      "Metadata: {'product_manufacturer': 'Kirsch', 'product_sku': 'KIR 10589', 'product_id': 'Kirsch-MED-468-PRO-ACTIVE-Medikamentenkuehlschrank', 'product_category': 'Medikamentenkühlschrank', 'chunk_id': 'Kirsch-MED-468-PRO-ACTIVE-Medikamentenkuehlschrank_desc_0', 'product_url': 'https://www.rainer-medizintechnik.de/Kirsch-MED-468-PRO-ACTIVE-Medikamentenkuehlschrank', 'chunk_type': 'description', 'product_title': 'MED-468 PRO-ACTIVE', 'product_price': '5.292,88\\xa0€'}\n",
      "--- Dokuemnt 3 ---\n",
      "Text: Die robuste Bauweise und hochwertige Materialien gewährleisten eine Nutzungsdauer von bis zu 15 Jahren. Liebherr garantiert zudem eine Ersatzteilverfügbarkeit von mindestens zehn Jahren, was den langf\n",
      "Metadata: {'chunk_id': 'SFPvg-8401-Performance-Laborgefriergeraet-mit-Umluftkuehlung_desc_3', 'product_url': 'https://www.rainer-medizintechnik.de/SFPvg-8401-Performance-Laborgefriergeraet-mit-Umluftkuehlung', 'product_sku': 'LIE SFPvg 8401', 'product_category': 'Labortiefkühlschrank', 'product_price': '5.439,20\\xa0€', 'product_id': 'SFPvg-8401-Performance-Laborgefriergeraet-mit-Umluftkuehlung', 'product_manufacturer': 'Liebherr', 'product_title': 'SFPvg 8401 Performance', 'chunk_type': 'description'}\n",
      "--- Dokuemnt 4 ---\n",
      "Text: Bei einem Stromausfall oder Temperaturanstieg wird ein integrierter Akku aktiviert, der die Stromversorgung übernimmt und Alarme auslöst. Das SafetyDevice stabilisiert die Temperatur und schützt den I\n",
      "Metadata: {'product_url': 'https://www.rainer-medizintechnik.de/HMFvh-4011-Perfection-50-C-mit-Glastuer', 'product_sku': 'LIE HMFvh 4011', 'product_manufacturer': 'Liebherr', 'chunk_type': 'description', 'product_id': 'HMFvh-4011-Perfection-50-C-mit-Glastuer', 'product_title': 'HMFvh 4011 Perfection', 'product_category': 'Medikamentenkühlschrank', 'chunk_id': 'HMFvh-4011-Perfection-50-C-mit-Glastuer_desc_2', 'product_price': '2.742,40\\xa0€'}\n",
      "--- Dokuemnt 5 ---\n",
      "Text: Spannung (volt) - Spannung: 220, Spannung max: 240\n",
      "Metadata: {'product_category': 'Laborkühlschrank', 'product_id': 'Kirsch-LABO-288-PRO-ACTIVE-Laborkuehlschrank', 'product_price': '2.974,13\\xa0€', 'chunk_id': 'Kirsch-LABO-288-PRO-ACTIVE-Laborkuehlschrank_spec_5', 'product_url': 'https://www.rainer-medizintechnik.de/Kirsch-LABO-288-PRO-ACTIVE-Laborkuehlschrank', 'product_title': 'LABO-288 PRO-ACTIVE', 'chunk_type': 'specs', 'product_manufacturer': 'Kirsch', 'product_sku': 'KIR 11252'}\n",
      "--- Dokuemnt 6 ---\n",
      "Text: Energie - Leistungsaufnahme-watt: 100, Wärmeabgabe-watt: 173, Normalverbrauch-kwh 24h: 0.69\n",
      "Metadata: {'product_manufacturer': 'Kirsch', 'product_url': 'https://www.rainer-medizintechnik.de/Kirsch-MED-288-ULTIMATE-Medikamentenkuehlschrank', 'product_price': '5.301,63\\xa0€', 'product_sku': 'KIR 12181', 'chunk_id': 'Kirsch-MED-288-ULTIMATE-Medikamentenkuehlschrank_spec_4', 'product_title': 'MED-288 ULTIMATE', 'product_id': 'Kirsch-MED-288-ULTIMATE-Medikamentenkuehlschrank', 'chunk_type': 'specs', 'product_category': 'Medikamentenkühlschrank'}\n",
      "--- Dokuemnt 7 ---\n",
      "Text: Sonstiges - Kältemaschine 60Hz: optional, Dekorrahmen: optional, Rost mit Schienen: optional, flexible Ausstattung: True, Tauwassergefäß: True\n",
      "Metadata: {'product_category': 'Labortiefkühlschrank', 'product_sku': 'KIR 12200', 'product_title': 'FROSTER LABEX-330 ULTIMATE', 'product_url': 'https://www.rainer-medizintechnik.de/Kirsch-FROSTER-LABEX-330-ULTIMATE-Laborgefrierschrank', 'chunk_type': 'specs', 'chunk_id': 'Kirsch-FROSTER-LABEX-330-ULTIMATE-Laborgefrierschrank_spec_10', 'product_price': '9.265,38\\xa0€', 'product_manufacturer': 'Kirsch', 'product_id': 'Kirsch-FROSTER-LABEX-330-ULTIMATE-Laborgefrierschrank'}\n",
      "--- Dokuemnt 8 ---\n",
      "Text: Geräusch (db) - Emission: 35\n",
      "Metadata: {'product_id': 'Haier-Medikamentenkuehlschrank-HYC-85GD', 'product_title': 'HYC-85GD', 'chunk_id': 'Haier-Medikamentenkuehlschrank-HYC-85GD_spec_7', 'chunk_type': 'specs', 'product_category': 'Medikamentenkühlschrank', 'product_url': 'https://www.rainer-medizintechnik.de/Haier-Medikamentenkuehlschrank-HYC-85GD', 'product_price': '1.410,00\\xa0€', 'product_sku': 'HAI HYC-85GD', 'product_manufacturer': 'Haier'}\n"
     ]
    }
   ],
   "source": [
    "print(f\"Anzahl der Dokumente: {collection.count()}\")\n",
    "\n",
    "sample_idx = [str(i) for i in random.sample(range(len(embeddings)), int(len(embeddings) * 0.005))]\n",
    "\n",
    "result = collection.get(\n",
    "    ids = sample_idx,\n",
    "    include = [\"documents\", \"metadatas\", \"embeddings\"]\n",
    ")\n",
    "\n",
    "for i, (doc, meta) in enumerate(zip(result['documents'], result[\"metadatas\"])):\n",
    "    print(f\"--- Dokuemnt {i} ---\")\n",
    "    print(f\"Text: {doc[:200]}\")\n",
    "    print(f\"Metadata: {meta}\")"
   ]
  }
 ],
 "metadata": {
  "kernelspec": {
   "display_name": "Python 3",
   "language": "python",
   "name": "python3"
  },
  "language_info": {
   "codemirror_mode": {
    "name": "ipython",
    "version": 3
   },
   "file_extension": ".py",
   "mimetype": "text/x-python",
   "name": "python",
   "nbconvert_exporter": "python",
   "pygments_lexer": "ipython3",
   "version": "3.13.7"
  }
 },
 "nbformat": 4,
 "nbformat_minor": 5
}
