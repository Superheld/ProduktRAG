{
 "cells": [
  {
   "cell_type": "markdown",
   "id": "583b63e3",
   "metadata": {},
   "source": [
    "# Indexing\n",
    "\n",
    "Alle Daten in die Datenbank bringen. Ich verwende ChromaDB weil lokal. Es ist die Grundlage für das spätere System und gleichzeitig die Quelle für die Evaluation."
   ]
  },
  {
   "cell_type": "code",
   "execution_count": 2,
   "id": "08041623",
   "metadata": {},
   "outputs": [
    {
     "name": "stderr",
     "output_type": "stream",
     "text": [
      "/home/bruce/.local/share/mise/installs/python/3.13.7/lib/python3.13/site-packages/tqdm/auto.py:21: TqdmWarning: IProgress not found. Please update jupyter and ipywidgets. See https://ipywidgets.readthedocs.io/en/stable/user_install.html\n",
      "  from .autonotebook import tqdm as notebook_tqdm\n"
     ]
    }
   ],
   "source": [
    "import chromadb\n",
    "import random\n",
    "import pandas as pd\n",
    "import numpy as np\n",
    "from sentence_transformers import SentenceTransformer\n"
   ]
  },
  {
   "cell_type": "markdown",
   "id": "8b379d84",
   "metadata": {},
   "source": [
    "## Embeddings laden"
   ]
  },
  {
   "cell_type": "code",
   "execution_count": 3,
   "id": "818fe947",
   "metadata": {},
   "outputs": [],
   "source": [
    "embeddings = np.load('../2-embedding/embeddings_gbert.npy')\n",
    "chunks_meta = pd.read_json('../2-embedding/chunks_metadata.jsonl', lines=True)"
   ]
  },
  {
   "cell_type": "markdown",
   "id": "9fe5fc1c",
   "metadata": {},
   "source": [
    "## DB und Collection erstellen"
   ]
  },
  {
   "cell_type": "code",
   "execution_count": 8,
   "id": "b4e8cb24",
   "metadata": {},
   "outputs": [],
   "source": [
    "client = chromadb.PersistentClient(path=\"./chroma_db\")\n",
    "\n",
    "client.delete_collection('prdukt_chunks')\n",
    "\n",
    "collection = client.create_collection(\n",
    "    name = \"prdukt_chunks\",\n",
    "    metadata = {\"description\": \"Product chunks with GBERT embeddings\"}\n",
    ")"
   ]
  },
  {
   "cell_type": "markdown",
   "id": "bace3256",
   "metadata": {},
   "source": [
    "## Daten vorverarbeiten"
   ]
  },
  {
   "cell_type": "code",
   "execution_count": 5,
   "id": "1c10737c",
   "metadata": {},
   "outputs": [],
   "source": [
    "ids = [str(i) for i in range(len(chunks_meta))]\n",
    "documents = chunks_meta['document'].tolist()\n",
    "metadatas = chunks_meta['metadata'].tolist()\n",
    "embeddings_list = embeddings.tolist()"
   ]
  },
  {
   "cell_type": "markdown",
   "id": "25029164",
   "metadata": {},
   "source": [
    "## Indexieren"
   ]
  },
  {
   "cell_type": "code",
   "execution_count": 7,
   "id": "a1617457",
   "metadata": {},
   "outputs": [
    {
     "name": "stdout",
     "output_type": "stream",
     "text": [
      "Done\n"
     ]
    }
   ],
   "source": [
    "collection.add(\n",
    "    ids = ids,\n",
    "    documents = documents,\n",
    "    embeddings = embeddings_list,\n",
    "    metadatas = metadatas\n",
    ")\n",
    "\n",
    "print(f\"Done\")"
   ]
  },
  {
   "cell_type": "markdown",
   "id": "f2e38f91",
   "metadata": {},
   "source": [
    "## Check DB"
   ]
  },
  {
   "cell_type": "code",
   "execution_count": 9,
   "id": "e80a0bf2",
   "metadata": {},
   "outputs": [
    {
     "name": "stdout",
     "output_type": "stream",
     "text": [
      "Anzahl der Dokumente: 0\n"
     ]
    }
   ],
   "source": [
    "print(f\"Anzahl der Dokumente: {collection.count()}\")\n",
    "\n",
    "sample_idx = [str(i) for i in random.sample(range(len(embeddings)), int(len(embeddings) * 0.005))]\n",
    "\n",
    "result = collection.get(\n",
    "    ids = sample_idx,\n",
    "    include = [\"documents\", \"metadatas\", \"embeddings\"]\n",
    ")\n",
    "\n",
    "for i, (doc, meta) in enumerate(zip(result['documents'], result[\"metadatas\"])):\n",
    "    print(f\"--- Dokuemnt {i} ---\")\n",
    "    print(f\"Text: {doc[:200]}\")\n",
    "    print(f\"Metadata: {meta}\")"
   ]
  }
 ],
 "metadata": {
  "kernelspec": {
   "display_name": "Python 3",
   "language": "python",
   "name": "python3"
  },
  "language_info": {
   "codemirror_mode": {
    "name": "ipython",
    "version": 3
   },
   "file_extension": ".py",
   "mimetype": "text/x-python",
   "name": "python",
   "nbconvert_exporter": "python",
   "pygments_lexer": "ipython3",
   "version": "3.13.7"
  }
 },
 "nbformat": 4,
 "nbformat_minor": 5
}
