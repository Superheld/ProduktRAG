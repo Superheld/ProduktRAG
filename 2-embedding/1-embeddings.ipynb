{
 "cells": [
  {
   "cell_type": "markdown",
   "id": "ed9c4817",
   "metadata": {},
   "source": [
    "# Embedding"
   ]
  },
  {
   "cell_type": "code",
   "execution_count": 24,
   "id": "b3a40bfc",
   "metadata": {},
   "outputs": [],
   "source": [
    "import random\n",
    "import pandas as pd\n",
    "import numpy as np \n",
    "\n",
    "from sentence_transformers import SentenceTransformer, util\n",
    "\n",
    "summs_df = pd.read_json('../1-normalisation+chunking/summs_chunks.jsonl', lines=True)\n",
    "descs_df = pd.read_json('../1-normalisation+chunking/descs_chunks.jsonl', lines=True)\n",
    "specs_df = pd.read_json('../1-normalisation+chunking/specs_chunks.jsonl', lines=True)\n",
    "\n",
    "all_chunks = pd.concat([summs_df, descs_df, specs_df], ignore_index=True)"
   ]
  },
  {
   "cell_type": "markdown",
   "id": "e146abfe",
   "metadata": {},
   "source": [
    "## Daten bereinigen und speichern"
   ]
  },
  {
   "cell_type": "code",
   "execution_count": 22,
   "id": "855c0fe8",
   "metadata": {},
   "outputs": [],
   "source": [
    "all_chunks['document'] = all_chunks['document'].str.strip()\n",
    "\n",
    "no_empty_mask = all_chunks['document'].str.len() > 10\n",
    "all_chunks_clean = all_chunks[no_empty_mask]\n",
    "\n",
    "no_duplicates = all_chunks_clean.drop_duplicates(subset=['document'])\n",
    "all_chunks_clean = no_duplicates.reset_index(drop=True)\n",
    "\n",
    "documents_clean = all_chunks_clean['document'].tolist()\n",
    "all_chunks_clean.to_json('./chunks_metadata.jsonl', orient='records', lines=True)"
   ]
  },
  {
   "cell_type": "markdown",
   "id": "65a441b7",
   "metadata": {},
   "source": [
    "## Embeddings generieren"
   ]
  },
  {
   "cell_type": "code",
   "execution_count": 20,
   "id": "57e6f41b",
   "metadata": {},
   "outputs": [
    {
     "name": "stderr",
     "output_type": "stream",
     "text": [
      "2025-10-05 01:03:15,398 - SentenceTransformer.py - sentence_transformers.SentenceTransformer - WARNING - No sentence-transformers model found with name deepset/gbert-large. Creating a new one with mean pooling.\n",
      "Batches: 100%|██████████| 113/113 [17:40<00:00,  9.39s/it]\n"
     ]
    }
   ],
   "source": [
    "model = SentenceTransformer('deepset/gbert-large')\n",
    "\n",
    "embeddings = model.encode(\n",
    "    documents_clean,\n",
    "    batch_size = 16,\n",
    "    show_progress_bar = True,\n",
    "    normalize_embeddings = True,\n",
    "    convert_to_numpy = True,\n",
    ")\n",
    "\n",
    "np.save('./embeddings_gbert.npy', embeddings)"
   ]
  },
  {
   "cell_type": "markdown",
   "id": "e3249a25",
   "metadata": {},
   "source": [
    "## Daten validieren"
   ]
  },
  {
   "cell_type": "code",
   "execution_count": null,
   "id": "ce5e77bf",
   "metadata": {},
   "outputs": [
    {
     "name": "stdout",
     "output_type": "stream",
     "text": [
      "Index: 48\n",
      "Text: Der LKv 3910 MediLine von Liebherr ist ein hochwertiger Labo...\n",
      "Shape: [ 0.00279668  0.00016322 -0.00074209 ...  0.0040718  -0.00466464\n",
      " -0.0158316 ], Norm: 1.0000\n",
      "Similarity: 0.99999964\n",
      "Index: 1287\n",
      "Text: Innenausstattung - Anzahl Ablageflächen: 6, Belastbarkeit Ab...\n",
      "Shape: [-0.00252282 -0.00125176  0.00313226 ... -0.00065846 -0.010732\n",
      " -0.02203418], Norm: 1.0000\n",
      "Similarity: 0.99999994\n",
      "Index: 726\n",
      "Text: Die Tiefkühltruhe bietet eine präzise Temperaturregelung von...\n",
      "Shape: [ 0.00481904  0.00833065  0.00581945 ... -0.00121045  0.00394187\n",
      " -0.01110826], Norm: 1.0000\n",
      "Similarity: 1.00000012\n",
      "Index: 1323\n",
      "Text: Energie - Normalverbrauch-kwh 24h: 3.18, Wärmeabgabe-watt: 4...\n",
      "Shape: [ 0.03575942  0.00403371  0.00635387 ...  0.00344834  0.00082015\n",
      " -0.02038387], Norm: 1.0000\n",
      "Similarity: 0.99999994\n",
      "Index: 1632\n",
      "Text: Innenausstattung - Anzahl Ablageflächen: 4, Belastbarkeit Ab...\n",
      "Shape: [-1.1946378e-05 -2.2963989e-03  2.3680725e-03 ...  1.3620813e-03\n",
      " -8.4223058e-03 -2.1856196e-02], Norm: 1.0000\n",
      "Similarity: 1.00000024\n",
      "Index: 523\n",
      "Text: Der Kirsch LABEX-720 Laborkühlschrank ist speziell für die s...\n",
      "Shape: [ 0.01892097 -0.00095288 -0.0098744  ... -0.00175722 -0.0031223\n",
      " -0.02150423], Norm: 1.0000\n",
      "Similarity: 1.00000000\n",
      "Index: 1127\n",
      "Text: Ausstattung - Abtauung automatisch: True, Umluftkühlung: Tru...\n",
      "Shape: [-0.00934502  0.00641939  0.00025528 ... -0.00489583 -0.0004632\n",
      " -0.012973  ], Norm: 1.0000\n",
      "Similarity: 0.99999982\n",
      "Index: 1136\n",
      "Text: Sonstiges - Kältemittel: R 600a, Türanschlag: rechts wechsel...\n",
      "Shape: [ 6.3223303e-03 -2.5980029e-04  3.7766556e-04 ... -1.0029573e-03\n",
      " -8.8198038e-05 -1.1431277e-02], Norm: 1.0000\n",
      "Similarity: 1.00000012\n",
      "Index: 802\n",
      "Text: Der Blutplasmafroster verfügt über ein optisches und akustis...\n",
      "Shape: [ 0.00385842 -0.00072769 -0.00256363 ...  0.00499126  0.00260484\n",
      " -0.0086359 ], Norm: 1.0000\n",
      "Similarity: 0.99999994\n",
      "Index: 1013\n",
      "Text: Mit einem jährlichen Energieverbrauch von 220 kWh und einer ...\n",
      "Shape: [ 0.01342028  0.00856111 -0.00673343 ...  0.00514018 -0.00409465\n",
      " -0.01813328], Norm: 1.0000\n",
      "Similarity: 0.99999982\n",
      "Index: 1089\n",
      "Text: Innenausstattung - Anzahl Schubfächer: 5, Belastbarkeit Abla...\n",
      "Shape: [-0.00313916 -0.00474844  0.00932239 ... -0.00071438 -0.01302325\n",
      " -0.02455063], Norm: 1.0000\n",
      "Similarity: 0.99999994\n",
      "Index: 1251\n",
      "Text: Volumen (l) - Kühlinhalt: 1091, Gefrierinhalt: 1447...\n",
      "Shape: [ 0.01645583 -0.0084151   0.0017824  ...  0.00532693 -0.00656929\n",
      " -0.0195414 ], Norm: 1.0000\n",
      "Similarity: 0.99999964\n",
      "Index: 312\n",
      "Text: Der Kirsch LABO-288 Laborkühlschrank ist mit einer PRO-Activ...\n",
      "Shape: [ 0.00816299  0.00118134 -0.00066224 ...  0.00833648 -0.00843329\n",
      " -0.01835791], Norm: 1.0000\n",
      "Similarity: 0.99999988\n",
      "Index: 224\n",
      "Text: Der Kühlschrank bietet mit seinen zwei Schubfächern aus Alum...\n",
      "Shape: [ 0.00433238  0.0005386  -0.00276027 ...  0.0108061  -0.00469813\n",
      " -0.01544281], Norm: 1.0000\n",
      "Similarity: 1.00000024\n",
      "Index: 599\n",
      "Text: Der Kühlschrank verfügt über einen Innenbehälter aus schlagf...\n",
      "Shape: [ 0.00912004  0.00943362  0.00112816 ...  0.01019483 -0.01409723\n",
      " -0.01785505], Norm: 1.0000\n",
      "Similarity: 0.99999988\n",
      "Index: 755\n",
      "Text: Für zusätzliche Sicherheit ist der SRPvh 1402 mit einem Alar...\n",
      "Shape: [-0.00264372 -0.00810711 -0.00367161 ...  0.00059255 -0.0049326\n",
      " -0.01226846], Norm: 1.0000\n",
      "Similarity: 0.99999994\n",
      "Index: 1646\n",
      "Text: Ausstattung - Abtauung automatisch: True, Umluftkühlung: Tru...\n",
      "Shape: [ 5.7920584e-05  1.4420555e-03 -1.0219227e-03 ... -7.3868484e-04\n",
      " -2.4530496e-03 -1.5671907e-02], Norm: 1.0000\n",
      "Similarity: 0.99999964\n",
      "Index: 764\n",
      "Text: Der FROSTER MED-70 ist mit einem PC-KIT-STICK zur elektronis...\n",
      "Shape: [ 0.0090678   0.00832988 -0.00522719 ...  0.00616225 -0.00688439\n",
      " -0.0105236 ], Norm: 1.0000\n",
      "Similarity: 0.99999988\n",
      "Shape: (1800, 1024)\n",
      "Dtype: float32\n"
     ]
    }
   ],
   "source": [
    "# Längenergleich\n",
    "assert len(embeddings) == len(documents_clean)\n",
    "\n",
    "# Stichproben\n",
    "sample_idx = random.sample(range(len(embeddings)), int(len(embeddings) * 0.01))\n",
    "for idx in sample_idx:\n",
    "    text = all_chunks_clean.iloc[idx]['document']\n",
    "    embd = embeddings[idx]\n",
    "    norm = np.linalg.norm(embd)\n",
    "    test = model.encode([text], normalize_embeddings=True)[0]\n",
    "    similarity = np.dot(embd, test)\n",
    "\n",
    "    print(f\"Index: {idx}\")\n",
    "    print(f\"Text: {text[:60]}...\")\n",
    "    print(f\"Shape: {embd}, Norm: {norm:.4f}\")\n",
    "    print(f\"Similarity: {similarity:.8f}\")\n",
    "\n",
    "assert not np.any(np.isnan(embeddings))\n",
    "assert not np.any(np.isinf(embeddings))\n",
    "\n",
    "print(f\"Shape: {embeddings.shape}\")\n",
    "print(f\"Dtype: {embeddings.dtype}\")"
   ]
  }
 ],
 "metadata": {
  "kernelspec": {
   "display_name": "Python 3",
   "language": "python",
   "name": "python3"
  },
  "language_info": {
   "codemirror_mode": {
    "name": "ipython",
    "version": 3
   },
   "file_extension": ".py",
   "mimetype": "text/x-python",
   "name": "python",
   "nbconvert_exporter": "python",
   "pygments_lexer": "ipython3",
   "version": "3.13.7"
  }
 },
 "nbformat": 4,
 "nbformat_minor": 5
}
