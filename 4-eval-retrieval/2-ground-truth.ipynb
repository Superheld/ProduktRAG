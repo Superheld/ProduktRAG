{
 "cells": [
  {
   "cell_type": "markdown",
   "id": "67e6544c",
   "metadata": {},
   "source": [
    "# Ground Truth Evaluation"
   ]
  },
  {
   "cell_type": "code",
   "execution_count": 1,
   "id": "eaf0d4d0",
   "metadata": {},
   "outputs": [
    {
     "name": "stderr",
     "output_type": "stream",
     "text": [
      "/home/bruce/.local/share/mise/installs/python/3.13.7/lib/python3.13/site-packages/tqdm/auto.py:21: TqdmWarning: IProgress not found. Please update jupyter and ipywidgets. See https://ipywidgets.readthedocs.io/en/stable/user_install.html\n",
      "  from .autonotebook import tqdm as notebook_tqdm\n",
      "No sentence-transformers model found with name deepset/gbert-large. Creating a new one with mean pooling.\n"
     ]
    }
   ],
   "source": [
    "import json\n",
    "import numpy as np\n",
    "from sentence_transformers import SentenceTransformer\n",
    "from tqdm import tqdm\n",
    "\n",
    "test_queries = json.load(open('test_queries.json'))\n",
    "embeddings = np.load('../2-embedding/embeddings_gbert.npy')\n",
    "model = SentenceTransformer('deepset/gbert-large')\n",
    "\n",
    "chunks = []\n",
    "\n",
    "with open('../1-normalisation+chunking/specs_chunks.jsonl', 'r', encoding='utf-8') as f:\n",
    "    for line in f:\n",
    "        chunks.append(json.loads(line))\n",
    "with open('../1-normalisation+chunking/descs_chunks.jsonl', 'r', encoding='utf-8') as f:\n",
    "    for line in f:\n",
    "        chunks.append(json.loads(line))\n",
    "\n",
    "# >3 zeichen fix (siehe embedding, copy&paste)\n",
    "import pandas as pd\n",
    "specs_df = pd.read_json('../1-normalisation+chunking/specs_chunks.jsonl', lines=True)\n",
    "descs_df = pd.read_json('../1-normalisation+chunking/descs_chunks.jsonl', lines=True)\n",
    "all_chunks = pd.concat([specs_df, descs_df], ignore_index=True)\n",
    "no_empty_mask = all_chunks['document'].str.len() > 3\n",
    "all_chunks_clean = all_chunks[no_empty_mask].reset_index(drop=True)\n",
    "chunks = all_chunks_clean.to_dict('records')\n"
   ]
  },
  {
   "cell_type": "markdown",
   "id": "69d84cb5",
   "metadata": {},
   "source": [
    "**Queries durchgehen**"
   ]
  },
  {
   "cell_type": "code",
   "execution_count": 7,
   "id": "ae32ea65",
   "metadata": {},
   "outputs": [
    {
     "name": "stderr",
     "output_type": "stream",
     "text": [
      "                                                                          \r"
     ]
    }
   ],
   "source": [
    "all_results = {}\n",
    "\n",
    "for category, queries in test_queries['queries'].items():\n",
    "    for query_item in tqdm(queries, desc=f\"  {category} queries\", leave=False):\n",
    "        query_id = query_item['id']\n",
    "        query_text = query_item['query']\n",
    "\n",
    "        top_10_results = retrive(query_text, top_k=10)\n",
    "\n",
    "        all_results[query_id] = {\n",
    "            'query': query_text,\n",
    "            'category': category,\n",
    "            'results': top_10_results\n",
    "        }\n",
    "\n",
    "with open('./retrival_results.json', 'w', encoding='utf-8') as f:\n",
    "    json.dump(all_results, f, ensure_ascii=False, indent=2)"
   ]
  }
 ],
 "metadata": {
  "kernelspec": {
   "display_name": "Python 3",
   "language": "python",
   "name": "python3"
  },
  "language_info": {
   "codemirror_mode": {
    "name": "ipython",
    "version": 3
   },
   "file_extension": ".py",
   "mimetype": "text/x-python",
   "name": "python",
   "nbconvert_exporter": "python",
   "pygments_lexer": "ipython3",
   "version": "3.13.7"
  }
 },
 "nbformat": 4,
 "nbformat_minor": 5
}
