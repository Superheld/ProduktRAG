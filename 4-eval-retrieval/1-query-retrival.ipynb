{
 "cells": [
  {
   "cell_type": "markdown",
   "id": "990ff8d8",
   "metadata": {},
   "source": [
    "# Evaluation Retrival\n",
    "\n",
    "Um ganze sätze zu prüfen und zu vergleichen wird ebenfalls ein Cosinus-Similarity genutzt. Hierzu werden die Sätze in Vektoren umgewandelt und dann verglichen.\n",
    "\n",
    "Die Testdaten wurden von Claude Code anhand der Produktdatei generiert. Sinnvoll wäre es, mit dem Kunden zu sprechen und echte Fragen zu sammeln.\n",
    "\n",
    "prdukt_chunks muss so ;)"
   ]
  },
  {
   "cell_type": "code",
   "execution_count": 20,
   "id": "18565be9",
   "metadata": {},
   "outputs": [
    {
     "name": "stderr",
     "output_type": "stream",
     "text": [
      "No sentence-transformers model found with name deepset/gbert-large. Creating a new one with mean pooling.\n"
     ]
    }
   ],
   "source": [
    "from sentence_transformers import SentenceTransformer, util\n",
    "import pandas as pd\n",
    "from tqdm.notebook import tqdm\n",
    "import json\n",
    "import chromadb\n",
    "\n",
    "client = chromadb.PersistentClient(path=\"../3-indexing/chroma_db\")\n",
    "collection = client.get_collection('prdukt_chunks')\n",
    "model = SentenceTransformer('deepset/gbert-large')"
   ]
  },
  {
   "cell_type": "code",
   "execution_count": 21,
   "id": "4e62819c",
   "metadata": {},
   "outputs": [],
   "source": [
    "temp_queries = [\n",
    "      \"Temperaturalarm bei Störung\",           # Direkt aus Specs\n",
    "      \"Warnung bei Temperaturabweichung\",\n",
    "      \"Optischer und akustischer Alarm\",       # Aus Specs\n",
    "      \"SmartMonitoring Benachrichtigung\",      # Aus Description  \n",
    "      \"E-Mail Warnung bei Temperaturproblem\"   # Aus Description\n",
    "  ]\n",
    "\n",
    "size_queries = [\n",
    "    \"Außenmaße des Geräts\",                  # Direkt aus Specs\n",
    "    \"Wie groß ist der Kühlschrank?\",\n",
    "    \"Abmessungen in Zentimetern\",            # Specs: \"59,7 x 65,4 x 188,4\" \n",
    "    \"BxTxH Maße\",\n",
    "    \"Platzbedarf des Medikamentenkühlschranks\"\n",
    "]\n",
    "\n",
    "connectivity_queries = [\n",
    "    \"USB-Schnittstelle zum Datenauslesen\",   # Direkt aus Description\n",
    "    \"WiFi LAN Verbindung\",                   # Aus Specs: \"LAN / WiFi integriert\"\n",
    "    \"Netzwerk-Anschluss verfügbar\",\n",
    "    \"Datenlogger per USB auslesen\",          # Aus Specs\n",
    "    \"SmartModule Vernetzbarkeit\"             # Aus Specs\n",
    "]\n",
    "\n",
    "energy_queries = [\n",
    "    \"Stromverbrauch pro Jahr\",               # Specs: \"172 kWh\"\n",
    "    \"Energieverbrauch in 365 Tagen\",         # Direkt aus Specs\n",
    "    \"Wie viel kWh verbraucht das Gerät?\",\n",
    "    \"Betriebskosten Strom\",\n",
    "    \"Ultra-efficient Energieeffizienz\"      # Aus Description\n",
    "]\n",
    "\n",
    "safety_queries = [\n",
    "    \"Was passiert bei Stromausfall?\",        # Description hat ganzen Abschnitt\n",
    "    \"Netzausfallalarm verfügbar\",           # Specs: \"unmittelbar bei Netzunterbrechung\"\n",
    "    \"Batteriegepufferter Alarm\",            # Description\n",
    "    \"SafetyDevice Schutzfunktion\",          # Description\n",
    "    \"SmartLock automatische Verriegelung\"   # Description\n",
    "]\n",
    "\n",
    "capacity_queries = [\n",
    "    \"Rauminhalt des Kühlschranks\",          # Specs: \"394 / 235 l\"\n",
    "    \"Brutto Netto Liter\",                   # Direkt aus Specs  \n",
    "    \"Wie viel passt in den Kühlschrank?\",\n",
    "    \"Volumen für Medikamente\",\n",
    "    \"Anzahl Schubfächer verfügbar\"         # Specs: \"8\"\n",
    "]\n",
    "\n",
    "all_queries = temp_queries + size_queries + connectivity_queries + energy_queries + safety_queries + capacity_queries"
   ]
  },
  {
   "cell_type": "markdown",
   "id": "2ab908b3",
   "metadata": {},
   "source": [
    "## Retrieval"
   ]
  },
  {
   "cell_type": "code",
   "execution_count": 22,
   "id": "e475802c",
   "metadata": {},
   "outputs": [],
   "source": [
    "def retrieve(queries, top_k=10):\n",
    "    \n",
    "    queries_embedded = model.encode(queries, normalize_embeddings=True, show_progress_bar=True)\n",
    "    results = []\n",
    "    \n",
    "    for i, query in enumerate(queries):\n",
    "\n",
    "        result = collection.query(\n",
    "            query_embeddings=[queries_embedded[i].tolist()], \n",
    "            n_results=top_k\n",
    "        )\n",
    "\n",
    "        for rank, (doc, dist) in enumerate(\n",
    "            zip(\n",
    "                result['documents'][0], \n",
    "                result['distances'][0]\n",
    "            ), \n",
    "            start=1\n",
    "        ):\n",
    "            results.append({\n",
    "                'query': query,\n",
    "                'rank': rank,\n",
    "                'document': doc,\n",
    "                'distance': dist\n",
    "            })\n",
    "\n",
    "    return pd.DataFrame(results)"
   ]
  },
  {
   "cell_type": "code",
   "execution_count": 23,
   "id": "3b9846c0",
   "metadata": {},
   "outputs": [
    {
     "name": "stderr",
     "output_type": "stream",
     "text": [
      "Batches: 100%|██████████| 1/1 [00:01<00:00,  1.91s/it]\n"
     ]
    }
   ],
   "source": [
    "df = retrieve(all_queries)"
   ]
  },
  {
   "cell_type": "markdown",
   "id": "456283ea",
   "metadata": {},
   "source": [
    "## Metriken\n",
    "\n",
    "### Distance Metrics\n",
    "\n",
    "Zeigt wie gut die Retivals sind.\n",
    "\n",
    "L2-Distanz (Euklidean Distance) zwischen Query und Retrival Chunk im normalisierten Vektorspace. Je kleiner desto besser (0 = identisch, ~0,2 = sehr ähnlich, ...). \n",
    "\n",
    "- Ranking: Statistiken pro Rang\n",
    "- Distance Gap: Abstand zwischen ersten und zehnten Rang\n",
    "- Strong Results: Erbenisse mit einer Similarity > 0,3"
   ]
  },
  {
   "cell_type": "code",
   "execution_count": null,
   "id": "0982d0d1",
   "metadata": {},
   "outputs": [
    {
     "name": "stdout",
     "output_type": "stream",
     "text": [
      "          mean    median       std       min       max\n",
      "rank                                                  \n",
      "1     0.176155  0.168874  0.049239  0.076330  0.260699\n",
      "2     0.180702  0.170687  0.050037  0.077264  0.260901\n",
      "3     0.184541  0.179527  0.049604  0.084897  0.261605\n",
      "4     0.187164  0.185214  0.049029  0.086334  0.262764\n",
      "5     0.189703  0.188590  0.050367  0.089576  0.279184\n",
      "6     0.192098  0.189495  0.050879  0.101294  0.294403\n",
      "7     0.193670  0.191148  0.051310  0.103726  0.303758\n",
      "8     0.194703  0.192510  0.051540  0.104139  0.306031\n",
      "9     0.195652  0.193658  0.051526  0.104514  0.306102\n",
      "10    0.196545  0.194766  0.051632  0.105209  0.309042\n",
      "\n",
      "\n",
      "Distance Gap: 0.0204\n",
      "High Confidence Result: 296/300 (98.7%)\n"
     ]
    }
   ],
   "source": [
    "distance_stats = df.groupby('rank')['distance'].agg(['mean','median','std','min','max'])\n",
    "print(\"Ranking\")\n",
    "print(distance_stats)\n",
    "print(\"\\n\")\n",
    "\n",
    "rank01_mean = df[df['rank'] == 1]['distance'].mean()\n",
    "rank10_mean = df[df['rank'] == 10]['distance'].mean()\n",
    "gap = rank10_mean - rank01_mean\n",
    "print(f\"Distance Gap (Rank 1 -> 10): {gap:.4f}\")\n",
    "\n",
    "# Cousin Sim\n",
    "high_confidence = (df['distance'] < 0.3).sum()\n",
    "total = len(df)\n",
    "print(f\"Strong Results: {high_confidence}/{total} ({high_confidence/total*100:.1f}%)\")\n"
   ]
  },
  {
   "cell_type": "markdown",
   "id": "04fbdab8",
   "metadata": {},
   "source": [
    "### Consistency & Stability\n",
    "\n",
    "- Tied Sum: Anzahl der Results mit gleicher Distanz -> Führtdazu, dass das Model nicht gut unterscheiden kann."
   ]
  },
  {
   "cell_type": "code",
   "execution_count": 24,
   "id": "a264cea9",
   "metadata": {},
   "outputs": [
    {
     "name": "stdout",
     "output_type": "stream",
     "text": [
      "Tied Sum: 0\n"
     ]
    }
   ],
   "source": [
    "duplicate_distances = df.groupby(['query', 'distance']).size()\n",
    "ties = (duplicate_distances > 1).sum()\n",
    "print(f\"Tied Sum: {ties}\")"
   ]
  },
  {
   "cell_type": "markdown",
   "id": "16778b6a",
   "metadata": {},
   "source": [
    "### Coverage\n",
    "\n",
    "Anzahl der unterschiedlichen Chunks über alle Queries -> Zeigt die Abdeckung der Daten in der DB - oder ob immer die selben Chunks gefunden werden.\n",
    "\n",
    "- Unique Chunks: Anzahl der Chunks sie einmalig gefunden wurden\n",
    "- Most Wanted: Eigentlich die am häufigsten gefundenen Chunks"
   ]
  },
  {
   "cell_type": "code",
   "execution_count": null,
   "id": "68d88deb",
   "metadata": {},
   "outputs": [
    {
     "name": "stdout",
     "output_type": "stream",
     "text": [
      "Unique Chunks: 197/1800 (10.9%)\n",
      "\n",
      "\n",
      "7x: Sonstiges - flexible Ausstattung: True...\n",
      "6x: Sonstiges - Netzkabel: 300, Zubehör: Edelstahlregale TT90-RC für bis zu 72 Standard-Cryoboxen, Optio...\n",
      "6x: Sonstiges - Netzkabel: 300, Zubehör: Edelstahlregale TT90-RC, Optionen: vier Rollen fest montiert, z...\n",
      "6x: Sonstiges - flexible Ausstattung möglich: True...\n",
      "5x: Sonstiges - Netzkabel: 300, Zubehör: Edelstahlregale TT90-RC, Wifi-Bridge, Optionen: Rollen, Umluftv...\n"
     ]
    }
   ],
   "source": [
    "unique_chunks = df['document'].nunique()\n",
    "total_chunks_in_db = collection.count()\n",
    "coverage = unique_chunks / total_chunks_in_db * 100\n",
    "print(f\"Unique Chunks: {unique_chunks}/{total_chunks_in_db} ({coverage:.1f}%)\")\n",
    "print(\"\\n\")\n",
    "\n",
    "chunk_frequency = df['document'].value_counts()\n",
    "most_common = chunk_frequency.head(5)\n",
    "print(\"Most Wanted\")\n",
    "for doc, count in most_common.items():\n",
    "    print(f\"{count}x: {doc[:100]}...\")"
   ]
  }
 ],
 "metadata": {
  "kernelspec": {
   "display_name": "Python 3",
   "language": "python",
   "name": "python3"
  },
  "language_info": {
   "codemirror_mode": {
    "name": "ipython",
    "version": 3
   },
   "file_extension": ".py",
   "mimetype": "text/x-python",
   "name": "python",
   "nbconvert_exporter": "python",
   "pygments_lexer": "ipython3",
   "version": "3.13.7"
  }
 },
 "nbformat": 4,
 "nbformat_minor": 5
}
