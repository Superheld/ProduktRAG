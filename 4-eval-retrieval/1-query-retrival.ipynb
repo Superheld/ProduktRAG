{
 "cells": [
  {
   "cell_type": "markdown",
   "id": "990ff8d8",
   "metadata": {},
   "source": [
    "# Evaluation Retrival\n",
    "\n",
    "Um ganze sätze zu prüfen und zu vergleichen wird ebenfalls ein Cosinus-Similarity genutzt. Hierzu werden die Sätze in Vektoren umgewandelt und dann verglichen.\n",
    "\n",
    "Die Testdaten wurden von Claude Code anhand der Produktdatei generiert. Sinnvoll wäre es, mit dem Kunden zu sprechen und echte Fragen zu sammeln.\n",
    "\n",
    "prdukt_chunks muss so ;)"
   ]
  },
  {
   "cell_type": "code",
   "execution_count": null,
   "id": "18565be9",
   "metadata": {},
   "outputs": [],
   "source": [
    "from sentence_transformers import SentenceTransformer\n",
    "import pandas as pd\n",
    "import numpy as np\n",
    "from tqdm.notebook import tqdm\n",
    "import json\n",
    "import chromadb\n",
    "\n",
    "client = chromadb.PersistentClient(path=\"../3-indexing/chroma_db\")\n",
    "collection = client.get_collection('prdukt_chunks')\n",
    "model = SentenceTransformer('deepset/gbert-large')"
   ]
  },
  {
   "cell_type": "markdown",
   "id": "cd450170",
   "metadata": {},
   "source": [
    "## Queries\n",
    "\n",
    "Alle Queries wurden mit einem LLM erstellt, die Kategorien sind von mir."
   ]
  },
  {
   "cell_type": "code",
   "execution_count": null,
   "id": "4e62819c",
   "metadata": {},
   "outputs": [],
   "source": [
    "with open('test_queries.json', 'r', encoding='utf-8') as f:\n",
    "    test_data = json.load(f)\n",
    "\n",
    "all_queries = []\n",
    "for query_obj in test_data['queries']['technical_specs']:\n",
    "    all_queries.append(query_obj['query'])\n",
    "\n",
    "print(f\"Geladene Queries: {len(all_queries)}\")"
   ]
  },
  {
   "cell_type": "markdown",
   "id": "2ab908b3",
   "metadata": {},
   "source": [
    "## Retrieval"
   ]
  },
  {
   "cell_type": "code",
   "execution_count": null,
   "id": "e475802c",
   "metadata": {},
   "outputs": [],
   "source": [
    "def retrieve(queries, top_k=10):\n",
    "    \n",
    "    queries_embedded = model.encode(queries, normalize_embeddings=True, show_progress_bar=True)\n",
    "    results = []\n",
    "    \n",
    "    for i, query in enumerate(queries):\n",
    "\n",
    "        result = collection.query(\n",
    "            query_embeddings=[queries_embedded[i].tolist()], \n",
    "            n_results=top_k\n",
    "        )\n",
    "\n",
    "        for rank, (doc, dist, meta) in enumerate(\n",
    "            zip(\n",
    "                result['documents'][0], \n",
    "                result['distances'][0],\n",
    "                result['metadatas'][0]\n",
    "            ), \n",
    "            start=1\n",
    "        ):\n",
    "            results.append({\n",
    "                'query': query,\n",
    "                'rank': rank,\n",
    "                'document': doc,\n",
    "                'distance': dist,\n",
    "                'chunk_type': meta.get('chunk_type'),\n",
    "                'spec_categorie': meta.get('spec_category'),\n",
    "                'product_id': meta.get('product_id'),\n",
    "                'product_manufacturer': meta.get('product_manufacturer')\n",
    "            })\n",
    "\n",
    "    return pd.DataFrame(results)"
   ]
  },
  {
   "cell_type": "code",
   "execution_count": null,
   "id": "3b9846c0",
   "metadata": {},
   "outputs": [],
   "source": [
    "df = retrieve(all_queries)\n",
    "\n",
    "df.to_json('retrivals.json', orient='records', lines=True, force_ascii=False)\n",
    "\n",
    "# print(df)"
   ]
  },
  {
   "cell_type": "markdown",
   "id": "456283ea",
   "metadata": {},
   "source": [
    "## Metriken\n",
    "\n",
    "### Euclidean Distance\n",
    "\n",
    "Zeigt wie gut die Retivals sind.\n",
    "\n",
    "L2-Distanz (Euklidean Distance) zwischen Query und Retrival Chunk im normalisierten Vektorspace. Je kleiner desto besser (0 = identisch, ~0,2 = sehr ähnlich, ...). \n",
    "\n",
    "- Ranking: Statistiken pro Rang\n",
    "- Distance Gap: Abstand zwischen ersten und zehnten Rang\n",
    "- Strong Results: Erbenisse mit einer Similarity > 0,3"
   ]
  },
  {
   "cell_type": "code",
   "execution_count": null,
   "id": "0982d0d1",
   "metadata": {},
   "outputs": [],
   "source": [
    "distance_stats = df.groupby('rank')['distance'].agg(['mean','median','std','min','max'])\n",
    "print(\"Ranking\")\n",
    "print(distance_stats)\n",
    "print(\"\\n\")\n",
    "\n",
    "rank01_mean = df[df['rank'] == 1]['distance'].mean()\n",
    "rank10_mean = df[df['rank'] == 10]['distance'].mean()\n",
    "gap = rank10_mean - rank01_mean\n",
    "print(f\"Distance Gap (Rank 1 -> 10): {gap:.4f}\")\n",
    "\n",
    "# Cousin Sim\n",
    "high_confidence = (df['distance'] < 0.3).sum()\n",
    "total = len(df)\n",
    "print(f\"Strong Results: {high_confidence}/{total} ({high_confidence/total*100:.1f}%)\")\n"
   ]
  },
  {
   "cell_type": "markdown",
   "id": "c819e21e",
   "metadata": {},
   "source": [
    "#### Cousin Similarity und Dot Product\n",
    "\n",
    "Die Cousin Similarity berechnet den Winkel zweier Vektoren. Nie Länge ist hier irrelevant.\n",
    "\n",
    "Selbes zeigt auch das Dot Product, auch hier wird verglichen ob die Vektoren in die selbe Richtung zeigen."
   ]
  },
  {
   "cell_type": "code",
   "execution_count": null,
   "id": "95909ff4",
   "metadata": {},
   "outputs": [],
   "source": []
  },
  {
   "cell_type": "markdown",
   "id": "04fbdab8",
   "metadata": {},
   "source": [
    "### Consistency & Stability\n",
    "\n",
    "- Tied Sum: Anzahl der Results mit gleicher Distanz -> Führtdazu, dass das Model nicht gut unterscheiden kann."
   ]
  },
  {
   "cell_type": "code",
   "execution_count": null,
   "id": "a264cea9",
   "metadata": {},
   "outputs": [],
   "source": [
    "duplicate_distances = df.groupby(['query', 'distance']).size()\n",
    "ties = (duplicate_distances > 1).sum()\n",
    "print(f\"Tied Sum: {ties}\")"
   ]
  },
  {
   "cell_type": "markdown",
   "id": "16778b6a",
   "metadata": {},
   "source": [
    "### Coverage\n",
    "\n",
    "Anzahl der unterschiedlichen Chunks über alle Queries -> Zeigt die Abdeckung der Daten in der DB - oder ob immer die selben Chunks gefunden werden.\n",
    "\n",
    "- Unique Chunks: Anzahl der Chunks sie einmalig gefunden wurden\n",
    "- Most Wanted: Eigentlich die am häufigsten gefundenen Chunks"
   ]
  },
  {
   "cell_type": "code",
   "execution_count": null,
   "id": "68d88deb",
   "metadata": {},
   "outputs": [],
   "source": [
    "unique_chunks = df['document'].nunique()\n",
    "total_chunks_in_db = collection.count()\n",
    "coverage = unique_chunks / total_chunks_in_db * 100\n",
    "print(f\"Unique Chunks: {unique_chunks}/{total_chunks_in_db} ({coverage:.1f}%)\")\n",
    "print(\"\\n\")\n",
    "\n",
    "chunk_frequency = df['document'].value_counts()\n",
    "most_common = chunk_frequency.head(5)\n",
    "print(\"Most Wanted\")\n",
    "for doc, count in most_common.items():\n",
    "    print(f\"{count}x: {doc[:100]}...\")\n",
    "print(\"\\n\")"
   ]
  },
  {
   "cell_type": "markdown",
   "id": "093e2a75",
   "metadata": {},
   "source": [
    "#### Chunk-Type Analysis"
   ]
  },
  {
   "cell_type": "code",
   "execution_count": null,
   "id": "e449d2eb",
   "metadata": {},
   "outputs": [],
   "source": [
    "print(df.groupby(by=['chunk_type']).sum())"
   ]
  },
  {
   "cell_type": "markdown",
   "id": "de7db133",
   "metadata": {},
   "source": [
    "#### Cross-Encoding\n",
    "\n",
    "Ich möchte zudem vesuchen mit einem Cross-Encoder zu evaluieren."
   ]
  },
  {
   "cell_type": "code",
   "execution_count": null,
   "id": "55d495fe",
   "metadata": {},
   "outputs": [],
   "source": []
  }
 ],
 "metadata": {
  "kernelspec": {
   "display_name": "Python 3",
   "language": "python",
   "name": "python3"
  },
  "language_info": {
   "codemirror_mode": {
    "name": "ipython",
    "version": 3
   },
   "file_extension": ".py",
   "mimetype": "text/x-python",
   "name": "python",
   "nbconvert_exporter": "python",
   "pygments_lexer": "ipython3",
   "version": "3.13.7"
  }
 },
 "nbformat": 4,
 "nbformat_minor": 5
}
