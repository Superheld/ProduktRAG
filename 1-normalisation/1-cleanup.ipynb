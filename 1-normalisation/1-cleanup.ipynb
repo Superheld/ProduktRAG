{
 "cells": [
  {
   "cell_type": "markdown",
   "id": "435c8504",
   "metadata": {},
   "source": [
    "# Normalization pipeline\n",
    "\n",
    "Die Quelldaten sind aus meinem ersten RAG-Projekt und wurden mit fruendlicher Genehmigung von einer Webseite gescrappt.\n",
    "\n",
    "**Was zu tun ist:**\n",
    "- Daten von Marketingaussagen und Firmengeschichte befreien\n",
    "- Die Specs normalisieren\n",
    "\n",
    "Das meiste werde ich mit einem LLM machen. Die Ausgangsdaten werden stichprobenartig kontrolliert. Ziel ist ein funktionierendes und korrektes retrival, welches nicht zwingend mit der realen Welt (korrekte technische Daten z.B.) übereinstimmen muss. In einem Realworldprojekt ist das selbstverständlich etwas anderes.\n",
    "\n",
    "Wärend der Bereinigung werden die Daten in Specs und Descriptions aufgeteilt."
   ]
  },
  {
   "cell_type": "code",
   "execution_count": 28,
   "id": "f4a1a3fd",
   "metadata": {},
   "outputs": [],
   "source": [
    "import os\n",
    "import json\n",
    "import time\n",
    "import pandas as pd\n",
    "from tqdm import tqdm\n",
    "from mistralai import Mistral\n",
    "from dotenv import load_dotenv\n",
    "\n",
    "load_dotenv()\n",
    "\n",
    "df = pd.read_json('./products_raw.json')\n",
    "\n",
    "api_key = os.getenv('MISTRAL_API_KEY')\n",
    "model = 'mistral-medium-2508'\n",
    "client = Mistral(api_key=api_key)\n",
    "\n",
    "descs_promt = open('./descs_agent.md', 'r').read()\n",
    "specs_promt = open('./specs_agent.md', 'r').read()\n",
    "summs_promt = open('./summs_agent.md').read()\n",
    "\n",
    "descs_chunks = []\n",
    "specs_chunks = []\n",
    "summs_chunks = []"
   ]
  },
  {
   "cell_type": "markdown",
   "id": "6c80b7dc",
   "metadata": {},
   "source": [
    "Die Beschreibungen werden über ein LLM bereinigt. Der Systempromt liegt als md-File vor. \n",
    "\n",
    "### Funktionen\n",
    "\n",
    "- **agent_request**: Allgemeine Retrivalfunktion. Fallbackfunktion (wegen fehlenden Specs integriert)\n",
    "- **format_spec**: Bereitet Embeddingdocs für Specs auf"
   ]
  },
  {
   "cell_type": "code",
   "execution_count": 29,
   "id": "514a06af",
   "metadata": {},
   "outputs": [],
   "source": [
    "def agent_request(promt, content, fallback):\n",
    "\n",
    "    if content == '[]': content = fallback\n",
    "    \n",
    "    response = client.chat.complete(\n",
    "        model = model,\n",
    "        messages = [\n",
    "            {\n",
    "                'role': 'system',\n",
    "                'content': promt\n",
    "            },\n",
    "            {\n",
    "                'role': 'user',\n",
    "                'content': content,\n",
    "            }\n",
    "        ],\n",
    "        response_format = {\"type\": \"json_object\"}\n",
    "    )\n",
    "\n",
    "    return response\n",
    "\n",
    "def format_spec(group_name, specs_list):\n",
    "    if not specs_list:\n",
    "        return ''\n",
    "    \n",
    "    if '-' in group_name:\n",
    "        label, unit = group_name.rsplit('-', 1)\n",
    "        header = f\"{label} ({unit})\"\n",
    "    else:\n",
    "        header = group_name\n",
    "    \n",
    "    spec_parts = []\n",
    "\n",
    "    for key, value in specs_list.items():\n",
    "        readable_key = key.replace('_', ' ')\n",
    "        spec_parts.append(f\"{readable_key}: {value}\")\n",
    "\n",
    "    return f\"{header} - {', '.join(spec_parts)}\""
   ]
  },
  {
   "cell_type": "markdown",
   "id": "6fd8a38d",
   "metadata": {},
   "source": [
    "# Erstellung der Chunks\n",
    "\n",
    "Die Daten werden an ein LLM geliefert und wir erhalten nur die erzeugen Artefarkte. Diese werden in des Schema der Chunks integriert:"
   ]
  },
  {
   "cell_type": "code",
   "execution_count": null,
   "id": "cc0995ec",
   "metadata": {},
   "outputs": [
    {
     "name": "stderr",
     "output_type": "stream",
     "text": [
      "  0%|          | 0/151 [00:00<?, ?it/s]"
     ]
    },
    {
     "name": "stderr",
     "output_type": "stream",
     "text": [
      "  1%|          | 1/151 [00:19<48:30, 19.40s/it]"
     ]
    },
    {
     "name": "stdout",
     "output_type": "stream",
     "text": [
      "{'summary': 'Der Kirsch LABO-288 PRO-ACTIVE ist ein Laborkühlschrank mit einem Nutzvolumen von 280 Litern und einer Temperaturregelung von ca. 0 bis +15 °C. Der Kühlschrank verfügt über eine statisch belüftete, geräuscharme und energiesparende Kältemaschine, die für 220-240 V Wechselstrom ausgelegt ist. Die automatische Abtauung und die 55 mm starke Isolierung sorgen für eine effiziente Kühlleistung. Der Innenraum besteht aus glattem Aluminium mit einer farblosen Schutzbeschichtung und ist mit drei kunststoffbeschichteten Rosten ausgestattet. Der Laborkühlschrank ist mit einer elektronischen Temperatursteuerung ausgestattet, die eine hohe Temperaturkonstanz bei geringem Energieverbrauch gewährleistet. Zusätzlich verfügt er über ein akustisches und optisches Alarmsignal bei abweichenden Temperaturen, eine Sicherheitseinrichtung gegen Minus-Temperaturen und einen potentialfreien Kontakt zum Anschluss an die zentrale Leittechnik. Die Umluftkühlung mit einem Querstromgebläse sorgt für eine gleichmäßige Temperierung und reduziert das Temperaturgefälle auf ein Minimum.', 'category': 'Laborkühlschrank', 'manufacturer': 'Kirsch', 'title': 'LABO-288 PRO-ACTIVE'}\n",
      "['Der Kirsch LABO-288 Laborkühlschrank ist mit einer statisch belüfteten, geräuscharmen und energiesparenden Kältemaschine ausgestattet, die hermetisch gekapselt ist und für 220-240 V Wechselstrom ausgelegt ist. Die Spannung kann auf Anfrage angepasst werden. Der Kühlschrank verfügt über verstellbare Füße zum Ausgleich von Bodenunebenheiten und einen wechselbaren Türanschlag.', 'Der Abtauvorgang erfolgt automatisch durch zeitlich begrenzte und thermisch überwachte Umkehr des Kältemittelkreislaufs. Das Tauwasser wird im Kältemaschinenraum vaporisiert. Die Isolierung ist mit 55 mm besonders stark und besteht aus hochwertigen, druckgeschäumten und umweltschonenden Materialien.', 'Der Innenraum des Laborkühlschranks besteht aus glattem Aluminium mit einer farblosen Schutzbeschichtung. Zur Innenausstattung gehören drei kunststoffbeschichtete Roste und Stellleisten zum Einhängen der Innenausstattung. Das Außengehäuse besteht aus verzinktem, rostgeschütztem Stahlblech mit einer kratzfesten, weißen Pulverbeschichtung.', 'Die elektronische Temperatursteuerung sorgt für eine konstante Innentemperatur, unabhängig von schwankenden Außentemperaturen, vorausgesetzt, die Umgebungstemperatur liegt mindestens 3°C über der regulierten Innentemperatur. Der Laborkühlschrank garantiert höchste Temperaturkonstanz bei geringem Energieverbrauch.', 'Sicherheitseinrichtungen umfassen ein akustisches und optisches Alarmsignal bei Temperaturabweichungen, einen Schutz gegen Minus-Temperaturen, einen potentialfreien Kontakt zum Anschluss an die zentrale Leittechnik und eine USB-Schnittstelle. Diese Funktionen machen den Laborkühlschrank ideal für den Einsatz in Laboren, Kliniken und im Gesundheitswesen.', 'Der Laborkühlschrank ist mit einem Querstromgebläse ausgestattet, das beim Öffnen der Tür automatisch abschaltet. Dieses System sorgt für eine gleichmäßige Temperierung und reduziert das physikalisch bedingte Temperaturgefälle auf ein Minimum. Zu den weiteren Innovationen gehören ein Schaltzentrum mit Folientastatur und eine digitale Temperaturanzeige.']\n",
      "{'Abmessungen-cm': {'Außenmaße_Breite': 67, 'Außenmaße_Tiefe': 72, 'Außenmaße_Höhe': 132, 'Innenmaße_Breite': 53, 'Innenmaße_Tiefe': 50, 'Innenmaße_Höhe': 100}, 'Gewicht-kg': {'netto': 71, 'brutto': 83}, 'Volumen-l': {'Kühlinhalt': 280}, 'Temperatur-celsius': {'Einstellung_min': 0, 'Einstellung_max': 15, 'Umgebungstemperatur_min': 10, 'Umgebungstemperatur_max': 38, 'Abweichung': 1.01}, 'Energie': {'Leistungsaufnahme-watt': 88, 'Wärmeabgabe-watt': 165, 'Normalverbrauch-kwh_24h': 0.68}, 'Spannung-volt': {'Spannung': 220, 'Frequenz-hz': 50}, 'Frequenz-hz': {}, 'Geräusch-db': {'Emission': 41}, 'Innenausstattung': {'Anzahl_Ablageflächen': 3, 'Belastbarkeit_Ablagefläche-kg': 40, 'Material_Schubfächer': 'optional'}, 'Ausstattung': {'Abtauung_automatisch': True, 'Umluftkühlung': True, 'DIN_58375_konform': True, 'DIN_13221_konform': True, 'Alarmierung': True, 'Kältemaschine_wassergekühlt': 'optional', 'Kältemaschine_60Hz': 'optional', 'Kältemaschinen-Ventilator': 'optional', 'PC-KIT-NET': 'optional', 'Dekorrahmen': 'optional', 'Glastür_mit_Schloss': 'optional', 'Türkoppelungs-Beschlag': 'optional', 'Fahrbare_Ausführung': 'optional', 'Rost_mit_Schienen': 'optional', 'Aluminium-Schubfach': 'optional', 'Edelstahl-Schubfach': 'optional', 'Kunststoff-Schubfach_mit_Rollschubführungen': 'optional', 'Tauwassergefäß': 'optional'}, 'Sonstiges': {'flexible_Ausstattung': True}}\n"
     ]
    }
   ],
   "source": [
    "for index, row in tqdm(df.iterrows(), total=len(df)):\n",
    "\n",
    "    summs_response = agent_request(summs_promt, json.dumps(row.to_dict(), ensure_ascii=False), False)\n",
    "    descs_response = agent_request(descs_promt, row['description'], False)\n",
    "    specs_response = agent_request(specs_promt, json.dumps(row['specs'], ensure_ascii=False), row['description'])\n",
    "\n",
    "    summs_result = json.loads(summs_response.choices[0].message.content)                              \n",
    "    descs_result = json.loads(descs_response.choices[0].message.content)\n",
    "    specs_result = json.loads(specs_response.choices[0].message.content)\n",
    "\n",
    "    print(summs_result)\n",
    "    print(descs_result)\n",
    "    print(specs_result)\n",
    "\n",
    "    category = summs_result['category']\n",
    "    manufacturer = summs_result['manufacturer']\n",
    "    title = summs_result['title']\n",
    "\n",
    "    product_metadata = {\n",
    "        'product_id': row['id'],\n",
    "        'product_title': title,\n",
    "        'product_url': row['url'],\n",
    "        'product_category': category,\n",
    "        'product_manufacturer': manufacturer,\n",
    "        'product_price': row['price'],\n",
    "        'product_sku': row['order_number']\n",
    "    }\n",
    "\n",
    "    summs_chunks.append({\n",
    "        'document': summs_result['summary'],\n",
    "        'metadata': {\n",
    "            'chunk_id': f\"{row['id']}_summ_0\",\n",
    "            'chunk_type': 'description',\n",
    "            **product_metadata\n",
    "        }\n",
    "    })\n",
    "\n",
    "    for i, pararagraph in enumerate(descs_result):\n",
    "        descs_chunks.append({\n",
    "            'document': pararagraph,\n",
    "            'metadata': {\n",
    "                'chunk_id': f\"{row['id']}_desc_{i}\",\n",
    "                'chunk_type': 'description',\n",
    "                **product_metadata\n",
    "            }\n",
    "        })\n",
    "\n",
    "    for i, (group_name, specs_list) in enumerate(specs_result.items()):\n",
    "        if specs_list:\n",
    "            specs_chunks.append({\n",
    "                'document': format_spec(group_name, specs_list),\n",
    "                'metadata': {\n",
    "                    'chunk_id': f\"{row['id']}_spec_{i}\",\n",
    "                    'chunk_type': 'specs',\n",
    "                    **product_metadata\n",
    "                }\n",
    "            })\n",
    "\n",
    "    # Testing only\n",
    "    if index == 65: break\n",
    "\n",
    "summs_df = pd.DataFrame(summs_chunks)\n",
    "descs_df = pd.DataFrame(descs_chunks)\n",
    "specs_df = pd.DataFrame(specs_chunks)"
   ]
  },
  {
   "cell_type": "markdown",
   "id": "ce93d0f9",
   "metadata": {},
   "source": [
    "## Quality Checks\n",
    "\n",
    "Wir müssen zuletzt noch in die Chunks schauen ob sie die wichtigsten Rahmenbedinungen einhalten. Vor allem die Länge da die meisten Models eine beschränkte Anzahl an Tokes verarbeiten kann und die darf von den Chunks nicht überschritten werden."
   ]
  },
  {
   "cell_type": "code",
   "execution_count": null,
   "id": "f169d7a1",
   "metadata": {},
   "outputs": [],
   "source": [
    "def stats(df, treshhold, name):\n",
    "\n",
    "    df['length'] = df['document'].str.len()\n",
    "    small = df[df['length'] < treshhold]\n",
    "\n",
    "    print(f'=== {name} ===')\n",
    "    print(f\"{df['length'].describe()}\")\n",
    "    print(f'TOTAL CHUNKS: {len(df)}')\n",
    "    print(f'SHORT CHUNKS: {len(small)}')\n",
    "\n",
    "    for idx, row in small.iterrows():\n",
    "        \n",
    "        print(f\"{row['metadata']['product_title']}\")\n",
    "        print(f\"Document: {row['document']}\")\n",
    "        print(f\"Length: {row['length']}\")\n",
    "        print(f'--- --- ---')\n",
    "\n",
    "    print('\\n')\n"
   ]
  },
  {
   "cell_type": "code",
   "execution_count": null,
   "id": "c904f041",
   "metadata": {},
   "outputs": [],
   "source": [
    "stats(summs_df, 200, 'Summs')\n",
    "stats(descs_df, 200, 'Descriptions')\n",
    "stats(specs_df, 100, 'Specs')"
   ]
  },
  {
   "cell_type": "markdown",
   "id": "8db9e120",
   "metadata": {},
   "source": [
    "An dieser Stelle wurden weitere Verbesserungen an den Promts vorgenommen und getestet... Mit den Specs muss noch eine andere Strategie ausgedacht werden. Jetzt erstmal mit den kleinen Chunks probieren. "
   ]
  },
  {
   "cell_type": "markdown",
   "id": "cae7fc31",
   "metadata": {},
   "source": [
    "## Speichern"
   ]
  },
  {
   "cell_type": "code",
   "execution_count": null,
   "id": "cf904fde",
   "metadata": {},
   "outputs": [],
   "source": [
    "summs_df.to_json('summs_chunks.jsonl', orient='records', lines=True, force_ascii=False)\n",
    "descs_df.to_json('descs_chunks.jsonl', orient='records', lines=True, force_ascii=False)\n",
    "specs_df.to_json('specs_chunks.jsonl', orient='records', lines=True, force_ascii=False)"
   ]
  }
 ],
 "metadata": {
  "kernelspec": {
   "display_name": "Python 3",
   "language": "python",
   "name": "python3"
  },
  "language_info": {
   "codemirror_mode": {
    "name": "ipython",
    "version": 3
   },
   "file_extension": ".py",
   "mimetype": "text/x-python",
   "name": "python",
   "nbconvert_exporter": "python",
   "pygments_lexer": "ipython3",
   "version": "3.13.7"
  }
 },
 "nbformat": 4,
 "nbformat_minor": 5
}
