{
 "cells": [
  {
   "cell_type": "markdown",
   "id": "435c8504",
   "metadata": {},
   "source": [
    "# Normalization pipeline\n",
    "\n",
    "Die Quelldaten sind aus meinem ersten RAG-Projekt und wurden mit fruendlicher Genehmigung von einer Webseite gescrappt.\n",
    "\n",
    "**Was zu tun ist:**\n",
    "- Daten von Marketingaussagen und Firmengeschichte befreien\n",
    "- Die Specs normalisieren\n",
    "\n",
    "Das meiste werde ich mit einem LLM machen. Die Ausgangsdaten werden stichprobenartig kontrolliert. Ziel ist ein funktionierendes und korrektes retrival, welches nicht zwingend mit der realen Welt (korrekte technische Daten z.B.) übereinstimmen muss. In einem Realworldprojekt ist das selbstverständlich etwas anderes.\n",
    "\n",
    "Wärend der Bereinigung werden die Daten in Specs und Descriptions aufgeteilt."
   ]
  },
  {
   "cell_type": "code",
   "execution_count": 28,
   "id": "f4a1a3fd",
   "metadata": {},
   "outputs": [],
   "source": [
    "import os\n",
    "import json\n",
    "import time\n",
    "import pandas as pd\n",
    "from tqdm import tqdm\n",
    "from mistralai import Mistral\n",
    "from dotenv import load_dotenv\n",
    "\n",
    "load_dotenv()\n",
    "\n",
    "df = pd.read_json('./products_raw.json')\n",
    "\n",
    "api_key = os.getenv('MISTRAL_API_KEY')\n",
    "model = 'mistral-medium-2508'\n",
    "client = Mistral(api_key=api_key)\n",
    "\n",
    "descs_promt = open('./descs_agent.md', 'r').read()\n",
    "specs_promt = open('./specs_agent.md', 'r').read()\n",
    "summs_promt = open('./summs_agent.md').read()\n",
    "\n",
    "descs_chunks = []\n",
    "specs_chunks = []\n",
    "summs_chunks = []"
   ]
  },
  {
   "cell_type": "markdown",
   "id": "6c80b7dc",
   "metadata": {},
   "source": [
    "Die Beschreibungen werden über ein LLM bereinigt. Der Systempromt liegt als md-File vor. \n",
    "\n",
    "### Funktionen\n",
    "\n",
    "- **agent_request**: Allgemeine Retrivalfunktion. Fallbackfunktion (wegen fehlenden Specs integriert)\n",
    "- **format_spec**: Bereitet Embeddingdocs für Specs auf"
   ]
  },
  {
   "cell_type": "code",
   "execution_count": 29,
   "id": "514a06af",
   "metadata": {},
   "outputs": [],
   "source": [
    "def agent_request(promt, content, fallback):\n",
    "\n",
    "    if content == '[]': content = fallback\n",
    "    \n",
    "    response = client.chat.complete(\n",
    "        model = model,\n",
    "        messages = [\n",
    "            {\n",
    "                'role': 'system',\n",
    "                'content': promt\n",
    "            },\n",
    "            {\n",
    "                'role': 'user',\n",
    "                'content': content,\n",
    "            }\n",
    "        ],\n",
    "        response_format = {\"type\": \"json_object\"}\n",
    "    )\n",
    "\n",
    "    return response\n",
    "\n",
    "def format_spec(group_name, specs_list):\n",
    "    if not specs_list:\n",
    "        return ''\n",
    "    \n",
    "    if '-' in group_name:\n",
    "        label, unit = group_name.rsplit('-', 1)\n",
    "        header = f\"{label} ({unit})\"\n",
    "    else:\n",
    "        header = group_name\n",
    "    \n",
    "    spec_parts = []\n",
    "\n",
    "    for key, value in specs_list.items():\n",
    "        readable_key = key.replace('_', ' ')\n",
    "        spec_parts.append(f\"{readable_key}: {value}\")\n",
    "\n",
    "    return f\"{header} - {', '.join(spec_parts)}\""
   ]
  },
  {
   "cell_type": "markdown",
   "id": "6fd8a38d",
   "metadata": {},
   "source": [
    "# Erstellung der Chunks\n",
    "\n",
    "Die Daten werden an ein LLM geliefert und wir erhalten nur die erzeugen Artefarkte. Diese werden in des Schema der Chunks integriert:"
   ]
  },
  {
   "cell_type": "code",
   "execution_count": null,
   "id": "cc0995ec",
   "metadata": {},
   "outputs": [
    {
     "name": "stderr",
     "output_type": "stream",
     "text": [
      "  0%|          | 0/151 [00:00<?, ?it/s]"
     ]
    },
    {
     "name": "stderr",
     "output_type": "stream",
     "text": [
      "  1%|          | 1/151 [00:19<48:30, 19.40s/it]"
     ]
    },
    {
     "name": "stdout",
     "output_type": "stream",
     "text": [
      "{'summary': 'Der Kirsch LABO-288 PRO-ACTIVE ist ein Laborkühlschrank mit einem Nutzvolumen von 280 Litern und einer Temperaturregelung von ca. 0 bis +15 °C. Der Kühlschrank verfügt über eine statisch belüftete, geräuscharme und energiesparende Kältemaschine, die für 220-240 V Wechselstrom ausgelegt ist. Die automatische Abtauung und die 55 mm starke Isolierung sorgen für eine effiziente Kühlleistung. Der Innenraum besteht aus glattem Aluminium mit einer farblosen Schutzbeschichtung und ist mit drei kunststoffbeschichteten Rosten ausgestattet. Der Laborkühlschrank ist mit einer elektronischen Temperatursteuerung ausgestattet, die eine hohe Temperaturkonstanz bei geringem Energieverbrauch gewährleistet. Zusätzlich verfügt er über ein akustisches und optisches Alarmsignal bei abweichenden Temperaturen, eine Sicherheitseinrichtung gegen Minus-Temperaturen und einen potentialfreien Kontakt zum Anschluss an die zentrale Leittechnik. Die Umluftkühlung mit einem Querstromgebläse sorgt für eine gleichmäßige Temperierung und reduziert das Temperaturgefälle auf ein Minimum.', 'category': 'Laborkühlschrank', 'manufacturer': 'Kirsch', 'title': 'LABO-288 PRO-ACTIVE'}\n",
      "['Der Kirsch LABO-288 Laborkühlschrank ist mit einer statisch belüfteten, geräuscharmen und energiesparenden Kältemaschine ausgestattet, die hermetisch gekapselt ist und für 220-240 V Wechselstrom ausgelegt ist. Die Spannung kann auf Anfrage angepasst werden. Der Kühlschrank verfügt über verstellbare Füße zum Ausgleich von Bodenunebenheiten und einen wechselbaren Türanschlag.', 'Der Abtauvorgang erfolgt automatisch durch zeitlich begrenzte und thermisch überwachte Umkehr des Kältemittelkreislaufs. Das Tauwasser wird im Kältemaschinenraum vaporisiert. Die Isolierung ist mit 55 mm besonders stark und besteht aus hochwertigen, druckgeschäumten und umweltschonenden Materialien.', 'Der Innenraum des Laborkühlschranks besteht aus glattem Aluminium mit einer farblosen Schutzbeschichtung. Zur Innenausstattung gehören drei kunststoffbeschichtete Roste und Stellleisten zum Einhängen der Innenausstattung. Das Außengehäuse besteht aus verzinktem, rostgeschütztem Stahlblech mit einer kratzfesten, weißen Pulverbeschichtung.', 'Die elektronische Temperatursteuerung sorgt für eine konstante Innentemperatur, unabhängig von schwankenden Außentemperaturen, vorausgesetzt, die Umgebungstemperatur liegt mindestens 3°C über der regulierten Innentemperatur. Der Laborkühlschrank garantiert höchste Temperaturkonstanz bei geringem Energieverbrauch.', 'Sicherheitseinrichtungen umfassen ein akustisches und optisches Alarmsignal bei Temperaturabweichungen, einen Schutz gegen Minus-Temperaturen, einen potentialfreien Kontakt zum Anschluss an die zentrale Leittechnik und eine USB-Schnittstelle. Diese Funktionen machen den Laborkühlschrank ideal für den Einsatz in Laboren, Kliniken und im Gesundheitswesen.', 'Der Laborkühlschrank ist mit einem Querstromgebläse ausgestattet, das beim Öffnen der Tür automatisch abschaltet. Dieses System sorgt für eine gleichmäßige Temperierung und reduziert das physikalisch bedingte Temperaturgefälle auf ein Minimum. Zu den weiteren Innovationen gehören ein Schaltzentrum mit Folientastatur und eine digitale Temperaturanzeige.']\n",
      "{'Abmessungen-cm': {'Außenmaße_Breite': 67, 'Außenmaße_Tiefe': 72, 'Außenmaße_Höhe': 132, 'Innenmaße_Breite': 53, 'Innenmaße_Tiefe': 50, 'Innenmaße_Höhe': 100}, 'Gewicht-kg': {'netto': 71, 'brutto': 83}, 'Volumen-l': {'Kühlinhalt': 280}, 'Temperatur-celsius': {'Einstellung_min': 0, 'Einstellung_max': 15, 'Umgebungstemperatur_min': 10, 'Umgebungstemperatur_max': 38, 'Abweichung': 1.01}, 'Energie': {'Leistungsaufnahme-watt': 88, 'Wärmeabgabe-watt': 165, 'Normalverbrauch-kwh_24h': 0.68}, 'Spannung-volt': {'Spannung': 220, 'Frequenz-hz': 50}, 'Frequenz-hz': {}, 'Geräusch-db': {'Emission': 41}, 'Innenausstattung': {'Anzahl_Ablageflächen': 3, 'Belastbarkeit_Ablagefläche-kg': 40, 'Material_Schubfächer': 'optional'}, 'Ausstattung': {'Abtauung_automatisch': True, 'Umluftkühlung': True, 'DIN_58375_konform': True, 'DIN_13221_konform': True, 'Alarmierung': True, 'Kältemaschine_wassergekühlt': 'optional', 'Kältemaschine_60Hz': 'optional', 'Kältemaschinen-Ventilator': 'optional', 'PC-KIT-NET': 'optional', 'Dekorrahmen': 'optional', 'Glastür_mit_Schloss': 'optional', 'Türkoppelungs-Beschlag': 'optional', 'Fahrbare_Ausführung': 'optional', 'Rost_mit_Schienen': 'optional', 'Aluminium-Schubfach': 'optional', 'Edelstahl-Schubfach': 'optional', 'Kunststoff-Schubfach_mit_Rollschubführungen': 'optional', 'Tauwassergefäß': 'optional'}, 'Sonstiges': {'flexible_Ausstattung': True}}\n"
     ]
    },
    {
     "name": "stderr",
     "output_type": "stream",
     "text": [
      "  1%|▏         | 2/151 [00:44<56:08, 22.61s/it]"
     ]
    },
    {
     "name": "stdout",
     "output_type": "stream",
     "text": [
      "{'summary': 'Der Kirsch FROSTER LABEX-530 ULTIMATE ist ein Laborgefrierschrank, speziell für die Lagerung von leicht entzündlichen und explosiven Stoffen konzipiert. Mit einem explosionsgeschützten Innenraum, der die Sicherheitsanforderungen der Zone 2 erfüllt und durch ein TÜV-Zertifikat zertifiziert ist, bietet er höchste Sicherheit. Der Gefrierschrank verfügt über eine geräuscharme und hermetisch erschütterungsfreie Kältemaschine mit automatischer Abtauung und einer Isolierung von 70 mm Stärke. Die Temperaturregelung reicht von -10°C bis -30°C und wird durch ein Umluftgekühltes System mit Querstromgebläse unterstützt, das bei geöffneten Türen automatisch abschaltet. Der Innenraum besteht aus poliertem Aluminium mit einer farblosen Schutzbeschichtung und bietet 500 Liter Kühlinhalt. Der Kirsch FROSTER LABEX-530 ULTIMATE ist mit einem Touch-Display, Zugangskontrolle mit Protokoll und grafischer Anzeige des Temperaturverlaufs ausgestattet. Zudem verfügt er über eine USB-Schnittstelle zur Datenauslese für die PC-gestützte Temperaturdokumentation und eine Schnellfrosteinrichtung. Mit einem Normalverbrauch von 5,8 kWh in 24 Stunden und einem Gewicht von 138 kg netto ist er energieeffizient und leistungsstark.', 'category': 'Labortiefkühlschrank', 'manufacturer': 'Kirsch', 'title': 'FROSTER LABEX-530 ULTIMATE'}\n",
      "['Der Kirsch FROSTER LABEX-530 Laborgefrierschrank ist speziell für die Lagerung von leicht entzündlichen und explosiven Stoffen konzipiert. Der explosionsgeschützte Innenraum entspricht den Sicherheitsanforderungen der Zone 2 und ist TÜV-zertifiziert, was die Zündquellfreiheit im Inneren garantiert. Dies ermöglicht die sichere Unterbringung von Chemikalien, giftigen Materialien und anderen leicht entflammbaren Stoffen.', 'Der Gefrierschrank ist mit einer geräuscharmen, servicefreundlichen und hermetisch erschütterungsfreien Kältemaschine ausgestattet. Die Isolierung ist mit 70 mm besonders stark und besteht aus hochwertigen, druckgeschäumten und umweltschonenden Materialien. Der Innenraum besteht aus poliertem Aluminium mit einer farblosen Schutzbeschichtung und Stellleisten für eine flexible Innenausstattung. Zur Serienausstattung gehören fünf kunststoffbeschichtete Roste. Das Außengehäuse besteht aus verzinktem Stahlblech mit einer kratzfesten, weißen Pulverbeschichtung.', 'Der Kirsch FROSTER LABEX-530 verfügt über eine PRO-ACTIVE Steuerungselektronik, die eine permanente Überwachung der Leistungsdaten ermöglicht und bei Abweichungen alarmiert. Die Temperatursteuerung erfolgt präzise durch zwei serienmäßige PT-1000 Fühler. Die Temperatureinstellung reicht von -10°C bis -30°C, wobei eine digitale Temperaturanzeige und ein Minimum-/Maximum-Temperatur-Speicher integriert sind. Ein optisches und akustisches Alarmsignal warnt bei abweichenden Temperaturen.', 'Der Gefrierschrank bietet zahlreiche innovative Funktionen, darunter ein umluftgekühltes System mit einem Querstromgebläse, das beim Öffnen der Tür automatisch abschaltet. Eine USB-Schnittstelle ermöglicht die Datenauslese für die PC-gestützte Temperaturdokumentation. Zudem verfügt das Gerät über eine Schnellfrosteinrichtung für schnelles Einfrieren des Gefriergutes. Die Tür ist selbstschließend, abschließbar und besteht aus leichtem, austauschbarem Kunststoff-Magnetdichtungsrahmen. Der Türanschlag ist wechselbar.', 'Die technischen Daten des Kirsch FROSTER LABEX-530 umfassen einen Kühlinhalt von 500 Litern, einen Normalverbrauch von 5,8 kWh in 24 Stunden und ein Stecker-Kabel von 2,8 Metern Länge. Die Außenmaße betragen 77x76x196 cm (BxTxH) und die Innenmaße 62x57x140 cm (BxTxH). Der Gefrierschrank ist mit einem zeitlich gesteuerten Magnetventil zum Druckausgleich ausgestattet und verfügt über einen potentialfreien Kontakt. Die Kennzeichnung EX II 3 G T6 bestätigt den explosionsgeschützten Innenraum.', 'Der Kirsch FROSTER LABEX-530 Laborgefrierschrank eignet sich ideal für den Einsatz in Laboren, Kliniken und im gesamten Gesundheitswesen. Durch seine hohe Temperaturkonstanz bei geringem Energieverbrauch und die Vielzahl an Sicherheits- und Steuerungsfunktionen bietet er eine optimale Lösung für die Kühlung und Lagerung von sensiblen und gefährlichen Stoffen.']\n",
      "{'Abmessungen-cm': {'Außenmaße_Breite': 77, 'Außenmaße_Tiefe': 76, 'Außenmaße_Höhe': 195.5, 'Innenmaße_Breite': 62, 'Innenmaße_Tiefe': 57, 'Innenmaße_Höhe': 140}, 'Gewicht-kg': {'netto': 138, 'brutto': 163}, 'Volumen-l': {'Kühlinhalt': 500}, 'Temperatur-celsius': {'Einstellung_min': -30, 'Einstellung_max': -10, 'Umgebungstemperatur_min': 10, 'Umgebungstemperatur_max': 32, 'Abweichung': 2}, 'Energie': {'Leistungsaufnahme-watt': 550, 'Wärmeabgabe-watt': 717, 'Normalverbrauch-kwh_24h': 5.8}, 'Spannung-volt': {'Spannung': 220, 'Spannung_max': 240}, 'Frequenz-hz': {'Frequenz': 50}, 'Geräusch-db': {'Emission': 53.3}, 'Innenausstattung': {'Anzahl_Rost': 5, 'Belastbarkeit_Ablagefläche-kg': 40, 'Belastbarkeit_Schubfach-kg': 24}, 'Ausstattung': {'Abtauung_automatisch': True, 'Umluftkühlung': True, 'ATEX_95_konform': True, 'Türaufalarm': 'akustisch', 'Schnittstelle': 'LAN', 'Kältemaschine_wassergekühlt': 'optional', 'Kältemaschine_60hz': 'optional', 'Kältemaschinen-Ventilator': True, 'Fahrbare_Ausführung': True, 'Rost_mit_Schienen': 'optional', 'Kunststoff-Schubfach_mit_Rollschubführungen': 'optional'}, 'Sonstiges': {'flexible_Ausstattung': True, 'Tauwassergefäß_zur_manuellen_Entleerung': True}}\n"
     ]
    },
    {
     "name": "stderr",
     "output_type": "stream",
     "text": [
      "  2%|▏         | 3/151 [01:06<55:46, 22.61s/it]"
     ]
    },
    {
     "name": "stdout",
     "output_type": "stream",
     "text": [
      "{'summary': 'Der Kirsch LABO-340 ULTIMATE ist ein Laborkühlschrank mit 330 Litern Nutzvolumen und einer Temperaturregelung von 0 bis +15 °C. Der Kühlschrank verfügt über eine statisch belüftete, geräuscharme und energiesparende Kältemaschine, die für 220-240 V Wechselstrom ausgelegt ist. Die automatische Abtauung und die 55 mm starke Isolierung sorgen für eine hohe Energieeffizienz und Temperaturkonstanz. Der Innenraum besteht aus glattem Aluminium mit einer farblosen Schutzbeschichtung und umfasst drei kunststoffbeschichtete Roste sowie ein Schubfach. Das Außengehäuse ist aus verzinktem Stahlblech gefertigt und mit einer kratzfesten, weißen Pulverbeschichtung versehen. Der Laborkühlschrank ist mit einem Touch-Display, einer Zugangskontrolle mit Protokoll, einer grafischen Anzeige des Temperaturverlaufs und einer USB-Schnittstelle für die digitale Datendokumentation ausgestattet. Diese Merkmale machen den Kirsch LABO-340 ULTIMATE zu einem idealen Gerät für die Kühlung in Laboren, Kliniken und im Gesundheitswesen.', 'category': 'Laborkühlschrank', 'manufacturer': 'Kirsch', 'title': 'LABO-340 ULTIMATE'}\n",
      "['Der Kirsch LABO-340 Laborkühlschrank ist mit einer statisch belüfteten, geräuscharmen und energiesparenden Kältemaschine ausgestattet, die hermetisch gekapselt ist und mit 220-240 V Wechselstrom betrieben wird. Die Spannung kann auf Anfrage angepasst werden. Der Kühlschrank verfügt über verstellbare Füße zum Ausgleich von Bodenunebenheiten und einen wechselbaren Türanschlag.', 'Der Abtauvorgang erfolgt automatisch durch zeitlich begrenzte und thermische Umkehr des Kältemittelkreislaufs, wobei das Tauwasser im Kältemaschinenraum vaporisiert wird. Die Isolierung ist mit 55 mm besonders stark und besteht aus hochwertigen, druckgeschäumten und umweltschonenden Materialien.', 'Der Innenraum des Laborkühlschranks besteht aus glattem Aluminium mit einer farblosen Schutzbeschichtung und ist mit drei kunststoffbeschichteten Rosten und einem Schubfach ausgestattet. Das Außengehäuse besteht aus verzinktem, rostgeschütztem Stahlblech mit einer kratzfesten, weißen Pulverbeschichtung.', 'Die elektronische Temperatursteuerung sorgt für eine konstante Temperatur, vorausgesetzt die Umgebungstemperatur liegt mindestens 3°C über der regulierten Innentemperatur. Der Laborkühlschrank garantiert höchste Temperaturkonstanz bei geringem Energieverbrauch und verfügt über akustische und optische Alarmsignale bei Temperaturabweichungen.', 'Sicherheitseinrichtungen gegen Minustemperaturen, ein potentialfreier Kontakt zum Anschluss an die zentrale Leittechnik und eine USB-Schnittstelle machen den Laborkühlschrank zu einem optimalen Partner für Labor, Klinik und Gesundheitswesen. Der Kühlschrank ist umluftgekühlt mit einem Querstromgebläse, das beim Öffnen der Tür automatisch abschaltet und für eine gleichmäßige Temperierung sorgt.', 'Der Kirsch LABO-340 Laborkühlschrank verfügt über zahlreiche Innovationen wie ein Touch-Display mit edlem Glasdesign, Zugangskontrolle mit Protokoll, grafische Anzeige des Temperaturverlaufs und Min/Max-Temperatur sowie digitale Datendokumentation über PC-KIT-NET oder USB-Schnittstelle mit der Software KIRSCH Datanet.']\n",
      "{'Abmessungen-cm': {'Außenmaße_Breite': 67, 'Außenmaße_Tiefe': 66, 'Außenmaße_Höhe': 189, 'Innenmaße_Breite': 53, 'Innenmaße_Tiefe': 45, 'Innenmaße_Höhe': 128}, 'Gewicht-kg': {'netto': 90, 'brutto': 104}, 'Volumen-l': {'Kühlinhalt': 330}, 'Temperatur-celsius': {'Einstellung_min': 0, 'Einstellung_max': 15, 'Umgebungstemperatur_min': 10, 'Umgebungstemperatur_max': 38, 'Abweichung': 0.5}, 'Energie': {'Leistungsaufnahme-watt': 110, 'Wärmeabgabe-watt': 166, 'Normalverbrauch-kwh_24h': 0.65}, 'Spannung-volt': {'Spannung': 220, 'Spannung_max': 240}, 'Frequenz-hz': {'Frequenz': 50}, 'Geräusch-db': {'Emission': 39}, 'Innenausstattung': {'Anzahl_Schubfächer': 1, 'Anzahl_Körbe': 0, 'Anzahl_Ablageflächen': 3, 'Belastbarkeit_Ablagefläche-kg': 40, 'Belastbarkeit_Schubfach-kg': 16, 'Material_Schubfächer': 'Kunststoff', 'Material_Körbe': '-'}, 'Ausstattung': {'Abtauung_automatisch': True, 'Umluftkühlung': True, 'DIN_13221_konform': True, 'DIN_58375_konform': True, 'Türaufalarm': 'akustisch', 'Schnittstelle': 'LAN', 'Steuerung': 'PC-KIT-NET'}, 'Sonstiges': {'Kältemaschine_60Hz': 'optional', 'Kältemaschinen-Ventilator': 'optional', 'LED-Lichtleiste_Seitenwand': 'optional', 'Glastür_mit_Schloss': 'optional', 'Türkoppelungs-Beschlag': 'optional', 'Fahrbare_Ausführung': 'optional', 'Kunststoff-Schubfach_mit_Rollschubführungen': 'optional', 'Rost_mit_Schienen': 'optional', 'Alu-Blech_mit_Schienen': 'optional', 'Aluminium-Schubfach_mit_Rollschubführungen': 'optional', 'Tauwassergefäß': 'optional', 'flexible_Ausstattung': True}}\n"
     ]
    },
    {
     "name": "stderr",
     "output_type": "stream",
     "text": [
      "  3%|▎         | 4/151 [01:31<57:48, 23.59s/it]"
     ]
    },
    {
     "name": "stdout",
     "output_type": "stream",
     "text": [
      "{'summary': 'Der Liebherr HMFvh 5511 H63 Perfection ist ein Medikamentenkühlschrank mit Glastür und einem Nutzvolumen von 355 Litern. Er bietet eine präzise Temperaturregelung von +5°C und ist nach DIN 13277 zertifiziert, was ihn ideal für die sichere Lagerung von Medikamenten und Impfstoffen macht. Der Kühlschrank verfügt über ein dynamisches Kühlsystem, eine hochwirksame Isolierung und ein integriertes Ordnungssystem mit 7 Schubfächern. Zusätzlich bietet er optische und akustische Alarmsysteme, eine WiFi-/LAN-Schnittstelle für SmartMonitoring und einen integrierten Datenlogger zur Temperaturüberwachung. Die Perfection-Serie zeichnet sich durch hohe Temperaturstabilität, Lagersicherheit und Energieeffizienz aus.', 'category': 'Medikamentenkühlschrank', 'manufacturer': 'Liebherr', 'title': 'HMFvh 5511 H63 Perfection'}\n",
      "['Der HMFvh 5501-20 H63 ist ein Medikamentenkühlschrank mit einer Glastür und einem integrierten Ordnungssystem, das sieben Schubfächer umfasst. Er ist speziell für die sichere Aufbewahrung von temperaturempfindlichen Medikamenten, Impfstoffen und Proben entwickelt worden.', 'Der Kühlschrank verfügt über ein dynamisches Kühlsystem, eine hochwirksame Isolierung und eine präzise Temperaturregelung, die eine zuverlässige Lagerung von sensiblen Substanzen gewährleistet. Optische und akustische Alarmsysteme sorgen für zusätzliche Sicherheit. Die Geräte bieten höchste Temperaturkonstanz, Energieeffizienz, Robustheit und Benutzerfreundlichkeit.', 'Zur Temperaturüberwachung ist ein integrierter Logger vorhanden, der das Temperaturprofil, die Alarmhistorie und Serviceinformationen bis zu fünf Jahre lang speichert. Diese Daten können einfach per USB-Schnittstelle ausgelesen werden. Über eine integrierte WiFi-/LAN-Schnittstelle können die Geräte mit dem SmartMonitoring von Liebherr oder anderen lokalen Systemen verbunden werden. SmartMonitoring ist eine cloudbasierte Lösung, die Temperaturen kontinuierlich überwacht und bei Abweichungen sofort per E-Mail, SMS oder Anruf alarmiert. Eine kostenpflichtige Lizenz ist für die Nutzung von SmartMonitoring erforderlich.', 'Bei einem Temperaturanstieg oder Stromausfall beginnt die Innenbeleuchtung zu blinken, um auf notwendige Maßnahmen hinzuweisen. Ein integrierter Akku übernimmt die Stromversorgung und löst optische und akustische Alarme aus. Bei Wiederherstellung der Stromversorgung zeigt das Gerät den Zeitpunkt des Ausfalls und die maximale erreichte Temperatur an. Das SafetyDevice stabilisiert die Temperatur und schützt den Inhalt vor dem Einfrieren, falls die Temperatur unter +2°C fällt. SmartLock verriegelt automatisch die Tür bei Alarm, um zu verhindern, dass Produkte nach einer Unterbrechung der Kühlkette versehentlich in Umlauf geraten.', 'Der HMFvh 5501-20 H63 bietet eine Temperaturstabilität von +/-3 K Abweichung vom Sollwert und eine Kalibriermöglichkeit. Er verfügt über optische und akustische Alarme, ein Alarmrelais, eine Alarmtestfunktion, ein +2-°C-SafetyDevice, einen batteriegepufferten Netzausfallalarm, einen integrierten Datenlogger und einen PT1000-Produktfühler. Die Min.-/Max.-Temperaturaufzeichnung erfüllt die DIN 13277 und die Tür schließt sich selbstständig bei weniger als 90°. Die Alarmeinstellungen sind individuell möglich und ein elektronisches Schloss ist vorhanden.', 'Der Kühlschrank ist mit einer LAN/WiFi-Schnittstelle, einer lokalen API und einer USB-Schnittstelle zum Auslesen des Datenloggers ausgestattet. Ein SmartModule ist integriert und ein 2,4”-Farbdisplay mit Touch & Swipe-Funktion ermöglicht eine einfache Bedienung. Der Wartungstimer ist individuell einstellbar und Rollen/Stellfüße sind als Zubehör erhältlich. Eine Verdampferabdeckung schützt vor Anfrieren und eine Fühlerdurchführung ist vorhanden. Der antimikrobielle Griff mit Öffnungsmechanik sorgt für zusätzliche Hygiene.', 'Der HMFvh 5501-20 H63 ist ultra-effizient im Energieverbrauch und erfüllt die Sicherheitsstandards nach IEC 61010-2-011.']\n",
      "{'Abmessungen-cm': {'Außenmaße_Breite': 74.7, 'Außenmaße_Tiefe': 76.9, 'Außenmaße_Höhe': 179.3, 'Innenmaße_Breite': 55.6, 'Innenmaße_Tiefe': 46, 'Innenmaße_Höhe': 146}, 'Gewicht-kg': {'netto': 97, 'brutto': 101}, 'Volumen-l': {'Kühlinhalt': 355, 'Gefrierinhalt': 588}, 'Temperatur-celsius': {'Einstellung_min': 5, 'Einstellung_max': 5, 'Umgebungstemperatur_min': 10, 'Umgebungstemperatur_max': 35, 'Abweichung': 3.1}, 'Energie': {'Normalverbrauch-kwh_24h': 1.1}, 'Spannung-volt': {'Spannung': 230, 'Anschlusswert': 2}, 'Frequenz-hz': {}, 'Geräusch-db': {'Emission': 49}, 'Innenausstattung': {'Anzahl_Schubfächer': 7, 'Anzahl_Ablageflächen': 1, 'Belastbarkeit_Ablagefläche-kg': 50, 'Material_Schubfächer': 'Kunststoff'}, 'Ausstattung': {'Abtauung_automatisch': True, 'Türaufalarm': 'akustisch+optisch', 'Datenlogger': True, 'Schnittstelle': 'WLAN/LAN', 'Steuerung': '2,4\"-Farbdisplay, Touch & Swipe'}, 'Sonstiges': {'Kältemittel': 'R 600a', 'Innenbeleuchtung': 'LED-Lichtsäule links, separat schaltbar', 'Türanschlag': 'rechts wechselbar', 'Rollen': 'Lenkrollen mit Feststellbremse vorne, Bockrollen hinten', 'Griff': 'Antimikrobieller Griff mit Öffnungsmechanik', 'Art_des_Schlosses': 'elektronisch, mit Fernbedienung', 'Potentialfreier_Kontakt': True, 'Art_der_Vernetzbarkeit': 'SmartModule / Integriert, entnehmbar', 'Gehäusematerial': 'Stahl', 'Farbe': 'weiß', 'Türausführung': 'Glas', 'Material_Innenbehälter': 'Kunststoff', 'Netzausfallalarm': 'unmittelbar bei Netzunterbrechung für mind. 12 h'}}\n"
     ]
    },
    {
     "name": "stderr",
     "output_type": "stream",
     "text": [
      "  3%|▎         | 5/151 [01:49<52:24, 21.54s/it]"
     ]
    },
    {
     "name": "stdout",
     "output_type": "stream",
     "text": [
      "{'summary': 'Der FRYKA Tiefkühlunterbauschrank TUS 80-100 logg ist ein kompakter Labortiefkühlschrank mit einem Nutzinhalt von 100 Litern und einem Temperaturbereich von -50°C bis -80°C. Dieses Gerät ist speziell für den Einsatz in wissenschaftlichen und industriellen Laboren konzipiert und bietet eine präzise Temperaturregelung von +/- 1K. Der Tiefkühlschrank ist mit einem zweistufigen Kaskaden-Kältesystem ausgestattet, das geräuscharm, voll hermetisch und luftgekühlt ist, was zu einem geringen Stromverbrauch und minimaler Geräuschbelastung führt. Der TUS 80-100 logg verfügt über eine Vielzahl von Funktionen, darunter eine Ethernet-Schnittstelle für Fernwartung und weltweiten Zugriff, einen integrierten Datenlogger für die Temperaturaufzeichnung und Alarmereignisse, sowie eine benutzerfreundliche Farb-Touchscreen-Steuerung. Mit seinen kompakten Außenmaßen von 95x75x73 cm (BxHxT) ist er ideal für die Platzierung unter einem Tisch geeignet, was die Arbeitswege verkürzt und die Effizienz erhöht. Zusätzlich bietet der Tiefkühlschrank eine umfangreiche Überwachung der Kältemaschine mit Fehleranalyse und benachrichtigt im Alarmfall per E-Mail.', 'category': 'Labortiefkühlschrank', 'manufacturer': 'FRYKA', 'title': 'TUS 80-100 logg'}\n",
      "['Der FRYKA Unterbautiefkühlschrank TUS 80-100//logg ist ein kompakter und leistungsstarker Tiefkühlschrank für wissenschaftliche und industrielle Labore. Mit seinen praktischen Außenmaßen von 95x75x73 cm (BxHxT) ermöglicht er das Kühlen und Gefrieren von Materialproben direkt am Arbeitsplatz.', 'Dank der vorne und rechts verbauten Lüftungsgitter kann der Tiefkühlschrank direkt unter dem Tisch platziert werden, was die Arbeitsabläufe effizienter gestaltet. Das moderne Kälteaggregat ist geräuscharm, voll hermetisch und luftgekühlt, was eine geringe Geräuschbelastung und einfache Wartung gewährleistet.', 'Der Tiefkühlschrank TUS 80-100//logg ist mit einer abschließbaren Tür und doppelten Dichtungen ausgestattet, um die Sicherheit zu gewährleisten. Zudem verfügt er über einen 100mV/k Ausgang für den Anschluss an ein Temperaturaufzeichnungssystem und einen potentialfreien Alarmkontakt für die Einbindung in ein externes Alarmsystem.', 'Der Tiefkühlschrank bietet eine umfangreiche Überwachung der Kältemaschine mit Fehleranalyse und eine Ethernet-Schnittstelle für den weltweiten Zugriff. Im Alarmfall benachrichtigt das Gerät per E-Mail. Die innovative Technik umfasst eine benutzerfreundliche Farb-Touchscreen-Steuerung und einen integrierten Datenlogger, der den Temperaturverlauf und Alarmereignisse über einen USB-Stick auslesbar macht.', 'Mit einem Nutzinhalt von 100 Litern und einem Temperaturbereich von -80°C bis -50°C ist der Tiefkühlschrank ideal für die Lagerung von Proben. Die Temperaturregelung ist mit einer Genauigkeit von +/- 1K ausgestattet. Das Gerät ist unterbaufähig und stapelbar bis zu maximal zwei Tiefkühlschränken.', 'Das Gehäuse des Tiefkühlschranks ist komplett aus hochwertigem, rostfreiem Edelstahl gefertigt und leicht zu reinigen. Die Vakuum-Isolierung und die geschäumte Formtür mit doppelter Dichtung tragen zu einem geringen Stromverbrauch bei. Der elektrische Anschluss erfolgt über 230V/50Hz mit einem 3 Meter langen Netzkabel.', 'Der Lieferumfang umfasst den FRYKA Tiefkühlschrank TUS 80-100//logg, ein 3 Meter Netzkabel, ein Einlegegitter, vier Regalschienen und die FRYKA Software \"ST-Studio\" für die Datenaufzeichnung und -sicherung. Optional sind ein Edelstahlregal, ein zusätzliches Einlegegitter, eine WiFi-Bridge, Rollen mit Feststellbremse, eine Durchführung und ein elektrisches Türschloss mit Zugriffskontrolle erhältlich.']\n",
      "{'Abmessungen-cm': {'Außenmaße_Breite': 95, 'Außenmaße_Höhe': 75, 'Außenmaße_Tiefe': 73, 'Innenmaße_Breite': 45, 'Innenmaße_Höhe': 50, 'Innenmaße_Tiefe': 45}, 'Gewicht-kg': {'netto': 120}, 'Volumen-l': {'Gefrierinhalt': 100}, 'Temperatur-celsius': {'Einstellung_min': -80, 'Einstellung_max': -50, 'Umgebungstemperatur_min': 12, 'Umgebungstemperatur_max': 30, 'Abweichung': 1}, 'Energie': {}, 'Spannung-volt': {'Anschluss': 230}, 'Frequenz-hz': {'Anschluss': 50}, 'Geräusch-db': {}, 'Innenausstattung': {'Anzahl_Schubfächer': 4, 'Material_Schubfächer': 'Edelstahl'}, 'Ausstattung': {'Abtauung_automatisch': True, 'Türaufalarm': 'akustisch+optisch', 'Logging': True, 'Datenlogger': True, 'Schnittstelle': 'Ethernet', 'Steuerung': 'Farb-Touchscreen'}, 'Sonstiges': {'Stapelbar': 'bis zu 2 Geräte', 'Vakuum-Isolierung': True, 'Benutzerverwaltung': True, 'Fernwartung': True, 'E-Mail-Benachrichtigung': True, 'Netzunabhängiger Alarm': '72 Stunden'}}\n"
     ]
    },
    {
     "name": "stderr",
     "output_type": "stream",
     "text": [
      "  4%|▍         | 6/151 [02:04<46:44, 19.34s/it]"
     ]
    },
    {
     "name": "stdout",
     "output_type": "stream",
     "text": [
      "{'summary': 'Der Liebherr SFFsg 5501 Performance ist ein Gefrierschrank speziell für den Einsatz in Forschung und Labor. Mit einem Temperaturbereich von -9°C bis -30°C und einer Temperaturstabilität von +/-5 K Abweichung vom Sollwert bietet er optimale Bedingungen für die Lagerung sensibler Substanzen. Der Gefrierschrank verfügt über innovative Sicherheitsmerkmale wie optische und akustische Alarme, ein mechanisches Schloss und eine selbstschließende Tür. Zudem ist er mit einem Monochrom-Display und Touch-Buttons ausgestattet, was die Bedienung erleichtert. Die optionale LAN/WiFi-Schnittstelle und das nachrüstbare SmartModule ermöglichen eine einfache Integration in bestehende Überwachungssysteme. Mit einem Nutzinhalt von 394 Litern und einem Energieverbrauch von 501 kWh pro Jahr ist der SFFsg 5501 Performance sowohl leistungsstark als auch energieeffizient.', 'category': 'Gefrierschrank', 'manufacturer': 'Liebherr', 'title': 'SFFsg 5501 Performance'}\n",
      "['Die neue Gerätegeneration für Labor und Forschung bietet maximale Kühlleistung bei optimaler Temperaturstabilität. Die Kühlgeräte weisen eine Abweichung von +/-3 K vom Sollwert auf, während die Gefriergeräte eine Abweichung von +/-5 K aufweisen. Diese Geräte sind speziell für den Einsatz in Laboren konzipiert, wo die konstante Einhaltung von Temperaturen entscheidend ist.', 'Die Geräte verfügen über innovative Sicherheitsmerkmale wie optische und akustische Alarme, ein Alarmrelais, eine Alarmtestfunktion und ein +2-°C-SafetyDevice. Bei Netzunterbrechungen wird unmittelbar ein Netzausfallalarm ausgelöst. Zudem bieten sie eine Min.-/Max.-Temperaturaufzeichnung und eine selbstschließende Tür bei weniger als 90°. Die Alarmeinstellungen sind individuell anpassbar und ein mechanisches Schloss sorgt für zusätzliche Sicherheit.', 'Die Geräte sind mit einem Monochrom-Display und Touch-Buttons ausgestattet. Ein individuell einstellbarer Wartungstimer, Rollen/Stellfüße als Zubehör und eine Verdampferabdeckung zum Schutz vor Anfrieren sind weitere Ausstattungsmerkmale. Die Glastürmodelle der Kühlgeräte verfügen über eine Deckenbeleuchtung, während die Gefriergeräte keine Beleuchtung aufweisen. Ein antimikrobieller Griff mit Öffnungsmechanik rundet die Ausstattung ab.', 'Die Geräte sind super-effizient im Energieverbrauch und erfüllen die Sicherheitsstandards nach IEC 61010-2-011 sowie die ATEX-Richtlinie (SRFfg/SFFfg). Optional sind LAN/WiFi und eine lokale API über das SmartModule nachrüstbar, was eine flexible Integration in bestehende Systeme ermöglicht.']\n",
      "{'Abmessungen-cm': {'Außenmaße_Breite': 74.7, 'Außenmaße_Tiefe': 76.9, 'Außenmaße_Höhe': 168.4, 'Innenmaße_Breite': 58.8, 'Innenmaße_Tiefe': 52.3, 'Innenmaße_Höhe': 138.8}, 'Gewicht-kg': {'netto': 80, 'brutto': 94}, 'Volumen-l': {'Kühlinhalt': 394, 'Gefrierinhalt': 499}, 'Temperatur-celsius': {'Einstellung_min': -30, 'Einstellung_max': -9, 'Umgebungstemperatur_min': 10, 'Umgebungstemperatur_max': 35, 'Abweichung': 6}, 'Energie': {'Normalverbrauch-kwh_24h': 1.37, 'Leistungsaufnahme-watt': 460}, 'Spannung-volt': {'Spannung': 230}, 'Frequenz-hz': {}, 'Geräusch-db': {'Emission': 49}, 'Innenausstattung': {'Anzahl_Ablageflächen': 4, 'Belastbarkeit_Ablagefläche-kg': 60, 'Material_Körbe': 'Kunststoff'}, 'Ausstattung': {'Abtauung_automatisch': False, 'Türaufalarm': 'akustisch+optisch', 'Schnittstelle': 'optional', 'Steuerung': 'Monochrom-Display, Touch-Buttons'}, 'Sonstiges': {'Kältemittel': 'R 290', 'Griff': 'Antimikrobieller Griff mit Öffnungsmechanik', 'Gehäusematerial': 'Stahl', 'Farbe': 'weiß', 'Türanschlag': 'rechts wechselbar', 'Belastbarkeit_Gerät-kg': 300}}\n"
     ]
    },
    {
     "name": "stderr",
     "output_type": "stream",
     "text": [
      "  5%|▍         | 7/151 [02:21<44:12, 18.42s/it]"
     ]
    },
    {
     "name": "stdout",
     "output_type": "stream",
     "text": [
      "{'summary': 'Der Kirsch BL-720 ULTIMATE ist ein Blutkonservenkühlschrank mit einem Nutzvolumen von 700 Litern und einer Betriebstemperatur von +4°C. Das Gerät erfüllt die strengen Anforderungen der DIN 58371 und ist somit ideal für die sichere Lagerung von Blutkonserven in medizinischen Einrichtungen. Der Kühlschrank verfügt über eine PRO-ACTIVE Steuerungselektronik, die eine präzise Temperaturregelung gewährleistet, sowie über optische und akustische Warnsignale bei Temperaturschwankungen oder Stromausfällen. Mit fünf höhenverstellbaren Schubfächern aus Aluminium bietet er Platz für bis zu 225 Blutbeutel. Zusätzlich ist der BL-720 mit einer USB-Schnittstelle für die Temperaturdokumentation und einem Touch-Display für die Zugangskontrolle ausgestattet. Die Umluftkühlung und die automatische Abtauung sorgen für eine gleichmäßige Temperaturverteilung und einfache Wartung. Der Kühlschrank ist zudem mit einer selbstschließenden und abschließbaren Tür sowie einem potentialfreien Kontakt für zusätzliche Alarmsysteme ausgestattet.', 'category': 'Blutkühlschrank', 'manufacturer': 'Kirsch', 'title': 'BL-720 ULTIMATE'}\n",
      "['Der Kirsch BL-720 ist ein Blutkonservenkühlschrank, der die DIN 58371 Norm erfüllt und hohe Anforderungen an Temperaturkonstanz, Sicherheit und Hygiene stellt. Er ist für den Einsatz in Laboren, Kliniken und im Gesundheitswesen konzipiert.', 'Der BL-720 bietet eine Betriebstemperatur von +4°C und funktioniert bei Umgebungstemperaturen von +10°C bis +38°C. Er verfügt über optische und akustische Warnsignale bei Temperaturschwankungen und Stromausfall. Die Kühlschranktür ist abschließbar und der Innenraum ist leicht zu reinigen und zu desinfizieren.', 'Die Ausstattung des BL-720 umfasst ein Touch-Display mit Glasdesign, Zugangskontrolle mit Protokoll, grafische Anzeige des Temperaturverlaufs und digitale Datendokumentation über USB-Schnittstelle. Die Kältemaschine ist geräuscharm und energieeffizient, mit einer automatischen Schnellabtauung und Tauwasserverdunstung.', 'Der Innenraum besteht aus glattem Aluminium mit farbloser Schutzbeschichtung und bietet fünf höhenverstellbare Schubfächer für bis zu 225 Blutbeutel. Die elektronische Temperatursteuerung ist manipulationsgeschützt und die Alarmeinheit funktioniert auch bei Stromausfall für bis zu 72 Stunden.', 'Das Außengehäuse ist aus verzinktem Stahlblech mit einer kratzfesten Pulverbeschichtung und einer glatten Steuerungsblende aus Kunststoff für eine hygienische Reinigung. Der Kühlschrank hat eine Isolierung von 70mm und verwendet umweltschonende Materialien.', 'Die technischen Daten des BL-720 umfassen 700 Liter Kühlinhalt, Außenmaße von 77x98x193-196 cm (BxTxH) und Innenmaße von 62x77x140 cm (BxTxH). Der Energieverbrauch beträgt 1,56 kWh in 24 Stunden und das Gerät verfügt über eine Umluftkühlung und Gefrierschutz.', 'Zusätzliche Merkmale sind ein Schlüsselschalter, eine USB-Schnittstelle zur Datenauslese, eine Alarmerweiterung über potentialfreien Kontakt, eine selbstschließende Tür und ein leicht austauschbarer Kunststoff-Magnetdichtungsrahmen.']\n",
      "{'Abmessungen-cm': {'Außenmaße_Breite': 77, 'Außenmaße_Tiefe': 98, 'Außenmaße_Höhe': 195.5, 'Innenmaße_Breite': 62, 'Innenmaße_Tiefe': 77, 'Innenmaße_Höhe': 140}, 'Gewicht-kg': {'netto': 171, 'brutto': 196}, 'Volumen-l': {'Kühlinhalt': 700}, 'Temperatur-celsius': {'Einstellung_min': 4, 'Einstellung_max': 4, 'Umgebungstemperatur_min': 10, 'Umgebungstemperatur_max': 38, 'Abweichung': 1.2}, 'Energie': {'Leistungsaufnahme-watt': 250, 'Wärmeabgabe-watt': 554, 'Normalverbrauch-kwh_24h': 1.56}, 'Spannung-volt': {'Spannung': 220, 'Frequenz-hz': 50}, 'Frequenz-hz': {}, 'Geräusch-db': {'Emission': 41.8}, 'Innenausstattung': {'Anzahl_Schubfächer': 5, 'Belastbarkeit_Ablagefläche-kg': 50, 'Material_Schubfächer': 'Aluminium', 'Stellleisten/variable Innenausstattung': True}, 'Ausstattung': {'Abtauung_automatisch': True, 'Umluftkühlung': True, 'Kältemaschine_wassergekühlt': 'optional', 'Kältemaschine_60Hz': 'optional', 'Kältemaschinen-Ventilator': True, 'Alarmierung_Stromausfall': True, 'Außengehäuse_Chromnickelstahl': 'optional', 'Dekorrahmen': 'optional', 'LED-Lichtleiste_Seitenwand': 'optional', 'Glastür_mit_Schloss': 'optional', 'Türkoppelungs-Beschlag': 'optional', 'Fahrbare_Ausführung': True, 'Rost_mit_Auflegern': 'optional', 'Rost_mit_Schienen': 'optional', 'Alu-Blech_mit_Schienen': 'optional', 'Drahtkorb_mit_Schienen': 'optional', 'Edelstahl-Schubfach_mit_Rollschubführung': 'optional', 'Schubfacheinteilung_im_Set': 'optional', 'Vario_Support': 'optional', 'Tauwassergefäß_zur_manuellen_Entleerung': 'optional'}, 'Sonstiges': {}}\n"
     ]
    },
    {
     "name": "stderr",
     "output_type": "stream",
     "text": [
      "  5%|▌         | 8/151 [02:38<42:36, 17.88s/it]"
     ]
    },
    {
     "name": "stdout",
     "output_type": "stream",
     "text": [
      "{'summary': 'Der FRYKA Tiefkühlschrank TS 50-100 logg ist ein kompakter Labortiefkühlschrank mit einem Nutzinhalt von 100 Litern und einem Temperaturbereich von -10°C bis -50°C. Dieses Modell ist ideal für wissenschaftliche und industrielle Labore und bietet eine präzise Temperaturregelung von +/- 1K. Der Tiefkühlschrank ist mit modernster Technik ausgestattet, darunter ein geräuscharmes, voll hermetisches und luftgekühltes Kälteaggregat, eine Ethernet-Schnittstelle für Fernwartung und weltweiten Zugriff sowie einen integrierten Datenlogger zur Aufzeichnung von Temperaturverläufen und Alarmereignissen. Die Sicherheit wird durch eine abschließbare Tür, doppelte Dichtungen und einen netzunabhängigen Alarm gewährleistet. Der TS 50-100 logg verfügt über eine benutzerfreundliche Farb-Touchscreen-Steuerung und ist mit umlaufenden Lüftungsgittern ausgestattet, die eine platzsparende Aufstellung direkt an der Wand ermöglichen.', 'category': 'Labortiefkühlschrank', 'manufacturer': 'FRYKA', 'title': 'TS 50-100 logg'}\n",
      "['Der FRYKA Unterbautiefkühlschrank TS 50-100 logg ist ein kompakter und leistungsstarker Tiefkühlschrank, der speziell für den Einsatz in wissenschaftlichen und industriellen Laboren konzipiert wurde. Mit seinen praktischen Außenmaßen von 68x116x73 cm (BxHxT) ermöglicht er das Kühlen und Gefrieren von Materialproben direkt am Arbeitsplatz.', 'Dank der umlaufenden Lüftungsgitter kann der Tiefkühlschrank direkt an einer Wand platziert werden, was die Arbeitsabläufe effizienter gestaltet. Das moderne Kälteaggregat ist geräuscharm, voll hermetisch und luftgekühlt, was zu einer geringen Geräuschbelastung und einem niedrigen Stromverbrauch führt.', 'Sicherheitsmerkmale des TS 50-100 logg umfassen eine abschließbare Tür mit doppelter Dichtung, einen potentialfreien Alarmkontakt und einen 100mV/k-Ausgang für den Anschluss an ein Temperaturaufzeichnungssystem. Zudem verfügt das Gerät über eine umfangreiche Überwachung der Kältemaschine mit Fehleranalyse und eine Ethernet-Schnittstelle für den weltweiten Zugriff.', 'Der Tiefkühlschrank bietet einen netzunabhängigen Alarm (optisch und akustisch) für mindestens 72 Stunden mit einer Anzeige der maximal erreichten Temperaturen im Innenraum. Die Benutzerführung erfolgt über ein Farb-Touch-Screen, und ein integrierter Datenlogger ermöglicht das Auslesen von Temperaturverläufen und Alarmereignissen über einen USB-Stick.', 'Der TS 50-100 logg verfügt über einen Nutzinhalt von 100 Litern und eine Temperaturregelung mit einer Genauigkeit von +/- 1K. Die Außenmaße betragen 68x116x73 cm, während die Innenmaße 45x50x45 cm betragen. Der Temperaturbereich liegt zwischen -50°C und -10°C, und die Umgebungstemperatur sollte zwischen +12°C und +30°C liegen.', \"Der Lieferumfang umfasst den Tiefkühlschrank, ein 3m Netzkabel, ein Einlegegitter, vier Regalschienen und die FRYKA Software 'ST-Studio' für die Datenaufzeichnung und -sicherung. Optional sind Edelstahlregale, ein zusätzliches Einlegegitter, eine WiFi-Bridge, Rollen, ein Umluftventilator, eine Durchführung und ein elektrisches Türschloss mit Zugriffskontrolle erhältlich.\", 'Der FRYKA Tiefkühlschrank TS 50-100 logg ist ideal für den Einsatz in Laboren, in denen eine präzise und sichere Kühlung von Proben erforderlich ist. Seine kompakte Bauweise und die umfangreichen Sicherheits- und Überwachungsfunktionen machen ihn zu einem zuverlässigen Gerät für den täglichen Gebrauch.']\n",
      "{'Abmessungen-cm': {'Außenmaße_Breite': 68, 'Außenmaße_Höhe': 116, 'Außenmaße_Tiefe': 73, 'Innenmaße_Breite': 45, 'Innenmaße_Höhe': 50, 'Innenmaße_Tiefe': 45}, 'Gewicht-kg': {'netto': 120}, 'Volumen-l': {'Kühlinhalt': 100}, 'Temperatur-celsius': {'Einstellung_min': -50, 'Einstellung_max': -10, 'Umgebungstemperatur_min': 12, 'Umgebungstemperatur_max': 30, 'Abweichung': 1}, 'Energie': {}, 'Spannung-volt': {'Anschluss': 230}, 'Frequenz-hz': {'Anschluss': 50}, 'Geräusch-db': {}, 'Innenausstattung': {'Anzahl_Schubfächer': 4, 'Anzahl_Ablageflächen': 1, 'Material_Schubfächer': 'Edelstahl', 'Material_Körbe': 'Edelstahl'}, 'Ausstattung': {'Abtauung_automatisch': True, 'Türaufalarm': 'akustisch+optisch', 'Logging': True, 'Datenlogger': True, 'Schnittstelle': 'Ethernet', 'Steuerung': 'Farb-Touchscreen'}, 'Sonstiges': {'Zubehör': 'Edelstahlregale, Einlegegitter, WiFi-Bridge', 'Optionen': 'Rollen, Umluftventilator, Durchführung, elektrisches Türschloss'}}\n"
     ]
    },
    {
     "name": "stderr",
     "output_type": "stream",
     "text": [
      "  6%|▌         | 9/151 [02:53<40:08, 16.96s/it]"
     ]
    },
    {
     "name": "stdout",
     "output_type": "stream",
     "text": [
      "{'summary': 'Der Kirsch LABEX-288 PRO-ACTIVE ist ein explosionsgeschützter Laborkühlschrank, speziell für die Lagerung von leicht entzündlichen und explosiven Stoffen konzipiert. Mit einem Nutzvolumen von 280 Litern und einer Temperaturregelung von 0 bis +15°C bietet er höchste Sicherheit durch einen explosionsgeschützten Innenraum, der die Sicherheitsanforderungen der Zone 2 erfüllt und mit einem TÜV-Zertifikat für Zündquellfreiheit ausgestattet ist. Der Kühlschrank verfügt über eine geräuscharme, energiesparende und hermetisch gekapselte Kältemaschine, eine automatische Abtauung und eine 55 mm starke Isolierung für optimale Temperaturkonstanz. Die PRO-Active-Steuerung ermöglicht eine präzise Temperaturregelung, unabhängig von wechselnden Außentemperaturen. Zusätzlich bietet der LABEX-288 Umluftkühlung, akustische und optische Alarmsignale sowie eine USB-Schnittstelle für die Anbindung an zentrale Leittechnik. Der Innenraum besteht aus poliertem Aluminium mit einer farblosen Schutzbeschichtung und bietet flexible Lagerungsmöglichkeiten mit Schubfächern und verstellbaren Rosten. Ideal für Labor, Klinik und das gesamte Gesundheitswesen.', 'category': 'Laborkühlschrank', 'manufacturer': 'Kirsch', 'title': 'LABEX-288 PRO-ACTIVE'}\n",
      "['Der Kirsch LABEX-288 Laborkühlschrank ist speziell für die sichere Lagerung von leicht entzündlichen und explosiven Stoffen konzipiert. Der explosionsgeschützte Innenraum erfüllt die Sicherheitsanforderungen der Zone 2 und ist TÜV-zertifiziert, um Zündquellenfreiheit zu gewährleisten. Dies macht ihn ideal für die Aufbewahrung von Chemikalien und anderen gefährlichen Materialien.', 'Der Kühlschrank ist mit einer geräuscharmen, energiesparenden und hermetisch gekapselten Kältemaschine für 220-240 V Wechselstrom ausgestattet. Der Türanschlag ist serienmäßig rechts, aber wechselbar, und verstellbare Füße im Frontbereich ermöglichen den Ausgleich von Bodenunebenheiten. Der Abtauvorgang erfolgt automatisch durch zeitlich begrenzte und thermische Umkehr des Kältemittelkreislaufs, wobei das Tauwasser in einem Gefäß gesammelt und manuell entleert werden kann. Die 55 mm starke Isolierung aus hochwertigen, druckgeschäumten und umweltschonenden Materialien garantiert höchste Temperaturkonstanz bei geringem Energieverbrauch.', 'Der Innenraum des Schrankes besteht aus poliertem Aluminium mit einer farblosen Schutzbeschichtung und Stellleisten. Die Innenausstattung umfasst ein Schubfach auf arretierenden Rollschubführungen mit neun verstellbaren Quer- und zwei verstellbaren Längsträgern, was eine Lagerfläche von 0,16 Quadratmetern pro Schubfach bietet. Zusätzlich sind drei kunststoffbeschichtete Roste vorhanden. Das Außengehäuse besteht aus verzinktem, rostgeschütztem Stahlblech mit einer kratzfesten, weißen Pulverbeschichtung.', 'Die elektronische Temperatursteuerung sorgt für eine konstante Innentemperatur, unabhängig von wechselnden Außentemperaturen, vorausgesetzt, die Umgebungstemperatur liegt mindestens 3°C über der gespeicherten Innentemperatur. Zu den Serieninnovationen gehören ein Umluftgekühltes System mit Querstromgebläse, das beim Öffnen der Tür automatisch abschaltet, ein Schaltzentrum mit Schlüsselschalter und Folientastatur, eine digitale Temperaturanzeige sowie akustische und optische Alarmsignale. Ein potentialfreier Kontakt ermöglicht den Anschluss an die zentrale Leittechnik, und eine USB-Schnittstelle ist ebenfalls vorhanden. Eine Sicherheitseinrichtung gegen Minustemperaturen ist standardmäßig integriert.']\n",
      "{'Abmessungen-cm': {'Außenmaße_Breite': 67, 'Außenmaße_Tiefe': 72, 'Außenmaße_Höhe': 132, 'Innenmaße_Breite': 53, 'Innenmaße_Tiefe': 50, 'Innenmaße_Höhe': 100}, 'Gewicht-kg': {'netto': 75, 'brutto': 87}, 'Volumen-l': {'Kühlinhalt': 280}, 'Temperatur-celsius': {'Einstellung_min': 0, 'Einstellung_max': 15, 'Umgebungstemperatur_min': 10, 'Umgebungstemperatur_max': 38, 'Abweichung': 0.74}, 'Energie': {'Leistungsaufnahme-watt': 100, 'Wärmeabgabe-watt': 173, 'Normalverbrauch-kwh_24h': 0.76}, 'Spannung-volt': {'Spannung': 220, 'Spannung_max': 240}, 'Frequenz-hz': {'Frequenz': 50}, 'Geräusch-db': {'Emission': 40}, 'Innenausstattung': {'Anzahl_Schubfächer': 1, 'Anzahl_Rost': 3, 'Belastbarkeit_Ablagefläche-kg': 40, 'Belastbarkeit_Schubfach-kg': 16, 'Material_Schubfächer': 'Kunststoff'}, 'Ausstattung': {'Abtauung_automatisch': True, 'Umluftkühlung': True, 'DIN_58375_konform': True, 'DIN_13221_konform': True, 'ATEX_95_konform': True, 'Kältemaschine_60hz': 'optional', 'Kältemaschine_Ventilator': 'optional', 'PC-KIT-NET': 'optional', 'Dekorrahmen': 'optional', 'Glastür_mit_Schloss': 'optional', 'Türkoppelungs-Beschlag': 'optional', 'Fahrbare_Ausführung': 'optional', 'Rost_mit_Schienen': 'optional', 'Alarmierung_Stromausfall': True}, 'Sonstiges': {'flexible_Ausstattung': True, 'Tauwassergefäß': True}}\n"
     ]
    },
    {
     "name": "stderr",
     "output_type": "stream",
     "text": [
      "  7%|▋         | 10/151 [03:08<38:50, 16.53s/it]"
     ]
    },
    {
     "name": "stdout",
     "output_type": "stream",
     "text": [
      "{'summary': 'Die FRYKA Tiefkühltruhe TT 50-90 ist eine kompakte Labor-Tiefkühltruhe mit einem Nutzinhalt von 90 Litern und einem Temperaturbereich von -10°C bis -50°C. Sie ist ideal für die Lagerung von Materialproben direkt am Arbeitsplatz in wissenschaftlichen und industriellen Laboren. Die Truhe ist mit einem geräuscharmen, voll hermetischen und luftgekühlten Kälteaggregat ausgestattet, das wartungsarm und energieeffizient ist. Sicherheitsmerkmale umfassen einen abschließbaren Deckel, doppelten Magnetdichtungen und einen netzunabhängigen Alarm, der optische und akustische Signale über mindestens 72 Stunden liefert. Die TT 50-90 verfügt über eine RS485-Schnittstelle und einen 100mV/K-Ausgang für den Anschluss an ein Temperaturaufzeichnungssystem. Mit ihren umlaufenden Lüftungsgittern kann sie direkt an einer Wand platziert werden, was die Effizienz im Labor erhöht.', 'category': 'Labortiefkühlschrank', 'manufacturer': 'FRYKA', 'title': 'Tiefkühltruhe TT 50-90'}\n",
      "['Die FRYKA Tiefkühltruhe TT 50-90 ist eine kompakte und leistungsstarke Labor-Tiefkühltruhe, die speziell für den Einsatz in wissenschaftlichen und industriellen Laboren entwickelt wurde. Mit ihren Außenmaßen von 76x88x71 cm (BxHxT) bietet sie eine platzsparende Lösung zur Kühlung von Materialproben direkt am Arbeitsplatz.', 'Dank der umlaufenden Lüftungsgitter kann die Tiefkühltruhe direkt an einer Wand platziert werden, was effizientes Arbeiten ermöglicht. Das moderne Kälteaggregat ist geräuscharm, voll hermetisch und luftgekühlt, was zu einer geringen Geräuschbelastung und einem niedrigen Stromverbrauch führt.', 'Die Sicherheit der TT 50-90 wird durch einen abschließbaren Deckel und doppelten Magnetdichtungen gewährleistet. Zudem verfügt sie über einen 100mV/K Ausgang für den Anschluss an ein Temperaturaufzeichnungssystem und einen potentialfreien Alarmkontakt für die Integration in ein externes Alarmsystem.', 'Die Tiefkühltruhe bietet eine benutzerfreundliche Menüführung und einen netzunabhängigen Alarm (optisch und akustisch) für mindestens 72 Stunden. Dies macht sie zu einem zuverlässigen Partner für Kühlanwendungen.', 'Mit einem Nutzinhalt von 90 Litern und einem Innenraum frei von Anbauten bietet die TT 50-90 viel Platz für Ihre Proben. Die Temperaturregelung ist mit einer Genauigkeit von +/- 1K sehr präzise.', 'Die Abmessungen der Tiefkühltruhe betragen (BxHxT) 76x88x71 cm außen und 59x37x43 cm innen. Der Temperaturbereich liegt zwischen -50°C und -10°C bei einer Umgebungstemperatur von +12°C bis +30°C.', 'Die TT 50-90 verfügt über eine RS485 Schnittstelle und eine anwenderfreundliche Steuereinheit mit Folientastatur. Das Gehäuse ist komplett aus rostfreiem, hochwertigem Edelstahl gefertigt und leicht zu reinigen.', 'Im Lieferumfang enthalten sind die FRYKA Tiefkühltruhe TT 50-90 und ein 3m Netzkabel. Optional können Edelstahlregale für bis zu 72 Standard-Cryoboxen, Rollen mit Feststellbremse, ein Umluftventilator für eine bessere Temperaturverteilung und eine Durchführung von 19mm erworben werden.']\n",
      "{'Abmessungen-cm': {'Außenmaße_Breite': 76, 'Außenmaße_Tiefe': 71, 'Außenmaße_Höhe': 88, 'Innenmaße_Breite': 59, 'Innenmaße_Tiefe': 43, 'Innenmaße_Höhe': 37}, 'Gewicht-kg': {'netto': 120}, 'Volumen-l': {'Gefrierinhalt': 90}, 'Temperatur-celsius': {'Einstellung_min': -50, 'Einstellung_max': -10, 'Umgebungstemperatur_min': 12, 'Umgebungstemperatur_max': 30, 'Abweichung': 1}, 'Energie': {}, 'Spannung-volt': {'Anschluss': 230}, 'Frequenz-hz': {'Anschluss': 50}, 'Geräusch-db': {}, 'Innenausstattung': {'Material_Schubfächer': 'Edelstahl'}, 'Ausstattung': {'Abtauung_automatisch': True, 'Türaufalarm': 'akustisch+optisch', 'Schnittstelle': 'RS485', 'Steuerung': 'Folientastatur'}, 'Sonstiges': {'Netzkabel': 3, 'Umluftventilator': 'optional', 'Rollen': 'optional'}}\n"
     ]
    },
    {
     "name": "stderr",
     "output_type": "stream",
     "text": [
      "  7%|▋         | 11/151 [03:22<36:36, 15.69s/it]"
     ]
    },
    {
     "name": "stdout",
     "output_type": "stream",
     "text": [
      "{'summary': 'Der Kirsch BL-720 PRO-ACTIVE ist ein Blutkonservenkühlschrank mit einem Kühlinhalt von 700 Litern und einer Temperatursteuerung von +4°C. Er verfügt über fünf höhenverstellbare Schubfächer aus Aluminium, die Platz für ca. 225 Blutbeutel bieten. Der Kühlschrank ist mit einer Umluftkühlung, automatischer Abtauung und einem Warnsystem ausgestattet, das bei Temperaturabweichungen akustische und optische Signale gibt. Zudem bietet er eine RS 485 Schnittstelle zur Anbindung an eine PC-gestützte Temperaturdokumentation. Der Kirsch BL-720 PRO-ACTIVE ist ideal für die sichere Lagerung von Blutkonserven in medizinischen Einrichtungen.', 'category': 'Blutkühlschrank', 'manufacturer': 'Kirsch', 'title': 'BL-720 PRO-ACTIVE'}\n",
      "['Der Kühlschrank bietet ein großes Lagervolumen von 700 Litern und ist mit fünf höhenverstellbaren Schubfächern aus Aluminium ausgestattet. Diese Fächer sind auf Rollschubführungen mit Arretierung montiert und bieten Platz für ca. 225 Blutbeutel.', 'Die elektronische Temperatursteuerung ist manipulationsgeschützt und verfügt über eine Folientastatur mit digitaler Anzeige. Der Kühlschrank ist mit einem Schlüsselschalter ausgestattet und bietet eine Warnfunktion mit akustischem und optischem Warnsignal, die auch bei Stromausfall funktioniert.', 'Der Kühlschrank verfügt über eine Umluftkühlung und eine Schnellabtauung mit automatischer Tauwasserverdunstung. Ein Gefrierschutz und ein Minimum/Maximum-Temperaturspeicher sind ebenfalls integriert. Die Tür ist abschließbar und selbstschließend, mit einem leicht austauschbaren Kunststoff-Magnetdichtungsrahmen.', 'Der Kühlschrank ist ein Standgerät mit einem Energieverbrauch von 2,8 kWh in 24 Stunden. Er verfügt über ein 3 Meter langes Stecker-Kabel. Die Außenmaße einschließlich Wandabstand und Türgriff betragen 77x98x193-196 cm (BxTxH), während die Innenmaße 62x77x140 cm (BxTxH) betragen.', 'Zusätzlich bietet der Kühlschrank einen Komfortzugang und die Möglichkeit zur Alarmerweiterung über einen potentialfreien Kontakt. Eine RS 485 Schnittstelle ermöglicht die Anbindung an eine PC-gestützte Temperaturdokumentation.']\n",
      "{'Abmessungen-cm': {'Außenmaße_Breite': 77, 'Außenmaße_Tiefe': 98, 'Außenmaße_Höhe': 195.5, 'Innenmaße_Breite': 62, 'Innenmaße_Tiefe': 77, 'Innenmaße_Höhe': 140}, 'Gewicht-kg': {'netto': 171, 'brutto': 196}, 'Volumen-l': {'Kühlinhalt': 700}, 'Temperatur-celsius': {'Einstellung_min': 4, 'Einstellung_max': 4, 'Umgebungstemperatur_min': 10, 'Umgebungstemperatur_max': 38, 'Abweichung': 1.2}, 'Energie': {'Leistungsaufnahme-watt': 250, 'Wärmeabgabe-watt': 554, 'Normalverbrauch-kwh_24h': 1.56}, 'Spannung-volt': {'Spannung': 220, 'Frequenz-hz': 50}, 'Frequenz-hz': {}, 'Geräusch-db': {'Emission': 41.8}, 'Innenausstattung': {'Anzahl_Schubfächer': 5, 'Belastbarkeit_Ablagefläche-kg': 50, 'Material_Schubfächer': 'Aluminium'}, 'Ausstattung': {'Abtauung_automatisch': True, 'Umluftkühlung': True, 'Kältemaschine_wassergekühlt': 'optional', 'Kältemaschine_60Hz': 'optional', 'Kältemaschinen-Ventilator': True, 'Alarmierung_Stromausfall': True, 'PC-KIT-NET': 'optional', 'Außengehäuse_Chromnickelstahl': 'optional', 'Dekorrahmen': 'optional', 'LED-Lichtleiste_Seitenwand': 'optional', 'Glastür_mit_Schloss': 'optional', 'Türkoppelungs-Beschlag': 'optional', 'Fahrbare_Ausführung': True, 'Rost_mit_Auflegern': 'optional', 'Rost_mit_Schienen': 'optional', 'Alu-Blech_mit_Schienen': 'optional', 'Drahtkorb_mit_Schienen': 'optional', 'Edelstahl-Schubfach_mit_Rollschubführung': 'optional', 'Schubfacheinteilung_im_Set': 'optional', 'Stellleisten_variable_Innenausstattung': True, 'Vario_Support': 'optional', 'Tauwassergefäß_manuelle_Entleerung': 'optional'}, 'Sonstiges': {}}\n"
     ]
    },
    {
     "name": "stderr",
     "output_type": "stream",
     "text": [
      "  8%|▊         | 12/151 [03:38<36:22, 15.70s/it]"
     ]
    },
    {
     "name": "stdout",
     "output_type": "stream",
     "text": [
      "{'summary': 'Der Liebherr HMTvh 1501 Perfection ist ein Medikamentenkühlschrank, der speziell für Apotheken, Arztpraxen und Labore entwickelt wurde. Mit einem Bruttovolumen von 134 Litern und einem Nettovolumen von 102 Litern bietet er ausreichend Platz für die sichere Lagerung temperaturempfindlicher Medikamente. Der Kühlschrank verfügt über eine dynamische Umluftkühlung, die eine konstante Innentemperatur von +5°C mit minimalen Schwankungen von ±2°C gewährleistet. Der HMTvh 1501 erfüllt die Anforderungen der DIN 13277 und ist mit einem integrierten Datenlogger ausgestattet, der Temperaturverläufe, Alarmhistorien und Serviceinformationen über einen Zeitraum von bis zu fünf Jahren aufzeichnet. Die Daten können über die USB-Schnittstelle exportiert werden. Zudem verfügt das Gerät über eine integrierte WiFi/LAN-Schnittstelle für die Vernetzung mit externen Systemen wie dem Liebherr SmartMonitoring. Weitere Sicherheitsmerkmale umfassen das +2°C SafetyDevice, ein elektronisches Türschloss mit PIN-Code oder Fernbedienung und einen antimikrobiellen Griff. Mit einem jährlichen Energieverbrauch von nur 111 kWh und einer robusten Bauweise ist der HMTvh 1501 Perfection energieeffizient und auf eine lange Nutzungsdauer von bis zu 15 Jahren ausgelegt.', 'category': 'Medikamentenkühlschrank', 'manufacturer': 'Liebherr', 'title': 'HMTvh 1501 Perfection'}\n",
      "['Der Liebherr HMTvh 1501 Perfection ist ein Medikamentenkühlschrank für Apotheken, Arztpraxen und Labore. Er bietet ein Bruttovolumen von 134 Litern und ein Nettovolumen von 102 Litern. Ein integriertes Ordnungssystem in Form von Schubladen sorgt für eine übersichtliche Lagerung.', 'Durch dynamische Umluftkühlung hält der Kühlschrank eine konstante Innentemperatur von +5\\u202f°C mit minimalen Schwankungen von ±2\\u202f°C. Dies gewährleistet die sichere Lagerung temperaturempfindlicher Medikamente.', 'Der HMTvh 1501 erfüllt die Anforderungen der DIN 13277 und ist mit einem integrierten Datenlogger ausgestattet, der Temperaturverläufe, Alarmhistorien und Serviceinformationen über bis zu fünf Jahre aufzeichnet. Die Daten können über eine USB-Schnittstelle exportiert werden. Eine integrierte WiFi/LAN-Schnittstelle ermöglicht die Vernetzung mit externen Systemen wie dem Liebherr SmartMonitoring, das die Lagertemperatur überwacht und bei Abweichungen alarmiert.', 'Zu den Sicherheitsmerkmalen gehören das +2\\u202f°C SafetyDevice, das bei einer Temperatureinstellung von +5\\u202f°C oder wärmer die Temperatur stabilisiert und einen Alarm auslöst, sobald sie unter +2\\u202f°C fällt, um ein Einfrieren der Medikamente zu verhindern. Ein elektronisches Türschloss mit PIN-Code oder Fernbedienung sorgt für kontrollierten Zugriff, während der antimikrobielle Griff gemäß ISO 22196:2011 bis zu 99,99\\u202f% der Bakterien reduziert und so höchste Hygiene gewährleistet.', 'Mit einem jährlichen Energieverbrauch von 111\\u202fkWh ist der HMTvh 1501 Perfection energieeffizient und auf eine lange Nutzungsdauer von bis zu 15 Jahren ausgelegt. Die intuitive Touch-&-Swipe-Bedienung über das farbige Display erleichtert die Handhabung im Alltag.']\n",
      "{'Abmessungen-cm': {'nutzbare_Breite_Ablageflächen': 39, 'nutzbare_Tiefe_Ablageflächen': 37}, 'Gewicht-kg': {'netto': 37, 'brutto': 40, 'Maximale_Gesamtbeladung': 75}, 'Volumen-l': {}, 'Temperatur-celsius': {'Einstellung_min': 5, 'Einstellung_max': 5, 'Gradient': 3.7, 'max_Fluktuation': 3.4}, 'Energie': {}, 'Spannung-volt': {'Spannung': 220, 'Frequenz': 50}, 'Frequenz-hz': {}, 'Geräusch-db': {'Emission': 44}, 'Innenausstattung': {'Belastbarkeit_Ablagefläche': 25, 'Material_Innenbehälter': 'Kunststoff weiß', 'Innenbeleuchtung': 'LED-Lichtsäule links'}, 'Ausstattung': {'Abtauung_automatisch': True, 'DIN_13277_konform': True, 'Türaufalarm': 'akustisch+optisch', 'Datenlogger': True, 'Schnittstelle': 'WLAN/LAN', 'Steuerung': '2,4\"-Farbdisplay, Touch & Swipe', 'Vernetzungslösung': 'integriert, entnehmbar', 'Schloss': 'elektronisch, mit Fernbedienung', 'Potentialfreier_Kontakt': True}, 'Sonstiges': {'EAN-Nr.': '9005382274378', 'Fühlerdurchführung': '1 x Ø 12 mm', 'Gehäusematerial/Farbe': 'Stahl / weiß', 'Griff': 'Antimikrobieller Griff mit Öffnungsmechanik', 'Kühlsystem': 'dynamisch', 'Netzausfallalarm': 'unmittelbar bei Netzunterbrechung für mind. 12 h', 'Türanschlag': 'rechts wechselbar', 'Türmaterial / Farbe': 'Stahl / weiß'}}\n"
     ]
    },
    {
     "name": "stderr",
     "output_type": "stream",
     "text": [
      "  9%|▊         | 13/151 [03:51<34:31, 15.01s/it]"
     ]
    },
    {
     "name": "stdout",
     "output_type": "stream",
     "text": [
      "{'summary': 'Der Kirsch BL-176 PRO-ACTIVE ist ein Blutkonservenkühlschrank mit einem Nutzvolumen von 170 Litern. Der Kühlschrank verfügt über zwei Schubfächer aus Aluminium, die auf Rollschubführungen mit Arretierung für ca. 50 Blutbeutel ausgelegt sind. Er bietet eine präzise Temperatursteuerung bei +4°C und ist mit einer Umluftkühlung ausgestattet, die das physikalisch bedingte Temperaturgefälle minimiert. Zu den Sicherheitsfeatures gehören eine Warnfunktion mit akustischem und optischem Warnsignal, ein Schlüsselschalter und ein Minimum/Maximum-Temperaturspeicher. Der Kühlschrank ist mit einer RS 485 Schnittstelle für die PC-gestützte Temperaturdokumentation ausgestattet und verfügt über eine automatische Tauwasserverdunstung. Die Tür ist abschließbar und selbstschließend, was zusätzliche Sicherheit bietet. Mit einem Energieverbrauch von 1,4 kWh in 24 Stunden ist der Kirsch BL-176 PRO-ACTIVE ein effizientes und sicheres Gerät für die Lagerung von Blutkonserven.', 'category': 'Blutkühlschrank', 'manufacturer': 'Kirsch', 'title': 'BL-176 PRO-ACTIVE'}\n",
      "['Der Kühlschrank bietet mit 170 Litern Kühlinhalt ausreichend Platz für die Lagerung von Blutkonserven. Die zwei Schubfächer aus Aluminium auf Rollschubführung mit Arretierung bieten Stauraum für ca. 50 Blutbeutel und ermöglichen einen einfachen Zugang zu den gelagerten Produkten.', 'Zur Sicherheit und Überwachung ist der Kühlschrank mit einer Warnfunktion ausgestattet, die sowohl akustische als auch optische Warnsignale abgibt – auch bei Stromausfall. Zudem verfügt er über einen Gefrierschutz und einen Minimum/Maximum-Temperaturspeicher, um die Temperaturbedingungen zu überwachen und zu dokumentieren.', 'Die Temperatursteuerung ist elektronisch und manipulationsgeschützt, mit einer Folientastatur und digitaler Anzeige. Die Umluftkühlung mit Axialgebläse reduziert das physikalisch bedingte Temperaturgefälle auf ein Minimum, während die Tauwasserverdunstung automatisch erfolgt. Die Tür ist abschließbar und selbstschließend, mit einem leicht austauschbaren Kunststoff-Magnetdichtungsrahmen.', 'Der Kühlschrank ist als Standgerät konzipiert und verbraucht 1,4 kWh in 24 Stunden. Die Außenmaße betragen 70x77x122 cm (BxTxH) und die Innenmaße 55x52x60 cm (BxTxH). Zusätzlich verfügt er über eine RS 485 Schnittstelle zur Anbindung an eine PC-gestützte Temperaturdokumentation und einen potentialfreien Kontakt zur Alarmerweiterung.']\n",
      "{'Abmessungen-cm': {'Außenmaße_Breite': 70, 'Außenmaße_Tiefe': 77, 'Außenmaße_Höhe': 122, 'Innenmaße_Breite': 55, 'Innenmaße_Tiefe': 52, 'Innenmaße_Höhe': 60}, 'Gewicht-kg': {'netto': 77, 'brutto': 83}, 'Volumen-l': {'Kühlinhalt': 170}, 'Temperatur-celsius': {'Einstellung_min': 4, 'Einstellung_max': 4, 'Umgebungstemperatur_min': 10, 'Umgebungstemperatur_max': 38, 'Abweichung': 0.3}, 'Energie': {'Leistungsaufnahme-watt': 120, 'Wärmeabgabe-watt': 186, 'Normalverbrauch-kwh_24h': 1.22}, 'Spannung-volt': {'Spannung': 220, 'Spannung_max': 240}, 'Frequenz-hz': {'Frequenz': 50}, 'Geräusch-db': {'Emission': 38.6}, 'Innenausstattung': {'Anzahl_Schubfächer': 2, 'Belastbarkeit_Ablagefläche-kg': 50, 'Material_Schubfächer': 'Aluminium'}, 'Ausstattung': {'Abtauung_automatisch': True, 'Umluftkühlung': True, 'Kältemaschine_60hz': 'optional', 'Kältemaschinen-Ventilator': 'optional', 'Alarmierung': True, 'PC-KIT-NET': 'optional', 'Dekorrahmen': 'optional', 'LED-Lichtleiste': 'optional', 'Türkoppelungs-Beschlag': 'optional', 'Fahrbare Ausführung': 'optional', 'Schubfacheinteilung': 'optional', 'Tauwassergefäß': 'optional'}, 'Sonstiges': {}}\n"
     ]
    },
    {
     "name": "stderr",
     "output_type": "stream",
     "text": [
      "  9%|▉         | 14/151 [04:05<33:26, 14.64s/it]"
     ]
    },
    {
     "name": "stdout",
     "output_type": "stream",
     "text": [
      "{'summary': 'Der Liebherr SFTfg 1501 Performance ist ein Laborgefriergerät mit 73 Litern Nutzvolumen und einem Temperaturbereich von -9°C bis -30°C. Das Gerät ist speziell für die sichere Lagerung temperaturempfindlicher und potenziell brennbarer Substanzen konzipiert und erfüllt höchste Sicherheitsstandards gemäß der ATEX-Richtlinie 2014/34/EU mit einem zündquellenfreien Innenraum. Mit der SmartFrost-Technologie wird die Eisbildung reduziert, was zu selteneren Abtauvorgängen führt. Das Gerät kann mit einer nachrüstbaren WiFi-/LAN-Schnittstelle ausgestattet werden, um eine Integration in das Liebherr SmartMonitoring-System zu ermöglichen. Mit einem jährlichen Energieverbrauch von 180 kWh und einer Nutzungsdauer von bis zu 15 Jahren bietet der SFTfg 1501 eine nachhaltige und zuverlässige Lösung für Labor, Apotheken und medizinische Einrichtungen.', 'category': 'Labortiefkühlschrank', 'manufacturer': 'Liebherr', 'title': 'SFTfg 1501 Performance'}\n",
      "['Der Liebherr SFTfg 1501 Performance ist ein kompaktes Laborgefriergerät mit einem Nettovolumen von 73 Litern und einem einstellbaren Temperaturbereich von -9 °C bis -30 °C. Es eignet sich ideal für die sichere Lagerung temperaturempfindlicher und potenziell brennbarer Substanzen in geschlossenen Behältnissen.', 'Ein herausragendes Merkmal ist der zündquellenfreie Innenraum, der gemäß der ATEX-Richtlinie 2014/34/EU zertifiziert ist. Mit der Klassifizierung II 3 G Ex ec IIC T6 (Zone 22) erfüllt das Gerät höchste Sicherheitsstandards für den Umgang mit explosiven Atmosphären.', 'Die integrierte SmartFrost-Technologie reduziert die Eisbildung im Innenraum erheblich, wodurch Abtauvorgänge seltener erforderlich sind. Die glatten, reinigungsfreundlichen Innenwände erleichtern das Abtauen, und ein eingeschäumter, umwickelter Verdampfer sorgt für eine hohe Energieeffizienz und gleichmäßige Kühlung.', 'Für zusätzliche Sicherheit und Komfort kann das Gerät mit einer nachrüstbaren WiFi-/LAN-Schnittstelle ausgestattet werden, die die Integration in das Liebherr SmartMonitoring-System ermöglicht. Diese digitale Lösung überwacht und dokumentiert die Lagertemperatur kontinuierlich und alarmiert bei Abweichungen.', 'Mit einem jährlichen Energieverbrauch von nur 180 kWh und einer Nutzungsdauer von bis zu 15 Jahren bietet der SFTfg 1501 Performance eine nachhaltige und zuverlässige Lösung für anspruchsvolle Anwendungen. Hochwertige Materialien und eine solide Verarbeitung garantieren Langlebigkeit, während Liebherr eine Ersatzteilverfügbarkeit von mindestens zehn Jahren sicherstellt.', 'Die kompakten Außenmaße von 81,9 cm (Höhe) x 59,7 cm (Breite) x 60,5 cm (Tiefe) ermöglichen eine flexible Platzierung, sei es als Unterbaugerät oder freistehend. Der antimikrobielle Griff mit Öffnungsmechanik und die selbstschließende Tür tragen zusätzlich zur Benutzerfreundlichkeit und Hygiene bei.']\n",
      "{'Abmessungen-cm': {'Außenmaße_Breite': 59.7, 'Außenmaße_Tiefe': 60.5, 'Außenmaße_Höhe': 81.9, 'Innenmaße_Breite': 38, 'Innenmaße_Tiefe': 41, 'Innenmaße_Höhe': 61}, 'Gewicht-kg': {'netto': 36, 'brutto': 38}, 'Volumen-l': {'Kühlinhalt': 73, 'Gefrierinhalt': 101}, 'Temperatur-celsius': {'Einstellung_min': -30, 'Einstellung_max': -9, 'Umgebungstemperatur_min': 10, 'Umgebungstemperatur_max': 35, 'Abweichung': 3.3}, 'Energie': {'Normalverbrauch-kwh_24h': 0.49, 'Wärmeabgabe-watt': 60}, 'Spannung-volt': {'Spannung': 240}, 'Frequenz-hz': {'Frequenz': 50}, 'Geräusch-db': {'Emission': 40}, 'Innenausstattung': {'Anzahl_Ablageflächen': 1, 'Belastbarkeit_Ablagefläche-kg': 40, 'Material_Schubfächer': 'Glas'}, 'Ausstattung': {'Abtauung_automatisch': False, 'Türaufalarm': 'akustisch+optisch', 'Schnittstelle': 'WLAN/LAN', 'Steuerung': 'Monochrom-Display, Touch-Buttons'}, 'Sonstiges': {'Kältemittel': 'R 600a', 'Kühlsystem': 'statisch', 'Türanschlag': 'rechts wechselbar', 'Vernetzungslösung': 'Nachrüstbar', 'Potentialfreier Kontakt': True}}\n"
     ]
    },
    {
     "name": "stderr",
     "output_type": "stream",
     "text": [
      " 10%|▉         | 15/151 [04:25<37:10, 16.40s/it]"
     ]
    },
    {
     "name": "stdout",
     "output_type": "stream",
     "text": [
      "{'summary': 'Der Liebherr SUFsg 5001 H72 ist ein Ultratiefkühlschrank der MediLine-Serie, speziell für die Lagerung biologischer Produkte, Antikörper, Seren, Impfstoffe und anderer temperaturempfindlicher Substanzen entwickelt. Mit einem Nutzvolumen von 477 Litern und einem Temperaturbereich von -40°C bis -86°C bietet er präzise Temperaturregelung und maximale Temperatursicherheit. Der Ultratiefkühlschrank ist mit einer Wasserkühlung ausgestattet, was ihn ideal für den Einsatz in Reinräumen macht. Er verfügt über ein 3-stufiges Überwachungssystem, akustische und optische Alarme sowie eine SmartMonitoring-Funktion für die Fernüberwachung. Die Konstruktion umfasst vakuumisolierte Paneele und eine FCKW-freie PU-Schäumung für optimale Isolierung. Mit Edelstahl-Ablageflächen, aushängbaren Innentüren und einem schmutzresistenten Bedienfeld bietet er hohe Flexibilität und Hygiene.', 'category': 'Ultratiefkühlschrank', 'manufacturer': 'Liebherr', 'title': 'SUFsg 5001 H72'}\n",
      "['Der Ultratiefkühlschrank SUFsg 5001-70 H72 eignet sich ideal für die kryogene Lagerung von biologischen Produkten wie Antikörpern, Seren, Impfstoffen, Bakterien und Proteinen. Auch hochempfindliche Stoffe können bei Temperaturen von -40°C bis -86°C sicher gelagert werden.', 'Der Ultratiefkühlschrank ist nach der Norm EN 60068-3 geprüft und gewährleistet durch das Liebherr-Umluft-Kältesystem und eine optimale Luftführung eine konstante Innenraumtemperatur mit minimalen Schwankungen. Für den Einsatz in Reinräumen ist das Modell SUFsg 7001-70 H72 mit einer Wasserkühlung ausgestattet.', 'Die präzise Temperatursteuerung wird durch eine 1-Punkt-Kalibrierung und eine integrierte Echtzeit-Uhr ermöglicht. Die Kombination aus FCKW-freier PU-Schäumung und vakuumisolierten Paneelen sorgt für eine optimale Isolierung und verhindert schnelle Temperaturanstiege.', 'Ein 3-stufiges Überwachungssystem und die Option für SmartMonitoring ermöglichen Eingriffe in kritischen Situationen. Temperaturabweichungen, zu lange geöffnete Türen oder Netzprobleme werden akustisch und optisch signalisiert. Bei Stromausfall sorgt eine integrierte 12-Volt-Batterie für die sofortige Versorgung der Elektronik. Die Alarm-Test-Funktion ermöglicht eine Überprüfung ohne Gefährdung des Inhalts.', 'Drei flexibel positionierbare Ablageflächen aus rostfreiem Edelstahl, aushängbare Innentüren und ein schmutzresistentes Bedienfeld, das sich leicht reinigen lässt, bieten ein Höchstmaß an Flexibilität und Hygiene.', 'Der Liebherr SUFsg 5001-70 H72 MediLine verfügt über eine präzise Komfortelektronik mit 1/10°-Temperaturanzeige und einem optischen sowie akustischen Alarm bei Temperaturabweichungen, zu lange geöffneter Tür und Netzstörungen. Die funktionale verschließbare Tür ist mit einem ergonomischen und bruchsicheren Alu-Hebelgriff mit integriertem mechanischem Schloss ausgestattet.', 'Das Überwachungssystem SmartMonitoring kann zusätzlich über eine Ethernet-Schnittstelle verbunden werden. Mit einer separat erhältlichen SmartMonitoring-Lizenz können Sie die SmartMonitoring-App nutzen, um sämtliche Mess- und Betriebsdaten überall zu überprüfen.']\n",
      "{'Abmessungen-cm': {'Außenmaße_Breite': 92, 'Außenmaße_Tiefe': 108.2, 'Außenmaße_Höhe': 196.6, 'Innenmaße_Breite': 60.6, 'Innenmaße_Tiefe': 60.5, 'Innenmaße_Höhe': 130}, 'Gewicht-kg': {'netto': 254, 'brutto': 308}, 'Volumen-l': {'Kühlinhalt': 477, 'Gefrierinhalt': 491}, 'Temperatur-celsius': {'Einstellung_min': -86, 'Einstellung_max': -40, 'Umgebungstemperatur_min': 16, 'Umgebungstemperatur_max': 32}, 'Energie': {'Normalverbrauch-kwh_24h': 7.9, 'Wärmeabgabe-watt': 330}, 'Spannung-volt': {'Spannung': 230, 'Anschlusswert': 7}, 'Frequenz-hz': {}, 'Geräusch-db': {'Emission': 47}, 'Innenausstattung': {'Anzahl_Schubfächer': 4, 'Anzahl_Ablageflächen': 13, 'Belastbarkeit_Ablagefläche-kg': 50, 'Material_Schubfächer': 'Edelstahl', 'Material_Körbe': 'Edelstahl'}, 'Ausstattung': {'Abtauung_automatisch': False, 'DIN_13221_konform': False, 'DIN_58375_konform': False, 'DIN_13277_konform': False, 'ATEX_95_konform': False, 'Türaufalarm': 'optional', 'Logging': True, 'Datenlogger': True, 'Schnittstelle': 'LAN', 'Steuerung': 'LED-7-Segmentanzeige mit Tasten'}, 'Sonstiges': {'Kältemittel': 'R 290 / R 170', 'Kühlsystem': 'statisch', 'Türanschlag': 'rechts fest', 'Rollen': 'Lenkrollen mit Feststellbremse vorne, Bockrollen hinten', 'Gehäusematerial': 'Stahl', 'Farbe': 'weiß', 'Türausführung': 'Stahl', 'Fühlerdurchführung': '2 x Ø 28 mm', 'Art des Schlosses': 'mechanisch', 'Potentialfreier Kontakt': True, 'Vernetzungslösung': 'Nachrüstbar', 'Art der Vernetzbarkeit': 'SmartCoolingHub', 'Wärmeabgabesystem': 'Wasserkühlung', 'Kältetechnologie': 'Kaskadenkühlung', 'Abkühlzeit': '360 min (+22°C auf -80°C)', 'Erwärmungszeit': '230 min (-80°C auf -60°C), 2160 min (-80°C auf 0°C)', 'Maximale Anzahl Kryoboxen 50 mm': 352, 'Maximale Anzahl Kryoboxen 75 mm': 224, 'Belastbarkeit Gerät': 200}}\n"
     ]
    },
    {
     "name": "stderr",
     "output_type": "stream",
     "text": [
      " 11%|█         | 16/151 [04:33<30:56, 13.75s/it]"
     ]
    },
    {
     "name": "stdout",
     "output_type": "stream",
     "text": [
      "{'summary': 'Der Dometic HC 502 FS ist ein Medikamentenkühlschrank, der speziell für die Lagerung wärmeempfindlicher Medikamente in Krankenhäusern und Gesundheitszentren konzipiert wurde. Mit einem Nutzvolumen von 43 Litern und einer Temperaturregelung von +2°C bis +8°C bietet er zuverlässige Kühlung. Der Kühlschrank verfügt über eine integrierte Lüftung für konstante Temperaturen und ein Warnsignal, das ertönt, wenn die Tür länger als 20 Sekunden geöffnet bleibt. Zusätzlich ist er mit einem Türschloss für sichere Aufbewahrung und flexiblen Schubladen für zusätzlichen Komfort ausgestattet.', 'category': 'Medikamentenkühlschrank', 'manufacturer': 'Dometic', 'title': 'HC 502 FS'}\n",
      "['Der Dometic HC 502 FS ist ein Kompressorkühlschrank, der speziell für die Kühlung wärmeempfindlicher Medikamente in Krankenhäusern und Gesundheitszentren entwickelt wurde. Er hält eine konstante Temperatur zwischen +2 °C und +8 °C.', 'Der Kühlschrank ist mit einer integrierten Lüftung ausgestattet, die für zuverlässig konstante Temperaturen sorgt. Ein akustisches Warnsignal ertönt, wenn die Tür länger als 20 Sekunden geöffnet bleibt, um die Temperaturstabilität zu gewährleisten.', 'Für eine sichere Aufbewahrung ist der HC 502 FS mit einem Türschloss ausgestattet. Die Schubladen mit flexiblen Abteilungen bieten ein Volumen von bis zu 43 Litern und ermöglichen so eine organisierte und komfortable Lagerung der Medikamente.', 'Der Dometic HC 502 FS ist auch als DIN-konforme Ausführung (HC 502 D) erhältlich, um unterschiedliche Anforderungen und Standards zu erfüllen.']\n",
      "{'Abmessungen-cm': {}, 'Gewicht-kg': {}, 'Volumen-l': {'Kühlinhalt': 43}, 'Temperatur-celsius': {'Einstellung_min': 2, 'Einstellung_max': 8}, 'Energie': {}, 'Spannung-volt': {}, 'Frequenz-hz': {}, 'Geräusch-db': {}, 'Innenausstattung': {'Anzahl_Schubfächer': 1, 'Material_Schubfächer': 'Kunststoff'}, 'Ausstattung': {'Türaufalarm': 'akustisch', 'DIN_13221_konform': 'optional'}, 'Sonstiges': {}}\n"
     ]
    },
    {
     "name": "stderr",
     "output_type": "stream",
     "text": [
      " 11%|█▏        | 17/151 [04:43<28:07, 12.59s/it]"
     ]
    },
    {
     "name": "stdout",
     "output_type": "stream",
     "text": [
      "{'summary': 'Der Dometic DS301H ist ein kompakter Medikamentenkühlschrank mit einem Temperaturbereich von +2°C bis +8°C. Mit einem Energieverbrauch von 0,86 kWh/24h und einer fast wartungsfreien Absorptionskühltechnik ist er ideal für den Einsatz in Schwesternzimmern, Arztpraxen, Apotheken und Altersheimen. Der Kühlschrank bietet drei flexible Ablagemöglichkeiten, darunter ein Kunststoffschubfach und zwei Kunststoffkörbe. Ein digitales Thermometer mit 3,0 m Kabel zur konstanten Temperaturüberwachung ist im Lieferumfang enthalten. Zusätzlich verfügt der DS301H über ein akustisches Warnsignal bei längerer Türöffnung und eine optimierte Luftzirkulation, die manuelle Abtauung nahezu überflüssig macht.', 'category': 'Medikamentenkühlschrank', 'manufacturer': 'Dometic', 'title': 'DS301H'}\n",
      "['Der Dometic DS301H ist ein kompakter Medikamentenkühlschrank, der sich durch sein konstantes Temperaturniveau zwischen +2°C und +8°C ideal für den Einsatz in Schwesternzimmern, Arztpraxen, Apotheken und Altersheimen eignet. Mit seiner niedrigen Bauhöhe lässt er sich flexibel ein- und unterbauen.', 'Der Kühlschrank verfügt über drei flexible Ablagemöglichkeiten: ein Kunststoffschubfach mit den Innenmaßen (BxHxT) 31,5 x 8,5 x 16 cm und zwei Kunststoffkörbe mit den Maßen (BxHxT) 32,5 x 3,5 x 16 cm. Diese bieten ausreichend Platz für Medikamente, Impfstoffe und ähnliche medizinische Produkte.', 'Ein digitales Thermometer, das frei auf dem Kühlgerät oder einer Nebenarbeitsstelle platziert werden kann, misst konstant die Innentemperatur und speichert die Minimal- und Maximalwerte. Das 3 Meter lange Kabel des Thermometers ermöglicht eine flexible Positionierung.', 'Der Medikamentenkühlschrank ist mit einem akustischen Warnsignal ausgestattet, das bei einer geöffneten Tür von mehr als 20 Sekunden aktiviert wird. Dies erhöht die Sicherheit und gewährleistet eine konstante Kühltemperatur.', 'Durch den integrierten Luftfilter ist eine optimale Luftzirkulation gewährleistet, was die manuelle Abtauung nahezu überflüssig macht. Der Energieverbrauch des Kühlgeräts beträgt 0,86 kWh/24h, was es zu einem energieeffizienten Gerät macht.']\n",
      "{'Abmessungen-cm': {'Innenmaße_Breite': 31.5, 'Innenmaße_Höhe': 8.5, 'Innenmaße_Tiefe': 16}, 'Gewicht-kg': {}, 'Volumen-l': {}, 'Temperatur-celsius': {'Einstellung_min': 2, 'Einstellung_max': 8}, 'Energie': {'Normalverbrauch-kwh_24h': 0.86}, 'Spannung-volt': {}, 'Frequenz-hz': {}, 'Geräusch-db': {}, 'Innenausstattung': {'Anzahl_Schubfächer': 1, 'Anzahl_Körbe': 2, 'Material_Schubfächer': 'Kunststoff', 'Material_Körbe': 'Kunststoff'}, 'Ausstattung': {'Abtauung_automatisch': True, 'Türaufalarm': 'akustisch', 'Datenlogger': True}, 'Sonstiges': {}}\n"
     ]
    },
    {
     "name": "stderr",
     "output_type": "stream",
     "text": [
      " 12%|█▏        | 18/151 [05:02<32:13, 14.54s/it]"
     ]
    },
    {
     "name": "stdout",
     "output_type": "stream",
     "text": [
      "{'summary': 'Der SRTvg 1501 Performance ist ein kompakter Laborkühlschrank mit einem Bruttovolumen von 134 Litern und einem einstellbaren Temperaturbereich von +3°C bis +16°C. Er ist speziell für die sichere Lagerung empfindlicher Substanzen in medizinischen Einrichtungen, Forschungslaboren und Apotheken konzipiert. Das Gerät verfügt über eine dynamische Umluftkühlung, die eine gleichmäßige Temperaturverteilung im gesamten Innenraum gewährleistet, mit einer maximalen Temperaturabweichung von ±3°C. Ein +2°C Safety Device schützt die Inhalte vor dem Einfrieren, indem es die Temperatur stabilisiert und bei Abweichungen alarmiert. Der SRTvg 1501 kann mit einer nachrüstbaren WiFi-/LAN-Schnittstelle ausgestattet werden, die die Integration in das Liebherr SmartMonitoring-System ermöglicht. Mit einem jährlichen Energieverbrauch von 156 kWh und einer Nutzungsdauer von bis zu 15 Jahren bietet der SRTvg 1501 Performance eine nachhaltige und zuverlässige Lösung für anspruchsvolle Anwendungen.', 'category': 'Laborkühlschrank', 'manufacturer': 'Liebherr', 'title': 'SRTvg 1501 Performance'}\n",
      "['Der Liebherr SRTvg 1501 Performance ist ein kompakter Laborkühlschrank mit einem Bruttovolumen von 134 Litern, speziell für die sichere Lagerung empfindlicher Substanzen in medizinischen Einrichtungen, Forschungslaboren und Apotheken entwickelt. Der einstellbare Temperaturbereich von +3 °C bis +16 °C bietet optimale Bedingungen für die Lagerung temperaturempfindlicher Materialien.', 'Die dynamische Umluftkühlung gewährleistet eine gleichmäßige Temperaturverteilung im gesamten Innenraum mit einer maximalen Abweichung von ±3 °C. Dies sichert eine konstante Lagerumgebung und schützt empfindliche Proben vor Qualitätseinbußen. Für zusätzliche Sicherheit ist der Kühlschrank mit einem +2 °C Safety Device ausgestattet, das die Temperatur stabilisiert und bei einer Einstellung von +5 °C oder höher einen Alarm aktiviert, falls die Temperatur unter +2 °C fällt, um den Inhalt vor dem Einfrieren zu schützen.', 'Der Kühlschrank kann mit einer nachrüstbaren WiFi-/LAN-Schnittstelle ausgestattet werden, die die Integration in das Liebherr SmartMonitoring-System ermöglicht. Diese digitale Lösung überwacht und dokumentiert die Lagertemperatur kontinuierlich und alarmiert bei Abweichungen, um den Schutz wertvoller Inhalte zu gewährleisten.', 'Mit einem jährlichen Energieverbrauch von 156 kWh und einer Nutzungsdauer von bis zu 15 Jahren bietet der SRTvg 1501 Performance eine nachhaltige und zuverlässige Lösung für anspruchsvolle Anwendungen. Hochwertige Materialien und eine solide Verarbeitung garantieren Langlebigkeit, wobei Liebherr eine Ersatzteilverfügbarkeit von mindestens zehn Jahren sicherstellt.', 'Die Außenmaße von 81,9 cm (Höhe) x 59,7 cm (Breite) x 60,5 cm (Tiefe) ermöglichen eine flexible Platzierung. Der reinigungsfreundliche Innenraum aus fugenlosem Polystyrol erleichtert die Hygiene und ist mit verstellbaren Rosten ausgestattet, die eine individuelle Anpassung an unterschiedliche Lagerbedürfnisse ermöglichen.']\n",
      "{'Abmessungen-cm': {'Außenmaße_Breite': 59.7, 'Außenmaße_Tiefe': 60.5, 'Außenmaße_Höhe': 81.9, 'Innenmaße_Breite': 45, 'Innenmaße_Tiefe': 44, 'Innenmaße_Höhe': 62}, 'Gewicht-kg': {'netto': 37, 'brutto': 39, 'Belastbarkeit_Ablagefläche': 45, 'Maximale_Gesamtbeladung': 180}, 'Volumen-l': {'Kühlinhalt': 102, 'Gefrierinhalt': 134}, 'Temperatur-celsius': {'Einstellung_min': 3, 'Einstellung_max': 16, 'Umgebungstemperatur_min': 10, 'Umgebungstemperatur_max': 35, 'Abweichung': 4.9}, 'Energie': {'Normalverbrauch_kwh_24h': 0.427, 'Wärmeabgabe_watt': 47.22}, 'Spannung-volt': {'Spannung': 240}, 'Frequenz-hz': {'Frequenz': 50}, 'Geräusch-db': {'Emission': 47}, 'Innenausstattung': {'Anzahl_Ablageflächen': 3, 'Material_Ablageflächen': 'Kunststoff', 'Material_Innenbehälter': 'Kunststoff'}, 'Ausstattung': {'Abtauung_automatisch': True, 'Türaufalarm': 'akustisch+optisch', 'Steuerung': 'Monochrom-Display, Touch-Buttons', 'Schnittstelle': 'WLAN/LAN', 'DIN_13221_konform': True, 'DIN_58375_konform': True, 'DIN_13277_konform': True, 'ATEX_95_konform': False}, 'Sonstiges': {'Kältemittel': 'R 600a', 'Türanschlag': 'rechts wechselbar', 'Griff': 'Antimikrobieller Griff mit Öffnungsmechanic', 'Art_des_Schlosses': 'mechanisch', 'Potentialfreier_Kontakt': True, 'Vernetzungslösung': 'Nachrüstbar', 'Fühlerdurchführung': '1 x Ø 12 mm'}}\n"
     ]
    },
    {
     "name": "stderr",
     "output_type": "stream",
     "text": [
      " 13%|█▎        | 19/151 [05:24<36:37, 16.64s/it]"
     ]
    },
    {
     "name": "stdout",
     "output_type": "stream",
     "text": [
      "{'summary': 'Der Kirsch FROSTER BL-730 PRO-ACTIVE ist ein Blutplasmafroster mit einem Kühlinhalt von 700 Litern und einer Temperatursteuerung von ca. -32°C. Der Gefrierschrank ist mit einer zwangsbelüfteten Kältemaschine ausgestattet, die für höchste Temperaturkonstanz bei geringem Energieverbrauch sorgt. Die PRO-ACTIVE Steuerungselektronik ermöglicht eine proaktive Überwachung der Leistungsdaten und Alarmierung bei Abweichungen. Der Innenraum besteht aus poliertem Aluminium mit einer farblosen Schutzbeschichtung und umfasst fünf höhenverstellbare Schubfächer aus Aluminium, die auf Rollschubführungen montiert sind. Der Blutplasmafroster verfügt über eine USB-Schnittstelle zur Anbindung der PC-gestützten Temperaturdokumentation und bietet optische und akustische Alarmsignale bei abweichenden Temperaturen. Die Isolierung ist 70 mm extra stark, und das Außengehäuse besteht aus verzinktem Stahlblech mit einer kratzfesten, weißen Pulverbeschichtung.', 'category': 'Gefrierschrank', 'manufacturer': 'Kirsch', 'title': 'FROSTER BL-730 PRO-ACTIVE'}\n",
      "['Der Kirsch FROSTER BL-730 Blutplasmagefrierschrank ist mit einer geräuscharmen und servicefreundlichen Kältemaschine ausgestattet, die eine hohe Temperaturkonstanz bei geringem Energieverbrauch gewährleistet. Die Tür ist serienmäßig mit einem rechten Anschlag ausgestattet, der jedoch wechselbar ist. Zudem sind die Füße des Geräts verstellbar.', 'Der Gefrierschrank verfügt über einen automatischen Schnellabtauvorgang, der durch eine zeitlich begrenzte und thermische Umkehr des Kältemittelkreislaufs überwacht wird. Das Tauwasser wird im Kältemaschinenraum vaporisiert. Die Isolierung ist mit 70 mm besonders stark und besteht aus hochwertigen, druckgeschäumten und umweltschonenden Materialien.', 'Der Innenraum des Schrankes besteht aus poliertem Aluminium mit einer farblosen Schutzbeschichtung und Stellleisten für eine flexible Innenausstattung. Die Innenausstattung umfasst fünf höhenverstellbare Schubfächer aus Aluminium, die auf Rollschubführungen montiert sind. Jedes Schubfach bietet Platz für ca. 96 Plasmakartons der Größe 19x13x2,5 cm. Das Außengehäuse besteht aus verzinktem, rostgeschütztem Stahlblech mit einer kratzfesten, weißen Pulverbeschichtung.', 'Der Blutplasmafroster bietet eine USB-Schnittstelle zur Anbindung einer PC-gestützten Temperaturdokumentation. Bei abweichenden Temperaturen wird ein optisches und akustisches Alarmsignal ausgelöst. Die Überwachungseinheit bleibt bei Stromausfall noch weitere 72 Stunden in Betrieb. Die elektronische Temperatursteuerung ist hinter einem Schlüsselschalter vor unerwünschten Einflüssen geschützt. Die glatte Steuerungsblende aus Kunststoff ermöglicht eine hygienische Reinigung.', 'Die PRO-ACTIVE Steuerungselektronik ermöglicht eine permanente, proaktive Überwachung der Leistungsdaten und Alarmierung bei Abweichungen. Die Temperatursteuerung erfolgt dank zweier serienmäßiger PT-1000 Fühler besonders genau. Die Temperatur kann auf -32°C eingestellt werden und wird digital auf Augenhöhe angezeigt. Die Tür ist selbstschließend und besteht aus leichtem, austauschbarem Kunststoff-Magnetdichtungsrahmen.', 'Der Gefrierschrank verfügt über eine zwangsbelüftete Kältemaschine und bietet 700 Liter Kühlinhalt. Der Normalverbrauch beträgt 11,1 kWh in 24 Stunden. Der Blutplasmafroster ist mit einer Warnfunktion ausgestattet, die bei abweichenden Temperaturen ein akustisches und optisches Warnsignal auslöst. Zudem ist ein Stromausfallalarm integriert. Die elektronische Temperatursteuerung ist manipulationsgeschützt und verfügt über eine Folientastatur mit digitaler Anzeige.', 'Die Umluftkühlung mit Axialgebläse reduziert das physikalisch bedingte Temperaturgefälle auf ein Minimum. Die Tauwasserverdunstung erfolgt in einer beheizten Edelstahlschale unter dem Kühlschrankboden. Der Schnellabtauvorgang erfolgt automatisch. Eine Alarmerweiterung über potentialfreien Kontakt ist möglich, z.B. per SMS. Die Außenmaße des Geräts betragen 77x98x193-196 cm (BxTxH), die Innenmaße 62x77x140 cm (BxTxH).', 'Der Kirsch FROSTER BL-730 Blutplasmagefrierschrank eignet sich optimal für die Kühlung in Laboren, Kliniken und dem gesamten Gesundheitswesen. Durch seine robuste Bauweise, die präzise Temperatursteuerung und die umfangreiche Ausstattung ist er ein zuverlässiger Partner für die Lagerung von Blutplasma.']\n",
      "{'Abmessungen-cm': {'Außenmaße_Breite': 77, 'Außenmaße_Tiefe': 98, 'Außenmaße_Höhe': 195.5, 'Innenmaße_Breite': 62, 'Innenmaße_Tiefe': 77, 'Innenmaße_Höhe': 140}, 'Gewicht-kg': {'netto': 202, 'brutto': 237}, 'Volumen-l': {'Kühlinhalt': 700}, 'Temperatur-celsius': {'Umgebungstemperatur_min': 10, 'Umgebungstemperatur_max': 32, 'Abweichung': 1.68, 'Einstellung_min': -32}, 'Energie': {'Leistungsaufnahme-watt': 790, 'Wärmeabgabe-watt': 860, 'Normalverbrauch-kwh_24h': 11.1}, 'Spannung-volt': {'Spannung': 220, 'Spannung_max': 240}, 'Frequenz-hz': {'Frequenz': 50}, 'Geräusch-db': {'Emission': 49.7}, 'Innenausstattung': {'Anzahl_Schubfächer': 5, 'Belastbarkeit_Ablagefläche-kg': 50, 'Material_Schubfächer': 'Aluminium', 'Stellleisten': True}, 'Ausstattung': {'Abtauung_automatisch': True, 'Umluftkühlung': True, 'Türaufalarm': 'akustisch', 'Fahrbar': True}, 'Sonstiges': {'Kältemaschine_wassergekühlt': 'optional', 'Kältemaschine_60Hz': 'optional', 'Kältemaschinen-Ventilator': True, 'PC-KIT-NET': 'optional', 'Außengehäuse_Chromnickelstahl_4301': 'optional', 'Dekorrahmen': 'optional', 'LED-Lichtleiste_Seitenwand': 'optional', 'Rost_mit_Auflegern': 'optional', 'Rost_mit_Schienen': 'optional', 'Alu-Blech_mit_Schienen': 'optional', 'Drahtkorb_mit_Schienen': 'optional', 'Edelstahl-Schubfach_mit_Rollschubführung': 'optional', 'Schubfacheinteilung_im_Set': 'optional', 'Vario_Support': 'optional', 'Tauwassergefäß_zur_man._Entleerung': 'optional'}}\n"
     ]
    },
    {
     "name": "stderr",
     "output_type": "stream",
     "text": [
      " 13%|█▎        | 20/151 [06:00<49:03, 22.47s/it]"
     ]
    },
    {
     "name": "stdout",
     "output_type": "stream",
     "text": [
      "{'summary': 'Der Kirsch FROSTER BL-530 PRO-ACTIVE ist ein Blutplasmafroster mit einem Kühlinhalt von 500 Litern und einer Temperaturregelung von ca. -32°C. Der Gefrierschrank ist mit einer PRO-ACTIVE Steuerungselektronik ausgestattet, die eine permanente Überwachung der Leistungsdaten und Alarmierung bei Abweichungen ermöglicht. Die Temperatursteuerung erfolgt über zwei PT-1000 Fühler, was eine präzise Regelung gewährleistet. Der FROSTER BL-530 verfügt über eine USB-Schnittstelle zur Datenauslese für die PC-gestützte Temperaturdokumentation und bietet eine digitale Temperaturanzeige auf Augenhöhe. Der Innenraum besteht aus poliertem Aluminium mit einer farblosen Schutzbeschichtung und umfasst fünf höhenverstellbare Schubfächer aus robustem Aluminium mit Rollschubführung. Der Blutplasmafroster ist ideal für die Lagerung von Plasma-Kartons in Laboren, Kliniken und im Gesundheitswesen.', 'category': 'Gefrierschrank', 'manufacturer': 'Kirsch', 'title': 'FROSTER BL-530 PRO-ACTIVE'}\n",
      "['Der Kirsch FROSTER BL-530 Blutplasmagefrierschrank ist mit einer geräuscharmen und servicefreundlichen Kältemaschine ausgestattet, die eine hohe Temperaturkonstanz bei geringem Energieverbrauch garantiert. Die Tür ist serienmäßig mit einem rechten Anschlag ausgestattet, der jedoch wechselbar ist. Zudem sind die Füße des Geräts verstellbar.', 'Der Gefrierschrank verfügt über einen automatischen Schnellabtauvorgang, der durch eine zeitlich begrenzte und thermische Umkehr des Kältemittelkreislaufs überwacht wird. Das Tauwasser wird im Kältemaschinenraum vaporisiert. Die Isolierung des Geräts ist mit 70 mm besonders stark und besteht aus hochwertigen, druckgeschäumten und umweltschonenden Materialien.', 'Der Innenraum des Schrankes besteht aus poliertem Aluminium mit einer farblosen Schutzbeschichtung. Zur Innenausstattung gehören fünf höhenverstellbare Schubfächer aus Aluminium auf Rollschubführungen, die Platz für ca. 64 Plasma-Kartons pro Schubfach bieten. Das Außengehäuse besteht aus verzinktem, rostgeschütztem Stahlblech mit einer kratzfesten, weißen Pulverbeschichtung.', 'Der Blutplasmafroster bietet eine USB-Schnittstelle zur PC-gestützten Temperaturdokumentation. Bei Temperaturabweichungen gibt das Gerät optische und akustische Alarmsignale ab. Die Überwachungseinheit bleibt auch bei Stromausfall noch weitere 72 Stunden in Betrieb. Die elektronische Temperatursteuerung ist hinter einem Schlüsselschalter vor unerwünschten Einflüssen geschützt.', 'Der Gefrierschrank ist mit einer glatten Steuerungsblende aus Kunststoff ausgestattet, die eine hygienische Reinigung vereinfacht. Dies macht den Gefrierschrank zu einem optimalen Partner für die Kühlung in Laboren, Kliniken und im gesamten Gesundheitswesen.', 'Die PRO-ACTIVE Steuerungselektronik ermöglicht eine permanente, proaktive Überwachung der Leistungsdaten und Alarmierung bei Abweichungen. Die Temperatursteuerung erfolgt über zwei serienmäßige PT-1000 Fühler. Die Temperaturdokumentation kann über einen USB-Stick erfolgen. Die Temperatureinstellung beträgt -32°C mit digitaler Anzeige auf Augenhöhe.', 'Der Gefrierschrank verfügt über eine selbstschließende Tür aus leichtem, austauschbarem Kunststoff-Magnetdichtungsrahmen und ist abschließbar. Der Türanschlag ist wechselbar. Das Gerät hat ein Fassungsvermögen von 500 Litern und einen Normalverbrauch von 10,81 kWh in 24 Stunden. Die Kältemaschine ist zwangsbelüftet und das Gerät verfügt über ein 3 Meter langes Stecker-Kabel.', 'Die Umluftkühlung mit Axialgebläse reduziert das physikalische Temperaturgefälle auf ein Minimum. Die Tauwasserverdunstung erfolgt in einer beheizten Edelstahlschale unter dem Kühlschrankboden. Der Gefrierschrank bietet eine Warnfunktion mit akustischem und optischem Alarmsignal sowie einen Stromausfallalarm. Eine Alarmerweiterung über potentialfreien Kontakt ist möglich.', 'Die Außenmaße des Geräts betragen 77x76x193-196 cm (BxTxH) und die Innenmaße 62x56x140 cm (BxTxH). Der Gefrierschrank verfügt über fünf höhenverstellbare Schubfächer aus robustem Aluminium mit Rollschubführung zur übersichtlichen Lagerung von ca. 320 Plasmakartons. Verstellbare Füße ermöglichen den Ausgleich von Bodenunebenheiten. Zudem bietet das Gerät einen Komfortzugang, einen Minimum/Maximum-Temperaturspeicher und einen Schlüsselschalter.']\n",
      "{'Abmessungen-cm': {'Außenmaße_Breite': 77, 'Außenmaße_Tiefe': 76, 'Außenmaße_Höhe': 195.5, 'Innenmaße_Breite': 62, 'Innenmaße_Tiefe': 56, 'Innenmaße_Höhe': 140}, 'Gewicht-kg': {'netto': 161, 'brutto': 183}, 'Volumen-l': {'Kühlinhalt': 500}, 'Temperatur-celsius': {'Einstellung_min': -32, 'Umgebungstemperatur_min': 10, 'Umgebungstemperatur_max': 32, 'Abweichung': 1.68}, 'Energie': {'Leistungsaufnahme-watt': 740, 'Wärmeabgabe-watt': 827, 'Normalverbrauch-kwh_24h': 10.81}, 'Spannung-volt': {'Spannung': 220, 'Spannung_max': 240}, 'Frequenz-hz': {'Frequenz': 50}, 'Geräusch-db': {'Emission': 51.5}, 'Innenausstattung': {'Anzahl_Schubfächer': 5, 'Belastbarkeit_Ablagefläche-kg': 50, 'Material_Schubfächer': 'Aluminium'}, 'Ausstattung': {'Abtauung_automatisch': True, 'Umluftkühlung': True, 'DIN_58375_konform': True}, 'Sonstiges': {'Kältemaschine_wassergekühlt': 'optional', 'Kältemaschine_60Hz': 'optional', 'Kältemaschinen-Ventilator': True, 'Alarmierung_Stromausfall': True, 'PC-KIT-NET': 'optional', 'Außengehäuse_Chromnickelstahl_4301': 'optional', 'Dekorrahmen': 'optional', 'LED-Lichtleiste_Seitenwand': 'optional', 'Fahrbare_Ausführung': 'optional', 'Rost_mit_Auflegern': 'optional', 'Rost_mit_Schienen': 'optional', 'Alu-Blech_mit_Schienen': 'optional', 'Drahtkorb_mit_Schienen': 'optional', 'Edelstahl-Schubfach_mit_Rollschubführung': 'optional', 'Schubfacheinteilung_im_Set': 'optional', 'Stellleisten_variable_Innenausstattung': True, 'Vario_Support': 'optional', 'Tauwassergefäß_manuelle_Entleerung': 'optional'}}\n"
     ]
    },
    {
     "name": "stderr",
     "output_type": "stream",
     "text": [
      " 14%|█▍        | 21/151 [06:17<45:23, 20.95s/it]"
     ]
    },
    {
     "name": "stdout",
     "output_type": "stream",
     "text": [
      "{'summary': 'Der HMTvh 1511 Perfection ist ein Medikamentenkühlgerät mit einem Bruttovolumen von 137 Litern und einem Nettovolumen von 97 Litern. Das Gerät verfügt über ein integriertes Ordnungssystem in Form von Schubladen und eine dynamische Umluftkühlung, die eine konstante Innentemperatur von +5°C mit minimalen Schwankungen gewährleistet. Der Kühlschrank ist mit einer Isolierglastür mit Kunststoffrahmen und einer LED-Lichtsäule für eine gleichmäßige Ausleuchtung des Innenraums ausgestattet. Der HMTvh 1511 erfüllt die Anforderungen der DIN 13277 und ist mit einem integrierten Datenlogger, einer WiFi/LAN-Schnittstelle und einem +2°C SafetyDevice ausgestattet, das bei einer Temperatureinstellung von +5°C oder wärmer die Temperatur stabilisiert und einen Alarm auslöst, sobald sie unter +2°C fällt. Das Gerät verfügt über ein elektronisches Türschloss mit PIN-Code oder Fernbedienung und einen antimikrobiellen Griff, der bis zu 99,99% der Bakterien reduziert. Mit einem jährlichen Energieverbrauch von nur 187 kWh und einer robusten Bauweise ist der HMTvh 1511 Perfection energieeffizient und auf eine lange Nutzungsdauer von bis zu 15 Jahren ausgelegt.', 'category': 'Medikamentenkühlschrank', 'manufacturer': 'Liebherr', 'title': 'HMTvh 1511 Perfection'}\n",
      "['Der HMTvh 1501 Perfection ist ein Medikamentenkühlschrank für Apotheken, Arztpraxen und Labore. Er bietet ein Bruttovolumen von 137 Litern und ein Nettovolumen von 97 Litern, was ausreichend Platz für die Lagerung temperaturempfindlicher Medikamente bietet.', 'Durch die dynamische Umluftkühlung gewährleistet der Kühlschrank eine konstante Innentemperatur von +5\\u202f°C mit minimalen Schwankungen, um die Integrität der gelagerten Präparate zu sichern. Die Isolierglastür mit Kunststoffrahmen ermöglicht eine schnelle visuelle Kontrolle des Inhalts ohne Öffnen der Tür, was die Temperaturstabilität und Energieeffizienz erhöht. Eine integrierte LED-Lichtsäule sorgt für eine gleichmäßige Ausleuchtung des Innenraums.', 'Der HMTvh 1501 Perfection erfüllt die Anforderungen der DIN 13277 und ist mit einem integrierten Datenlogger ausgestattet, der Temperaturverläufe, Alarmhistorien und Serviceinformationen über bis zu fünf Jahre aufzeichnet. Die Daten können über eine USB-Schnittstelle exportiert werden. Zudem verfügt das Gerät über eine WiFi/LAN-Schnittstelle für die Vernetzung mit externen Systemen wie dem Liebherr SmartMonitoring, das die Lagertemperatur überwacht, dokumentiert und bei Abweichungen alarmiert.', 'Sicherheitsmerkmale umfassen das +2\\u202f°C SafetyDevice, das bei einer Temperatureinstellung von +5\\u202f°C oder wärmer die Temperatur stabilisiert und einen Alarm auslöst, sobald sie unter +2\\u202f°C fällt, um ein Einfrieren der Medikamente zu verhindern. Ein elektronisches Türschloss mit PIN-Code oder Fernbedienung sorgt für kontrollierten Zugriff, während der antimikrobielle Griff bis zu 99,99% der Bakterien reduziert und höchste Hygiene gewährleistet.', 'Mit einem jährlichen Energieverbrauch von 187 kWh und einer robusten Bauweise ist der HMTvh 1501 Perfection energieeffizient und auf eine lange Nutzungsdauer von bis zu 15 Jahren ausgelegt. Die intuitive Touch-&-Swipe-Bedienung über ein farbiges Display erleichtert die Handhabung im Alltag. Das Gerät verfügt über ein integriertes Ordnungssystem in Form von Schubladen.']\n",
      "{'Abmessungen-cm': {'Außenmaße_Breite': 59.7, 'Außenmaße_Tiefe': 60.5, 'Außenmaße_Höhe': 81.9, 'Innenmaße_Breite': 45, 'Innenmaße_Tiefe': 46, 'Innenmaße_Höhe': 62}, 'Gewicht-kg': {'netto': 46, 'brutto': 48}, 'Volumen-l': {'Kühlinhalt': 82, 'Gefrierinhalt': 137}, 'Temperatur-celsius': {'Einstellung_min': 5, 'Einstellung_max': 5, 'Umgebungstemperatur_min': 10, 'Umgebungstemperatur_max': 35, 'Abweichung': 3.7}, 'Energie': {'Normalverbrauch-kwh_24h': 0.512, 'Wärmeabgabe-watt': 47.22}, 'Spannung-volt': {'Spannung': 240}, 'Frequenz-hz': {'Frequenz': 50}, 'Geräusch-db': {'Emission': 44}, 'Innenausstattung': {'Belastbarkeit_Ablagefläche-kg': 25}, 'Ausstattung': {'Abtauung_automatisch': True, 'DIN_13277_konform': True, 'Türaufalarm': 'akustisch+optisch', 'Datenlogger': True, 'Schnittstelle': 'WLAN/LAN', 'Steuerung': 'Touch & Swipe'}, 'Sonstiges': {'Kältemittel': 'R 600a', 'Maximale Gesamtbeladung': 75, 'Potentialfreier Kontakt': True, 'Türanschlag': 'rechts wechselbar', 'Vernetzungslösung': 'Integriert, entnehmbar'}}\n"
     ]
    },
    {
     "name": "stderr",
     "output_type": "stream",
     "text": [
      " 15%|█▍        | 22/151 [06:34<42:36, 19.82s/it]"
     ]
    },
    {
     "name": "stdout",
     "output_type": "stream",
     "text": [
      "{'summary': 'Die FRYKA Tiefkühltruhe KBT 08-51 ist eine kompakte Mini-Tiefkühltruhe, speziell für den Einsatz im wissenschaftlichen und industriellen Labor entwickelt. Mit ihren kleinen Außenmaßen von 36x57x49 cm (BxHxT) und einem Nutzinhalt von 8 Litern ist sie ideal für die Kühlung kleiner Materialproben direkt am Arbeitsplatz. Die Truhe ist mit einem modernen, geräuscharmen und wartungsarmen Kälteaggregat ausgestattet, das eine exakte Temperaturregelung von -30°C bis -50°C mit einer Genauigkeit von +/- 1K ermöglicht. Die Temperatur wird über eine gut lesbare LED-Anzeige angezeigt. Die KBT 08-51 verfügt über einen isolierten Edelstahldeckel mit Klappscharnieren und Magnetdichtung, was sie besonders robust und leicht zu reinigen macht. Ein Rammschutzring schützt die Truhe zusätzlich. Die Mini-Tiefkühltruhe ist ideal für den Einsatz in Laboren, wo Platz und Effizienz entscheidend sind.', 'category': 'Gefrierschrank', 'manufacturer': 'FRYKA', 'title': 'KBT 08-51'}\n",
      "['Die FRYKA Mini-Tiefkühltruhe KBT 08-51 ist eine kompakte Tiefkühltruhe, die speziell für den Einsatz im wissenschaftlichen und industriellen Labor entwickelt wurde. Mit ihren kleinen Außenmaßen von 36x57x49 cm (BxHxT) ermöglicht sie die Kühlung von kleinen Materialproben direkt am Arbeitsplatz, was die Arbeitsabläufe effizienter gestaltet.', 'Die KBT 08-51 ist mit einem modernen, geräuscharmen und wartungsarmen Kälteaggregat ausgestattet, das voll hermetisch und luftgekühlt ist. Dies gewährleistet eine geringe Geräuschbelastung und ermöglicht eine konzentrierte Arbeitsweise. Das hochwertige Edelstahlgehäuse erleichtert zudem die Reinigung.', 'Für den Schutz des Anwenders ist die Mini-Tiefkühltruhe mit einem umlaufenden Rammschutzring ausgestattet. Die Temperaturregelung erfolgt elektronisch und ermöglicht eine präzise Einstellung auf bis zu +/- 1K, was im Laborbereich unverzichtbar ist. Die Temperatur wird über eine gut lesbare LED-Anzeige angezeigt.', 'Der isolierte Edelstahldeckel der KBT 08-51 ist mit Klappscharnieren und einer Magnetdichtung ausgestattet. Edelstahl ist ein bewährtes Material, das in wissenschaftlichen und industriellen Laboren sowie in der Medizintechnik weit verbreitet ist.', 'Die Mini-Tiefkühltruhe KBT 08-51 bietet einen Nutzinhalt von 8 Litern und hat abgerundete Ecken im Innenraum. Der Temperaturregler ist ausklappbar und arretierbar. Die Abmessungen des Innenraums betragen 15x20x30 cm (BxHxT).', 'Der Temperaturbereich der KBT 08-51 liegt zwischen -50°C und -30°C bei einer Regelgenauigkeit von +/- 1K. Die Umgebungstemperatur sollte zwischen +12°C und +30°C liegen. Der elektrische Anschluss erfolgt über 230V/50Hz mit einem 3 Meter langen Netzkabel. Das Gewicht der Truhe beträgt 32 kg.', 'Die FRYKA Mini-Tiefkühltruhe KBT 08-51 ist ideal für den Einsatz in Laboren, wo Platz sparend und effizient gearbeitet werden muss. Durch ihre kompakte Bauweise und ihre präzise Temperaturregelung eignet sie sich besonders für die Kühlung von kleinen Materialproben direkt am Arbeitsplatz.']\n",
      "{'Abmessungen-cm': {'Außenmaße_Breite': 36, 'Außenmaße_Tiefe': 49, 'Außenmaße_Höhe': 57, 'Innenmaße_Breite': 15, 'Innenmaße_Tiefe': 30, 'Innenmaße_Höhe': 20}, 'Gewicht-kg': {'netto': 32}, 'Volumen-l': {'Gefrierinhalt': 8}, 'Temperatur-celsius': {'Einstellung_min': -50, 'Einstellung_max': -30, 'Abweichung': 1, 'Umgebungstemperatur_min': 12, 'Umgebungstemperatur_max': 30}, 'Energie': {}, 'Spannung-volt': {'Anschluss': 230}, 'Frequenz-hz': {'Anschluss': 50}, 'Geräusch-db': {}, 'Innenausstattung': {'Material_Schubfächer': 'Edelstahl'}, 'Ausstattung': {'Abtauung_automatisch': False, 'Steuerung': 'elektronisch'}, 'Sonstiges': {'Netzkabel': 3}}\n"
     ]
    },
    {
     "name": "stderr",
     "output_type": "stream",
     "text": [
      " 15%|█▌        | 23/151 [06:56<43:49, 20.54s/it]"
     ]
    },
    {
     "name": "stdout",
     "output_type": "stream",
     "text": [
      "{'summary': 'Der FRYKA Tiefkühlunterbauschrank TUS 50-100 logg ist ein kompakter Labortiefkühlschrank mit einem Nutzinhalt von 100 Litern und einem Temperaturbereich von -10°C bis -50°C. Dieses Gerät ist speziell für den Einsatz in wissenschaftlichen und industriellen Laboren konzipiert und bietet eine präzise Temperaturregelung mit einer Genauigkeit von +/- 1K. Der Tiefkühlschrank ist mit einem geräuscharmen, voll hermetischen und luftgekühlten Kälteaggregat ausgestattet, das wartungsarm und energieeffizient arbeitet. Mit einer abschließbaren Tür und doppelten Dichtungen bietet er hohe Sicherheit für die gelagerten Proben. Der TUS 50-100 logg verfügt über eine Ethernet-Schnittstelle für die Fernwartung und einen integrierten Datenlogger, der Temperaturverläufe und Alarmereignisse aufzeichnet. Die Steuerung erfolgt über ein benutzerfreundliches Farb-Touchscreen-Display. Zusätzlich bietet das Gerät einen netzunabhängigen Alarm, der optisch und akustisch über mindestens 72 Stunden aktiv bleibt. Die umfangreiche Überwachung der Kältemaschine inklusive Fehleranalyse und die Möglichkeit der Fernwartung machen diesen Tiefkühlschrank zu einem zuverlässigen Gerät für anspruchsvolle Laboranwendungen.', 'category': 'Labortiefkühlschrank', 'manufacturer': 'FRYKA', 'title': 'TUS 50-100 logg'}\n",
      "['Der FRYKA Unterbautiefkühlschrank TUS 50-100//logg ist ein kompakter und leistungsstarker Tiefkühlschrank, der speziell für den Einsatz in wissenschaftlichen und industriellen Laboren entwickelt wurde. Mit seinen praktischen Außenmaßen von 95x75x73 cm (BxHxT) ermöglicht er die Kühlung und Gefrierung von Materialproben direkt am Arbeitsplatz.', 'Dank der vorne und rechts verbauten Lüftungsgitter kann der Tiefkühlschrank platzsparend unter einem Tisch aufgestellt werden. Dies ermöglicht effizientes Arbeiten, da die Proben schnell zugänglich sind. Das moderne Kälteaggregat ist geräuscharm, voll hermetisch und luftgekühlt, was eine geringe Geräuschbelastung und einfache Wartung gewährleistet.', 'Sicherheitsmerkmale des TUS 50-100//logg umfassen eine abschließbare Tür und doppelte Dichtungen. Zudem verfügt das Gerät über einen 100mV/K Ausgang für den Anschluss an ein Temperaturaufzeichnungssystem und einen potentialfreien Alarmkontakt für die Integration in externe Alarmsysteme.', 'Der Tiefkühlschrank bietet eine umfangreiche Überwachung der Kältemaschine mit Fehleranalyse und eine Ethernet-Schnittstelle für die Netzwerkanbindung. Im Alarmfall benachrichtigt das Gerät per E-Mail und verfügt über einen netzunabhängigen Alarm (optisch und akustisch) für mindestens 72 Stunden, der die maximal erreichten Temperaturen im Innenraum anzeigt.', 'Die Bedienung des TUS 50-100//logg erfolgt über eine benutzerfreundliche Farb-Touchscreen-Steuerung. Ein integrierter Datenlogger ermöglicht das Auslesen des Temperaturverlaufs und von Alarmereignissen über einen USB-Stick. Die mitgelieferte FRYKA-Software \"ST-Studio\" stellt sicher, dass die gespeicherten Daten manipulationssicher sind.', 'Der Tiefkühlschrank hat ein Fassungsvermögen von 100 Litern und einen Temperaturbereich von -50°C bis -10°C mit einer Regelgenauigkeit von +/- 1 K. Das Gerät ist aus hochwertigem, rostfreiem Edelstahl gefertigt und verfügt über eine Vakuum-Isolierung sowie ein leicht zu reinigendes Gehäuse.', 'Der Lieferumfang des TUS 50-100//logg umfasst das Gerät selbst, ein 3 Meter langes Netzkabel, ein Einlegegitter, vier Regalschienen und die FRYKA-Software. Optional erhältlich sind ein Edelstahlregal, ein zusätzliches Einlegegitter, eine WiFi-Bridge für die drahtlose Netzwerkanbindung sowie verschiedene Zusatzoptionen wie Rollen, ein Umluftventilator und ein elektrisches Türschloss mit Zugriffskontrolle.']\n",
      "{'Abmessungen-cm': {'Außenmaße_Breite': 95, 'Außenmaße_Tiefe': 73, 'Außenmaße_Höhe': 75, 'Innenmaße_Breite': 45, 'Innenmaße_Tiefe': 45, 'Innenmaße_Höhe': 50}, 'Gewicht-kg': {'netto': 120}, 'Volumen-l': {'Gefrierinhalt': 100}, 'Temperatur-celsius': {'Einstellung_min': -50, 'Einstellung_max': -10, 'Umgebungstemperatur_min': 12, 'Umgebungstemperatur_max': 30, 'Abweichung': 1}, 'Energie': {}, 'Spannung-volt': {'Anschluss': 230}, 'Frequenz-hz': {'Anschluss': 50}, 'Geräusch-db': {}, 'Innenausstattung': {'Anzahl_Schubfächer': 4, 'Material_Schubfächer': 'Edelstahl'}, 'Ausstattung': {'Abtauung_automatisch': True, 'Türaufalarm': 'akustisch+optisch', 'Logging': True, 'Datenlogger': True, 'Schnittstelle': 'Ethernet', 'Steuerung': 'Farb-Touchscreen'}, 'Sonstiges': {'Regelgenauigkeit': '1 K', 'Netzkabel': '3m Länge', 'Zubehör': ['Edelstahlregal TS100-RS', 'zusätzliches Einlegegitter inkl. Befestigung', 'WiFi-Bridge'], 'Optionen': ['vier Rollen fest montiert, zwei davon mit Feststellbremse', 'Umluftventilator im Innenraum zur besseren Temperaturverteilung', 'Durchführung 19mm', 'elektrisches Türschloss mit Zugriffskontrolle und Passwort']}}\n"
     ]
    },
    {
     "name": "stderr",
     "output_type": "stream",
     "text": [
      " 16%|█▌        | 24/151 [07:13<41:12, 19.47s/it]"
     ]
    },
    {
     "name": "stdout",
     "output_type": "stream",
     "text": [
      "{'summary': 'Der Kirsch LABEX-340 ULTIMATE ist ein explosionsgeschützter Laborkühlschrank mit 330 Litern Nutzvolumen, speziell für die Lagerung von entzündlichen und explosiven Stoffen konzipiert. Der Schrank erfüllt die Sicherheitsanforderungen der Zone 2 und ist mit einem TÜV-Zertifikat für Zündquellfreiheit ausgestattet. Mit einer Temperaturregelung von 0 bis +15°C, automatischer Abtauung und einer 55 mm starken Isolierung bietet er höchste Sicherheit und Temperaturkonstanz. Der Innenraum besteht aus poliertem Aluminium mit Schutzbeschichtung und ist mit sechs kunststoffbeschichteten Rosten ausgestattet. Das Außengehäuse ist aus verzinktem Stahlblech mit kratzfester Pulverbeschichtung. Der Kühlschrank verfügt über ein Touch-Display, Zugangskontrolle mit Protokoll, grafische Temperaturverlaufsanzeige und digitale Datendokumentation über USB-Schnittstelle. Mit einem Gewicht von 95 kg und den Außenmaßen 67 x 66 x 189 cm ist er ideal für den Einsatz in Laboren, Kliniken und im Gesundheitswesen.', 'category': 'Laborkühlschrank', 'manufacturer': 'Kirsch', 'title': 'LABEX-340 ULTIMATE'}\n",
      "['Der Kirsch LABEX-468 Laborkühlschrank ist speziell für die sichere Lagerung von leicht entzündlichen und explosiven Stoffen konzipiert. Mit einem explosionsgeschützten Innenraum, der die Sicherheitsanforderungen der Zone 2 erfüllt, bietet er durch ein TÜV-Zertifikat bestätigte Zündquellfreiheit. Ideal für Chemikalien, giftige Materialien und andere entflammbare Stoffe.', 'Der Laborkühlschrank ist mit einer geräuscharmen, energiesparenden und hermetisch gekapselten Kältemaschine für 220-240 V Wechselstrom ausgestattet. Der Türanschlag ist serienmäßig rechts, aber wechselbar, und verstellbare Füße im Frontbereich gleichen Bodenunebenheiten aus. Der Abtauvorgang erfolgt automatisch durch zeitlich begrenzte und thermische Umkehr des Kältemittelkreislaufs, wobei das Tauwasser in einem Gefäß gesammelt und manuell entleert wird. Die 55 mm starke Isolierung aus hochwertigen, druckgeschäumten und umweltschonenden Materialien garantiert höchste Temperaturkonstanz bei geringem Energieverbrauch.', 'Der Innenraum besteht aus poliertem Aluminium mit einer farblosen Schutzbeschichtung und Stellleisten. Zur Innenausstattung gehören sechs kunststoffbeschichtete Roste. Das Außengehäuse besteht aus verzinktem, rostgeschütztem Stahlblech mit einer kratzfesten, weißen Pulverbeschichtung.', 'Die elektronische Temperatursteuerung reguliert die Temperatur unabhängig von wechselnden Außentemperaturen, vorausgesetzt die Umgebungstemperatur liegt mindestens 3°C über der gespeicherten Innentemperatur. Serienmäßig ausgestattet ist der Kühlschrank mit einem umluftgekühlten System mit Querstromgebläse, das beim Öffnen der Tür automatisch abschaltet, einem Schaltzentrum mit Schlüsselschalter und Folientastatur, einer digitalen Temperaturanzeige sowie akustischen und optischen Alarmsignalen. Ein potentialfreier Kontakt ermöglicht den Anschluss an die zentrale Leittechnik und eine USB-Schnittstelle. Eine Sicherheitseinrichtung gegen Minustemperaturen ist ebenfalls standardmäßig integriert.', 'Der Kirsch LABEX-468 Laborkühlschrank ist mit zahlreichen Innovationen ausgestattet, darunter ein Touch-Display mit edlem Glasdesign, Zugangskontrolle mit Protokoll, grafische Anzeige des Temperaturverlaufs und Min/Max Temperatur sowie digitale Datendokumentation über PC-KIT-NET oder USB-Schnittstelle und die Software KIRSCH Datanet. Diese Funktionen machen ihn zum optimalen Partner für Kühlung in Labor, Klinik und im gesamten Gesundheitswesen.']\n",
      "{'Abmessungen-cm': {'Außenmaße_Breite': 67, 'Außenmaße_Tiefe': 66, 'Außenmaße_Höhe': 189, 'Innenmaße_Breite': 53, 'Innenmaße_Tiefe': 45, 'Innenmaße_Höhe': 128}, 'Gewicht-kg': {'netto': 95, 'brutto': 109}, 'Volumen-l': {'Kühlinhalt': 330}, 'Temperatur-celsius': {'Einstellung_min': 0, 'Einstellung_max': 15, 'Umgebungstemperatur_min': 10, 'Umgebungstemperatur_max': 38, 'Abweichung': 2.6}, 'Energie': {'Leistungsaufnahme-watt': 128, 'Wärmeabgabe-watt': 178, 'Normalverbrauch-kwh_24h': 1.14}, 'Spannung-volt': {'Spannung': 220, 'Spannung_max': 240}, 'Frequenz-hz': {'Frequenz': 50}, 'Geräusch-db': {'Emission': 40}, 'Innenausstattung': {'Anzahl_Schubfächer': 2, 'Anzahl_Körbe': 4, 'Belastbarkeit_Ablagefläche-kg': 40, 'Belastbarkeit_Schubfach-kg': 16, 'Material_Schubfächer': 'Kunststoff', 'Material_Körbe': 'Rost'}, 'Ausstattung': {'Abtauung_automatisch': True, 'Umluftkühlung': True, 'DIN_58375_konform': True, 'DIN_13221_konform': True, 'ATEX_95_konform': True, 'Türaufalarm': 'akustisch', 'Schnittstelle': 'LAN', 'Kältemaschine_60Hz': 'optional', 'Kältemaschine_Ventilator': 'optional', 'Dekorrahmen': 'optional', 'Glastür_mit_Schloss': 'optional', 'Türkoppelungs-Beschlag': 'optional', 'Fahrbare_Ausführung': 'optional', 'Rost_mit_Schienen': 'optional'}, 'Sonstiges': {'flexible_Ausstattung': True, 'Tauwassergefäß': True}}\n"
     ]
    },
    {
     "name": "stderr",
     "output_type": "stream",
     "text": [
      " 17%|█▋        | 25/151 [07:33<40:55, 19.49s/it]"
     ]
    },
    {
     "name": "stdout",
     "output_type": "stream",
     "text": [
      "{'summary': 'Der Liebherr SRPvg 8401 Performance ist ein hochmodernes Laborkühlgerät mit dynamischer Umluftkühlung und einem Bruttovolumen von 871 Litern. Der einstellbare Temperaturbereich von -2°C bis +16°C und die gleichmäßige Temperaturverteilung mit maximal ±3°C Abweichung machen ihn ideal für die Lagerung temperaturempfindlicher Substanzen in medizinischen Einrichtungen und Laboren. Das Gerät verfügt über ein Alarm-Relais und ist mit einer nachrüstbaren WiFi-/LAN-Schnittstelle für das Liebherr SmartMonitoring-System ausgestattet, das die Lagertemperatur kontinuierlich überwacht und bei Abweichungen alarmiert. Mit einem jährlichen Energieverbrauch von 195 kWh und einer Nutzungsdauer von bis zu 15 Jahren bietet der SRPvg 8401 eine nachhaltige und zuverlässige Lösung. Die Außenmaße von 213,5 cm (Höhe) x 78,7 cm (Breite) x 101,7 cm (Tiefe) und die selbstschließende Tür mit 90°-Feststellung tragen zur Benutzerfreundlichkeit bei.', 'category': 'Laborkühlschrank', 'manufacturer': 'Liebherr', 'title': 'SRPvg 8401 Performance'}\n",
      "['Der Liebherr SRPvg 8401 Performance ist ein Laborkühlschrank, der speziell für medizinische Einrichtungen, Forschungslabore und Apotheken konzipiert wurde. Mit einem Bruttovolumen von 871 Litern und einem einstellbaren Temperaturbereich von -2 °C bis +16 °C bietet er optimale Lagerbedingungen für temperaturempfindliche Substanzen.', 'Die dynamische Umluftkühlung sorgt für eine gleichmäßige Temperaturverteilung im gesamten Innenraum mit einer maximalen Abweichung von ±3 °C. Dies gewährleistet eine konstante Lagerumgebung und schützt empfindliche Proben vor Qualitätseinbußen.', 'Für zusätzliche Sicherheit ist der SRPvg 8401 mit einem Alarm-Relais ausgestattet, das bei Störungen sofort eine Benachrichtigung sendet. Optional kann das Gerät mit einer nachrüstbaren WiFi-/LAN-Schnittstelle ausgestattet werden, die die Integration in das Liebherr SmartMonitoring-System ermöglicht. Dieses System überwacht und dokumentiert die Lagertemperatur kontinuierlich und alarmiert bei Abweichungen.', 'Mit einem jährlichen Energieverbrauch von 195 kWh und einer Nutzungsdauer von bis zu 15 Jahren bietet der SRPvg 8401 eine nachhaltige und zuverlässige Lösung für anspruchsvolle Anwendungen. Hochwertige Materialien und eine solide Verarbeitung garantieren Langlebigkeit, während Liebherr eine Ersatzteilverfügbarkeit von mindestens zehn Jahren sicherstellt.', 'Die Außenmaße von 213,5 cm (Höhe) x 78,7 cm (Breite) x 101,7 cm (Tiefe) ermöglichen eine flexible Platzierung. Die selbstschließende Tür mit 90°-Feststellung und die LED-Innenbeleuchtung tragen zur Benutzerfreundlichkeit bei. Der Innenraum ist mit vier beschichteten Rosten ausgestattet, die eine individuelle Anpassung an unterschiedliche Lagerbedürfnisse ermöglichen.']\n",
      "{'Abmessungen-cm': {'Außenmaße_Breite': 78.7, 'Außenmaße_Tiefe': 101.7, 'Außenmaße_Höhe': 213.5, 'Innenmaße_Breite': 57.9, 'Innenmaße_Tiefe': 78.8, 'Innenmaße_Höhe': 149.3}, 'Gewicht-kg': {'netto': 149, 'brutto': 166, 'Maximale Gesamtbeladung': 240}, 'Volumen-l': {'Kühlinhalt': 702, 'Gefrierinhalt': 871}, 'Temperatur-celsius': {'Einstellung_min': -2, 'Einstellung_max': 16, 'Umgebungstemperatur_min': 10, 'Umgebungstemperatur_max': 35, 'Abweichung': 4.5}, 'Energie': {'Normalverbrauch-kwh_24h': 0.534, 'Wärmeabgabe-watt': 97.22}, 'Spannung-volt': {'Spannung': 220, 'Frequenz-hz': 50}, 'Geräusch-db': {'Emission': 60}, 'Innenausstattung': {'Anzahl_Ablageflächen': 4, 'Belastbarkeit_Ablagefläche-kg': 60, 'Material_Körbe': 'Kunststoff'}, 'Ausstattung': {'Abtauung_automatisch': True, 'Türaufalarm': 'akustisch+optisch', 'Schnittstelle': 'WLAN/LAN', 'Steuerung': 'Monochrom-Display, Touch-Buttons', 'DIN_13221_konform': True, 'DIN_58375_konform': True}, 'Sonstiges': {'Kältemittel': 'R 290', 'Innenbeleuchtung': 'LED-Deckenbeleuchtung', 'Türanschlag': 'rechts wechselbar', 'Rollen': 'Lenkrollen mit Feststellbremse vorne, Bockrollen hinten', 'GMP Reinraumklasse': 'GMP-Klasse B', 'Reinraumklasse nach ISO EN 14664-1': 'ISO-Klasse 6', 'EAN-Nr.': '9005382248973'}}\n"
     ]
    },
    {
     "name": "stderr",
     "output_type": "stream",
     "text": [
      " 17%|█▋        | 26/151 [07:49<38:32, 18.50s/it]"
     ]
    },
    {
     "name": "stdout",
     "output_type": "stream",
     "text": [
      "{'summary': 'Der Kirsch LABO-468 PRO-ACTIVE ist ein Laborkühlschrank mit 460 Litern Nutzvolumen und einer Temperaturregelung von ca. 0 bis +15 °C. Der Kühlschrank verfügt über eine statisch belüftete, geräuscharme und energiesparende Kältemaschine, die hermetisch gekapselt ist. Die automatische Abtauung und die 55 mm starke Isolierung sorgen für eine effiziente Kühlung. Der Innenraum besteht aus poliertem Aluminium mit einer farblosen Schutzbeschichtung und bietet vier kunststoffbeschichtete Roste zur idealen Lagernutzung. Der Laborkühlschrank ist mit einer elektronischen Temperatursteuerung ausgestattet, die unabhängig von wechselnden Außentemperaturen arbeitet. Zusätzlich verfügt er über ein akustisches und optisches Alarmsignal bei abweichenden Temperaturen sowie eine Sicherheitseinrichtung gegen Minus-Temperaturen. Der Kirsch LABO-468 PRO-ACTIVE ist ideal für den Einsatz in Laboren, Kliniken und im Gesundheitswesen.', 'category': 'Laborkühlschrank', 'manufacturer': 'Kirsch', 'title': 'LABO-468 PRO-ACTIVE'}\n",
      "['Der Kirsch LABO-468 Laborkühlschrank ist mit einer statisch belüfteten, geräuscharmen und energiesparenden Kältemaschine ausgestattet, die hermetisch gekapselt ist und für 220-240 V Wechselstrom ausgelegt ist. Die Spannung kann auf Anfrage angepasst werden. Der Kühlschrank verfügt über verstellbare Füße zum Ausgleich von Bodenunebenheiten und einen wechselbaren Türanschlag.', 'Der Abtauvorgang erfolgt automatisch durch zeitlich begrenzte und thermische Umkehr des Kältemittelkreislaufs, wobei das Tauwasser im Kältemaschinenraum vaporisiert wird. Die Isolierung ist mit 55 mm besonders stark und besteht aus hochwertigen, druckgeschäumten und umweltschonenden Materialien.', 'Der Innenraum des Laborkühlschranks besteht aus poliertem Aluminium mit einer farblosen Schutzbeschichtung und ist mit vier kunststoffbeschichteten Rosten ausgestattet, die eine ideale Lagernutzung ermöglichen. Das Außengehäuse besteht aus verzinktem, rostgeschütztem Stahlblech mit einer kratzfesten, weißen Pulverbeschichtung.', 'Die elektronische Temperatursteuerung sorgt für eine konstante Temperatur, vorausgesetzt, die Umgebungstemperatur liegt mindestens 3°C über der gespeicherten Innentemperatur. Bei abweichenden Temperaturen ertönt ein akustisches und optisches Alarmsignal. Zusätzlich verfügt der Kühlschrank über eine Sicherheitseinrichtung gegen Minustemperaturen, einen potentialfreien Kontakt zum Anschluss an die zentrale Leittechnik und eine USB-Schnittstelle.', 'Der Laborkühlschrank ist mit einem Querstromgebläse ausgestattet, das beim Öffnen der Tür automatisch abschaltet. Dies garantiert eine hohe Temperaturkonstanz bei geringem Energieverbrauch und sorgt für eine gleichmäßige Temperierung, wodurch das physikalisch bedingte Temperaturgefälle auf ein Minimum reduziert wird.', 'Der Kirsch LABO-468 Laborkühlschrank ist ideal für den Einsatz in Laboren, Kliniken und im gesamten Gesundheitswesen geeignet. Er bietet zahlreiche Innovationen wie ein Schaltzentrum mit Schlüsselschalter, Folientastatur und digitale Temperaturanzeige.']\n",
      "{'Abmessungen-cm': {'Außenmaße_Breite': 74, 'Außenmaße_Tiefe': 77.5, 'Außenmaße_Höhe': 189, 'Innenmaße_Breite': 60, 'Innenmaße_Tiefe': 57, 'Innenmaße_Höhe': 128}, 'Gewicht-kg': {'netto': 113, 'brutto': 127}, 'Volumen-l': {'Kühlinhalt': 460}, 'Temperatur-celsius': {'Einstellung_min': 0, 'Einstellung_max': 15, 'Umgebungstemperatur_min': 10, 'Umgebungstemperatur_max': 38, 'Abweichung': 1}, 'Energie': {'Leistungsaufnahme-watt': 170, 'Wärmeabgabe-watt': 280, 'Normalverbrauch-kwh_24h': 1}, 'Spannung-volt': {'Spannung': 220, 'Frequenz-hz': 50}, 'Frequenz-hz': {}, 'Geräusch-db': {'Emission': 41}, 'Innenausstattung': {'Anzahl_Ablageflächen': 4, 'Belastbarkeit_Ablagefläche-kg': 40, 'Belastbarkeit_Schubfach-kg': 24}, 'Ausstattung': {'Abtauung_automatisch': True, 'Umluftkühlung': True, 'DIN_13221_konform': True, 'DIN_58375_konform': True, 'Türaufalarm': 'akustisch', 'Kältemaschine_60hz': 'optional', 'LED-Lichtleiste': 'optional', 'Glastür_mit_Schloss': 'optional', 'Türkoppelungs-Beschlag': 'optional', 'Fahrbare_Ausführung': 'optional', 'Rost_mit_Schienen': 'optional', 'Drahtkorb_mit_Schienen': 'optional', 'Kunststoff-Schubfach_mit_Rollschubführungen': 'optional', 'Vario_Support': 'optional', 'Tauwassergefäß': 'optional'}, 'Sonstiges': {'flexible_Ausstattung': True}}\n"
     ]
    },
    {
     "name": "stderr",
     "output_type": "stream",
     "text": [
      " 18%|█▊        | 27/151 [08:08<38:15, 18.51s/it]"
     ]
    },
    {
     "name": "stdout",
     "output_type": "stream",
     "text": [
      "{'summary': 'Der Kirsch LABO-125 ESSENTIAL ist ein Laborkühlschrank mit 120 Litern Nutzvolumen und einem Temperaturbereich von +2°C bis +20°C. Das Gerät verfügt über eine automatische Abtauung mit Tauwasserverdunstung und einen Energieverbrauch von 0,68 kWh in 24 Stunden. Mit einer digitalen Temperaturanzeige im Innenraum, optischen und akustischen Alarmsignalen sowie einem Minimum/Maximum-Temperatur-Speicher bietet er eine sichere und effiziente Lagerung für temperaturempfindliche Substanzen. Der Kühlschrank ist ein- und unterbaufähig und verfügt über eine abschließbare Tür mit leicht austauschbarem Kunststoff-Magnetdichtungsrahmen. Die Außenmaße betragen 54x53,5x81 cm und die Innenmaße 44x42x67 cm. Mit zwei kunststoffbeschichteten Rosten, die jeweils bis zu 25 kg belastbar sind, bietet er ausreichend Stauraum für Laborproben und Medikamente.', 'category': 'Laborkühlschrank', 'manufacturer': 'Kirsch', 'title': 'LABO-125 ESSENTIAL'}\n",
      "['Der Kühlschrank bietet ein Fassungsvermögen von ca. 120 Litern und ermöglicht eine präzise Temperatureinstellung im Bereich von +2°C bis +20°C. Dies macht ihn ideal für die Lagerung von temperaturempfindlichen Substanzen.', 'Mit seinen Außenmaßen von 54x53,5x81 cm (BxTxH) und Innenmaßen von 44x42x67 cm (BxTxH) ist der Kühlschrank kompakt und platzsparend. Er ist sowohl einbaubar als auch unterbaufähig, was eine flexible Integration in verschiedene Umgebungen ermöglicht.', 'Der Kühlschrank verfügt über zwei kunststoffbeschichtete Roste, die jeweils bis zu 25 kg belastbar sind. Dies erleichtert die Organisation und den Zugriff auf die gelagerten Artikel.', 'Die automatische Abtauung mit Tauwasserverdunstung sorgt für einen wartungsarmen Betrieb. Der Energieverbrauch von 0,68 kWh in 24 Stunden macht den Kühlschrank zudem energieeffizient.', 'Die Tür des Kühlschranks ist abschließbar und verfügt über einen leicht austauschbaren Kunststoff-Magnetdichtungsrahmen. Dies gewährleistet Sicherheit und einfache Wartung.', 'Eine digitale Temperaturanzeige im Innenraum ermöglicht eine einfache Überwachung der Lagerbedingungen. Optische und akustische Alarmsignale warnen bei Abweichungen von den eingestellten Werten.', 'Der Kühlschrank ist mit einem Minimum/Maximum-Temperatur-Speicher ausgestattet, der die Überwachung und Dokumentation der Lagerbedingungen erleichtert. Ein 1,8 Meter langes Stecker-Kabel sorgt für flexible Installationsmöglichkeiten.']\n",
      "{'Abmessungen-cm': {'Außenmaße_Breite': 54, 'Außenmaße_Tiefe': 53.5, 'Außenmaße_Höhe': 81, 'Innenmaße_Breite': 44, 'Innenmaße_Tiefe': 42, 'Innenmaße_Höhe': 67}, 'Gewicht-kg': {'netto': 42, 'brutto': 44}, 'Volumen-l': {'Kühlinhalt': 120}, 'Temperatur-celsius': {'Einstellung_min': 2, 'Einstellung_max': 15, 'Umgebungstemperatur_min': 10, 'Umgebungstemperatur_max': 38, 'Abweichung': 2.25}, 'Energie': {'Leistungsaufnahme-watt': 125, 'Wärmeabgabe-watt': 123, 'Normalverbrauch-kwh_24h': 0.55}, 'Spannung-volt': {'Spannung': 220, 'Frequenz-hz': 50}, 'Frequenz-hz': {}, 'Geräusch-db': {'Emission': 41.4}, 'Innenausstattung': {'Anzahl_Schubfächer': 0, 'Anzahl_Körbe': 0, 'Anzahl_Ablageflächen': 2, 'Belastbarkeit_Ablagefläche-kg': 25, 'Material_Schubfächer': 'optional', 'Material_Körbe': '-'}, 'Ausstattung': {'Abtauung_automatisch': True, 'Umluftkühlung': False, 'DIN_13221_konform': False, 'DIN_58375_konform': True, 'DIN_13277_konform': False, 'ATEX_95_konform': False, 'Türaufalarm': False, 'Logging': False, 'Datenlogger': False, 'Schnittstelle': 'optional', 'Steuerung': 'optional'}, 'Sonstiges': {'Kältemaschine_60Hz': 'optional', 'Kältemaschinen-Ventilator': 'optional', 'Dekorrahmen': 'optional', 'Digitale_Temperaturanzeige': 'optional', 'LED-Lichtleiste_Decke': 'optional', 'Glastür': 'optional', 'Türkoppelungs-Beschlag': 'optional', 'Fahrbare_Ausführung': 'optional', 'Tischplatte': 'optional', 'Ein-/Unterbaufähig': True, 'flexible_Ausstattung': True, 'Tauwassergefäß': 'optional'}}\n"
     ]
    },
    {
     "name": "stderr",
     "output_type": "stream",
     "text": [
      " 19%|█▊        | 28/151 [08:27<38:37, 18.84s/it]"
     ]
    },
    {
     "name": "stdout",
     "output_type": "stream",
     "text": [
      "{'summary': 'Der Kirsch LABO-288 ULTIMATE ist ein Laborkühlschrank mit 280 Litern Nutzvolumen und einer Temperaturregelung von 0 bis +15 °C. Der Kühlschrank verfügt über eine statisch belüftete, geräuscharme und energiesparende Kältemaschine, die für 220-240 V Wechselstrom ausgelegt ist. Die PRO-Active-Steuerung und die automatische Abtauung sorgen für eine gleichmäßige Temperierung und reduzieren das Temperaturgefälle auf ein Minimum. Der Laborkühlschrank ist mit einem Touch-Display, einer Zugangskontrolle mit Protokoll und einer grafischen Anzeige des Temperaturverlaufs ausgestattet. Zudem bietet er eine digitale Datendokumentation über PC-KIT-NET oder USB-Schnittstelle und die Software KIRSCH Datanet. Der Innenraum besteht aus glattem Aluminium mit farbloser Schutzbeschichtung und drei kunststoffbeschichteten Rosten. Das Außengehäuse ist aus verzinktem Stahlblech mit einer kratzfesten, weißen Pulverbeschichtung gefertigt. Der Laborkühlschrank ist ideal für den Einsatz in Laboren, Kliniken und im Gesundheitswesen.', 'category': 'Laborkühlschrank', 'manufacturer': 'Kirsch', 'title': 'LABO-288 ULTIMATE'}\n",
      "['Der Kirsch LABO-288 Laborkühlschrank ist mit einer PRO-Active-Steuerung ausgestattet und verfügt über eine statisch belüftete, geräuscharme und energiesparende Kältemaschine, die hermetisch gekapselt ist. Die Kältemaschine ist für 220-240 V Wechselstrom ausgelegt, andere Spannungen sind auf Anfrage verfügbar. Der Kühlschrank ist mit verstellbaren Füßen ausgestattet, um Bodenunebenheiten auszugleichen, und der Türanschlag ist wechselbar.', 'Der Abtauvorgang erfolgt automatisch durch zeitlich begrenzte und thermische Umkehr des Kältemittelkreislaufs, wobei das Tauwasser im Kältemaschinenraum vaporisiert wird. Die Isolierung ist mit 55 mm besonders stark und besteht aus hochwertigen, druckgeschäumten und umweltschonenden Materialien. Der Innenraum besteht aus glattem Aluminium mit einer farblosen Schutzbeschichtung und ist mit drei kunststoffbeschichteten Rosten ausgestattet. Das Außengehäuse besteht aus verzinktem Stahlblech mit einer kratzfesten, weißen Pulverbeschichtung.', 'Die elektronische Temperatursteuerung sorgt für eine konstante Temperatur, unabhängig von wechselnden Außentemperaturen, vorausgesetzt, die Umgebungstemperatur liegt mindestens 3°C über der regulierten Innentemperatur. Der Kühlschrank garantiert höchste Temperaturkonstanz bei geringem Energieverbrauch. Zusätzlich verfügt er über ein akustisches und optisches Alarmsignal bei abweichenden Temperaturen, eine Sicherheitseinrichtung gegen Minus-Temperaturen und einen potentialfreien Kontakt zum Anschluss an die zentrale Leittechnik sowie eine USB-Schnittstelle.', 'Der Laborkühlschrank ist umluftgekühlt mit einem Querstromgebläse, das beim Öffnen der Tür automatisch abschaltet. Dieses System sorgt für eine gleichmäßige Temperierung und reduziert das physikalisch bedingte Temperaturgefälle auf ein Minimum. Zu den Innovationen gehören ein potentialfreier Kontakt zum Anschluss an die zentrale Leittechnik, ein Schaltzentrum mit Folientastatur, eine digitale Temperaturanzeige und eine USB-Schnittstelle.', 'Der Kirsch LABO-288 Laborkühlschrank bietet zahlreiche Vorteile, darunter ein Touch-Display mit edlem Glasdesign, Zugangskontrolle mit Protokoll, grafische Anzeige des Temperaturverlaufs und Min/Max Temperatur sowie digitale Datendokumentation über PC-KIT-NET oder USB-Schnittstelle und die Software KIRSCH Datanet.']\n",
      "{'Abmessungen-cm': {'Außenmaße_Breite': 67, 'Außenmaße_Tiefe': 72, 'Außenmaße_Höhe': 132, 'Innenmaße_Breite': 53, 'Innenmaße_Tiefe': 50, 'Innenmaße_Höhe': 100}, 'Gewicht-kg': {'netto': 78, 'brutto': 85}, 'Volumen-l': {'Kühlinhalt': 280}, 'Temperatur-celsius': {'Einstellung_min': 0, 'Einstellung_max': 15, 'Umgebungstemperatur_min': 10, 'Umgebungstemperatur_max': 38, 'Abweichung': 1.01}, 'Energie': {'Leistungsaufnahme-watt': 88, 'Wärmeabgabe-watt': 165, 'Normalverbrauch-kwh_24h': 0.68}, 'Spannung-volt': {'Spannung': 220}, 'Frequenz-hz': {'Frequenz': 50}, 'Geräusch-db': {'Emission': 41}, 'Innenausstattung': {'Anzahl_Roste': 3, 'Belastbarkeit_Ablagefläche-kg': 40, 'Belastbarkeit_Schubfach-kg': 16}, 'Ausstattung': {'Abtauung_automatisch': True, 'Umluftkühlung': True, 'DIN_58375_konform': True, 'DIN_13221_konform': True, 'Türaufalarm': 'akustisch', 'Kältemaschine_60hz': 'optional', 'Kältemaschine_Ventilator': 'optional', 'LED-Lichtleiste': 'optional', 'Glastür_mit_Schloss': 'optional', 'Türkoppelungs-Beschlag': 'optional', 'Fahrbare_Ausführung': 'optional', 'Rost_mit_Schienen': 'optional', 'Aluminium-Schubfach': 'optional', 'Edelstahl-Schubfach': 'optional', 'Kunststoff-Schubfach': 'optional', 'Vario_Support': 'optional', 'Tauwassergefäß': 'optional'}, 'Sonstiges': {'flexible_Ausstattung': True, 'Dekorrahmen': 'optional'}}\n"
     ]
    },
    {
     "name": "stderr",
     "output_type": "stream",
     "text": [
      " 19%|█▉        | 29/151 [08:52<41:42, 20.51s/it]"
     ]
    },
    {
     "name": "stdout",
     "output_type": "stream",
     "text": [
      "{'summary': 'Der Kirsch LABEX-105 PRO-ACTIVE ist ein explosionsgeschützter Laborkühlschrank, speziell für die Lagerung von leicht entzündlichen und explosiven Stoffen konzipiert. Mit einem Nutzvolumen von 95 Litern und einem Temperaturbereich von +2°C bis +15°C bietet er eine sichere Umgebung für Chemikalien und andere gefährliche Materialien. Der Kühlschrank verfügt über eine zwangsbelüftete, energiesparende Kältemaschine und eine automatische Abtauung, die das Tauwasser in einem Gefäß sammelt. Die PRO-ACTIVE-Steuerung ermöglicht eine präzise Temperaturregelung und proaktive Überwachung der Leistungsdaten. Zusätzlich ist der Kühlschrank mit einem akustischen und optischen Alarmsignal, einer USB-Schnittstelle und einem potentialfreien Kontakt ausgestattet. Der Innenraum besteht aus schlagfestem Kunststoff und bietet flexible Lagerungsmöglichkeiten mit einem Schubfach und zwei Rosten. Das Außengehäuse ist aus verzinktem Stahlblech gefertigt und hat eine kratzfeste Pulverbeschichtung. Der Kirsch LABEX-105 PRO-ACTIVE ist ideal für den Einsatz in Laboren, Kliniken und im Gesundheitswesen.', 'category': 'Laborkühlschrank', 'manufacturer': 'Kirsch', 'title': 'LABEX-105 PRO-ACTIVE'}\n",
      "['Der Kirsch LABEX-105 Laborkühlschrank ist speziell für die sichere Lagerung von leicht entzündlichen und explosiven Stoffen konzipiert. Der explosionsgeschützte Innenraum erfüllt die Sicherheitsanforderungen der Zone 2 und ist mit einem TÜV-Zertifikat für Zündquellfreiheit ausgestattet. Dies ermöglicht die sichere Aufbewahrung von Chemikalien, giftigen Materialien und anderen entflammbaren Stoffen.', 'Der Kühlschrank verfügt über eine geräuscharme, zwangsbelüftete und hermetisch gekapselte Kältemaschine, die für 220-240 V Wechselstrom ausgelegt ist. Die Kältemaschine ist energiesparend und servicefreundlich. Der Türanschlag ist serienmäßig rechts, aber wechselbar. Der Abtauvorgang erfolgt automatisch durch zeitlich begrenzte und thermische Umkehr des Kältemittelkreislaufs. Das Tauwasser wird in einem Gefäß gesammelt und kann manuell entleert werden. Die 50 mm starke Isolierung aus hochwertigen, druckgeschäumten und umweltschonenden Materialien garantiert höchste Temperaturkonstanz bei geringem Energieverbrauch.', 'Der Innenraum des Schrankes besteht aus schlagfestem, weißem Kunststoff mit eingeformten Auflagen. Die Innenausstattung umfasst ein arretierendes Schubfach mit sechs verstellbaren Quer- und einem verstellbaren Längsträger, was eine Lagerfläche von 0,13 Quadratmetern pro Schubfach bietet. Zusätzlich sind zwei kunststoffbeschichtete Roste vorhanden. Das Außengehäuse besteht aus verzinktem, rostgeschütztem Stahlblech mit einer kratzfesten, weißen Pulverbeschichtung.', 'Die elektronische Temperatursteuerung reguliert die Temperatur unabhängig von wechselnden Außentemperaturen, vorausgesetzt, die Umgebungstemperatur liegt mindestens 3°C über der gespeicherten Innentemperatur. Zu den Serieninnovationen gehören ein Schaltzentrum mit Schlüsselschalter und Folientastatur, eine digitale Temperaturanzeige sowie optische und akustische Alarmsignale. Ein potentialfreier Kontakt ermöglicht den Anschluss an die zentrale Leittechnik, und eine USB-Schnittstelle ist ebenfalls vorhanden. Eine Sicherheitseinrichtung gegen Minustemperaturen ist standardmäßig integriert.', 'Der Kirsch LABEX-105 Laborkühlschrank ist mit einer PRO-ACTIVE Steuerungselektronik ausgestattet, die eine permanente Überwachung der Leistungsdaten und Alarmierung bei Abweichungen ermöglicht. Die genaue Temperatursteuerung wird durch zwei serienmäßige PT-1000 Fühler gewährleistet. Die Temperatur kann zwischen ca. +2°C und +15°C eingestellt werden. Der Kühlschrank ist mit einem PC-KIT-STICK zur elektronischen Temperaturdokumentation über USB-Stick ausgestattet und verfügt über eine digitale Temperaturanzeige. Die Kennzeichnung EX II 3 G T6 bestätigt den explosionsgeschützten Innenraum.', 'Die Tür des Kühlschranks ist mit einem austauschbaren, leichten Kunststoff-Magnetdichtungsrahmen ausgestattet und abschließbar. Der Türanschlag ist wechselbar, und das Gerät ist ein- und unterbaufähig. Die Innenausstattung umfasst ein Schubfach mit Arretierung und zwei kunststoffbeschichtete Roste, wobei die maximale Belastung der Roste jeweils 25 kg und die des Schubfachs 13 kg beträgt. Der Kühlschrank hat ein Fassungsvermögen von ca. 95 Litern und ist mit einem 2,8 m langen Stecker-Kabel ausgestattet. Die Außenmaße betragen 54x54x82 cm (BxTxH) und die Innenmaße 44x43x47 cm (BxTxH).', 'Der Kirsch LABEX-105 Laborkühlschrank ist ein optimaler Partner für die Kühlung in Labor, Klinik und im gesamten Gesundheitswesen. Er bietet eine Kombination aus Sicherheit, Energieeffizienz und modernster Technik, die ihn ideal für den Einsatz in anspruchsvollen Umgebungen macht.']\n",
      "{'Abmessungen-cm': {'Außenmaße_Breite': 54, 'Außenmaße_Tiefe': 54, 'Außenmaße_Höhe': 82, 'Innenmaße_Breite': 44, 'Innenmaße_Tiefe': 43, 'Innenmaße_Höhe': 47}, 'Gewicht-kg': {'netto': 46, 'brutto': 50}, 'Volumen-l': {'Kühlinhalt': 95}, 'Temperatur-celsius': {'Einstellung_min': 2, 'Einstellung_max': 15, 'Umgebungstemperatur_min': 10, 'Umgebungstemperatur_max': 38, 'Abweichung': 5.71}, 'Energie': {'Leistungsaufnahme-watt': 86, 'Wärmeabgabe-watt': 191, 'Normalverbrauch-kwh_24h': 0.43}, 'Spannung-volt': {'Spannung': 220, 'Frequenz-hz': 50}, 'Frequenz-hz': {'Kältemaschine_60Hz': 'optional'}, 'Geräusch-db': {'Emission': 41}, 'Innenausstattung': {'Anzahl_Schubfächer': 1, 'Anzahl_Körbe': 2, 'Belastbarkeit_Ablagefläche-kg': 25, 'Belastbarkeit_Schubfach-kg': 13, 'Material_Körbe': 'Rost'}, 'Ausstattung': {'Abtauung_automatisch': True, 'Umluftkühlung': False, 'frei_von_Zündquellen': True, 'Alarmierung_bei_Stromausfall': True, 'Ein_Unterbaufähig': True, 'flexible_Ausstattung': True, 'Tauwassergefäß_zur_manuellen_Entleerung': True, 'Kältemaschinen_Ventilator': True}, 'Sonstiges': {'Kältemaschine_wassergekühlt': False, 'Explosionsgeschützter_Innenraum': False, 'PC_KIT_NET': 'optional', 'Außengehäuse_Chromnickelstahl_4301': False, 'Dekorrahmen': 'optional', 'Glastür': False, 'Glastür_mit_Schloss': 'optional', 'Türkoppelungs_Beschlag': 'optional', 'Fahrbare_Ausführung': 'optional', 'Tischplatte': 'optional'}}\n"
     ]
    },
    {
     "name": "stderr",
     "output_type": "stream",
     "text": [
      " 20%|█▉        | 30/151 [09:10<39:51, 19.76s/it]"
     ]
    },
    {
     "name": "stdout",
     "output_type": "stream",
     "text": [
      "{'summary': 'Der LKexv 3600 MediLine ist ein Laborkühlschrank von Liebherr mit einem Nutzvolumen von 307 Litern und einem Temperaturbereich von +1°C bis +15°C. Der Kühlschrank verfügt über einen explosionsgeschützten Innenraum und erfüllt die ATEX-Richtlinie 2014/34/EU, was ihn ideal für die Lagerung von explosiven und leicht entzündlichen Stoffen in Laboratorien und der chemischen Industrie macht. Der LKexv 3600 ist mit einer präzisen Komfortelektronik ausgestattet, die eine genaue Temperaturregelung und -überwachung ermöglicht. Er verfügt über ein umfassendes Alarmsystem, das bei Temperaturabweichungen, längerer Türöffnung und Netzausfällen warnt. Zusätzlich bietet er einen integrierten Datenspeicher für Alarmmeldungen und Temperaturverläufe, sowie eine RS 485 Schnittstelle für den Anschluss an zentrale Alarm- und Dokumentationssysteme. Der Innenraum ist hochwertig und flexibel gestaltet, mit fünf Glasablageflächen, die bis zu 40 kg tragen können.', 'category': 'Laborkühlschrank', 'manufacturer': 'Liebherr', 'title': 'LKexv 3600 MediLine'}\n",
      "['Der LKexv 3600 ist ein explosionsgeschützter Kühlschrank, der die EU-Richtlinie 2014/34/EU (ATEX) erfüllt und für die Lagerung von explosiven und leicht entzündlichen Stoffen in geschlossenen Behältnissen geeignet ist. Er ist besonders für Sonderlaboratorien und die chemische Industrie interessant.', 'Der Kühlschrank ist mit einer Komfortelektronik ausgestattet, die eine präzise Temperaturregelung ermöglicht. Die Anzeige und Tastatur sind foliert und somit leicht zu reinigen, was den hohen Hygieneansprüchen im Labor gerecht wird.', 'Zur Temperatursteuerung verfügt der LKexv 3600 über eine 1-Punkt-Kalibrierung, die eine genaue Messung der Innentemperatur gewährleistet. Dies ermöglicht dem dynamischen Kühlsystem, optimal zu arbeiten und die NF X 15-140 Norm hinsichtlich maximaler Temperaturstabilität und optimaler Temperaturkonstanz zu erfüllen.', 'Das Alarmsystem warnt bei Überschreitung der Temperaturgrenzen, bei länger als eine Minute offener Tür (akustisch und optisch), bei Netzausfall (optisch) und bei Defekt des Fühlers. Der Datenspeicher protokolliert kontinuierlich die Innentemperatur und die letzten drei Temperatur- und Netzausfallalarme mit Datum, Uhrzeit und Dauer, die über das Display ausgelesen werden können.', 'Der Kühlschrank verfügt über eine RS 485 Schnittstelle für den Anschluss an zentrale Alarm- und Dokumentationssysteme sowie über einen potentialfreien Kontakt für die Alarmweiterschaltung an ein externes Fernwarnsystem.', 'Der LKexv 3600 bietet eine präzise Komfortelektronik mit 1/10°-Temperaturanzeige, einen Sicherheitsthermostat, eine selbstschließende Tür und optische sowie akustische Alarme bei Temperaturabweichungen und zu lange geöffneter Tür. Zudem verfügt er über einen integrierten Datenspeicher für Alarmmeldungen und den Verlauf der Innentemperatur.', 'Der Innenraum des Kühlschranks ist hochwertig und flexibel gestaltet, mit pflegeleichtem Kunststoff und fünf Glasablageflächen, die jeweils bis zu 40 kg tragen können. Die funktionale Tür bleibt bei einem Öffnungswinkel von 90° geöffnet und schließt sich automatisch bei einem Winkel unter 60°.', 'Der LKexv 3600 ist mit SmartMonitoring vorinstalliert, das in Kombination mit einer separat erhältlichen Lizenz die Nutzung der SmartMonitoring-App ermöglicht. Diese App erlaubt die Überwachung aller Mess- und Betriebsdaten. Zusätzlich verfügt der Kühlschrank über eine separat schaltbare LED-Deckenbeleuchtung im Innenraum und ein Stahlgehäuse mit Stahltür.']\n",
      "{'Abmessungen-cm': {'Außenmaße_Breite': 60, 'Außenmaße_Tiefe': 61, 'Außenmaße_Höhe': 164.1, 'Innenmaße_Breite': 47, 'Innenmaße_Tiefe': 44, 'Innenmaße_Höhe': 145.2}, 'Gewicht-kg': {'netto': 59, 'brutto': 64}, 'Volumen-l': {'Kühlinhalt': 307, 'Gefrierinhalt': 333}, 'Temperatur-celsius': {'Einstellung_min': 1, 'Einstellung_max': 15, 'Umgebungstemperatur_min': 10, 'Umgebungstemperatur_max': 43, 'Abweichung': 3}, 'Energie': {'Normalverbrauch-kwh_24h': 0.95}, 'Spannung-volt': {'Anschlusswert': 220}, 'Frequenz-hz': {}, 'Geräusch-db': {'Emission': 48}, 'Innenausstattung': {'Anzahl_Ablageflächen': 5, 'Belastbarkeit_Ablagefläche-kg': 40, 'Material_Körbe': 'Kunststoff'}, 'Ausstattung': {'Abtauung_automatisch': True, 'Umluftkühlung': True, 'Steuerung': 'mechanische Steuerung'}, 'Sonstiges': {'Kältemittel': 'R 600a', 'Gradient': 4.8, 'Türanschlag': 'rechts wechselbar', 'Temperaturanzeige': 'außen digital', 'Schloss': True, 'Griff': 'Stangengriff mit integrierter Öffnungsmechanik', 'Gehäusematerial': 'Stahl', 'Gehäusefarbe': 'weiß', 'Türausführung': 'Stahl'}}\n"
     ]
    },
    {
     "name": "stderr",
     "output_type": "stream",
     "text": [
      " 21%|██        | 31/151 [09:27<38:18, 19.15s/it]"
     ]
    },
    {
     "name": "stdout",
     "output_type": "stream",
     "text": [
      "{'summary': 'Der Kirsch MED-125 ESSENTIAL ist ein Medikamentenkühlschrank mit 120 Litern Nutzvolumen, der speziell für die Integration in Schrankwände konzipiert ist. Das Gerät entspricht der DIN 58345 Norm und bietet eine Temperaturregelung von +2°C bis +15°C. Der Innenbehälter besteht aus schlagfestem Kunststoff und umfasst drei Schubfächer sowie einen Rost. Mit einem Energieverbrauch von 0,55 kWh/24 h und einer Umluftkühlung sorgt der Kühlschrank für eine gleichmäßige Temperaturverteilung. Optional kann das Display in die Schrankwand integriert werden. Der MED-125 ESSENTIAL ist ideal für die sichere Lagerung von Medikamenten in medizinischen Einrichtungen.', 'category': 'Medikamentenkühlschrank', 'manufacturer': 'Kirsch', 'title': 'MED-125 ESSENTIAL'}\n",
      "['Der Kirsch MED-125 ist ein Medikamentenkühlschrank, der speziell für die Integration in Schrankwände konzipiert ist. Die Mindestmaße für den Einbau betragen 82x55x54,5 cm, wobei ein Luftdurchgang von mindestens 80 cm² erforderlich ist. Das innenliegende Display kann optional ebenfalls in die Schrankwand integriert werden (Maße: 102x34,5x50 mm).', 'Der Kühlschrank entspricht der DIN 58345 Norm und bietet ein Fassungsvermögen von 120 Litern, verteilt auf drei Schubfächer und einem Rost. Die Schubfächer haben eine Tragkraft von je 13 kg, der Rost eine Tragkraft von 25 kg. Der Innenbehälter besteht aus schlagfestem Kunststoff.', 'Die Kühltemperatur des Kirsch MED-125 liegt zwischen +2 und +15°C, bei einem Energieverbrauch von 0,55 kWh pro 24 Stunden. Der Kühlschrank verfügt über eine Umluftkühlung und eine automatische Abtauung mit Tauwasserverdunstung, was eine hohe Temperaturkonstanz gewährleistet.', 'Die Temperaturregelung erfolgt mikroprozessorgesteuert, und es sind optische sowie akustische Alarmsignale vorhanden, die auch bei Stromausfall funktionieren. Zudem verfügt der Kühlschrank über eine Sicherheitseinrichtung gegen Minustemperaturen und einen Minimum/Maximum-Temperaturspeicher.', 'Der Kirsch MED-125 ist mit einem potentialfreien Kontakt für den Anschluss an Fernwarnanlagen ausgestattet. Die Tür ist verschließbar, und es sind sowohl akustische als auch optische Warnsignale bei Stromausfall integriert. Der austauschbare Kunststoff-Magnetdichtungsrahmen ist eine weitere Besonderheit dieses Modells.']\n",
      "{'Abmessungen-cm': {'Außenmaße_Breite': 54, 'Außenmaße_Tiefe': 54, 'Außenmaße_Höhe': 81, 'Innenmaße_Breite': 44, 'Innenmaße_Tiefe': 42, 'Innenmaße_Höhe': 67}, 'Gewicht-kg': {'netto': 42, 'brutto': 48}, 'Volumen-l': {'Kühlinhalt': 120}, 'Temperatur-celsius': {'Einstellung_min': 2, 'Einstellung_max': 15, 'Umgebungstemperatur_min': 10, 'Umgebungstemperatur_max': 38, 'Abweichung': 1.5}, 'Energie': {'Leistungsaufnahme-watt': 115, 'Wärmeabgabe-watt': 190, 'Normalverbrauch-kwh_24h': 0.97}, 'Spannung-volt': {'Spannung': 220, 'Spannung_max': 240}, 'Frequenz-hz': {'Frequenz': 50}, 'Geräusch-db': {'Emission': 40}, 'Innenausstattung': {'Anzahl_Schubfächer': 3, 'Belastbarkeit_Ablagefläche-kg': 25, 'Belastbarkeit_Schubfach-kg': 13, 'Material_Schubfächer': 'Kunststoff'}, 'Ausstattung': {'Abtauung_automatisch': True, 'Umluftkühlung': True, 'DIN_58375_konform': True, 'Kältemaschine_60hz': 'optional', 'Kältemaschine_Ventilator': 'optional', 'Alarmierung_Stromausfall': True, 'Dekorrahmen': 'optional', 'Digitale_Temperaturanzeige': 'optional', 'LED-Lichtleiste': 'optional', 'Glastür': 'optional', 'Türkoppelungs-Beschlag': 'optional', 'Fahrbare_Ausführung': 'optional', 'Tischplatte': 'optional', 'Ein_Unterbaufähig': True, 'oberstes_Schubfach_abschließbar': 'optional', 'zusätzliche_Teiler': 'optional'}, 'Sonstiges': {'Kältemaschine_wasserkühlung': False, 'Glastür_mit_Schloss': False, 'Rost': 1, 'Rost_mit_Auflegern': False, 'Rost_mit_Schienen': False, 'Kunststoff_Schubfach_mit_Rollschubführungen': False, 'Vario_Support': False}}\n"
     ]
    },
    {
     "name": "stderr",
     "output_type": "stream",
     "text": [
      " 21%|██        | 32/151 [09:49<39:34, 19.96s/it]"
     ]
    },
    {
     "name": "stdout",
     "output_type": "stream",
     "text": [
      "{'summary': 'Der Liebherr SRPvg 1412 Performance ist ein hochleistungsfähiger Laborkühlschrank mit einem Bruttovolumen von 1.447 Litern und einem einstellbaren Temperaturbereich von 0°C bis +16°C. Das Gerät verfügt über eine dynamische Umluftkühlung, die eine gleichmäßige Temperaturverteilung im gesamten Innenraum gewährleistet, mit einer maximalen Abweichung von ±3°C. Ein besonderes Merkmal ist die Doppeltür aus Isolierglas, die eine hervorragende Isolierung bietet und gleichzeitig eine klare Sicht auf den Innenraum ermöglicht. Der Kühlschrank ist mit einem Alarm-Relais ausgestattet, das im Falle einer Störung sofort eine Benachrichtigung sendet, und kann optional mit einer WiFi-/LAN-Schnittstelle für die Integration in das Liebherr SmartMonitoring-System nachgerüstet werden. Mit einem jährlichen Energieverbrauch von 724 kWh und einer Nutzungsdauer von bis zu 15 Jahren bietet der SRPvg 1412 Performance eine nachhaltige und zuverlässige Lösung für anspruchsvolle Anwendungen in medizinischen Einrichtungen, Forschungslaboren und Apotheken.', 'category': 'Laborkühlschrank', 'manufacturer': 'Liebherr', 'title': 'SRPvg 1412 Performance'}\n",
      "['Der Liebherr SRPvg 1412 Performance ist ein Laborkühlschrank, der für die Lagerung temperaturempfindlicher Substanzen in medizinischen Einrichtungen, Forschungslaboren und Apotheken konzipiert ist. Mit einem Bruttovolumen von 1.447 Litern und einem einstellbaren Temperaturbereich von 0\\u202f°C bis +16\\u202f°C bietet er optimale Lagerbedingungen.', 'Die dynamische Umluftkühlung sorgt für eine gleichmäßige Temperaturverteilung im gesamten Innenraum mit einer maximalen Abweichung von ±3\\u202f°C. Dies gewährleistet eine konstante Lagerumgebung und schützt empfindliche Proben vor Qualitätseinbußen.', 'Eine Doppeltür aus Isolierglas bietet hervorragende Isolierung und ermöglicht gleichzeitig eine klare Sicht auf den Innenraum, ohne die Tür öffnen zu müssen. Dies trägt zur Energieeinsparung bei und minimiert Temperaturschwankungen.', 'Für zusätzliche Sicherheit ist der Kühlschrank mit einem Alarm-Relais ausgestattet, das im Falle einer Störung sofort eine Benachrichtigung sendet. Optional kann eine WiFi-/LAN-Schnittstelle nachgerüstet werden, die die Integration in das Liebherr SmartMonitoring-System ermöglicht. Dieses System überwacht und dokumentiert die Lagertemperatur kontinuierlich und alarmiert bei Abweichungen.', 'Mit einem jährlichen Energieverbrauch von 724 kWh und einer Nutzungsdauer von bis zu 15 Jahren bietet der SRPvg 1412 Performance eine nachhaltige und zuverlässige Lösung. Hochwertige Materialien und eine solide Verarbeitung garantieren Langlebigkeit, wobei Liebherr eine Ersatzteilverfügbarkeit von mindestens zehn Jahren sicherstellt.', 'Die Außenmaße von 213,5 cm (Höhe) x 142,7 cm (Breite) x 86,7 cm (Tiefe) ermöglichen eine flexible Platzierung. Selbstschließende Türen mit 90°-Feststellung und eine LED-Innenbeleuchtung tragen zur Benutzerfreundlichkeit bei. Der Innenraum ist mit acht beschichteten Rosten ausgestattet, die eine individuelle Anpassung an unterschiedliche Lagerbedürfnisse ermöglichen.']\n",
      "{'Abmessungen-cm': {'Außenmaße_Breite': 142.7, 'Außenmaße_Tiefe': 86.7, 'Außenmaße_Höhe': 213.5, 'Innenmaße_Breite': 121, 'Innenmaße_Tiefe': 63.8, 'Innenmaße_Höhe': 149.3}, 'Gewicht-kg': {'netto': 271, 'brutto': 292}, 'Volumen-l': {'Kühlinhalt': 1091, 'Gefrierinhalt': 1447}, 'Temperatur-celsius': {'Einstellung_min': 0, 'Einstellung_max': 16, 'Umgebungstemperatur_min': 10, 'Umgebungstemperatur_max': 35, 'Abweichung': 2.9}, 'Energie': {'Normalverbrauch-kwh_24h': 1.98, 'Wärmeabgabe-watt': 180.56}, 'Spannung-volt': {'Spannung': 230, 'Frequenz': 50}, 'Frequenz-hz': {}, 'Geräusch-db': {'Emission': 60}, 'Innenausstattung': {'Anzahl_Ablageflächen': 8, 'Belastbarkeit_Ablagefläche-kg': 60, 'Material_Körbe': 'Kunststoff'}, 'Ausstattung': {'Abtauung_automatisch': True, 'Türaufalarm': 'akustisch+optisch', 'Schnittstelle': 'WLAN/LAN', 'Steuerung': 'Monochrom-Display, Touch-Buttons'}, 'Sonstiges': {'Kältemittel': 'R 290', 'Maximale Gesamtbeladung': 480, 'Potentialfreier Kontakt': True, 'Reinraumklasse': 'ISO-Klasse 6', 'Rollen': '5 Lenkrollen, 2 mit Feststellbremse', 'Türanschlag': 'links fest / rechts fest', 'Vernetzungslösung': 'Nachrüstbar'}}\n"
     ]
    },
    {
     "name": "stderr",
     "output_type": "stream",
     "text": [
      " 22%|██▏       | 33/151 [09:55<30:39, 15.59s/it]"
     ]
    },
    {
     "name": "stdout",
     "output_type": "stream",
     "text": [
      "{'summary': 'Der Dometic DS 601 H ist ein Medikamentenkühlschrank, der speziell für Krankenhäuser und Gesundheitszentren entwickelt wurde, um wärmeempfindliche Medikamente bei einer konstanten Temperatur zwischen +2°C und +8°C zu lagern. Der Kühlschrank verfügt über eine integrierte Lüftung, die eine zuverlässig konstante Temperatur gewährleistet. Ein akustisches Warnsignal ertönt, wenn die Tür länger als 20 Sekunden geöffnet bleibt, was die Sicherheit der gelagerten Medikamente erhöht. Zusätzlich ist der DS 601 H mit einem Türschloss und Schubladen mit flexiblen Abteilungen ausgestattet, um eine ordentliche und sichere Aufbewahrung der Medikamente zu gewährleisten.', 'category': 'Medikamentenkühlschrank', 'manufacturer': 'Dometic', 'title': 'DS 601 H'}\n",
      "['Der Dometic DS 601 H ist speziell für Krankenhäuser und Gesundheitszentren konzipiert, um wärmeempfindliche Medikamente sicher zu lagern. Das Gerät hält eine konstante Temperatur zwischen 2 °C und 8 °C, was es ideal für die Aufbewahrung empfindlicher Medikamente macht.', 'Das Gerät verfügt über eine integrierte Lüftung, die eine zuverlässig konstante Temperatur gewährleistet. Ein akustisches Warnsignal ertönt, wenn die Tür länger als 20 Sekunden geöffnet bleibt, um die Temperaturschwankungen zu minimieren.', 'Der Dometic DS 601 H ist mit einem Türschloss ausgestattet, das für eine sichere Aufbewahrung der Medikamente sorgt. Die Schubladen mit flexiblen Abteilungen ermöglichen eine ordentliche und übersichtliche Lagerung der Medikamente.']\n",
      "{'Abmessungen-cm': {}, 'Gewicht-kg': {}, 'Volumen-l': {}, 'Temperatur-celsius': {'Einstellung_min': 2, 'Einstellung_max': 8}, 'Energie': {}, 'Spannung-volt': {}, 'Frequenz-hz': {}, 'Geräusch-db': {}, 'Innenausstattung': {'Anzahl_Schubfächer': 1}, 'Ausstattung': {'Umluftkühlung': True, 'Türaufalarm': 'akustisch'}, 'Sonstiges': {}}\n"
     ]
    },
    {
     "name": "stderr",
     "output_type": "stream",
     "text": [
      " 23%|██▎       | 34/151 [10:21<36:47, 18.87s/it]"
     ]
    },
    {
     "name": "stdout",
     "output_type": "stream",
     "text": [
      "{'summary': 'Der Kirsch LABO-520 PRO-ACTIVE ist ein Laborkühlschrank mit 500 Litern Nutzvolumen und einer Temperaturregelung von 0 bis +15°C. Der Kühlschrank verfügt über eine zwangsbelüftete, geräuscharme und energiesparende Kältemaschine, die für eine gleichmäßige Temperierung sorgt. Mit seiner PRO-ACTIVE-Steuerungselektronik, die eine permanente Überwachung der Leistungsdaten und Alarmierung bei Abweichungen ermöglicht, garantiert er höchste Temperaturkonstanz bei geringem Energieverbrauch. Der Laborkühlschrank ist mit einer automatischen Abtauung, einer USB-Schnittstelle und einem potentialfreien Kontakt zum Anschluss an die zentrale Leittechnik ausgestattet. Zudem bietet er eine digitale Temperaturanzeige und ein akustisches sowie optisches Alarmsignal bei abweichenden Temperaturen. Der Innenraum besteht aus poliertem Aluminium mit farbloser Schutzbeschichtung und fünf kunststoffbeschichteten Rosten, die jeweils bis zu 40 kg belastbar sind. Das Außengehäuse besteht aus verzinktem Stahlblech mit einer kratzfesten, weißen Pulverbeschichtung. Der Kirsch LABO-520 PRO-ACTIVE ist ideal für den Einsatz in Laboren, Kliniken und im gesamten Gesundheitswesen.', 'category': 'Laborkühlschrank', 'manufacturer': 'Kirsch', 'title': 'LABO-520 PRO-ACTIVE'}\n",
      "['Der Kirsch LABO-520 Laborkühlschrank ist mit einer zwangsbelüfteten, geräuscharmen und energiesparenden Kältemaschine ausgestattet, die für 220-240 V Wechselstrom ausgelegt ist. Die Kältemaschine ist hermetisch gekapselt und servicefreundlich. Verstellbare Füße ermöglichen den Ausgleich von Bodenunebenheiten.', 'Der Laborkühlschrank garantiert höchste Temperaturkonstanz bei geringem Energieverbrauch. Der Türanschlag ist wechselbar und der Abtauvorgang erfolgt automatisch durch zeitlich begrenzte und thermische Umkehr des Kältemittelkreislaufs. Das Tauwasser wird in einer beheizten Edelstahlschale vaporisiert. Die Isolierung ist mit 70 mm extra stark und besteht aus hochwertigen, druckgeschäumten und umweltschonenden Materialien.', 'Der Innenraum des Schrankes besteht aus poliertem Aluminium mit farbloser Schutzbeschichtung und ist mit fünf kunststoffbeschichteten Rosten ausgestattet. Das Außengehäuse besteht aus verzinktem Stahlblech mit einer kratzfesten, weißen Pulverbeschichtung.', 'Die elektronische Temperatursteuerung regelt die Temperatur unabhängig von wechselnden Außentemperaturen, vorausgesetzt die Umgebungstemperatur liegt mindestens 3°C über der gespeicherten Innentemperatur. Der Laborkühlschrank verfügt über ein akustisches und optisches Alarmsignal bei abweichenden Temperaturen sowie über eine Sicherheitseinrichtung gegen Minustemperaturen. Ein potentialfreier Kontakt und eine USB-Schnittstelle ermöglichen den Anschluss an die zentrale Leittechnik.', 'Der Laborkühlschrank ist mit einem Querstromgebläse für Umluftkühlung ausgestattet, das beim Öffnen der Tür automatisch abschaltet. Dieses System sorgt für eine gleichmäßige Temperierung und reduziert das physikalisch bedingte Temperaturgefälle auf ein Minimum.', 'Die PRO-ACTIVE Steuerungselektronik ermöglicht eine permanente, proaktive Überwachung der Leistungsdaten und Alarmierung bei Abweichungen. Die Temperatur kann zwischen ca. 0°C und +15°C eingestellt werden und wird digital angezeigt. Die Tür ist mit einem leicht austauschbaren Kunststoff-Magnetdichtungsrahmen ausgestattet und abschließbar.', 'Der Laborkühlschrank hat ein Kühlvolumen von ca. 500 Litern und einen Normalverbrauch von 1,4 kWh in 24 Stunden. Die Außenmaße betragen 77x76x195,5 cm (BxTxH) und die Innenmaße 62x57x140 cm (BxTxH). Die maximale Belastung der Roste beträgt jeweils 40 kg.', 'Zusätzliche Funktionen umfassen die automatische und Schnellabtauung, Tauwasserverdunstung, Umluftkühlung, einen potentialfreien Kontakt und eine USB-Schnittstelle. Der Laborkühlschrank ist ideal für den Einsatz in Laboren, Kliniken und im gesamten Gesundheitswesen.']\n",
      "{'Abmessungen-cm': {'Außenmaße_Breite': 77, 'Außenmaße_Tiefe': 76, 'Außenmaße_Höhe': 195.5, 'Innenmaße_Breite': 62, 'Innenmaße_Tiefe': 57, 'Innenmaße_Höhe': 140}, 'Gewicht-kg': {'netto': 120, 'brutto': 148}, 'Volumen-l': {'Kühlinhalt': 500}, 'Temperatur-celsius': {'Einstellung_min': 0, 'Einstellung_max': 15, 'Umgebungstemperatur_min': 10, 'Umgebungstemperatur_max': 38, 'Abweichung': 1}, 'Energie': {'Leistungsaufnahme-watt': 250, 'Wärmeabgabe-watt': 553, 'Normalverbrauch-kwh_24h': 1.4}, 'Spannung-volt': {'Spannung': 240, 'Frequenz-hz': 50}, 'Geräusch-db': {'Emission': 42}, 'Innenausstattung': {'Anzahl_Schubfächer': 5, 'Belastbarkeit_Ablagefläche-kg': 40}, 'Ausstattung': {'Abtauung_automatisch': True, 'Umluftkühlung': True, 'DIN_58375_konform': True, 'DIN_13221_konform': True, 'Türaufalarm': 'akustisch', 'Fahrbar': True}, 'Sonstiges': {'Kältemaschine_wassergekühlt': 'optional', 'Kältemaschine_60Hz': 'optional', 'Kältemaschinen-Ventilator': True, 'PC-KIT-NET': 'optional', 'Außengehäuse_Chromnickelstahl_4301': 'optional', 'Dekorrahmen': 'optional', 'LED-Lichtleiste_Seitenwand': 'optional', 'Glastür_mit_Schloss': 'optional', 'Türkoppelungs-Beschlag': 'optional', 'Rost_mit_Schienen': 'optional', 'Alu-Blech_mit_Schienen': 'optional', 'Aluminium-Schubfach_mit_Rollschubführungen': 'optional', 'Drahtkorb_mit_Schienen': 'optional', 'Edelstahl-Schubfach_mit_Rollschubführung': 'optional', 'Kunststoff-Schubfach_mit_Rollschubführungen': 'optional', 'Vario_Support': 'optional', 'Tauwassergefäß_zur_manuellen_Entleerung': 'optional', 'flexible_Ausstattung_möglich': True}}\n"
     ]
    },
    {
     "name": "stderr",
     "output_type": "stream",
     "text": [
      " 23%|██▎       | 35/151 [10:46<39:46, 20.57s/it]"
     ]
    },
    {
     "name": "stdout",
     "output_type": "stream",
     "text": [
      "{'summary': 'Der HMFvh 4011 H63 Perfection ist ein Medikamentenkühlschrank von Liebherr mit einem Nutzvolumen von 235 Litern und einer konstanten Temperatur von +5°C. Der Kühlschrank verfügt über eine Glastür und ein integriertes Ordnungssystem, was ihn ideal für die sichere Lagerung von temperaturempfindlichen Medikamenten, Impfstoffen und Proben macht. Mit einem dynamischen Kühlsystem, hochwirksamer Isolierung und gradgenauer Temperaturregelung bietet er eine zuverlässige Lagerung von sensiblen Substanzen. Der Kühlschrank ist mit optischen und akustischen Alarmsystemen ausgestattet, die zusätzliche Sicherheit gewährleisten. Zudem verfügt er über eine WiFi-/LAN-Schnittstelle für die Verbindung mit dem SmartMonitoring-System von Liebherr, das eine kontinuierliche Temperaturüberwachung und Alarmierung bei Abweichungen ermöglicht. Der HMFvh 4011 H63 Perfection ist nach DIN 13277 zertifiziert und erfüllt höchste Anforderungen an Temperaturkonstanz, Energieeffizienz und Benutzerfreundlichkeit.', 'category': 'Medikamentenkühlschrank', 'manufacturer': 'Liebherr', 'title': 'HMFvh 4011 H63 Perfection'}\n",
      "['Der HMFvh 4011-20 ist ein Medikamentenkühlschrank mit Glastür und integriertem Ordnungssystem. Er bietet eine zuverlässige Lagerung von temperaturempfindlichen Medikamenten, Impfstoffen und Proben.', 'Der Kühlschrank verfügt über ein dynamisches Kühlsystem, eine hochwirksame Isolierung und eine präzise Temperaturregelung. Optische und akustische Alarmsysteme gewährleisten zusätzliche Sicherheit. Der integrierte Datenlogger speichert Temperaturprofile, Alarmhistorie und Serviceinformationen bis zu fünf Jahre lang. Diese Daten können einfach per USB-Schnittstelle ausgelesen werden.', 'Durch die integrierte WiFi-/LAN-Schnittstelle kann das Gerät mit dem SmartMonitoring von Liebherr oder anderen lokalen Systemen verbunden werden. SmartMonitoring ist eine cloudbasierte Lösung, die kontinuierlich die Temperaturen überwacht und bei Abweichungen sofort per E-Mail, SMS oder Anruf alarmiert. Eine zusätzliche Öffnung für externe Sensoren ermöglicht eine separate Temperaturüberwachung ohne Unterbrechung der Türdichtung.', 'Bei Temperaturanstieg oder Stromausfall beginnt die Innenbeleuchtung zu blinken, um auf notwendige Maßnahmen hinzuweisen. Ein integrierter Akku übernimmt die Stromversorgung und löst optische und akustische Alarme aus. Das SafetyDevice stabilisiert die Temperatur und schützt den Inhalt vor dem Einfrieren. SmartLock verriegelt automatisch die Tür bei Alarm, um zu verhindern, dass Produkte nach einer Unterbrechung der Kühlkette versehentlich in Umlauf geraten.', 'Die Temperaturstabilität des Geräts beträgt +/-2 K Abweichung vom Sollwert (bei Modellvariante H63 +/-3 K). Eine Kalibriermöglichkeit ist vorhanden. Optische und akustische Alarme, ein Alarmrelais, eine Alarmtestfunktion und ein +2-°C-SafetyDevice gewährleisten die Lagersicherheit. Ein batteriegepufferter Netzausfallalarm, eine Alarmhistorie mit Echtzeituhr und 10 Ereignissen, ein integrierter Datenlogger und ein PT1000-Produktfühler sind ebenfalls enthalten. Das Gerät erfüllt die DIN 13277 und verfügt über eine selbstschließende Tür bei < 90°, individuelle Alarmeinstellungen und ein elektronisches Schloss.', 'Der Kühlschrank ist mit LAN/WiFi, einer lokalen API und einer USB-Schnittstelle zum Auslesen des Datenloggers ausgestattet. Ein SmartModule für SmartMonitoring ist integriert. Die Ausstattung umfasst ein 2,4”-Farbdisplay mit Touch & Swipe, einen individuell einstellbaren Wartungstimer, Rollen/Stellfüße als Zubehör, eine Verdampferabdeckung, eine Fühlerdurchführung und eine vertikale Beleuchtung bei Isolier- und Glastürmodellen. Der antimikrobielle Griff mit Öffnungsmechanik sorgt für zusätzliche Hygiene.', 'Der HMFvh 4011-20 ist ultra-effizient im Energieverbrauch und erfüllt die Sicherheitsstandards nach IEC 61010-2-011.']\n",
      "{'Abmessungen-cm': {'Außenmaße_Breite': 59.7, 'Außenmaße_Tiefe': 65.4, 'Außenmaße_Höhe': 188.4, 'Innenmaße_Breite': 40.6, 'Innenmaße_Tiefe': 37, 'Innenmaße_Höhe': 166}, 'Gewicht-kg': {'netto': 69, 'brutto': 82}, 'Volumen-l': {'Kühlinhalt': 235, 'Gefrierinhalt': 420}, 'Temperatur-celsius': {'Einstellung_min': 5, 'Einstellung_max': 5, 'Umgebungstemperatur_min': 10, 'Umgebungstemperatur_max': 35, 'Abweichung': 4.1}, 'Energie': {'Normalverbrauch-kwh_24h': 1.12}, 'Spannung-volt': {'Spannung': 230, 'Anschlusswert': 2}, 'Frequenz-hz': {}, 'Geräusch-db': {'Emission': 49}, 'Innenausstattung': {'Anzahl_Schubfächer': 8, 'Anzahl_Ablageflächen': 1, 'Belastbarkeit_Ablagefläche-kg': 50, 'Material_Schubfächer': 'Kunststoff'}, 'Ausstattung': {'Abtauung_automatisch': True, 'Türaufalarm': 'akustisch+optisch', 'Datenlogger': True, 'Schnittstelle': 'WLAN/LAN', 'Steuerung': '2,4\"-Farbdisplay, Touch & Swipe'}, 'Sonstiges': {'Kältemittel': 'R 600a', 'Innenbeleuchtung': 'LED-Lichtsäule links, separat schaltbar', 'Türanschlag': 'rechts wechselbar', 'Potentialfreier_Kontakt': True, 'Netzausfallalarm': 'unmittelbar bei Netzunterbrechung für mind. 12 h', 'Griff': 'Antimikrobieller Griff mit Öffnungsmechanik', 'Art_des_Schlosses': 'elektronisch, mit Fernbedienung', 'Art_der_Vernetzbarkeit': 'SmartModule / Integriert, entnehmbar', 'Gehäusematerial': 'Stahl', 'Farbe': 'weiß', 'Türausführung': 'Glas', 'Material_Innenbehälter': 'Kunststoff'}}\n"
     ]
    },
    {
     "name": "stderr",
     "output_type": "stream",
     "text": [
      " 24%|██▍       | 36/151 [11:07<39:45, 20.74s/it]"
     ]
    },
    {
     "name": "stdout",
     "output_type": "stream",
     "text": [
      "{'summary': 'Die FRYKA Tiefkühltruhe TT 85-90 logg ist ein kompaktes Tiefkühlgerät für den Einsatz in wissenschaftlichen und industriellen Laboren. Mit Außenmaßen von 76x88x71 cm und einem Nutzinhalt von 90 Litern bietet sie platzsparende Lösungen für die Lagerung von Materialproben direkt am Arbeitsplatz. Die Tiefkühltruhe ist mit einem modernen, geräuscharmen und wartungsarmen Kälteaggregat ausgestattet, das voll hermetisch und luftgekühlt ist. Sie verfügt über einen Temperaturbereich von -50°C bis -85°C und eine Regelgenauigkeit von +/- 1K. Zu den Sicherheitsmerkmalen gehören ein abschließbarer Deckel, doppelte Magnetdichtungen, ein potentialfreier Alarmkontakt und ein netzunabhängiger Alarm, der optische und akustische Signale für mindestens 72 Stunden liefert. Die TT 85-90 logg bietet zudem eine Ethernet-Schnittstelle für die Fernwartung und Benachrichtigungen per E-Mail im Alarmfall. Die Steuerung erfolgt über ein benutzerfreundliches Farb-Touchscreen, und ein integrierter Datenlogger ermöglicht die Aufzeichnung von Temperaturverläufen und Alarmereignissen, die über einen USB-Stick ausgelesen werden können.', 'category': 'Labortiefkühlschrank', 'manufacturer': 'FRYKA', 'title': 'TT 85-90 logg'}\n",
      "['Die FRYKA Tiefkühltruhe TT 85-90 logg ist eine kompakte und leistungsstarke Labor-Tiefkühltruhe, die speziell für den Einsatz in wissenschaftlichen und industriellen Laboren entwickelt wurde. Mit ihren Außenmaßen von 76x88x71 cm (BxHxT) bietet sie eine platzsparende Lösung zur Kühlung von Materialproben direkt am Arbeitsplatz. Die umlaufenden Lüftungsgitter ermöglichen eine flexible Aufstellung, sogar direkt an der Wand, was die Arbeitsabläufe effizienter gestaltet.', 'Die TT 85-90 logg ist mit einem modernen, geräuscharmen und voll hermetischen Kälteaggregat ausgestattet, das luftgekühlt und wartungsarm ist. Dies gewährleistet eine geringe Geräuschbelastung und einen niedrigen Stromverbrauch, sodass Sie sich auf Ihre Arbeit konzentrieren können. Die Reinigung der Truhe ist dank der wartungsarmen Technik ebenfalls zeitsparend.', 'Sicherheit ist ein zentrales Merkmal der TT 85-90 logg. Sie verfügt über einen abschließbaren Deckel und doppelte Magnetdichtungen. Zudem ist sie mit einem potentialfreien Alarmkontakt und einem 100mV/k Ausgang ausgestattet, was den Anschluss an ein Temperaturaufzeichnungssystem ermöglicht. Die umfangreiche Überwachung der Kältemaschine inklusive Fehleranalyse und die Ethernet-Schnittstelle ermöglichen eine Fernwartung und einen weltweiten Zugriff auf das Gerät. Im Alarmfall benachrichtigt das Gerät per E-Mail und verfügt über einen netzunabhängigen Alarm (optisch und akustisch) für mindestens 72 Stunden mit Anzeige der maximal erreichten Temperaturen im Innenraum.', 'Die Bedienung der TT 85-90 logg erfolgt über eine benutzerfreundliche Farb-Touchscreen-Steuerung. Ein integrierter Datenlogger ermöglicht das Auslesen des Temperaturverlaufs und von Alarmereignissen über einen USB-Stick. Die im Lieferumfang enthaltene FRYKA Software \"ST-Studio\" stellt sicher, dass die gespeicherten Daten manipulationssicher sind und für die Dokumentationspflicht verwendet werden können.', 'Die FRYKA Tiefkühltruhe TT 85-90 logg bietet einen Nutzinhalt von 90 Litern und einen Temperaturbereich von -85°C bis -50°C mit einer Regelgenauigkeit von +/- 1 K. Die Abmessungen des Innenraums betragen 59x37x43 cm (BxHxT). Das Gerät ist für eine Umgebungstemperatur von +12°C bis +30°C ausgelegt und hat einen elektrischen Anschluss von 230V/50Hz. Das Netzkabel ist 3 Meter lang und das Gewicht der Truhe beträgt 120 kg.', 'Die TT 85-90 logg ist mit einem Edelstahlgehäuse ausgestattet, das leicht zu reinigen ist und eine hohe Langlebigkeit gewährleistet. Die Truhe verfügt über ein zweistufiges Kaskaden-Kühlsystem mit hoher Leistung und einer Vakuum-Isolierung. Die anwenderfreundliche Steuerung ermöglicht eine umfangreiche Benutzerverwaltung zum Schutz der eingestellten Alarm- und Solltemperaturen sowie die Aufzeichnung der Zugriffe.', 'Im Lieferumfang der FRYKA Tiefkühltruhe TT 85-90 logg sind die Truhe selbst und ein 3 Meter langes Netzkabel enthalten. Optional können Edelstahlregale für bis zu 72 Standard-Cryoboxen und eine Wifi-Bridge zur Einbindung des Geräts in ein drahtloses Netzwerk erworben werden. Zudem sind vier Rollen, zwei davon mit Feststellbremse, und eine Durchführung von 19 mm erhältlich.']\n",
      "{'Abmessungen-cm': {'Außenmaße_Breite': 76, 'Außenmaße_Höhe': 88, 'Außenmaße_Tiefe': 71, 'Innenmaße_Breite': 59, 'Innenmaße_Höhe': 37, 'Innenmaße_Tiefe': 43}, 'Gewicht-kg': {'netto': 120}, 'Volumen-l': {'Gefrierinhalt': 90}, 'Temperatur-celsius': {'Einstellung_min': -85, 'Einstellung_max': -50, 'Umgebungstemperatur_min': 12, 'Umgebungstemperatur_max': 30, 'Abweichung': 1}, 'Energie': {}, 'Spannung-volt': {'Anschluss': 230}, 'Frequenz-hz': {'Anschluss': 50}, 'Geräusch-db': {}, 'Innenausstattung': {'Material_Schubfächer': 'Edelstahl'}, 'Ausstattung': {'Abtauung_automatisch': True, 'Türaufalarm': 'akustisch+optisch', 'Logging': True, 'Datenlogger': True, 'Schnittstelle': 'Ethernet', 'Steuerung': 'Farb-Touchscreen'}, 'Sonstiges': {'Netzkabel': 300, 'Zubehör': 'Edelstahlregale TT90-RC, Wifi-Bridge', 'Optionen': 'Rollen, Durchführung 19mm'}}\n"
     ]
    },
    {
     "name": "stderr",
     "output_type": "stream",
     "text": [
      " 25%|██▍       | 37/151 [11:15<32:14, 16.97s/it]"
     ]
    },
    {
     "name": "stdout",
     "output_type": "stream",
     "text": [
      "{'summary': 'Der Dometic HC 302 ist ein Medikamentenkühlschrank, der speziell für die Lagerung wärmeempfindlicher Medikamente in Krankenhäusern und Gesundheitszentren entwickelt wurde. Der Kühlschrank hält eine konstante Temperatur zwischen +2°C und +8°C gemäß DIN 58345 aufrecht. Mit einer integrierten Lüftung sorgt er für zuverlässig stabile Temperaturen. Ein akustisches Warnsignal ertönt, wenn die Tür länger als 20 Sekunden geöffnet bleibt, was die Sicherheit der gelagerten Medikamente erhöht. Der HC 302 ist mit einem Türschloss für eine sichere Aufbewahrung ausgestattet und verfügt über Schubladen mit flexiblen Abteilungen, die eine ordentliche Aufbewahrung der Medikamente gewährleisten. Ein integrierter, wiederaufladbarer Akku hält die Überwachungsfunktionen der Elektronik für mindestens 12 Stunden aufrecht, falls die Stromversorgung unterbrochen wird.', 'category': 'Medikamentenkühlschrank', 'manufacturer': 'Dometic', 'title': 'HC 302'}\n",
      "['Der Medikamentenkühlschrank HC 302 von Dometic ist ideal für Krankenhäuser und Gesundheitszentren, die wärmeempfindliche Medikamente gemäß DIN 58345 bei einer Temperatur zwischen +2 °C und +8 °C lagern müssen. Durch die integrierte Lüftung wird eine zuverlässig konstante Temperatur gewährleistet.', 'Der Kühlschrank ist mit einem Türschloss für eine sichere Aufbewahrung der Medikamente ausgestattet. Ein akustisches Warnsignal ertönt, wenn die Tür länger als 20 Sekunden geöffnet bleibt. Die Schubladen mit flexiblen Abteilungen bieten ein Volumen von bis zu 22 Litern und ermöglichen eine ordentliche und übersichtliche Aufbewahrung.', 'Bei Stromausfall bleiben die Überwachungsfunktionen der Elektronik durch einen integrierten, wiederaufladbaren Akku für mindestens 12 Stunden aufrechterhalten. Der Akku wird automatisch geladen, sobald das Gerät an die Netzstromversorgung angeschlossen und eingeschaltet wird. Die Ausziehschubladen sind für eine zuverlässige Funktion auch bei verstärkter Nutzung konzipiert.', 'Der Dometic HC 302 ist eine geräuschlose Lösung für die sichere und zuverlässige Lagerung von Medikamenten. Die integrierte Lüftung und die flexiblen Schubladen machen ihn zu einer perfekten Lösung für den Einsatz in medizinischen Einrichtungen.']\n",
      "{'Abmessungen-cm': {}, 'Gewicht-kg': {}, 'Volumen-l': {'Kühlinhalt': 22}, 'Temperatur-celsius': {'Einstellung_min': 2, 'Einstellung_max': 8}, 'Energie': {}, 'Spannung-volt': {}, 'Frequenz-hz': {}, 'Geräusch-db': {}, 'Innenausstattung': {'Anzahl_Schubfächer': 1, 'Material_Schubfächer': 'Kunststoff'}, 'Ausstattung': {'DIN_58375_konform': True, 'Türaufalarm': 'akustisch', 'Umluftkühlung': True}, 'Sonstiges': {}}\n"
     ]
    },
    {
     "name": "stderr",
     "output_type": "stream",
     "text": [
      " 25%|██▌       | 38/151 [11:32<31:43, 16.84s/it]"
     ]
    },
    {
     "name": "stdout",
     "output_type": "stream",
     "text": [
      "{'summary': 'Der Kirsch FROSTER LABEX-730 ULTIMATE ist ein Laborgefrierschrank mit einem Nutzvolumen von 700 Litern und einem Temperaturbereich von -10°C bis -30°C. Der Gefrierschrank ist speziell für die Lagerung von leicht entzündlichen und explosiven Stoffen konzipiert und verfügt über einen explosionsgeschützten Innenraum, der die Sicherheitsanforderungen der Zone 2 erfüllt und durch ein TÜV-Zertifikat zertifiziert ist. Mit einer PRO-Active-Steuerung, automatischer Abtauung und einer Umluftkühlung mit Axialgebläse bietet er eine präzise Temperaturregelung und hohe Sicherheit. Der Innenraum besteht aus poliertem Aluminium mit einer Schutzbeschichtung und ist mit fünf kunststoffbeschichteten Rosten ausgestattet. Zusätzlich verfügt der Gefrierschrank über ein Touch-Display, eine Zugangskontrolle mit Protokoll und eine digitale Datendokumentation über USB-Schnittstelle oder PC-KIT-NET. Mit einem Normalverbrauch von 6,02 kWh in 24 Stunden und einem Gewicht von 165 kg ist er energieeffizient und robust.', 'category': 'Labortiefkühlschrank', 'manufacturer': 'Kirsch', 'title': 'FROSTER LABEX-730 ULTIMATE'}\n",
      "['Der Kirsch FROSTER LABEX-730 Laborgefrierschrank ist speziell für die sichere Lagerung von leicht entzündlichen und explosiven Stoffen konzipiert. Der explosionsgeschützte Innenraum entspricht den Sicherheitsanforderungen der Zone 2 und ist TÜV-zertifiziert, was die Zündquellfreiheit im Inneren des Schrankes garantiert.', 'Der Gefrierschrank verfügt über eine geräuscharme, servicefreundliche und hermetisch erschütterungsfreie Kältemaschine. Die Isolierung ist mit 70 mm besonders stark und besteht aus hochwertigen, druckgeschäumten und umweltschonenden Materialien. Der Innenraum besteht aus poliertem Aluminium mit einer farblosen Schutzbeschichtung und bietet flexible Stellleisten sowie fünf kunststoffbeschichtete Roste.', 'Die Steuerung erfolgt über eine PRO-Active-Steuerung, die eine präzise Temperaturregelung ermöglicht. Der Gefrierschrank bietet eine Temperaturspanne von ca. -10°C bis -30°C und verfügt über eine digitale Temperaturanzeige. Ein optisches und akustisches Alarmsignal warnt bei Temperaturabweichungen. Zudem ist ein potentialfreier Kontakt für den Anschluss an zentrale Leittechnik und eine USB-Schnittstelle für die Datenauslese vorhanden.', 'Der Kirsch FROSTER LABEX-730 Laborgefrierschrank ist mit zahlreichen Innovationen ausgestattet, darunter ein Umluftgekühltes System mit Querstromgebläse, das bei geöffneten Türen automatisch abschaltet. Die Schnellfrosteinrichtung ermöglicht ein schnelles Einfrieren von Gefriergut. Die Tür ist selbstschließend, abschließbar und verfügt über einen leicht austauschbaren Kunststoff-Magnetdichtungsrahmen.', 'Die Außenmaße des Gefrierschranks betragen 77x98x196 cm (BxTxH) und die Innenmaße 62x77x140 cm (BxTxH). Der Kühlinhalt beträgt 700 Liter und der Normalverbrauch liegt bei 6,02 kWh in 24 Stunden. Der Gefrierschrank ist mit verstellbaren Füßen zum Ausgleich von Bodenunebenheiten ausgestattet.', 'Zusätzliche Funktionen umfassen eine Zugangskontrolle mit Protokoll, eine grafische Anzeige des Temperaturverlaufs und Min/Max-Temperatur, sowie digitale Datendokumentation über PC-KIT-NET oder USB-Schnittstelle mit der Software KIRSCH Datanet. Das Touch-Display mit edlem Glasdesign ermöglicht eine einfache Bedienung und Überwachung.']\n",
      "{'Abmessungen-cm': {'Außenmaße_Breite': 77, 'Außenmaße_Tiefe': 98, 'Außenmaße_Höhe': 195.5, 'Innenmaße_Breite': 62, 'Innenmaße_Tiefe': 77, 'Innenmaße_Höhe': 140}, 'Gewicht-kg': {'netto': 165, 'brutto': 200}, 'Volumen-l': {'Kühlinhalt': 700}, 'Temperatur-celsius': {'Einstellung_min': -30, 'Einstellung_max': -10, 'Umgebungstemperatur_min': 10, 'Umgebungstemperatur_max': 32, 'Abweichung': 2}, 'Energie': {'Leistungsaufnahme-watt': 550, 'Wärmeabgabe-watt': 706, 'Normalverbrauch-kwh_24h': 6.02}, 'Spannung-volt': {'Spannung': 220, 'Spannung_max': 240}, 'Frequenz-hz': {'Frequenz': 50}, 'Geräusch-db': {'Emission': 53.9}, 'Innenausstattung': {'Anzahl_Rost': 5, 'Belastbarkeit_Ablagefläche-kg': 40}, 'Ausstattung': {'Abtauung_automatisch': True, 'Umluftkühlung': True, 'ATEX_95_konform': True, 'Türaufalarm': 'akustisch', 'Schnittstelle': 'LAN', 'Kältemaschine_wassergekühlt': 'optional', 'Kältemaschine_60Hz': 'optional', 'Kältemaschinen-Ventilator': True, 'Fahrbare_Ausführung': True, 'Tauwassergefäß': True}, 'Sonstiges': {'flexible_Ausstattung': True}}\n"
     ]
    },
    {
     "name": "stderr",
     "output_type": "stream",
     "text": [
      " 26%|██▌       | 39/151 [11:59<37:20, 20.01s/it]"
     ]
    },
    {
     "name": "stdout",
     "output_type": "stream",
     "text": [
      "{'summary': 'Der Liebherr HMFvh 4001 Perfection ist ein Medikamentenkühlschrank mit einem Nutzvolumen von 295 Litern und einer präzisen Temperaturregelung von +5°C. Das Gerät ist nach DIN 13277 zertifiziert und bietet eine hohe Temperaturstabilität mit einer Abweichung von maximal +/-2 K vom Sollwert. Es verfügt über ein dynamisches Kühlsystem und eine automatische Abtauung, was eine zuverlässige Lagerung von temperaturempfindlichen Medikamenten und Impfstoffen gewährleistet. Der Kühlschrank ist mit einem integrierten Datenlogger ausgestattet, der Temperaturprofile und Alarmhistorie bis zu fünf Jahre speichern kann. Zudem bietet er verschiedene Alarmsysteme, darunter optische und akustische Alarme, einen Netzausfallalarm und ein SafetyDevice, das bei Temperaturabweichungen aktiv wird. Die Schnittstellen umfassen USB, LAN und WiFi, was eine einfache Integration in bestehende Überwachungssysteme ermöglicht. Der HMFvh 4001 Perfection ist ideal für den Einsatz in medizinischen Einrichtungen, die eine sichere und zuverlässige Kühllösung benötigen.', 'category': 'Medikamentenkühlschrank', 'manufacturer': 'Liebherr', 'title': 'HMFvh 4001 Perfection'}\n",
      "['Die Liebherr-Medikamentenkühlschränke nach DIN 13277 sind speziell für die Lagerung temperaturempfindlicher Medikamente, Impfstoffe und Proben entwickelt worden. Sie bieten eine zuverlässige Lagerung durch ein dynamisches Kühlsystem, eine hochwirksame Isolierung und eine gradgenaue Temperaturregelung. Optische und akustische Alarmsysteme sorgen für zusätzliche Sicherheit und geschützten Zugriff.', 'Die Geräte zeichnen sich durch höchste Temperaturkonstanz, Energieeffizienz, Robustheit und Benutzerfreundlichkeit aus. Sie reduzieren die Energie- und Gesamtbetriebskosten erheblich und entlasten den Nutzer im täglichen Betrieb.', 'Die integrierte Temperaturüberwachung umfasst einen Logger, der das Temperaturprofil, die Alarmhistorie und Serviceinformationen bis zu fünf Jahre speichert. Diese Daten können per USB-Schnittstelle ausgelesen oder über eine WiFi-/LAN-Schnittstelle mit dem SmartMonitoring von Liebherr oder anderen lokalen Systemen verbunden werden. SmartMonitoring ist eine cloudbasierte Lösung, die bei Temperaturabweichungen sofort per E-Mail, SMS oder Anruf alarmiert. Eine kostenpflichtige Lizenz ist für die Nutzung erforderlich. Zusätzlich ermöglicht eine integrierte Öffnung den Anschluss externer Sensoren zur Temperaturüberwachung.', 'Bei einem Stromausfall oder Temperaturanstieg wird ein integrierter Akku aktiviert, der Alarme auslöst und die Stromversorgung übernimmt. Nach Wiederherstellung der Stromversorgung zeigt das Gerät den Zeitpunkt des Ausfalls und die maximale erreichte Temperatur an. Das SafetyDevice stabilisiert die Temperatur und schützt den Inhalt vor dem Einfrieren. SmartLock verriegelt automatisch die Tür bei Alarm, um zu verhindern, dass Produkte nach einer Unterbrechung der Kühlkette versehentlich in Umlauf geraten.', 'Die Perfection-Serie bietet eine Temperaturstabilität mit einer Abweichung vom Sollwert von +/-2 K (Modellvariante H63 +/-3 K) und eine Kalibriermöglichkeit. Die Lagersicherheit wird durch optische und akustische Alarme, ein Alarmrelais, eine Alarmtestfunktion, ein +2-°C-SafetyDevice, einen batteriegepufferten Netzausfallalarm, eine Alarmhistorie mit Echtzeituhr, einen integrierten Datenlogger und ein elektronisches Schloss gewährleistet. Die Geräte erfüllen die DIN 13277 und verfügen über selbstschließende Türen bei < 90°.', 'Die Schnittstellen umfassen LAN/WiFi, eine lokale API und eine USB-Schnittstelle zum Auslesen des Datenloggers. SmartMonitoring ist durch ein integriertes SmartModule möglich.', 'Die Ausstattung umfasst ein 2,4”-Farbdisplay mit Touch & Swipe, einen individuell einstellbaren Wartungstimer, Rollen/Stellfüße als Zubehör, eine Verdampferabdeckung, eine Fühlerdurchführung und Isolier- sowie Glastürmodelle mit vertikaler Beleuchtung. Die Geräte verfügen über einen antimikrobiellen Griff mit Öffnungsmechanik.', 'Die Medikamentenkühlschränke sind ultra-effizient im Energieverbrauch und entsprechen den Sicherheitsstandards nach IEC 61010-2-011.']\n",
      "{'Abmessungen-cm': {'Außenmaße_Breite': 59.7, 'Außenmaße_Tiefe': 65.4, 'Außenmaße_Höhe': 188.4, 'Innenmaße_Breite': 46, 'Innenmaße_Tiefe': 42.3, 'Innenmaße_Höhe': 166}, 'Gewicht-kg': {'netto': 64.5, 'brutto': 73}, 'Volumen-l': {'Kühlinhalt': 295, 'Gefrierinhalt': 394}, 'Temperatur-celsius': {'Einstellung_min': 5, 'Einstellung_max': 5, 'Umgebungstemperatur_min': 10, 'Umgebungstemperatur_max': 35, 'Abweichung': 2.4}, 'Energie': {'Normalverbrauch-kwh_24h': 0.47, 'Wärmeabgabe-watt': 69.44}, 'Spannung-volt': {'Spannung': 230, 'Anschlusswert': 2}, 'Frequenz-hz': {}, 'Geräusch-db': {'Emission': 49}, 'Innenausstattung': {'Anzahl_Ablageflächen': 6, 'Belastbarkeit_Ablagefläche-kg': 45, 'Material_Körbe': 'Kunststoff'}, 'Ausstattung': {'Abtauung_automatisch': True, 'DIN_13277_konform': True, 'Türaufalarm': 'akustisch+optisch', 'Datenlogger': True, 'Schnittstelle': 'WLAN/LAN', 'Steuerung': '2,4\"-Farbdisplay, Touch & Swipe'}, 'Sonstiges': {'Kältemittel': 'R 600a', 'Innenbeleuchtung': 'LED-Lichtsäule links', 'Griff': 'Antimikrobieller Griff mit Öffnungsmechanik', 'Potentialfreier_Kontakt': True, 'Netzausfallalarm': 'unmittelbar bei Netzunterbrechung für mind. 12 h', 'Gehäusematerial': 'Stahl', 'Farbe': 'weiß', 'Türausführung': 'Volltür', 'Schloss': 'elektronisch, mit Fernbedienung', 'Türanschlag': 'rechts wechselbar', 'Fühlerdurchführung': '1 x Ø 10 mm', 'Vernetzbarkeit': 'SmartModule / Integriert, entnehmbar'}}\n"
     ]
    },
    {
     "name": "stderr",
     "output_type": "stream",
     "text": [
      " 26%|██▋       | 40/151 [12:20<37:45, 20.41s/it]"
     ]
    },
    {
     "name": "stdout",
     "output_type": "stream",
     "text": [
      "{'summary': 'Der Kirsch FROSTER LABO-330 ULTIMATE ist ein Laborgefrierschrank mit einem Nutzinhalt von 300 Litern und einem Temperaturbereich von -10°C bis -30°C. Der Gefrierschrank verfügt über eine PRO-ACTIVE-Steuerung, die eine präzise Temperaturregelung durch zwei PT-1000 Fühler ermöglicht. Zu den weiteren Merkmalen gehören eine Umluftkühlung, eine Schnellfrosteinrichtung, eine automatische Abtauung und eine USB-Schnittstelle für die digitale Temperaturdokumentation. Das Gerät ist mit einem Touch-Display, einer Zugangskontrolle mit Protokoll und einer grafischen Anzeige des Temperaturverlaufs ausgestattet. Der Kirsch FROSTER LABO-330 ULTIMATE ist ideal für den Einsatz in Laboren, Kliniken und im Gesundheitswesen.', 'category': 'Labortiefkühlschrank', 'manufacturer': 'Kirsch', 'title': 'FROSTER LABO-330 ULTIMATE'}\n",
      "['Der Kirsch FROSTER LABO-330 ist ein Laborgefrierschrank mit PRO-Active-Steuerung und einer geräuscharmen, energiesparenden sowie hermetisch gekapselten Kältemaschine für 220-240 V Wechselstrom. Der Schrank verfügt über verstellbare Füße zum Ausgleich von Bodenunebenheiten und eine Schnellfrosteinrichtung für schnelles Einfrieren. Der Türanschlag ist wechselbar und der Schnellabtauvorgang erfolgt automatisch durch zeitlich begrenzte und thermische Umkehr des Kältemittelkreislaufs. Das Tauwasser wird im Kältemaschinenraum vaporisiert.', 'Die Isolierung des FROSTER LABO-330 ist mit 70 mm besonders stark und besteht aus hochwertigen, druckgeschäumten und umweltschonenden Materialien. Dies garantiert eine hohe Temperaturkonstanz bei geringem Energieverbrauch. Der Innenraum besteht aus poliertem Aluminium mit farbloser Schutzbeschichtung und Stellleisten für die Innenausstattung. Zur Innenausstattung gehören vier kunststoffbeschichtete Roste auf Auflegern.', 'Das Außengehäuse des Laborgefrierschranks besteht aus verzinktem Stahlblech mit einer kratzfesten, weißen Pulverbeschichtung. Die elektronische Temperatursteuerung regelt die Temperatur unabhängig von wechselnden Außentemperaturen. Der Schrank verfügt über ein umluftgekühltes System mit Querstromgebläse, das beim Öffnen der Tür automatisch abschaltet. Weitere Merkmale sind ein Schaltzentrum mit Schlüsselschalter und Folientastatur, eine digitale Temperaturanzeige sowie akustische und optische Alarmsignale.', 'Der FROSTER LABO-330 bietet einen potentialfreien Kontakt mit Anschluss an die zentrale Leittechnik und eine USB-Schnittstelle. Diese Eigenschaften machen den Gefrierschrank zu einem optimalen Partner für Kühlung in Labor, Klinik und im gesamten Gesundheitswesen. Die Temperatur kann zwischen ca. -10°C und -30°C eingestellt werden.', 'Der Laborgefrierschrank verfügt über eine Tür mit leicht austauschbarem Kunststoff-Magnetdichtungsrahmen und ist abschließbar. Die vier kunststoffbeschichteten Roste haben eine maximale Belastung von je 40 kg. Der Normalverbrauch beträgt 3,69 kWh in 24 Stunden bei einem Kühlinhalt von ca. 300 Litern. Die Außenmaße einschließlich Türgriff betragen 74x77x159 cm (BxTxH) und die Innenmaße 59,5x53x95 cm (BxTxH).', 'Zusätzliche Funktionen umfassen Schnellabtauung, Tauwasserverdunstung, Schnellfrosteinrichtung, Umluftkühlung, ein 2,8 m langes Stecker-Kabel, USB-Schnittstelle, optische und akustische Alarmsignale sowie einen Minimum/Maximum-Temperatur-Speicher.']\n",
      "{'Abmessungen-cm': {'Außenmaße_Breite': 74, 'Außenmaße_Tiefe': 77, 'Außenmaße_Höhe': 166, 'Innenmaße_Breite': 59.5, 'Innenmaße_Tiefe': 53, 'Innenmaße_Höhe': 95}, 'Gewicht-kg': {'netto': 127, 'brutto': 142}, 'Volumen-l': {'Kühlinhalt': 300}, 'Temperatur-celsius': {'Einstellung_min': -30, 'Einstellung_max': -10, 'Umgebungstemperatur_min': 10, 'Umgebungstemperatur_max': 32, 'Abweichung': 1.96}, 'Energie': {'Leistungsaufnahme-watt': 590, 'Wärmeabgabe-watt': 693, 'Normalverbrauch-kwh_24h': 3.69}, 'Spannung-volt': {'Spannung': 220, 'Spannung_max': 240}, 'Frequenz-hz': {'Frequenz': 50}, 'Geräusch-db': {'Emission': 51.2}, 'Innenausstattung': {'Anzahl_Schubfächer': 4, 'Belastbarkeit_Ablagefläche-kg': 40}, 'Ausstattung': {'Abtauung_automatisch': True, 'Umluftkühlung': True, 'Kältemaschinen-Ventilator': True, 'Alarmierung_Stromausfall': True, 'PC-KIT-NET': True, 'flexible_Ausstattung': True}, 'Sonstiges': {'Dekorrahmen': 'optional', 'LED-Lichtleiste_Decke': 'optional', 'Fahrbare_Ausführung': 'optional', 'Rost_mit_Schienen': 'optional', 'Aluminium-Schubfach': 'optional', 'Drahtkorb_mit_Schienen': 'optional', 'Edelstahl-Schubfach': 'optional', 'Vario_Support': 'optional', 'Tauwassergefäß': 'optional', 'Kältemaschine_60Hz': 'optional'}}\n"
     ]
    },
    {
     "name": "stderr",
     "output_type": "stream",
     "text": [
      " 27%|██▋       | 41/151 [12:41<37:49, 20.63s/it]"
     ]
    },
    {
     "name": "stdout",
     "output_type": "stream",
     "text": [
      "{'summary': 'Der Liebherr LGUex 1500 MediLine ist ein Gefrierschrank speziell für Laboratorien, der Temperaturen von -9°C bis -26°C abdeckt. Mit einem Nutzvolumen von 129 Litern und einer präzisen Komfortelektronik mit 1/10°-Temperaturanzeige bietet er eine genaue Temperaturregelung. Der Gefrierschrank verfügt über ein umfassendes Alarmsystem, das optische und akustische Warnungen bei Temperaturabweichungen und zu lange geöffneter Tür ausgibt. Zudem ist er mit einem integrierten Datenspeicher ausgestattet, der die letzten Alarmmeldungen und den Verlauf der Innentemperatur protokolliert. Der LGUex 1500 ist unterbaufähig und verfügt über drei Schubfächer und einen Korb. Er ist mit einer RS 485 Schnittstelle und einem potentialfreien Kontakt für die Alarmweiterschaltung ausgestattet. Der Gefrierschrank ist explosionsgeschützt und erfüllt die EU-Richtlinie 2014/34/EU (ATEX), was ihn ideal für die Lagerung von explosiven und leicht entzündlichen Stoffen in geschlossenen Behältnissen macht.', 'category': 'Gefrierschrank', 'manufacturer': 'Liebherr', 'title': 'LGUex 1500 MediLine'}\n",
      "['Der Liebherr LGUex1500 MediLine ist ein explosionsgeschützter Laborgefrierschrank, der die EU-Richtlinie 2014/34/EU (ATEX) erfüllt und für die Lagerung von explosiven und leicht entzündlichen Stoffen in geschlossenen Behältnissen geeignet ist. Das Gerät ist besonders für Sonderlaboratorien und die chemische Industrie interessant.', 'Der Gefrierschrank ist mit einer präzisen Komfortelektronik ausgestattet, die eine 1-Punkt-Kalibrierung für eine genaue Messung der Innentemperatur ermöglicht. Die Temperatur wird präzise auf dem eingestellten Wert gehalten, was für die hohen Hygieneansprüche im Labor wichtig ist. Die Anzeige und Tastatur sind foliert und somit leicht abwaschbar.', 'Das Gerät verfügt über ein umfassendes Alarmsystem, das bei Temperaturüberschreitungen, länger als eine Minute offener Tür, Netzausfall und defektem Fühler warnt. Die Alarme sind sowohl akustisch als auch optisch. Ein Datenspeicher protokolliert kontinuierlich die Innentemperatur und die letzten drei Temperatur- und Netzausfallalarme mit Datum, Uhrzeit und Dauer, die über das Display ausgelesen werden können.', 'Der LGUex1500 ist unterbaufähig und bietet drei Schubfächer und einen Korb. Die funktionale Tür bleibt bei einem Öffnungswinkel von 90° geöffnet und schließt sich automatisch bei einem Winkel unter 60°. Zudem verfügt das Gerät über eine RS 485 Schnittstelle für den Anschluss an zentrale Alarm- und Dokumentationssysteme sowie einen potentialfreien Kontakt für die Alarmweiterschaltung an ein externes Fernwarnsystem.', 'Der Gefrierschrank ist mit SmartMonitoring vorinstalliert. Mit einer gesondert erhältlichen Lizenz können Nutzer die SmartMonitoring-App verwenden, um Mess- und Betriebsdaten einfach zu überwachen.']\n",
      "{'Abmessungen-cm': {'Außenmaße_Breite': 60.1, 'Außenmaße_Tiefe': 61.8, 'Außenmaße_Höhe': 82, 'Innenmaße_Breite': 45.4, 'Innenmaße_Tiefe': 45, 'Innenmaße_Höhe': 66.3}, 'Gewicht-kg': {'netto': 42, 'brutto': 43}, 'Volumen-l': {'Kühlinhalt': 129, 'Gefrierinhalt': 139}, 'Temperatur-celsius': {'Einstellung_min': -26, 'Einstellung_max': -9, 'Umgebungstemperatur_min': 10, 'Umgebungstemperatur_max': 35, 'Abweichung': 6.6}, 'Energie': {'Normalverbrauch-kwh_24h': 0.805}, 'Spannung-volt': {'Spannung': 220}, 'Frequenz-hz': {}, 'Geräusch-db': {'Emission': 45}, 'Innenausstattung': {'Anzahl_Schubfächer': 3, 'Anzahl_Körbe': 1, 'Belastbarkeit_Ablagefläche-kg': 24, 'Material_Schubfächer': 'Verdampferplatten'}, 'Ausstattung': {'Abtauung_automatisch': False, 'Türaufalarm': 'akustisch+optisch', 'Schnittstelle': 'RS485', 'Steuerung': 'LED-7-Segmentanzeige mit Tasten'}, 'Sonstiges': {'Kältemittel': 'R 600a', 'Kühlsystem': 'statisch', 'Material Innenbehälter': 'Kunststoff weiß', 'Netzausfallalarm': 'bei Netzrückkehr', 'Potentialfreier Kontakt': True, 'Vernetzungslösung': 'Nachrüstbar', 'Gehäusematerial / Farbe': 'Stahl / weiß', 'Türausführung': 'Stahl', 'Fachhöhe in mm': '1 × 149', 'Art des Schlosses': 'mechanisch', 'Griff': 'Stangengriff mit integrierter Öffnungsmechanik', 'Türanschlag': 'rechts wechselbar'}}\n"
     ]
    },
    {
     "name": "stderr",
     "output_type": "stream",
     "text": [
      " 28%|██▊       | 42/151 [12:58<35:20, 19.45s/it]"
     ]
    },
    {
     "name": "stdout",
     "output_type": "stream",
     "text": [
      "{'summary': 'Der Liebherr SFTfg 1501 Performance ist ein Laborgefriergerät mit zündquellenfreiem Innenraum, das höchste Sicherheitsstandards mit effizienter Kühltechnologie vereint. Mit einem Nettovolumen von 71 Litern und einem einstellbaren Temperaturbereich von -9°C bis -30°C eignet sich dieses Gerät ideal für die sichere Lagerung temperaturempfindlicher und potenziell brennbarer Substanzen. Der zündquellenfreie Innenraum ist gemäß der ATEX-Richtlinie 2014/34/EU zertifiziert und erfüllt höchste Sicherheitsstandards für den Umgang mit explosiven Atmosphären. Die integrierte SmartFrost-Technologie reduziert die Eisbildung im Innenraum erheblich, wodurch Abtauvorgänge seltener erforderlich sind. Das Gerät kann mit einer nachrüstbaren WiFi-/LAN-Schnittstelle ausgestattet werden, die die Integration in das Liebherr SmartMonitoring-System ermöglicht. Mit einem jährlichen Energieverbrauch von nur 180 kWh und einer Nutzungsdauer von bis zu 15 Jahren bietet der SFTfg 1501 Performance eine nachhaltige und zuverlässige Lösung für anspruchsvolle Anwendungen.', 'category': 'Labortiefkühlschrank', 'manufacturer': 'Liebherr', 'title': 'SFTfg 1501 Performance'}\n",
      "['Der Liebherr SFTfg 1501 Performance ist ein kompaktes Laborgefriergerät mit einem Nettovolumen von 71 Litern und einem einstellbaren Temperaturbereich von -9 °C bis -30 °C. Es eignet sich ideal für die sichere Lagerung temperaturempfindlicher und potenziell brennbarer Substanzen in geschlossenen Behältnissen.', 'Ein herausragendes Merkmal des SFTfg 1501 ist der zündquellenfreie Innenraum, der gemäß der ATEX-Richtlinie 2014/34/EU zertifiziert ist. Mit der Klassifizierung II 3 G Ex ec IIC T6 (Zone 22) erfüllt das Gerät höchste Sicherheitsstandards für den Umgang mit explosiven Atmosphären.', 'Die integrierte SmartFrost-Technologie reduziert die Eisbildung im Innenraum erheblich, wodurch Abtauvorgänge seltener erforderlich sind. Die glatten, reinigungsfreundlichen Innenwände erleichtern das Abtauen, und ein eingeschäumter, umwickelter Verdampfer sorgt für hohe Energieeffizienz und gleichmäßige Kühlung.', 'Für zusätzliche Sicherheit und Komfort kann das Gerät mit einer nachrüstbaren WiFi-/LAN-Schnittstelle ausgestattet werden, die die Integration in das Liebherr SmartMonitoring-System ermöglicht. Diese digitale Lösung überwacht und dokumentiert die Lagertemperatur kontinuierlich und alarmiert bei Abweichungen.', 'Mit einem jährlichen Energieverbrauch von nur 180 kWh und einer Nutzungsdauer von bis zu 15 Jahren bietet der SFTfg 1501 Performance eine nachhaltige und zuverlässige Lösung für anspruchsvolle Anwendungen. Hochwertige Materialien und eine solide Verarbeitung garantieren Langlebigkeit, während Liebherr eine Ersatzteilverfügbarkeit von mindestens zehn Jahren sicherstellt.', 'Die kompakten Außenmaße von 81,9 cm (Höhe) x 59,7 cm (Breite) x 60,5 cm (Tiefe) ermöglichen eine flexible Platzierung, sei es als Unterbaugerät oder freistehend. Der antimikrobielle Griff mit Öffnungsmechanik und die selbstschließende Tür tragen zusätzlich zur Benutzerfreundlichkeit und Hygiene bei.']\n",
      "{'Abmessungen-cm': {'Außenmaße_Breite': 59.7, 'Außenmaße_Tiefe': 60.5, 'Außenmaße_Höhe': 81.9, 'Innenmaße_Breite': 38, 'Innenmaße_Tiefe': 41, 'Innenmaße_Höhe': 61}, 'Gewicht-kg': {'netto': 39, 'brutto': 41, 'Maximale Gesamtbeladung': 120}, 'Volumen-l': {'Kühlinhalt': 71, 'Gefrierinhalt': 101}, 'Temperatur-celsius': {'Einstellung_min': -30, 'Einstellung_max': -9, 'Umgebungstemperatur_min': 10, 'Umgebungstemperatur_max': 35, 'Abweichung': 3.3}, 'Energie': {'Normalverbrauch-kwh_24h': 0.49, 'Wärmeabgabe-watt': 60}, 'Spannung-volt': {'Spannung': 240}, 'Frequenz-hz': {'Frequenz': 50}, 'Geräusch-db': {'Emission': 40}, 'Innenausstattung': {'Anzahl_Schubfächer': 3, 'Belastbarkeit_Ablagefläche-kg': 40, 'Material_Schubfächer': 'Glas'}, 'Ausstattung': {'Abtauung_automatisch': False, 'Türaufalarm': 'akustisch+optisch', 'Schnittstelle': 'WLAN/LAN', 'Steuerung': 'Monochrom-Display, Touch-Buttons'}, 'Sonstiges': {'EAN-Nr.': '9005382282038', 'Kältemittel': 'R 600a', 'Kühlsystem': 'statisch', 'Material Innenbehälter': 'Kunststoff weiß', 'Netzausfallalarm': 'bei Netzrückkehr', 'Potentialfreier Kontakt': True, 'Vernetzungslösung': 'Nachrüstbar', 'Türanschlag': 'rechts wechselbar', 'Griff': 'Antimikrobieller Griff mit Öffnungsmechanik', 'Art des Schlosses': 'mechanisch', 'Fühlerdurchführung': '1 x Ø 10 mm', 'Gehäusematerial/Farbe': 'Stahl / weiß', 'Türmaterial / Farbe': 'Stahl / weiß'}}\n"
     ]
    },
    {
     "name": "stderr",
     "output_type": "stream",
     "text": [
      " 28%|██▊       | 43/151 [13:14<33:16, 18.49s/it]"
     ]
    },
    {
     "name": "stdout",
     "output_type": "stream",
     "text": [
      "{'summary': 'Der Kirsch BL-520 PRO-ACTIVE ist ein Blutkonservenkühlschrank mit einem Nutzvolumen von 500 Litern und einer konstanten Temperatur von +4°C. Der Kühlschrank ist nach DIN 58371 genormt und bietet eine Temperaturabweichung von nur 1,1°C ohne Abtauung, was ihn ideal für die sichere Lagerung von Blutkonserven macht. Mit einer automatischen Abtauung, Umluftkühlung und einer Geräuschemission von 41,2 dB ist er besonders leistungsstark und leise. Optional kann der Kühlschrank mit einer wassergekühlten Kältemaschine, einer LED-Lichtleiste, einer Glastür mit Schloss und verschiedenen Schubfachoptionen ausgestattet werden. Der Kühlschrank ist fahrbar und hat ein Gewicht von 139 kg netto bzw. 160 kg brutto.', 'category': 'Blutkühlschrank', 'manufacturer': 'Kirsch', 'title': 'BL-520 PRO-ACTIVE'}\n",
      "['Dieser Kühlschrank ist nach DIN 58371 genormt und eignet sich somit ideal für die sichere Aufbewahrung von Blutkonserven in medizinischen Einrichtungen. Die Norm garantiert, dass das Gerät spezifische Anforderungen an Temperaturstabilität und Hygiene erfüllt, die für die Lagerung von Blutprodukten essenziell sind.', 'Die Temperatur wird präzise zwischen +2°C und +6°C gehalten, um die Qualität und Sicherheit der Blutkonserven zu gewährleisten. Diese Temperaturkontrolle ist entscheidend, um die Wirksamkeit der Blutprodukte zu erhalten und eine sichere Anwendung zu garantieren.', 'Das Gerät ist mit einem zuverlässigen Kühlsystem ausgestattet, das eine gleichmäßige Kühlung im gesamten Innenraum sicherstellt. Dies verhindert Temperaturschwankungen und sorgt für optimale Lagerbedingungen.', 'Für die einfache Überwachung und Steuerung ist der Kühlschrank mit einem digitalen Temperaturdisplay und einer benutzerfreundlichen Bedienoberfläche ausgestattet. Dies ermöglicht eine präzise Kontrolle und Anpassung der Kühlbedingungen.', 'Der Kühlschrank verfügt über eine robuste Bauweise und hochwertige Materialien, die eine lange Lebensdauer und einfache Reinigung gewährleisten. Dies ist besonders wichtig in medizinischen Umgebungen, wo Hygiene und Haltbarkeit entscheidend sind.']\n",
      "{'Abmessungen-cm': {'Außenmaße_Breite': 77, 'Außenmaße_Tiefe': 76, 'Außenmaße_Höhe': 195.5, 'Innenmaße_Breite': 62, 'Innenmaße_Tiefe': 56, 'Innenmaße_Höhe': 140}, 'Gewicht-kg': {'netto': 139, 'brutto': 160}, 'Volumen-l': {'Kühlinhalt': 500}, 'Temperatur-celsius': {'Einstellung_min': 4, 'Einstellung_max': 4, 'Umgebungstemperatur_min': 10, 'Umgebungstemperatur_max': 38, 'Abweichung': 1.1}, 'Energie': {'Leistungsaufnahme-watt': 250, 'Wärmeabgabe-watt': 554, 'Normalverbrauch-kwh_24h': 1.5}, 'Spannung-volt': {'Spannung': 220, 'Spannung_max': 240}, 'Frequenz-hz': {'Frequenz': 50}, 'Geräusch-db': {'Emission': 41.2}, 'Innenausstattung': {'Anzahl_Schubfächer': 5, 'Belastbarkeit_Ablagefläche-kg': 50, 'Material_Schubfächer': 'Aluminium'}, 'Ausstattung': {'Abtauung_automatisch': True, 'Umluftkühlung': True, 'Türaufalarm': 'akustisch', 'Steuerung': 'PC-KIT-NET', 'Kältemaschine_wassergekühlt': 'optional', 'Kältemaschine_60Hz': 'optional', 'Kältemaschinen-Ventilator': True, 'LED-Lichtleiste_Seitenwand': 'optional', 'Glastür_mit_Schloss': 'optional', 'Türkoppelungs-Beschlag': 'optional', 'Fahrbare_Ausführung': True, 'Rost_mit_Auflegern': 'optional', 'Rost_mit_Schienen': 'optional', 'Drahtkorb_mit_Schienen': 'optional', 'Edelstahl-Schubfach': 'optional', 'Schubfacheinteilung_im_Set': 'optional', 'Stellleisten': True, 'Vario_Support': 'optional', 'Tauwassergefäß': 'optional'}, 'Sonstiges': {'Außengehäuse_Chromnickelstahl_4301': 'optional', 'Dekorrahmen': 'optional'}}\n"
     ]
    },
    {
     "name": "stderr",
     "output_type": "stream",
     "text": [
      " 29%|██▉       | 44/151 [13:30<31:38, 17.74s/it]"
     ]
    },
    {
     "name": "stdout",
     "output_type": "stream",
     "text": [
      "{'summary': 'Der Liebherr SFPvh 1402 Perfection ist ein Laborgefriergerät mit Umluftkühlung, speziell entwickelt für medizinische Einrichtungen, Forschungslabore und die Biotechnologie. Mit einem Nettovolumen von 1.091 Litern bietet es ausreichend Platz für die sichere Lagerung temperaturempfindlicher Proben und Substanzen. Das Gerät ermöglicht eine präzise Temperaturregelung im Bereich von -9°C bis -35°C und garantiert eine maximale Temperaturschwankung von ±5°C. Dank der NoFrost-Technologie entfällt das manuelle Abtauen, da Feuchtigkeit durch die Umluftkühlung gebunden und automatisch entfernt wird. Für zusätzliche Sicherheit sorgt das Alarm-Relais, das im Falle einer Störung sofort eine Benachrichtigung sendet. Die integrierte WiFi-/LAN-Schnittstelle ermöglicht die Integration in das Liebherr SmartMonitoring-System, welches eine kontinuierliche Überwachung und Dokumentation der Lagertemperatur gewährleistet.', 'category': 'Labortiefkühlschrank', 'manufacturer': 'Liebherr', 'title': 'SFPvh 1402 Perfection'}\n",
      "['Der Liebherr SFPvh 1402 ist ein Laborgefrierschrank, der für medizinische Einrichtungen, Forschungslabore und die Biotechnologie konzipiert wurde. Mit einem Nettovolumen von 1.091 Litern bietet er ausreichend Stauraum für temperaturempfindliche Proben und Substanzen.', 'Das Gerät ermöglicht eine präzise Temperaturregelung zwischen -9°C und -35°C mit einer maximalen Temperaturschwankung von ±5°C. Die NoFrost-Technologie verhindert die Eisbildung durch Umluftkühlung, wodurch das manuelle Abtauen entfällt.', 'Für zusätzliche Sicherheit ist ein Alarm-Relais integriert, das bei Störungen eine Benachrichtigung an die zuständige Zentrale sendet. Die WiFi-/LAN-Schnittstelle ermöglicht die Integration in das Liebherr SmartMonitoring-System für eine kontinuierliche Überwachung und Dokumentation der Lagertemperatur.', 'Die robuste Bauweise mit hochwertigen Materialien, wie einem Innenbehälter aus Chrom-Nickel-Stahl (1.4301 / AISI 304), und eine Nutzungsdauer von bis zu 15 Jahren unterstreichen die Langlebigkeit des Geräts. Liebherr garantiert zudem eine Ersatzteilverfügbarkeit von mindestens zehn Jahren.', 'Mit einem jährlichen Energieverbrauch von 1.162 kWh und einer Vielzahl an durchdachten Funktionen ist der SFPvh 1402 ideal für professionelle Anwendungen, die höchste Anforderungen an Sicherheit, Zuverlässigkeit und Effizienz stellen.']\n",
      "{'Abmessungen-cm': {'Außenmaße_Breite': 142.7, 'Außenmaße_Tiefe': 86.7, 'Außenmaße_Höhe': 213.5, 'Innenmaße_Breite': 121, 'Innenmaße_Tiefe': 63.8, 'Innenmaße_Höhe': 149.3}, 'Gewicht-kg': {'netto': 210, 'brutto': 235, 'Maximale Gesamtbeladung': 520}, 'Volumen-l': {'Kühlinhalt': 1091, 'Gefrierinhalt': 1391}, 'Temperatur-celsius': {'Einstellung_min': -35, 'Einstellung_max': -9, 'Umgebungstemperatur_min': 10, 'Umgebungstemperatur_max': 35, 'Abweichung': 2.9}, 'Energie': {'Normalverbrauch-kwh_24h': 3.18, 'Wärmeabgabe-watt': 412.5}, 'Spannung-volt': {'Spannung': 240}, 'Frequenz-hz': {'Frequenz': 50}, 'Geräusch-db': {'Emission': 60}, 'Innenausstattung': {'Anzahl_Ablageflächen': 8, 'Belastbarkeit_Ablagefläche-kg': 60, 'Material_Körbe': 'Kunststoff', 'Material_Schubfächer': 'Chrom-Nickel-Stahl'}, 'Ausstattung': {'Abtauung_automatisch': True, 'DIN_13277_konform': True, 'Türaufalarm': 'akustisch+optisch', 'Datenlogger': True, 'Schnittstelle': 'WLAN/LAN', 'Steuerung': 'Touch & Swipe'}, 'Sonstiges': {'Kältemittel': 'R 290', 'Kühlsystem': 'dynamisch', 'GMP Reinraumklasse': 'GMP-Klasse B', 'Reinraumklasse nach ISO EN 14664-1': 'ISO-Klasse 6', 'Rollen': '5 Lenkrollen, 2 mit Feststellbremse', 'Türanschlag': 'links fest / rechts fest', 'Griff': 'Vertikale Griffmulde', 'Innenbeleuchtung': 'LED-Lichtsäule beidseitig', 'Art des Schlosses': 'elektronisch, mit Fernbedienung', 'Potentialfreier Kontakt': True, 'Netzausfallalarm': 'unmittelbar bei Netzunterbrechung für mind. 12 h'}}\n"
     ]
    },
    {
     "name": "stderr",
     "output_type": "stream",
     "text": [
      " 30%|██▉       | 45/151 [13:50<32:20, 18.30s/it]"
     ]
    },
    {
     "name": "stdout",
     "output_type": "stream",
     "text": [
      "{'summary': 'Der Kirsch LABEX-125 ESSENTIAL ist ein Laborkühlschrank, speziell für die Lagerung von leicht entzündlichen und explosiven Stoffen konzipiert. Mit einem explosionsgeschützten Innenraum, der die Sicherheitsanforderungen der Zone 2 erfüllt und ein TÜV-Zertifikat für Zündquellfreiheit besitzt, bietet er höchste Sicherheit. Der Kühlschrank verfügt über eine geräuscharme, statische und energiesparende Kältemaschine, die für 220-240 V Wechselstrom ausgelegt ist. Die Temperaturregelung erfolgt über ein Raumthermostat und ermöglicht eine stufenlose Temperaturwahl im Bereich von +2°C bis +12°C. Der Innenraum besteht aus schlagfestem Kunststoff und bietet eine Lagerfläche von 0,13 Quadratmetern pro Schubfach. Mit einem Kühlinhalt von ca. 120 Litern und einer Isolierung von 50 mm garantiert der LABEX-125 höchste Temperaturkonstanz bei geringem Energieverbrauch. Das Außengehäuse besteht aus verzinktem Stahlblech mit einer kratzfesten Pulverbeschichtung. Der Kirsch LABEX-125 ESSENTIAL ist ideal für den Einsatz in Laboren, Kliniken und im gesamten Gesundheitswesen.', 'category': 'Laborkühlschrank', 'manufacturer': 'Kirsch', 'title': 'LABEX-125 ESSENTIAL'}\n",
      "['Der Kirsch LABEX-125 Laborkühlschrank ist speziell für die Lagerung von leicht entzündlichen und explosiven Stoffen konzipiert. Der explosionsgeschützte Innenraum entspricht den Sicherheitsanforderungen der Zone 2 und ist TÜV-zertifiziert, was die Zündquellfreiheit im Inneren des Schrankes garantiert. Dies macht ihn ideal für die sichere Aufbewahrung von Chemikalien, giftigen Materialien und anderen entflammbaren Stoffen.', 'Der Laborkühlschrank ist mit einer geräuscharmen, statischen und energiesparenden Kältemaschine ausgestattet, die für 220-240 V Wechselstrom ausgelegt ist. Die Kältemaschine ist hermetisch gekapselt und servicefreundlich. Der Türanschlag ist serienmäßig rechts, aber wechselbar. Der Abtauvorgang erfolgt manuell, wobei das Tauwasser in einem Gefäß gesammelt und einfach entleert werden kann. Die 50 mm starke Isolierung aus hochwertigen, druckgeschäumten und umweltschonenden Materialien sorgt für eine hohe Temperaturkonstanz bei geringem Energieverbrauch.', 'Der Innenraum des Schrankes besteht aus schlagfestem, weißem Kunststoff mit eingeformten Auflagen. Die Innenausstattung umfasst ein arretierendes Schubfach mit sechs verstellbaren Quer- und einem verstellbaren Längsträger, was eine Lagerfläche von 0,13 Quadratmetern pro Schubfach bietet. Zusätzlich sind zwei kunststoffbeschichtete Roste vorhanden. Das Außengehäuse besteht aus verzinktem, rostgeschütztem Stahlblech mit einer kratzfesten, weißen Pulverbeschichtung.', 'Die Temperatur wird über ein Raumthermostat reguliert, unabhängig von wechselnden Außentemperaturen, vorausgesetzt, die Umgebungstemperatur liegt mindestens 3°C über der gespeicherten Innentemperatur. Der Laborkühlschrank bietet eine stufenlose Temperaturwahl im Bereich von ca. +2°C bis +12°C. Die Tür ist mit einem austauschbaren, leichten Kunststoff-Magnetdichtungsrahmen ausgestattet und abschließbar.', 'Der Kirsch LABEX-125 Laborkühlschrank hat einen Kühlinhalt von ca. 120 Litern und einen Normalverbrauch von 0,68 kWh in 24 Stunden. Die Außenmaße betragen 54x54x81 cm (BxTxH) und die Innenmaße 44x42x67 cm (BxTxH). Das Gerät ist ein- und unterbaufähig und verfügt über ein 2,8 m langes Stecker-Kabel. Die maximale Belastung der Roste beträgt je 25 kg und die der Schubfächer je 13 kg.', 'Der Laborkühlschrank ist mit zahlreichen Innovationen ausgestattet, die zur Serienausstattung gehören. Dazu zählen die stufenlose Temperaturwahl und der explosionsgeschützte Innenraum, was ihn zu einem optimalen Partner für die Kühlung in Laboren, Kliniken und im gesamten Gesundheitswesen macht.']\n",
      "{'Abmessungen-cm': {'Außenmaße_Breite': 54, 'Außenmaße_Tiefe': 54, 'Außenmaße_Höhe': 81, 'Innenmaße_Breite': 44, 'Innenmaße_Tiefe': 42, 'Innenmaße_Höhe': 67}, 'Gewicht-kg': {}, 'Volumen-l': {'Kühlinhalt': 120}, 'Temperatur-celsius': {'Einstellung_min': 2, 'Einstellung_max': 12}, 'Energie': {'Normalverbrauch-kwh_24h': 0.68}, 'Spannung-volt': {'Spannung': 220, 'Spannung_max': 240}, 'Frequenz-hz': {}, 'Geräusch-db': {}, 'Innenausstattung': {'Anzahl_Schubfächer': 1, 'Anzahl_Körbe': 2, 'Belastbarkeit_Ablagefläche-kg': 25, 'Belastbarkeit_Schubfach-kg': 13, 'Material_Körbe': 'Kunststoff'}, 'Ausstattung': {'Abtauung_automatisch': False, 'DIN_13221_konform': False, 'DIN_58375_konform': False, 'DIN_13277_konform': False, 'ATEX_95_konform': True, 'Türaufalarm': 'optional', 'Steuerung': 'PRO-Active-Steuerung'}, 'Sonstiges': {'Türanschlag_wechselbar': True, 'Tür_abschließbar': True, 'Kennzeichnung': 'EX II 3 G T6', 'Türdichtung': 'Kunststoff-Magnetdichtungsrahmen', 'Stecker-Kabel': '2,8 m', 'Ein- und Unterbaufähig': True}}\n"
     ]
    },
    {
     "name": "stderr",
     "output_type": "stream",
     "text": [
      " 30%|███       | 46/151 [14:23<39:56, 22.82s/it]"
     ]
    },
    {
     "name": "stdout",
     "output_type": "stream",
     "text": [
      "{'summary': 'Der Liebherr SUFsg 3501 MediLine ist ein Ultratiefkühlschrank, der speziell für die Lagerung biologischer Produkte, Antikörper, Seren, Impfstoffe und anderer temperaturempfindlicher Substanzen entwickelt wurde. Mit einem Temperaturbereich von -40°C bis -86°C bietet er präzise Temperaturkontrolle und maximale Temperatursicherheit. Der Ultratiefkühlschrank ist mit einem Edelstahl-Innenbehälter, einem 3-stufigen Überwachungssystem und SmartMonitoring-Fähigkeit ausgestattet, um eine konstante Innenraumtemperatur zu gewährleisten. Zusätzlich verfügt er über ein integriertes Alarmsystem, das optische und akustische Signale bei Temperaturabweichungen, zu lange geöffneter Tür und Netzstörungen gibt. Der SUFsg 3501 ist mit einem FCKW-freien Isoliersystem und vakuumisolierten Paneelen ausgestattet, um schnelle Temperaturanstiege zu vermeiden. Mit einem Bruttovolumen von 402 Litern und einem Nettovolumen von 382 Litern bietet er ausreichend Platz für die Lagerung von Proben und anderen Materialien.', 'category': 'Ultratiefkühlschrank', 'manufacturer': 'Liebherr', 'title': 'SUFsg 3501 MediLine'}\n",
      "['Der Liebherr SUFsg 3501 MediLine Ultratiefkühlschrank ist speziell für den Einsatz in Forschung und Labor entwickelt worden und gewährleistet maximale Temperatursicherheit sowie präzise Temperatureinstellmöglichkeiten. Er eignet sich ideal zur kryogenen Lagerung von biologischen Produkten, Antikörpern, Seren, Impfstoffen, Bakterien und Proteinen bei Temperaturen von -40°C bis -86°C.', 'Der Ultratiefkühlschrank ist nach der Norm EN 60068-3 geprüft und verfügt über ein Liebherr-Umluft-Kältesystem mit optimaler Luftführung, das eine konstante Innenraumtemperatur mit minimalen Fluktuationen sicherstellt. Die präzise Temperatursteuerung wird durch eine 1-Punkt-Kalibrierung und eine integrierte Echtzeit-Uhr ermöglicht.', 'Die Isolierung besteht aus einer FCKW-freien PU-Schäumung in Kombination mit vakuumisolierten Paneelen, die schnelle Temperaturanstiege verhindert. Ein 3-stufiges Überwachungssystem und optional verfügbares SmartMonitoring ermöglichen Eingriffe in kritischen Situationen. Akustische und optische Signale warnen bei Über- oder Unterschreiten der Temperaturgrenzen, bei zu lange geöffneten Türen oder Netzproblemen. Bei Stromausfall wird die Elektronik durch integrierte 12-Volt-Batterien versorgt, wobei die Alarm-Test-Funktion jederzeit ohne Gefährdung des Inhalts überprüft werden kann.', 'Der Ultratiefkühlschrank bietet drei flexibel positionierbare Ablageflächen aus rostfreiem Edelstahl und aushängbare Innentüren. Das schmutzresistente Bedienfeld lässt sich einfach reinigen, was ein Höchstmaß an Flexibilität und Hygiene gewährleistet.', 'Die präzise Komfortelektronik des Liebherr SUFsg 3501 MediLine umfasst eine 1/10°-Temperaturanzeige sowie optische und akustische Alarme bei Temperaturabweichungen, zu lange geöffneter Tür und Netzstörungen. Die funktionale, verschließbare Tür ist mit einem ergonomischen und bruchsicheren Alu-Hebelgriff mit integriertem mechanischem Schloss ausgestattet.', 'Das SmartMonitoring-System kann über eine Ethernet-Schnittstelle verbunden werden. Mit einer separat erhältlichen SmartMonitoring-Lizenz können Sie die SmartMonitoring-App nutzen, um sämtliche Mess- und Betriebsdaten überall zu überprüfen.']\n",
      "{'Abmessungen-cm': {'Außenmaße_Breite': 79.7, 'Außenmaße_Tiefe': 108.2, 'Außenmaße_Höhe': 196.6, 'Innenmaße_Breite': 46.6, 'Innenmaße_Tiefe': 60.5, 'Innenmaße_Höhe': 130}, 'Gewicht-kg': {'netto': 226, 'brutto': 260, 'Belastbarkeit_Ablagefläche': 50, 'Maximale_Gesamtbeladung': 200}, 'Volumen-l': {'Kühlinhalt': 382, 'Gefrierinhalt': 402}, 'Temperatur-celsius': {'Einstellung_min': -86, 'Einstellung_max': -40, 'Umgebungstemperatur_min': 16, 'Umgebungstemperatur_max': 32}, 'Energie': {'Normalverbrauch-kwh_24h': 7.5, 'Wärmeabgabe-watt': 310}, 'Spannung-volt': {'Spannung': 230}, 'Frequenz-hz': {'Frequenz': 50}, 'Geräusch-db': {'Emission': 47}, 'Innenausstattung': {'Anzahl_Ablageflächen': 4, 'Material_Ablageflächen': 'Edelstahl'}, 'Ausstattung': {'Abtauung_automatisch': False, 'Türaufalarm': 'akustisch+optisch', 'Datenlogger': True, 'Schnittstelle': 'LAN', 'Steuerung': 'LED-7-Segmentanzeige mit Tasten', 'Potentialfreier_Kontakt': True}, 'Sonstiges': {'Kältemittel': 'R 290 / R 170', 'Kältetechnologie': 'Kaskadenkühlung', 'Kühlsystem': 'statisch', 'Material_Innenbehälter': 'Edelstahl', 'Türanschlag': 'rechts fest', 'Wärmeabgabesystem': 'Luftkühlung', 'Abkühlzeit': '180 min (+22°C auf -80°C)', 'Erwärmungszeit': '170 min (-80°C auf -60°C) / 1300 min (-80°C auf 0°C)', 'Türausführung': 'Stahl', 'Anzahl_Racks_pro_Einschub': 3, 'Max_Anzahl_Kryoboxen_50mm': 264, 'Max_Anzahl_Kryoboxen_75mm': 168, 'Rollen': 'Lenkrollen mit Feststellbremse vorne, Bockrollen hinten', 'Art_der_Vernetzbarkeit': 'SmartCoolingHub', 'Vernetzungslösung': 'Nachrüstbar', 'Art_des_Schlosses': 'mechanisch', 'Fühlerdurchführung': '3 x Ø 28 mm', 'Gehäusematerial/Farbe': 'Stahl / weiß', 'EAN-Nr.': '9005382280294'}}\n"
     ]
    },
    {
     "name": "stderr",
     "output_type": "stream",
     "text": [
      " 31%|███       | 47/151 [14:41<36:58, 21.33s/it]"
     ]
    },
    {
     "name": "stdout",
     "output_type": "stream",
     "text": [
      "{'summary': 'Der Liebherr SFTsg 1501 Performance ist ein Laborgefriergerät mit statischer Kühlung, speziell für die Lagerung sensibler Substanzen in medizinischen Einrichtungen und Laboren. Mit einem Nettovolumen von 69 Litern und einem Temperaturbereich von -9°C bis -30°C bietet es optimale Bedingungen für temperaturempfindliche Proben. Das Gerät verfügt über die SmartFrost-Technologie, die die Eisbildung reduziert und somit Abtauvorgänge seltener erforderlich macht. Die Temperaturstabilität von ±5°C gewährleistet die Sicherheit der gelagerten Substanzen. Der SFTsg 1501 Performance kann mit einer nachrüstbaren WiFi-/LAN-Schnittstelle ausgestattet werden, die die Integration in das Liebherr SmartMonitoring-System ermöglicht. Mit einem jährlichen Energieverbrauch von 180 kWh und einer Nutzungsdauer von bis zu 15 Jahren ist das Gerät eine nachhaltige und zuverlässige Lösung für anspruchsvolle Anwendungen.', 'category': 'Labortiefkühlschrank', 'manufacturer': 'Liebherr', 'title': 'SFTsg 1501 Performance'}\n",
      "['Der Liebherr SFTsg 1501 Performance ist ein kompaktes Laborgefriergerät, das speziell für die sichere Lagerung sensibler Substanzen in medizinischen Einrichtungen, Forschungslaboren und Apotheken konzipiert wurde. Mit einem Nettovolumen von 69 Litern bietet es ausreichend Platz für temperaturempfindliche Proben.', 'Der einstellbare Temperaturbereich von -9 °C bis -30 °C ermöglicht optimale Lagerungsbedingungen für verschiedene Substanzen. Die SmartFrost-Technologie reduziert die Eisbildung im Innenraum erheblich, wodurch Abtauvorgänge seltener erforderlich sind. Die glatten, reinigungsfreundlichen Innenwände erleichtern zudem den Reinigungsprozess.', 'Ein eingeschäumter, umwickelter Verdampfer sorgt für eine hohe Energieeffizienz und gleichmäßige Kühlung. Die Temperaturstabilität von ±5 °C gewährleistet, dass sensible Substanzen vor Qualitätseinbußen geschützt sind.', 'Für zusätzliche Sicherheit kann das Gerät mit einer nachrüstbaren WiFi-/LAN-Schnittstelle ausgestattet werden, die die Integration in das Liebherr SmartMonitoring-System ermöglicht. Diese digitale Lösung überwacht und dokumentiert die Lagertemperatur kontinuierlich und alarmiert bei Abweichungen.', 'Mit einem jährlichen Energieverbrauch von nur 180 kWh und einer Nutzungsdauer von bis zu 15 Jahren bietet der SFTsg 1501 Performance eine nachhaltige und zuverlässige Lösung für anspruchsvolle Anwendungen. Hochwertige Materialien und eine solide Verarbeitung garantieren Langlebigkeit, während eine Ersatzteilverfügbarkeit von mindestens zehn Jahren sichergestellt ist.', 'Die kompakten Außenmaße von 81,9 cm (Höhe) x 59,7 cm (Breite) x 60,5 cm (Tiefe) ermöglichen eine flexible Platzierung, sei es als Unterbaugerät oder freistehend. Der reinigungsfreundliche Innenraum aus Polystyrol ist fugenlos gefertigt und lässt sich schnell und einfach reinigen, was höchste Hygienestandards unterstützt.']\n",
      "{'Abmessungen-cm': {'Außenmaße_Breite': 59.7, 'Außenmaße_Tiefe': 60.5, 'Außenmaße_Höhe': 81.9, 'Innenmaße_Breite': 38, 'Innenmaße_Tiefe': 41, 'Innenmaße_Höhe': 61}, 'Gewicht-kg': {'netto': 35, 'brutto': 37, 'Belastbarkeit_Ablagefläche': 45, 'Maximale_Gesamtbeladung': 135}, 'Volumen-l': {'Kühlinhalt': 69, 'Gefrierinhalt': 101}, 'Temperatur-celsius': {'Einstellung_min': -30, 'Einstellung_max': -9, 'Umgebungstemperatur_min': 10, 'Umgebungstemperatur_max': 35, 'Abweichung': 7.4}, 'Energie': {'Normalverbrauch-kwh_24h': 0.49, 'Wärmeabgabe-watt': 60}, 'Spannung-volt': {'Spannung': 220, 'Frequenz': 50}, 'Frequenz-hz': {}, 'Geräusch-db': {'Emission': 40}, 'Innenausstattung': {'Anzahl_Ablageflächen': 1, 'Material_Ablageflächen': 'Kunststoff', 'Material_Körbe': 'Kunststoff'}, 'Ausstattung': {'Abtauung_automatisch': False, 'Türaufalarm': 'akustisch+optisch', 'Schnittstelle': 'WLAN/LAN', 'Steuerung': 'Monochrom-Display, Touch-Buttons'}, 'Sonstiges': {'Kältemittel': 'R 600a', 'Türanschlag': 'rechts wechselbar', 'Potentialfreier_Kontakt': True, 'Vernetzungslösung': 'Nachrüstbar'}}\n"
     ]
    },
    {
     "name": "stderr",
     "output_type": "stream",
     "text": [
      " 32%|███▏      | 48/151 [14:58<34:23, 20.03s/it]"
     ]
    },
    {
     "name": "stdout",
     "output_type": "stream",
     "text": [
      "{'summary': 'Die FRYKA Tiefkühltruhe KBT 08-51+ST100 ist eine kompakte Mini-Tiefkühltruhe speziell für den Einsatz im Labor entwickelt. Mit einem Nutzinhalt von 8 Litern und Außenmaßen von 36x57x49 cm ist sie ideal für die Lagerung kleiner Materialproben direkt am Arbeitsplatz. Die Truhe verfügt über ein geräuscharmes, luftgekühltes und wartungsarmes Kälteaggregat, das eine präzise Temperaturregelung von -50°C bis -30°C mit einer Genauigkeit von +/- 1K ermöglicht. Die Temperatur wird über eine LED-Anzeige angezeigt. Das Gehäuse besteht aus hochwertigem Edelstahl, der leicht zu reinigen ist und einen Rammschutzring oben und unten aufweist. Die Truhe ist mit einer erweiterten Steuerung ST100 für netzunabhängige Alarme ausgestattet.', 'category': 'Labortiefkühlschrank', 'manufacturer': 'FRYKA', 'title': 'KBT 08-51+ST100'}\n",
      "['Die FRYKA Mini-Tiefkühltruhe KBT 08-51+ST100 ist eine kompakte Tiefkühltruhe, die speziell für den Einsatz im wissenschaftlichen und industriellen Labor entwickelt wurde. Mit ihren kleinen Außenmaßen von 36x57x49 cm (BxHxT) ermöglicht sie die Lagerung von kleinen Materialproben direkt am Arbeitsplatz, was die Arbeitsabläufe effizienter gestaltet.', 'Die KBT 08-51+ST100 ist mit einem modernen, geräuscharmen und wartungsarmen Kälteaggregat ausgestattet, das voll hermetisch und luftgekühlt ist. Dies gewährleistet eine geringe Geräuschbelastung und ermöglicht eine konzentrierte Arbeitsumgebung. Das hochwertige Edelstahlgehäuse erleichtert zudem die Reinigung und sorgt für eine lange Lebensdauer des Geräts.', 'Für den Schutz des Anwenders ist die Mini-Tiefkühltruhe mit einem umlaufenden Rammschutzring ausgestattet. Die Temperaturregelung erfolgt elektronisch und ermöglicht eine präzise Einstellung auf bis zu +/- 1K. Die aktuelle Temperatur wird über eine gut lesbare LED-Anzeige angezeigt, was eine einfache Überwachung und Kontrolle ermöglicht.', 'Der isolierte Edelstahldeckel mit Klappscharnieren und Magnetdichtung ist aus hochwertigem Edelstahl gefertigt, der den Standards in der Medizintechnik entspricht. Die abgerundeten Ecken im Innenraum erleichtern die Reinigung und bieten zusätzlichen Schutz für die gelagerten Proben.', 'Die Mini-Tiefkühltruhe KBT 08-51+ST100 bietet einen Nutzinhalt von 8 Litern und einen Temperaturbereich von -50°C bis -30°C. Die Regelgenauigkeit beträgt +/- 1K, und das Gerät ist für eine Umgebungstemperatur von +12°C bis +30°C ausgelegt. Der elektrische Anschluss erfolgt über 230V/50Hz, und das Netzkabel hat eine Länge von 3 Metern. Das Gewicht der Truhe beträgt 32 kg.', 'Die erweiterte Steuerung ST100 ermöglicht einen netzunabhängigen Alarm, was zusätzliche Sicherheit für die gelagerten Proben bietet. Die Mini-Tiefkühltruhe ist somit eine zuverlässige und effiziente Lösung für die Lagerung von Proben im Labor.']\n",
      "{'Abmessungen-cm': {'Außenmaße_Breite': 36, 'Außenmaße_Höhe': 57, 'Außenmaße_Tiefe': 49, 'Innenmaße_Breite': 15, 'Innenmaße_Höhe': 20, 'Innenmaße_Tiefe': 30}, 'Gewicht-kg': {'netto': 32}, 'Volumen-l': {'Gefrierinhalt': 8}, 'Temperatur-celsius': {'Einstellung_min': -50, 'Einstellung_max': -30, 'Umgebungstemperatur_min': 12, 'Umgebungstemperatur_max': 30, 'Abweichung': 1}, 'Energie': {}, 'Spannung-volt': {'Anschluss': 230}, 'Frequenz-hz': {'Anschluss': 50}, 'Geräusch-db': {}, 'Innenausstattung': {'Material_Schubfächer': 'Edelstahl'}, 'Ausstattung': {'Abtauung_automatisch': False, 'Türaufalarm': 'akustisch', 'Steuerung': 'ST100'}, 'Sonstiges': {'Netzkabel': '3m Länge', 'Rammschutzring': True, 'Zertifizierte Premium-Qualität': True}}\n"
     ]
    },
    {
     "name": "stderr",
     "output_type": "stream",
     "text": [
      " 32%|███▏      | 49/151 [15:18<34:08, 20.09s/it]"
     ]
    },
    {
     "name": "stdout",
     "output_type": "stream",
     "text": [
      "{'summary': 'Der Liebherr LKv 3910 MediLine ist ein Laborkühlschrank mit einem Nutzvolumen von 333 Litern und einem Temperaturbereich von +3°C bis +16°C. Der Kühlschrank ist mit einer präzisen Komfortelektronik ausgestattet, die eine 1/10°-Temperaturanzeige ermöglicht und über eine 1-Punkt-Kalibrierung für genaue Temperaturmessungen verfügt. Er erfüllt die NF X 15-140 Norm hinsichtlich maximaler Temperaturstabilität und optimaler Temperaturkonstanz. Der LKv 3910 verfügt über ein dynamisches Kühlsystem, ein Sicherheitsthermostat und ein Alarmsystem, das bei Temperaturabweichungen, zu langer Türöffnung und Netzausfall warnt. Zudem ist er mit einem integrierten Datenspeicher für Alarmmeldungen und Temperaturverlauf, einer RS 485 Schnittstelle und einem potentialfreien Kontakt für externe Alarmsysteme ausgestattet. Der Innenraum besteht aus pflegeleichtem Kunststoff und bietet fünf höhenverstellbare, kunststoffbeschichtete Gitterroste mit einer Tragkraft von bis zu 45 kg. Die Tür ist selbstschließend und bleibt bei einem Öffnungswinkel von 90° geöffnet. Der Kühlschrank ist mit SmartMonitoring vorinstalliert, das eine einfache Überwachung der Mess- und Betriebsdaten ermöglicht.', 'category': 'Laborkühlschrank', 'manufacturer': 'Liebherr', 'title': 'LKv 3910 MediLine'}\n",
      "['Der Laborkühlschrank LKV 3910 von Liebherr ist speziell für den Einsatz in Laboratorien konzipiert und erfüllt höchste Ansprüche an Temperaturstabilität und Hygiene. Die kompakte Bauweise und die präzise Komfortelektronik gewährleisten eine konstante Innentemperatur, die exakt auf dem eingestellten Wert gehalten wird.', 'Zur Einhaltung der Hygienevorschriften ist die Anzeige und Tastatur des Geräts foliert und leicht zu reinigen. Die Temperatursteuerung erfolgt über eine 1-Punkt-Kalibrierung, die eine genaue Messung der Innentemperatur ermöglicht. Ein Sicherheitsthermostat verhindert, dass die Temperatur im Fehlerfall unter +2°C fällt, wodurch die NF X 15-140 Norm erfüllt wird.', 'Das Alarmsystem des LKV 3910 warnt bei Temperaturüberschreitungen, länger als eine Minute geöffneten Türen und Netzausfällen. Zudem wird ein defekter Fühler signalisiert. Der integrierte Datenspeicher protokolliert kontinuierlich die Innentemperatur sowie die letzten drei Temperatur- und Netzausfallalarme mit Datum, Uhrzeit und Dauer, die über das Display abrufbar sind.', 'Der Kühlschrank verfügt über eine RS 485 Schnittstelle für den Anschluss an zentrale Alarm- und Dokumentationssysteme und einen potentialfreien Kontakt zur Alarmweiterschaltung an externe Fernwarnsysteme. Der Innenraum ist hochwertig und flexibel gestaltet, mit fünf kunststoffbeschichteten, höhenverstellbaren Gitterrosten, die jeweils bis zu 45 kg tragen können.', 'Die Tür des LKV 3910 ist selbstschließend und bleibt bei einem Öffnungswinkel von 90° geöffnet, während sie sich bei einem Winkel unter 60° automatisch schließt. Der Kühlschrank ist mit SmartMonitoring vorinstalliert, das durch eine separate Lizenz aktiviert werden kann. Diese App ermöglicht die Überwachung aller Mess- und Betriebsdaten. Zusätzlich verfügt der Innenraum über eine separat schaltbare LED-Deckenbeleuchtung.']\n",
      "{'Abmessungen-cm': {'Außenmaße_Breite': 60.1, 'Außenmaße_Tiefe': 61.8, 'Außenmaße_Höhe': 184, 'Innenmaße_Breite': 44, 'Innenmaße_Tiefe': 43.5, 'Innenmaße_Höhe': 163.5}, 'Gewicht-kg': {'netto': 65, 'brutto': 70}, 'Volumen-l': {'Kühlinhalt': 333, 'Gefrierinhalt': 28}, 'Temperatur-celsius': {'Einstellung_min': 3, 'Einstellung_max': 16, 'Umgebungstemperatur_min': 10, 'Umgebungstemperatur_max': 35, 'Abweichung': 3.6}, 'Energie': {'Normalverbrauch-kwh_24h': 0.85, 'Leistungsaufnahme-watt': 330}, 'Spannung-volt': {'Anschlusswert': 230}, 'Frequenz-hz': {}, 'Geräusch-db': {'Emission': 48}, 'Innenausstattung': {'Anzahl_Ablageflächen': 5, 'Belastbarkeit_Ablagefläche-kg': 45, 'Material_Schubfächer': 'Kunststoff', 'Material_Körbe': 'Kunststoff'}, 'Ausstattung': {'Abtauung_automatisch': True, 'Umluftkühlung': True, 'Türaufalarm': 'akustisch+optisch', 'Schnittstelle': 'RS 485', 'Steuerung': 'elektronische Steuerung'}, 'Sonstiges': {'Kältemittel': 'R 600a', 'Türanschlag': 'rechts wechselbar', 'Türe selbstschließend': True, 'Schloss': True, 'SmartCoolingHub': 'vorgerüstet', 'Netzausfallalarm': 'bei Netzrückkehr', 'Temperaturanzeige': 'außen digital', 'Gehäusematerial': 'Stahl', 'Gehäusefarbe': 'weiß', 'Türausführung': 'Stahl', 'Griff': 'Stangengriff mit integrierter Öffnungsmechanik'}}\n"
     ]
    },
    {
     "name": "stderr",
     "output_type": "stream",
     "text": [
      " 33%|███▎      | 50/151 [15:25<27:08, 16.12s/it]"
     ]
    },
    {
     "name": "stdout",
     "output_type": "stream",
     "text": [
      "{'summary': 'Der Dometic HC 502 D ist ein Medikamentenkühlschrank, der speziell für Krankenhäuser und Gesundheitszentren entwickelt wurde, um wärmeempfindliche Medikamente gemäß DIN 58345 bei Temperaturen zwischen +2°C und +8°C zu lagern. Der Kühlschrank verfügt über eine integrierte Lüftung, die für zuverlässig konstante Temperaturen sorgt. Ein Warnsignal ertönt, wenn die Tür länger als 20 Sekunden geöffnet bleibt, was die Sicherheit der gelagerten Medikamente erhöht. Zusätzlich ist der HC 502 D mit einem Türschloss für eine sichere Aufbewahrung ausgestattet und bietet Schubladen mit flexiblen Abteilungen, die ein Volumen von bis zu 35 Litern bieten.', 'category': 'Medikamentenkühlschrank', 'manufacturer': 'Dometic', 'title': 'HC 502 D'}\n",
      "['Der Dometic HC 502 D ist speziell für Krankenhäuser und Gesundheitszentren konzipiert, die wärmeempfindliche Medikamente gemäß DIN 58345 lagern müssen. Er hält eine konstante Temperatur zwischen +2 °C und +8 °C.', 'Durch einen integrierten Lüfter wird eine zuverlässig konstante Temperatur im Inneren gewährleistet. Ein akustisches Warnsignal ertönt, wenn die Tür länger als 20 Sekunden geöffnet bleibt, um die Temperatursicherheit zu gewährleisten.', 'Der HC 502 D ist mit einem Türschloss für eine sichere Aufbewahrung der Medikamente ausgestattet. Die Schubladen bieten flexible Abteilungen und ein Volumen von bis zu 35 Litern.']\n",
      "{'Abmessungen-cm': {}, 'Gewicht-kg': {}, 'Volumen-l': {'Kühlinhalt': 35}, 'Temperatur-celsius': {'Einstellung_min': 2, 'Einstellung_max': 8}, 'Energie': {}, 'Spannung-volt': {}, 'Frequenz-hz': {}, 'Geräusch-db': {}, 'Innenausstattung': {'Anzahl_Schubfächer': 1}, 'Ausstattung': {'DIN_58375_konform': True, 'Türaufalarm': 'akustisch', 'Umluftkühlung': True}, 'Sonstiges': {}}\n"
     ]
    },
    {
     "name": "stderr",
     "output_type": "stream",
     "text": [
      " 34%|███▍      | 51/151 [15:47<29:41, 17.82s/it]"
     ]
    },
    {
     "name": "stdout",
     "output_type": "stream",
     "text": [
      "{'summary': 'Der Kirsch LABEX-720 PRO-ACTIVE ist ein Laborkühlschrank, speziell für die Lagerung von leicht entzündlichen und explosiven Stoffen konzipiert. Mit einem explosionsgeschützten Innenraum, der die Sicherheitsanforderungen der Zone 2 erfüllt und durch ein TÜV-Zertifikat zertifiziert ist, bietet er höchste Sicherheit. Der Kühlschrank verfügt über eine geräuscharme, energiesparende und hermetisch gekapselte Kältemaschine, die für 220-240 V Wechselstrom ausgelegt ist. Die Temperaturregelung erfolgt elektronisch und ermöglicht eine präzise Steuerung zwischen +0°C und +15°C. Der LABEX-720 ist mit einer automatischen Abtauung ausgestattet, die durch zeitlich begrenzte und thermische Umkehr des Kältemittelkreislaufs überwacht wird. Das Tauwasser wird in einem Gefäß gesammelt und kann manuell entleert werden. Die Isolierung ist 70 mm stark und besteht aus hochwertigen, druckgeschäumten und umweltschonenden Materialien, was eine hohe Temperaturkonstanz bei geringem Energieverbrauch gewährleistet. Der Innenraum besteht aus poliertem Aluminium mit einer farblosen Schutzbeschichtung und ist mit sechs kunststoffbeschichteten Rosten ausgestattet. Das Außengehäuse besteht aus verzinktem Stahlblech mit einer kratzfesten, weißen Pulverbeschichtung. Der Kühlschrank ist mit zahlreichen Sicherheits- und Überwachungsfunktionen ausgestattet, darunter akustische und optische Alarmsignale, ein Minimum-/Maximum-Temperatur-Speicher und eine USB-Schnittstelle für die Temperaturdokumentation. Der Kirsch LABEX-720 PRO-ACTIVE ist somit ideal für den Einsatz in Laboren, Kliniken und im gesamten Gesundheitswesen.', 'category': 'Laborkühlschrank', 'manufacturer': 'Kirsch', 'title': 'LABEX-720 PRO-ACTIVE'}\n",
      "['Der Kirsch LABEX-720 Laborkühlschrank ist speziell für die sichere Lagerung von leicht entzündlichen und explosiven Stoffen konzipiert. Der explosionsgeschützte Innenraum entspricht den Sicherheitsanforderungen der Zone 2 und ist mit einem TÜV-Zertifikat für Zündquellfreiheit ausgestattet. Dies ermöglicht die sichere Aufbewahrung von Chemikalien, giftigen Materialien und anderen entflammbaren Stoffen.', 'Der Kühlschrank verfügt über eine geräuscharme, energiesparende und hermetisch gekapselte Kältemaschine für 220-240 V Wechselstrom. Der Türanschlag ist serienmäßig rechts, aber wechselbar, und verstellbare Füße im Frontbereich ermöglichen den Ausgleich von Bodenunebenheiten. Der Abtauvorgang erfolgt automatisch durch zeitlich begrenzte und thermische Umkehr des Kältemittelkreislaufs, wobei das Tauwasser in einem Gefäß gesammelt und manuell entleert werden kann. Die 70 mm starke Isolierung aus hochwertigen, druckgeschäumten und umweltschonenden Materialien garantiert höchste Temperaturkonstanz bei geringem Energieverbrauch.', 'Der Innenraum des Schrankes besteht aus poliertem Aluminium mit einer farblosen Schutzbeschichtung und Stellleisten. Zur Innenausstattung gehören sechs kunststoffbeschichtete Roste, die jeweils bis zu 40 kg belastbar sind. Das Außengehäuse besteht aus verzinktem Stahlblech mit einer kratzfesten, weißen Pulverbeschichtung.', 'Die elektronische Temperatursteuerung reguliert die Temperatur unabhängig von wechselnden Außentemperaturen, vorausgesetzt die Umgebungstemperatur liegt mindestens 3°C über der gespeicherten Innentemperatur. Zu den Serieninnovationen gehören ein Umluftgekühltes System mit Querstromgebläse, das bei Türöffnung automatisch abschaltet, ein Schaltzentrum mit Schlüsselschalter und Folientastatur, eine digitale Temperaturanzeige sowie akustische und optische Alarmsignale. Ein potentialfreier Kontakt ermöglicht den Anschluss an die zentrale Leittechnik, und eine USB-Schnittstelle ist ebenfalls vorhanden. Eine Sicherheitseinrichtung gegen Minustemperaturen ist standardmäßig integriert.', 'Der Kirsch LABEX-720 Laborkühlschrank bietet eine Temperatureinstellung von ca. +0°C bis +15°C und verfügt über eine PRO-ACTIVE Steuerungselektronik, die eine permanente, proaktive Überwachung der Leistungsdaten und Alarmierung bei Abweichungen ermöglicht. Die genaue Temperatursteuerung wird durch zwei serienmäßige PT-1000 Fühler gewährleistet. Der PC-KIT-STICK ermöglicht die elektronische Temperaturdokumentation über USB-Stick. Der Kühlschrank hat einen Normalverbrauch von 1,23 kWh in 24 Stunden und ein Kühlvolumen von ca. 700 Litern.', 'Die Außenmaße des LABEX-720 betragen 77x98x196 cm (BxTxH) und die Innenmaße 62x77x140 cm (BxTxH). Der Kühlschrank ist mit einer Tür mit austauschbarem, leichtem Kunststoff-Magnetdichtungsrahmen ausgestattet und abschließbar. Zu den weiteren Merkmalen gehören ein Stecker-Kabel mit 2,8 m Länge, ein Minimum/Maximum-Temperatur-Speicher und eine automatische Abtauung.']\n",
      "{'Abmessungen-cm': {'Außenmaße_Breite': 77, 'Außenmaße_Tiefe': 98, 'Außenmaße_Höhe': 195.5, 'Innenmaße_Breite': 60, 'Innenmaße_Tiefe': 77, 'Innenmaße_Höhe': 140}, 'Gewicht-kg': {'netto': 145, 'brutto': 174}, 'Volumen-l': {'Kühlinhalt': 700}, 'Temperatur-celsius': {'Einstellung_min': 0, 'Einstellung_max': 15, 'Umgebungstemperatur_min': 10, 'Umgebungstemperatur_max': 38, 'Abweichung': 1}, 'Energie': {'Leistungsaufnahme-watt': 237, 'Wärmeabgabe-watt': 545, 'Normalverbrauch-kwh_24h': 1.23}, 'Spannung-volt': {'Spannung': 220, 'Spannung_max': 240}, 'Frequenz-hz': {'Frequenz': 50}, 'Geräusch-db': {'Emission': 42}, 'Innenausstattung': {'Anzahl_Rost': 5, 'Belastbarkeit_Ablagefläche-kg': 40}, 'Ausstattung': {'Abtauung_automatisch': True, 'Umluftkühlung': True, 'DIN_58375_konform': True, 'DIN_13221_konform': True, 'ATEX_95_konform': True, 'Türaufalarm': 'akustisch', 'Kältemaschine_wassergekühlt': 'optional', 'Kältemaschine_60hz': 'optional', 'Kältemaschinen-Ventilator': True, 'Fahrbare_Ausführung': True, 'Rost_mit_Schienen': 'optional', 'Glastür_mit_Schloss': 'optional', 'Türkoppelungs-Beschlag': 'optional', 'Außengehäuse_Chromnickelstahl_4301': 'optional', 'Dekorrahmen': 'optional', 'PC-KIT-NET': 'optional', 'flexible_Ausstattung': True, 'Tauwassergefäß': True}, 'Sonstiges': {'Lichtes_Rostmaß_Breite': 59, 'Lichtes_Rostmaß_Tiefe': 65}}\n"
     ]
    },
    {
     "name": "stderr",
     "output_type": "stream",
     "text": [
      " 34%|███▍      | 52/151 [16:06<30:02, 18.21s/it]"
     ]
    },
    {
     "name": "stdout",
     "output_type": "stream",
     "text": [
      "{'summary': 'Der FRYKA Tiefkühlunterbauschrank TUS 50-100 ist ein kompakter Labortiefkühlschrank mit einem Nutzinhalt von 100 Litern und einem Temperaturbereich von -10°C bis -50°C. Mit seinen kompakten Außenmaßen von 95x75x73 cm (BxHxT) ist er ideal für die Lagerung von Materialproben direkt am Arbeitsplatz. Der Tiefkühlschrank ist mit einem geräuscharmen, voll hermetischen und luftgekühlten Kälteaggregat ausgestattet, das für geringe Geräuschbelastung und niedrigen Stromverbrauch sorgt. Sicherheitsmerkmale wie eine abschließbare Tür, doppelte Dichtungen und ein netzunabhängiger Alarm (optisch und akustisch) über mindestens 72 Stunden machen ihn zu einem sicheren und zuverlässigen Gerät für den Laborgebrauch.', 'category': 'Labortiefkühlschrank', 'manufacturer': 'FRYKA', 'title': 'TUS 50-100'}\n",
      "['Der FRYKA Unterbautiefkühlschrank TUS 50-100 ist ein kompakter und leistungsstarker Tiefkühlschrank, der speziell für den Einsatz in wissenschaftlichen und industriellen Laboren konzipiert wurde. Mit seinen kompakten Außenmaßen von 95x75x73 cm (BxHxT) ermöglicht er das Kühlen und Gefrieren von Materialproben direkt am Arbeitsplatz.', 'Dank der rechts und vorne verbauten Lüftungsgitter kann der Tiefkühlschrank direkt unter einem Tisch platziert werden, was die Arbeitsabläufe effizienter gestaltet. Das moderne Kälteaggregat ist geräuscharm, voll hermetisch und luftgekühlt, was eine geringe Geräuschbelastung und einfache Wartung gewährleistet.', 'Sicherheitsmerkmale des TUS 50-100 umfassen eine abschließbare Tür und doppelte Dichtungen. Zudem verfügt der Tiefkühlschrank über einen 100mV/k Ausgang für den Anschluss an ein Temperaturaufzeichnungssystem und einen potentialfreien Alarmkontakt für die Integration in externe Alarmsysteme.', 'Der Tiefkühlschrank bietet eine präzise Temperaturregelung von +/- 1K und einen Temperaturbereich von -50°C bis -10°C. Die innovative Technik und benutzerfreundliche Menüführung machen die Bedienung einfach und effizient. Ein netzunabhängiger Alarm (optisch und akustisch) warnt über mindestens 72 Stunden bei Störungen und zeigt die maximal erreichte Temperatur während der Störung an.', 'Mit einem Nutzinhalt von 100 Litern und einem leicht zu reinigenden Gehäuse aus rostfreiem Edelstahl ist der TUS 50-100 besonders hygienisch und langlebig. Die umlaufenden Lüftungsgitter ermöglichen die Aufstellung direkt an der Wand, und die Vakuum-Isolierung sowie der geringe Stromverbrauch tragen zur Energieeffizienz bei.', 'Der Lieferumfang des TUS 50-100 umfasst das Gerät selbst, ein 3m Netzkabel, ein Einlegegitter, vier Regalschienen und die benötigte Software. Optional sind ein Edelstahlregal, ein zusätzliches Einlegegitter, Rollen mit Feststellbremse, ein Umluftventilator für eine bessere Temperaturverteilung und eine Durchführung von 19mm erhältlich.', 'Der Tiefkühlschrank ist stapelbar bis zu maximal zwei Einheiten und unterbaufähig, was zusätzliche Flexibilität bei der Aufstellung bietet. Die technischen Daten umfassen einen elektrischen Anschluss von 230V/50Hz und ein Gewicht von 120kg.']\n",
      "{'Abmessungen-cm': {'Außenmaße_Breite': 95, 'Außenmaße_Tiefe': 73, 'Außenmaße_Höhe': 75, 'Innenmaße_Breite': 45, 'Innenmaße_Tiefe': 45, 'Innenmaße_Höhe': 50}, 'Gewicht-kg': {'netto': 120}, 'Volumen-l': {'Gefrierinhalt': 100}, 'Temperatur-celsius': {'Einstellung_min': -50, 'Einstellung_max': -10, 'Umgebungstemperatur_min': 12, 'Umgebungstemperatur_max': 30, 'Abweichung': 1}, 'Energie': {}, 'Spannung-volt': {'Anschluss': 230}, 'Frequenz-hz': {'Anschluss': 50}, 'Geräusch-db': {}, 'Innenausstattung': {'Anzahl_Schubfächer': 1, 'Anzahl_Ablageflächen': 4, 'Material_Schubfächer': 'Edelstahl'}, 'Ausstattung': {'Abtauung_automatisch': True, 'Türaufalarm': 'akustisch+optisch', 'Schnittstelle': 'RS485', 'Steuerung': 'Folientastatur'}, 'Sonstiges': {'Netzkabel': 3, 'Stapelbar': 2, 'Vakuum-Isolierung': True, 'Umluftventilator': 'optional'}}\n"
     ]
    },
    {
     "name": "stderr",
     "output_type": "stream",
     "text": [
      " 35%|███▌      | 53/151 [16:23<29:03, 17.79s/it]"
     ]
    },
    {
     "name": "stdout",
     "output_type": "stream",
     "text": [
      "{'summary': 'Der Kirsch LABO-100 PRO-ACTIVE ist ein Laborkühlschrank mit 95 Litern Nutzvolumen und einer Temperaturregelung von +2°C bis +15°C. Das Gerät verfügt über eine PRO-ACTIVE Steuerungselektronik, die eine permanente Überwachung der Leistungsdaten und Alarmierung bei Abweichungen ermöglicht. Mit automatischer Abtauung, Umluftkühlung und einer Energieeffizienz von 0,64 kWh/24h ist er ideal für den täglichen Laborbedarf. Der Kühlschrank bietet zusätzliche Sicherheitsfeatures wie akustische und optische Alarmsignale bei Temperaturabweichungen, eine Schutzschaltung gegen Minus-Temperaturen und einen potentialfreien Kontakt für den Anschluss an eine zentrale Leittechnik. Die robuste Bauweise mit schlagfestem Kunststoffinnenraum und verzinktem Stahlblechgehäuse gewährleistet Langlebigkeit und Zuverlässigkeit.', 'category': 'Laborkühlschrank', 'manufacturer': 'Kirsch', 'title': 'LABO-100 PRO-ACTIVE'}\n",
      "['Der Kirsch LABO-100 Laborkühlschrank ist ein energiesparendes und servicefreundliches Laborgerät für den täglichen Einsatz. Er verfügt über eine PRO-Active-Steuerung, die eine präzise Temperaturregelung ermöglicht.', 'Der Abtauvorgang erfolgt automatisch durch zeitlich begrenzte und thermische Umkehr des Kältemittelkreislaufs. Das Tauwasser wird im Kältemaschinenraum vaporisiert. Die Isolierung ist mit 50 mm besonders stark und besteht aus hochwertigen, druckgeschäumten und umweltschonenden Materialien.', 'Die Temperatursteuerung des LABO-100 sorgt für eine konstante Innentemperatur, unabhängig von schwankenden Außentemperaturen, vorausgesetzt die Umgebungstemperatur liegt mindestens 3°C über der eingestellten Innentemperatur. Der Kühlschrank garantiert höchste Temperaturkonstanz bei geringem Energieverbrauch.', 'Sicherheitsmerkmale des LABO-100 umfassen ein akustisches und optisches Alarmsignal bei Temperaturabweichungen, eine Schutzschaltung gegen Minus-Temperaturen sowie einen potentialfreien Kontakt und eine USB-Schnittstelle für den Anschluss an eine zentrale Leittechnik.', 'Der Innenraum besteht aus schlagfestem, weißem Kunststoff mit eingeformten Auflagen und zwei kunststoffbeschichteten Rosten. Das Außengehäuse ist aus verzinktem Stahlblech mit einer kratzfesten, weißen Pulverbeschichtung. Die Steuerung erfolgt über ein frontseitiges Schaltzentrum mit Schlüsselschalter und leicht zu reinigender Folientastatur. Die Lüftungsgitter für die Zu- und Abluft befinden sich ebenfalls an der Frontseite.', 'Der LABO-100 Laborkühlschrank bietet eine Temperaturregelung von ca. +0°C bis +15°C und einen Kühlinhalt von 95 Litern. Die Außenmaße betragen 54x54x82 cm (BxTxH) und die Innenmaße 44x43x47 cm (BxTxH). Die Roste haben eine maximale Belastung von je 25 kg. Der Energieverbrauch liegt bei 0,51 kWh in 24 Stunden.', 'Zusätzliche Merkmale des LABO-100 sind eine abschließbare Tür mit leicht austauschbarem Kunststoff-Magnetdichtungsrahmen, die Möglichkeit zum Ein- und Unterbau, ein 2,8 m langes Stecker-Kabel, eine digitale Temperaturanzeige, ein Minimum/Maximum-Temperatur-Speicher und eine Umluftkühlung.']\n",
      "{'Abmessungen-cm': {'Außenmaße_Breite': 54, 'Außenmaße_Tiefe': 54, 'Außenmaße_Höhe': 82, 'Innenmaße_Breite': 44, 'Innenmaße_Tiefe': 43, 'Innenmaße_Höhe': 47}, 'Gewicht-kg': {'netto': 46, 'brutto': 50}, 'Volumen-l': {'Kühlinhalt': 95}, 'Temperatur-celsius': {'Einstellung_min': 2, 'Einstellung_max': 15, 'Umgebungstemperatur_min': 10, 'Umgebungstemperatur_max': 38, 'Abweichung': 1.76}, 'Energie': {'Leistungsaufnahme-watt': 76, 'Wärmeabgabe-watt': 184, 'Normalverbrauch-kwh_24h': 0.64}, 'Spannung-volt': {'Spannung': 220, 'Spannung_max': 240}, 'Frequenz-hz': {'Frequenz': 50}, 'Geräusch-db': {'Emission': 41}, 'Innenausstattung': {'Anzahl_Rost': 2, 'Belastbarkeit_Ablagefläche-kg': 25, 'Belastbarkeit_Schubfach-kg': 13}, 'Ausstattung': {'Abtauung_automatisch': True, 'Umluftkühlung': True, 'DIN_58375_konform': True, 'DIN_13221_konform': True, 'Türaufalarm': 'akustisch', 'Kältemaschine_60Hz': 'optional', 'Kunststoff-Schubfach': 'optional', 'Tauwassergefäß': 'optional', 'Dekorrahmen': 'optional', 'Glastür': 'optional', 'Türkoppelungs-Beschlag': 'optional', 'Fahrbare Ausführung': 'optional', 'Tischplatte': 'optional', 'Einbaufähig': True, 'Digitale Temperaturanzeige': True}, 'Sonstiges': {}}\n"
     ]
    },
    {
     "name": "stderr",
     "output_type": "stream",
     "text": [
      " 36%|███▌      | 54/151 [16:46<31:08, 19.26s/it]"
     ]
    },
    {
     "name": "stdout",
     "output_type": "stream",
     "text": [
      "{'summary': 'Der Kirsch LABEX-520 ULTIMATE ist ein Laborkühlschrank mit explosionsgeschütztem Innenraum, speziell für die Lagerung von leicht entzündlichen und explosiven Stoffen konzipiert. Mit einem Kühlinhalt von 500 Litern und einer Temperaturregelung von +0°C bis +15°C bietet er eine sichere und zuverlässige Lösung für Laboratorien und medizinische Einrichtungen. Der Kühlschrank verfügt über eine PRO-ACTIVE-Steuerungselektronik, die eine permanente Überwachung der Leistungsdaten und Alarmierung bei Abweichungen ermöglicht. Zusätzlich ist er mit einem Touch-Display, Zugangskontrolle mit Protokoll und digitaler Datendokumentation über USB-Schnittstelle ausgestattet. Der LABEX-520 ULTIMATE ist mit einem TÜV-Zertifikat für Zündquellfreiheit im Inneren des Schrankes ausgestattet und erfüllt die Sicherheitsanforderungen der Zone 2. Er bietet auch eine automatische Abtauung, akustische und optische Alarmsignale sowie eine USB-Schnittstelle für die Datenübertragung.', 'category': 'Laborkühlschrank', 'manufacturer': 'Kirsch', 'title': 'LABEX-520 ULTIMATE'}\n",
      "['Der Kirsch LABEX-520 Laborkühlschrank ist speziell für die Lagerung von leicht entzündlichen und explosiven Stoffen konzipiert. Mit einem explosionsgeschützten Innenraum, der die Sicherheitsanforderungen der Zone 2 erfüllt, garantiert er Zündquellfreiheit im Inneren des Schrankes. Dies wird durch ein TÜV-Zertifikat bestätigt, was ihn ideal für die sichere Aufbewahrung von Chemikalien, giftigen Materialien und anderen leicht entflammbaren Stoffen macht.', 'Der Kühlschrank ist mit einer geräuscharmen, energiesparenden und hermetisch gekapselten Kältemaschine für 220-240 V Wechselstrom ausgestattet. Die Spannung kann auf Anfrage angepasst werden. Der Türanschlag ist serienmäßig rechts, aber wechselbar, und verstellbare Füße im Frontbereich ermöglichen den Ausgleich von Bodenunebenheiten. Der Abtauvorgang erfolgt automatisch durch zeitlich begrenzte und thermische Umkehr des Kältemittelkreislaufs, wobei das Tauwasser in einem Gefäß gesammelt und manuell entleert werden kann. Die 70 mm starke Isolierung aus hochwertigen, druckgeschäumten und umweltschonenden Materialien sorgt für höchste Temperaturkonstanz bei geringem Energieverbrauch.', 'Der Innenraum des Schrankes besteht aus poliertem Aluminium mit einer farblosen Schutzbeschichtung und Stellleisten. Zur Innenausstattung gehören sechs kunststoffbeschichtete Roste. Das Außengehäuse besteht aus verzinktem Stahlblech mit einer kratzfesten, weißen Pulverbeschichtung. Die elektronische Temperatursteuerung reguliert die Temperatur unabhängig von wechselnden Außentemperaturen, vorausgesetzt, die Umgebungstemperatur liegt mindestens 3°C über der gespeicherten Innentemperatur.', 'Der Kirsch LABEX-520 Laborkühlschrank verfügt über zahlreiche innovative Funktionen, darunter ein Umluftgekühltes System mit Querstromgebläse, das beim Öffnen der Tür automatisch abschaltet, ein Schaltzentrum mit Schlüsselschalter und Folientastatur, eine digitale Temperaturanzeige sowie akustische und optische Alarmsignale. Zusätzlich bietet er einen potentialfreien Kontakt für den Anschluss an die zentrale Leittechnik, eine USB-Schnittstelle und eine Sicherheitseinrichtung gegen Minustemperaturen. Diese Merkmale machen den LABEX-520 zu einem optimalen Partner für die Kühlung in Labor, Klinik und im gesamten Gesundheitswesen.', 'Der Kirsch LABEX-520 Laborkühlschrank bietet gegenüber dem Pro-Active Modell zusätzliche Vorteile wie ein Touch-Display mit edlem Glasdesign, Zugangskontrolle mit Protokoll, grafische Anzeige des Temperaturverlaufs und Min/Max Temperatur sowie digitale Datendokumentation über PC-KIT-NET oder USB-Schnittstelle und die Software KIRSCH Datanet.', 'Die PRO-ACTIVE Steuerungselektronik des Kirsch LABEX-520 Laborkühlschranks ermöglicht eine permanente, proaktive Überwachung der Leistungsdaten und Alarmierung bei Abweichungen. Die genaue Temperatursteuerung wird durch zwei serienmäßige PT-1000 Fühler gewährleistet. Weitere Merkmale umfassen einen PC-KIT-STICK zur elektronischen Temperaturdokumentation über USB-Stick, eine Temperatureinstellung von ca. +0°C bis +15°C, eine digitale Temperaturanzeige und die Kennzeichnung EX II 3 G T6 für den explosionsgeschützten Innenraum. Der Kühlschrank ist mit einer Tür mit austauschbarem, leichtem Kunststoff-Magnetdichtungsrahmen, einem Schloss, wechselbarem Türanschlag und verstellbaren Füßen ausgestattet. Die sechs kunststoffbeschichteten Roste haben eine maximale Belastung von je 40 kg. Der Normalverbrauch des LABEX-520 beträgt 1,2 kWh in 24 Stunden bei einem Kühlinhalt von ca. 500 Litern. Weitere Funktionen umfassen akustische und optische Warnsignale, eine USB-Schnittstelle, automatische Abtauung, eine über Netzteil abgesicherte Umluftkühlung, ein 2,8 m langes Stecker-Kabel, einen potentialfreien Kontakt, eine Sicherheitseinrichtung gegen Minustemperaturen und einen Minimum/Maximum-Temperatur-Speicher. Die Außenmaße einschließlich Wandabstand und Türgriff betragen 77x76x196 cm (BxTxH), die Innenmaße 62x57x140 cm (BxTxH).']\n",
      "{'Abmessungen-cm': {'Außenmaße_Breite': 77, 'Außenmaße_Tiefe': 76, 'Außenmaße_Höhe': 195.5, 'Innenmaße_Breite': 60, 'Innenmaße_Tiefe': 57, 'Innenmaße_Höhe': 140}, 'Gewicht-kg': {'netto': 120, 'brutto': 148}, 'Volumen-l': {'Kühlinhalt': 500}, 'Temperatur-celsius': {'Einstellung_min': 0, 'Einstellung_max': 15, 'Umgebungstemperatur_min': 10, 'Umgebungstemperatur_max': 38, 'Abweichung': 0.9}, 'Energie': {'Leistungsaufnahme-watt': 234, 'Wärmeabgabe-watt': 543, 'Normalverbrauch-kwh_24h': 1.2}, 'Spannung-volt': {'Spannung': 220, 'Spannung_max': 240}, 'Frequenz-hz': {'Frequenz': 50}, 'Geräusch-db': {'Emission': 41}, 'Innenausstattung': {'Anzahl_Rost': 5, 'Belastbarkeit_Rost-kg': 40, 'Belastbarkeit_Schubfach-kg': 24}, 'Ausstattung': {'Abtauung_automatisch': True, 'Umluftkühlung': True, 'DIN_58375_konform': True, 'DIN_13221_konform': True, 'ATEX_95_konform': True, 'Kältemaschine_wassergekühlt': 'optional', 'Kältemaschine_60Hz': 'optional', 'Kältemaschine_Ventilator': True, 'Alarmierung_Stromausfall': True, 'PC-KIT-NET': True, 'Dekorrahmen': 'optional', 'Glastür': False, 'Glastür_mit_Schloss': 'optional', 'Türkoppelungs-Beschlag': 'optional', 'fahrbare_Ausführung': True, 'Tischplatte': False, 'Einbaufähig': False, 'Unterbaufähig': False, 'Rost_mit_Schienen': 'optional', 'Kunststoff-Schubfach': False, 'Kunststoff-Schubfach_mit_Rollschubführungen': 'optional', 'Tauwassergefäß': True}, 'Sonstiges': {'flexible_Ausstattung': True}}\n"
     ]
    },
    {
     "name": "stderr",
     "output_type": "stream",
     "text": [
      " 36%|███▋      | 55/151 [17:03<29:57, 18.72s/it]"
     ]
    },
    {
     "name": "stdout",
     "output_type": "stream",
     "text": [
      "{'summary': 'Der FRYKA Tiefkühlschrank TS 50-100 ist ein kompakter Labortiefkühlschrank mit einem Nutzinhalt von 100 Litern und einem Temperaturbereich von -10°C bis -50°C. Mit seinen kompakten Außenmaßen von 68x116x73 cm (BxHxT) ist er ideal für die Lagerung von Materialproben direkt am Arbeitsplatz. Der Tiefkühlschrank verfügt über ein geräuscharmes, voll hermetisches und luftgekühltes Kälteaggregat, das wartungsarm und energieeffizient ist. Die Sicherheit wird durch eine abschließbare Tür, doppelten Dichtungen und einen netzunabhängigen Alarm (optisch und akustisch) über mindestens 72 Stunden gewährleistet. Zudem bietet der TS 50-100 eine RS485-Schnittstelle und einen 100mV/K-Ausgang für den Anschluss eines Temperaturaufzeichnungssystems. Der Tiefkühlschrank ist aus rostfreiem Edelstahl gefertigt und verfügt über umlaufende Lüftungsgitter, die eine Aufstellung direkt an der Wand ermöglichen.', 'category': 'Labortiefkühlschrank', 'manufacturer': 'FRYKA', 'title': 'TS 50-100'}\n",
      "['Der FRYKA Tiefkühlschrank TS 50-100 ist ein kompakter und leistungsstarker Labor-Tiefkühlschrank, der speziell für den Einsatz in wissenschaftlichen und industriellen Laboren entwickelt wurde. Mit seinen kompakten Außenmaßen von 68x116x73 cm (BxHxT) ermöglicht er das Kühlen und Gefrieren von Materialproben direkt am Arbeitsplatz.', 'Dank der umlaufenden Lüftungsgitter kann der Tiefkühlschrank direkt an einer Wand platziert werden, was die Effizienz der Arbeit erhöht, da die Proben schnell zugänglich sind. Das moderne Kälteaggregat ist geräuscharm, voll hermetisch und luftgekühlt, was eine geringe Geräuschbelastung und einfache Wartung gewährleistet.', 'Sicherheitsmerkmale des TS 50-100 umfassen eine abschließbare Tür und doppelte Dichtungen. Zudem verfügt der Tiefkühlschrank über einen 100mV/k Ausgang für den Anschluss an ein Temperaturaufzeichnungssystem und einen potentialfreien Alarmkontakt für die Integration in externe Alarmsysteme.', 'Der Tiefkühlschrank bietet eine präzise Temperaturregelung von +/- 1K und einen Nutzinhalt von 100 Litern. Das Gehäuse besteht aus rostfreiem Edelstahl, was die Reinigung erleichtert und eine hohe Hygiene gewährleistet. Die Steuereinheit ist benutzerfreundlich mit einer Folientastatur und einem integrierten, galvanisch getrennten Alarm ausgestattet.', 'Ein netzunabhängiger Alarm mit optischem und akustischem Signal über mindestens 72 Stunden zeigt die maximale erreichte Temperatur während einer Störung an. Dies macht den TS 50-100 zu einem zuverlässigen Partner für die Kühlung im Labor.', 'Die technischen Daten des TS 50-100 umfassen einen Temperaturbereich von -50°C bis -10°C, eine Umgebungstemperatur von +12°C bis +30°C, einen elektrischen Anschluss von 230V/50Hz und ein Gewicht von 120 kg. Das Netzkabel hat eine Länge von 3 Metern.', 'Der Lieferumfang des TS 50-100 beinhaltet den Tiefkühlschrank und ein 3 Meter langes Netzkabel. Optional sind ein Edelstahlregal, vier Rollen (zwei mit Feststellbremse), ein Umluftventilator für eine bessere Temperaturverteilung und eine Durchführung von 19 mm erhältlich.']\n",
      "{'Abmessungen-cm': {'Außenmaße_Breite': 68, 'Außenmaße_Tiefe': 73, 'Außenmaße_Höhe': 116, 'Innenmaße_Breite': 45, 'Innenmaße_Tiefe': 45, 'Innenmaße_Höhe': 50}, 'Gewicht-kg': {'netto': 120}, 'Volumen-l': {'Gefrierinhalt': 100}, 'Temperatur-celsius': {'Einstellung_min': -50, 'Einstellung_max': -10, 'Umgebungstemperatur_min': 12, 'Umgebungstemperatur_max': 30, 'Abweichung': 1}, 'Energie': {}, 'Spannung-volt': {'Anschluss': 230}, 'Frequenz-hz': {'Anschluss': 50}, 'Geräusch-db': {}, 'Innenausstattung': {'Anzahl_Schubfächer': 4, 'Material_Schubfächer': 'Edelstahl'}, 'Ausstattung': {'Abtauung_automatisch': True, 'Türaufalarm': 'akustisch+optisch', 'Schnittstelle': 'RS485', 'Steuerung': 'Folientastatur'}, 'Sonstiges': {'Netzkabel': '3m Länge', 'Vakuum-Isolierung': True, 'Umluftventilator': 'optional', 'Rollen': 'optional'}}\n"
     ]
    },
    {
     "name": "stderr",
     "output_type": "stream",
     "text": [
      " 37%|███▋      | 56/151 [17:15<26:32, 16.77s/it]"
     ]
    },
    {
     "name": "stdout",
     "output_type": "stream",
     "text": [
      "{'summary': 'Der Auftisch Ultratieffroster ULT U35 von Nordic Lab ist ein kompakter Laborfroster, ideal für die Kaltlagerung biologischer Proben und Impfstoffe. Mit einem Innenvolumen von 37 Litern bietet er Platz für bis zu 33 Cryoboxen mit 50 mm Höhe. Der Temperaturbereich lässt sich zwischen -60°C und -86°C einstellen, was ihn besonders für anspruchsvolle Lagerungsbedingungen geeignet macht. Das Gerät verfügt über optische und akustische Alarme bei Temperaturabweichungen und ermöglicht die Datenauslesung via USB. Zudem ist es umweltfreundlich konstruiert, mit recycelbaren Materialien und einem natürlichen Kältemittel (Nature R), das keine schädlichen Auswirkungen auf die Umwelt hat. Die Zertifizierungen nach ISO 9001, 14001 und 45001 sowie die Einhaltung der RoHS-Richtlinie garantieren hohe Qualitäts- und Umweltstandards.', 'category': 'Ultratiefkühlschrank', 'manufacturer': 'Nordic Lab', 'title': 'ULT U35'}\n",
      "['Der ULT U35 ist ein kompakter Auftisch-Laborfroster, der sich ideal zur Kaltlagerung von biologischen Proben und Impfstoffen eignet. Mit einem Innenvolumen von 37 Litern bietet er Platz für bis zu 33 Cryoboxen mit einer Höhe von 50 mm.', 'Die Temperatur des Geräts kann zwischen -60°C und -86°C eingestellt werden. Ein optischer und akustischer Alarm warnt bei Temperaturabweichungen. Die Temperaturdaten können über USB ausgelesen oder über eine 20 mm große Öffnung mit externen Sonden überwacht werden. Zudem besteht die Möglichkeit, das Gerät mit einem externen Datenspeicher zu verbinden.', 'Der ULT U35 ist umweltverträglich und nachhaltig konstruiert. Er besteht zu etwa 80% aus recycelbaren Materialien und verfügt über eine Cyclopentan-Isolierung, die den Energieverbrauch reduziert. Als Kältemittel wird das patentierte Nature R verwendet, das keine giftigen Gase enthält und somit ozonschonend ist.', 'Das Gerät ist nach ISO 9001, 14001 und 45001 zertifiziert, was für hohe Qualität, Umweltverträglichkeit und Sicherheit steht. Zudem erfüllt es die RoHS-Richtlinie und ist frei von schädlichen Substanzen wie Blei, Quecksilber, Cadmium, sechswertigem Chrom, PBB und PBDE.']\n",
      "{'Abmessungen-cm': {'Außenmaße_Breite': 63, 'Außenmaße_Tiefe': 67.5, 'Außenmaße_Höhe': 65, 'Innenmaße_Breite': 43.9, 'Innenmaße_Tiefe': 67.5, 'Innenmaße_Höhe': 43.3}, 'Gewicht-kg': {}, 'Volumen-l': {'Kühlinhalt': 37}, 'Temperatur-celsius': {'Einstellung_min': -86, 'Einstellung_max': -60, 'Abweichung_min': -3.7, 'Abweichung_max': 2.0}, 'Energie': {'Normalverbrauch_kwh_24h': 3.2}, 'Spannung-volt': {'Spannung': 230}, 'Frequenz-hz': {'Frequenz': 50}, 'Geräusch-db': {}, 'Innenausstattung': {'Material_Ablageflächen': 'Edelstahl', 'Material_Innenbehälter': 'Edelstahl', 'Anzahl_Ablageflächen': 1}, 'Ausstattung': {'Schloss': True, 'Rollen': False, 'USB': True, 'Türaufalarm': 'akustisch+optisch', 'Schnittstelle': 'MODBUS'}, 'Sonstiges': {'Kältemittel': 'Nature R', 'Kompressorart': 'Einzelphase', 'Temperatursonde': '1/PT 1000'}}\n"
     ]
    },
    {
     "name": "stderr",
     "output_type": "stream",
     "text": [
      " 38%|███▊      | 57/151 [17:30<25:12, 16.09s/it]"
     ]
    },
    {
     "name": "stdout",
     "output_type": "stream",
     "text": [
      "{'summary': 'Der Kirsch FROSTER MED-95 PRO-ACTIVE ist ein Medikamentengefrierschrank mit 95 Litern Nutzvolumen und einem Temperaturbereich von -5°C bis -25°C. Der Gefrierschrank verfügt über eine PRO-ACTIVE Steuerungselektronik, die eine permanente Überwachung der Leistungsdaten und Alarmierung bei Abweichungen ermöglicht. Mit einer Folientastatur, digitaler Anzeige und USB-Schnittstelle für die Temperaturdokumentation bietet er hohe Sicherheit und Benutzerfreundlichkeit. Der FROSTER MED-95 ist besonders servicefreundlich durch seine frontseitige Blende und leicht zu reinigende Oberfläche. Der Gefrierschrank ist ideal für die Lagerung von Medikamenten und Blutkonserven in medizinischen Einrichtungen.', 'category': 'Medikamentenkühlschrank', 'manufacturer': 'Kirsch', 'title': 'FROSTER MED-95 PRO-ACTIVE'}\n",
      "['Der Kirsch FROSTER MED-95 ist ein Medikamentengefrierschrank mit PRO-Active-Steuerung, der sich durch Geräuscharmut und eine servicefreundliche Frontblende auszeichnet. Die Konstruktion ermöglicht eine einfache Reinigung und eine effiziente Luftzirkulation über die Lüftungsgitter.', 'Das Außengehäuse des Gefrierschranks besteht aus verzinktem, rostgeschütztem Stahlblech mit einer kratzfesten, weißen Pulverbeschichtung. Der Türanschlag ist wechselbar und der Abtauvorgang erfolgt manuell. Ein Tauwassergefäß erleichtert das Entleeren.', 'Die Isolierung des FROSTER MED-95 ist 50 mm stark und besteht aus hochwertigem, druckgeschäumtem und umweltschonendem Material. Der Innenraum ist aus schlagfestem, weißem Kunststoff gefertigt und verfügt über zwei kunststoffbeschichtete Roste sowie ein Schubfach mit Arretierung. Das Schubfach lässt sich mit einem verstellbaren Längs- und sechs verstellbaren Querteilern individuell anpassen.', 'Der Gefrierschrank ist mit einer Schnellfrosteinrichtung zum schnellen Einfrieren des Kühlguts und einem Min-/Max-Temperaturspeicher ausgestattet. Die leicht zu reinigende Folientastatur und die kompakte Bauweise machen ihn ideal für den Einbau oder Unterbau, wobei eine hohe Temperaturkonstanz bei geringem Energieverbrauch gewährleistet ist.', 'Die PRO-ACTIVE Steuerungselektronik überwacht permanent die Leistungsdaten und alarmiert bei Abweichungen. Die genaue Temperatursteuerung wird durch zwei serienmäßige PT-1000 Fühler ermöglicht. Die Temperatur lässt sich stufenlos zwischen -5°C und -25°C einstellen.', 'Der Kirsch FROSTER MED-95 verfügt über eine elektronische Temperatursteuerung mit Manipulationsschutz, eine Folientastatur mit digitaler Anzeige sowie optische und akustische Alarme bei Temperaturabweichungen. Eine USB-Schnittstelle ermöglicht die Anbindung an eine PC-gestützte Temperaturdokumentation.', 'Die Tür besteht aus leichtem, austauschbarem Kunststoff mit einem Magnetdichtungsrahmen und ist abschließbar. Der Gefrierschrank hat ein Fassungsvermögen von 95 Litern und einen Normalverbrauch von 2,60 kWh in 24 Stunden. Die Außenmaße betragen 54 x 53,5 x 82 cm (BxTxH) und die Innenmaße 44 x 42 x 47 cm (BxTxH).', 'Die maximale Belastung des Schubfachs beträgt 13 kg und die der Roste 25 kg. Das Gerät ist mit einem 2,8 m langen Stecker-Kabel ausgestattet.']\n",
      "{'Abmessungen-cm': {'Außenmaße_Breite': 54, 'Außenmaße_Tiefe': 54, 'Außenmaße_Höhe': 82, 'Innenmaße_Breite': 44, 'Innenmaße_Tiefe': 42, 'Innenmaße_Höhe': 47}, 'Gewicht-kg': {'netto': 50, 'brutto': 54}, 'Volumen-l': {'Kühlinhalt': 95}, 'Temperatur-celsius': {'Einstellung_min': -25, 'Einstellung_max': -5, 'Umgebungstemperatur_min': 10, 'Umgebungstemperatur_max': 32, 'Abweichung': 1}, 'Energie': {'Leistungsaufnahme-watt': 123, 'Wärmeabgabe-watt': 162, 'Normalverbrauch-kwh_24h': 1.33}, 'Spannung-volt': {'Spannung': 220, 'Frequenz': 50}, 'Frequenz-hz': {}, 'Geräusch-db': {'Emission': 38}, 'Innenausstattung': {'Anzahl_Schubfächer': 1, 'Anzahl_Ablageflächen': 2, 'Belastbarkeit_Ablagefläche-kg': 25, 'Material_Schubfächer': 'Kunststoff'}, 'Ausstattung': {'Abtauung_automatisch': False, 'Umluftkühlung': False, 'DIN_58375_konform': True, 'DIN_58345_konform': False, 'Türaufalarm': 'akustisch', 'Logging': 'optional', 'Schnittstelle': 'optional', 'Steuerung': 'optional'}, 'Sonstiges': {'Kältemaschine_60Hz': 'optional', 'Kältemaschinen-Ventilator': True, 'Tauwassergefäß': True, 'Digitale Temperaturanzeige': True, 'Türkoppelungs-Beschlag': 'optional', 'Fahrbare Ausführung': 'optional', 'Tischplatte': 'optional', 'zusätzliche Längs-/Querteiler': 'optional'}}\n"
     ]
    },
    {
     "name": "stderr",
     "output_type": "stream",
     "text": [
      " 38%|███▊      | 58/151 [17:46<25:00, 16.14s/it]"
     ]
    },
    {
     "name": "stdout",
     "output_type": "stream",
     "text": [
      "{'summary': 'Der Kirsch LABEX-468 PRO-ACTIVE ist ein explosionsgeschützter Laborkühlschrank mit 460 Litern Nutzvolumen, speziell für die Lagerung von leicht entzündlichen und explosiven Stoffen konzipiert. Der Innenraum entspricht den Sicherheitsanforderungen der Zone 2 und ist TÜV-zertifiziert zündquellfrei. Der Kühlschrank verfügt über eine geräuscharme, hermetisch gekapselte Kältemaschine und eine automatische Abtauung. Die Temperaturregelung erfolgt elektronisch im Bereich von 0 bis +15°C. Mit einer Isolierung von 55 mm, einem Umluftgekühlten System und einem akustischen sowie optischen Alarmsignal bietet er höchste Sicherheit und Temperaturkonstanz. Der Innenraum besteht aus poliertem Aluminium mit Schutzbeschichtung und sechs kunststoffbeschichteten Rosten. Das Außengehäuse ist aus verzinktem Stahlblech mit einer kratzfesten Pulverbeschichtung. Zusätzlich verfügt der Kühlschrank über eine USB-Schnittstelle und einen potentialfreien Kontakt für die Anbindung an zentrale Leittechnik.', 'category': 'Laborkühlschrank', 'manufacturer': 'Kirsch', 'title': 'LABEX-468 PRO-ACTIVE'}\n",
      "['Der Kirsch LABEX-468 Laborkühlschrank ist speziell für die sichere Lagerung von leicht entzündlichen und explosiven Stoffen konzipiert. Er verfügt über einen explosionsgeschützten Innenraum, der die Sicherheitsanforderungen der Zone 2 erfüllt und durch ein TÜV-Zertifikat die Zündquellfreiheit im Inneren garantiert.', 'Der Kühlschrank ist mit einer geräuscharmen, energiesparenden und hermetisch gekapselten Kältemaschine für 220-240 V Wechselstrom ausgestattet. Der Türanschlag ist serienmäßig rechts, aber wechselbar, und verstellbare Füße im Frontbereich ermöglichen den Ausgleich von Bodenunebenheiten. Der Abtauvorgang erfolgt automatisch durch zeitlich begrenzte und thermische Umkehr des Kältemittelkreislaufs, wobei das Tauwasser in einem Gefäß gesammelt und manuell entleert werden kann.', 'Die Isolierung des Kühlschranks ist mit 55 mm besonders stark und besteht aus hochwertigen, druckgeschäumten und umweltschonenden Materialien. Dies gewährleistet eine hohe Temperaturkonstanz bei geringem Energieverbrauch. Der Innenraum besteht aus poliertem Aluminium mit einer farblosen Schutzbeschichtung und Stellleisten, sowie sechs kunststoffbeschichteten Rosten.', 'Das Außengehäuse des Kühlschranks besteht aus verzinktem, rostgeschütztem Stahlblech mit einer kratzfesten, weißen Pulverbeschichtung. Die elektronische Temperatursteuerung sorgt für eine konstante Innentemperatur, vorausgesetzt die Umgebungstemperatur liegt mindestens 3°C über der gespeicherten Innentemperatur.', 'Der Kirsch LABEX-468 Laborkühlschrank verfügt über zahlreiche innovative Serienausstattungen, darunter ein Umluftgekühltes System mit Querstromgebläse, das beim Öffnen der Tür automatisch abschaltet, ein Schaltzentrum mit Schlüsselschalter und Folientastatur, eine digitale Temperaturanzeige sowie akustische und optische Alarmsignale. Zusätzlich sind ein potentialfreier Kontakt mit Anschluss an die zentrale Leittechnik, eine USB-Schnittstelle und eine Sicherheitseinrichtung gegen Minustemperaturen integriert.', 'Diese Eigenschaften machen den Kirsch LABEX-468 Laborkühlschrank zu einem optimalen Partner für die Kühlung in Laboren, Kliniken und im gesamten Gesundheitswesen.']\n",
      "{'Abmessungen-cm': {'Außenmaße_Breite': 74, 'Außenmaße_Tiefe': 77.5, 'Außenmaße_Höhe': 189, 'Innenmaße_Breite': 60, 'Innenmaße_Tiefe': 57, 'Innenmaße_Höhe': 128}, 'Gewicht-kg': {'netto': 120, 'brutto': 134}, 'Volumen-l': {'Kühlinhalt': 460}, 'Temperatur-celsius': {'Einstellung_min': 0, 'Einstellung_max': 15, 'Umgebungstemperatur_min': 10, 'Umgebungstemperatur_max': 38, 'Abweichung': 1}, 'Energie': {'Leistungsaufnahme-watt': 170, 'Wärmeabgabe-watt': 280, 'Normalverbrauch-kwh_24h': 1.03}, 'Spannung-volt': {'Spannung': 220, 'Frequenz-hz': 50}, 'Geräusch-db': {'Emission': 40}, 'Innenausstattung': {'Anzahl_Rost': 6, 'Belastbarkeit_Ablagefläche-kg': 40, 'Belastbarkeit_Schubfach-kg': 24}, 'Ausstattung': {'Abtauung_automatisch': True, 'Umluftkühlung': True, 'DIN_58375_konform': True, 'DIN_13221_konform': True, 'ATEX_95_konform': True, 'Türaufalarm': 'akustisch', 'Kältemaschine_60Hz': 'optional', 'Dekorrahmen': 'optional', 'Glastür_mit_Schloss': 'optional', 'Türkoppelungs-Beschlag': 'optional', 'Fahrbare_Ausführung': 'optional', 'Rost_mit_Schienen': 'optional', 'Kunststoff-Schubfach_mit_Rollschubführungen': 'optional', 'PC-KIT-NET': 'optional'}, 'Sonstiges': {'flexible_Ausstattung_möglich': True, 'Tauwassergefäß_zur_man._Entleerung': True}}\n"
     ]
    },
    {
     "name": "stderr",
     "output_type": "stream",
     "text": [
      " 39%|███▉      | 59/151 [18:02<24:49, 16.20s/it]"
     ]
    },
    {
     "name": "stdout",
     "output_type": "stream",
     "text": [
      "{'summary': 'Der Kirsch MED-720 ULTIMATE ist ein Medikamentenkühlschrank nach DIN 58345 mit einem Fassungsvermögen von 700 Litern. Er verfügt über eine PRO-ACTIVE Steuerungselektronik, die eine präzise Temperaturregelung zwischen +2°C und +15°C ermöglicht. Der Kühlschrank ist mit zwölf Schubfächern ausgestattet, die auf Rollen gelagert und arretierbar sind, und bietet zusätzliche Features wie ein Touch-Display, Zugangskontrolle mit Protokoll und digitale Datendokumentation über PC-KIT-NET oder USB-Schnittstelle. Die Umluftkühlung und die automatische Abtauung sorgen für eine gleichmäßige Temperaturverteilung und einfache Wartung. Der MED-720 ULTIMATE ist ideal für die sichere und organisierte Lagerung von Medikamenten in medizinischen Einrichtungen.', 'category': 'Medikamentenkühlschrank', 'manufacturer': 'Kirsch', 'title': 'MED-720 ULTIMATE'}\n",
      "['Der Kirsch MED-720 ist ein nach DIN 58345 genormter Medikamentenkühlschrank mit einem Fassungsvermögen von 700 Litern. Er verfügt über zwölf Schubfächer, die auf Rollen gelagert und arretierbar sind, sowie drei Längs- und neun Querteiler für eine bessere Übersicht und Organisation der Medikamente.', 'Die Kühltemperatur des MED-720 liegt zwischen +2°C und +15°C, bei einem Energieverbrauch von 1,55 kWh/24 h. Der Innenbehälter besteht aus glattem Aluminium und die Standfüße ermöglichen ein einfaches Reinigen des Bodens.', 'Der Medikamentenkühlschrank ist mit einer PRO-ACTIVE Steuerungselektronik ausgestattet, die eine permanente Überwachung der Leistungsdaten ermöglicht und bei Abweichungen alarmiert. Die genaue Temperatursteuerung wird durch zwei serienmäßige PT-1000 Fühler gewährleistet.', 'Zur elektronischen Temperaturdokumentation ist ein PC-KIT-STICK über USB-Stick verfügbar. Der MED-720 verfügt über eine Umluftkühlung und eine Schnellabtauung. Die Außenmaße betragen 77x98x196 cm (BxTxH) und die Innenmaße 60x77x140 cm (BxTxH).', 'Der Kirsch MED-720 bietet zusätzliche Vorteile wie ein Touch-Display mit edlem Glasdesign, eine Zugangskontrolle mit Protokoll und eine grafische Anzeige des Temperaturverlaufs sowie der Min/Max Temperatur. Die digitale Datendokumentation erfolgt über PC-KIT-NET oder USB-Schnittstelle mit der Software KIRSCH Datanet.', 'Der Medikamentenkühlschrank erfüllt die Anforderungen der DIN 58345, darunter eine verschließbare Tür, Betriebstemperaturen zwischen +2°C und +8°C, Referenzmessungen, akustische und optische Warnungen bei Stromausfall, Sicherheitseinrichtungen gegen Minustemperaturen und einen potentialfreien Kontakt für Fernwarnanlagen.']\n",
      "{'Abmessungen-cm': {}, 'Gewicht-kg': {}, 'Volumen-l': {'Kühlinhalt': 700}, 'Temperatur-celsius': {'Einstellung_min': 2, 'Einstellung_max': 15, 'Umgebungstemperatur_min': 10, 'Umgebungstemperatur_max': 38, 'Abweichung': 1.8}, 'Energie': {'Leistungsaufnahme-watt': 250, 'Normalverbrauch-kwh_24h': 1.55}, 'Spannung-volt': {'Spannung': 220, 'Spannung_max': 240}, 'Frequenz-hz': {'Frequenz': 50}, 'Geräusch-db': {}, 'Innenausstattung': {'Anzahl_Schubfächer': 12, 'Material_Körbe': 'Kunststoff'}, 'Ausstattung': {'Umluftkühlung': True, 'DIN_58375_konform': True, 'Abtauung_automatisch': False, 'Türaufalarm': 'akustisch', 'Logging': True, 'Schnittstelle': 'LAN', 'Fahrbar': True}, 'Sonstiges': {'Kältemaschine_wassergekühlt': 'optional', 'Kältemaschine_60Hz': 'optional', 'Kältemaschinen-Ventilator': True, 'Außengehäuse_Chromnickelstahl_4301': 'optional', 'Dekorrahmen': 'optional', 'LED-Lichtleiste': 'optional', 'Glastür_mit_Schloss': 'optional', 'Türkoppelungs-Beschlag': 'optional', 'Rost_mit_Auflegern': 'optional', 'Rost_mit_Schienen': 'optional', 'Alu-Blech_mit_Schienen': 'optional', 'Drahtkorb_mit_Schienen': 'optional', 'zusätzliche_Längs-Querteiler': 'optional', 'Vario_Support': 'optional'}}\n"
     ]
    },
    {
     "name": "stderr",
     "output_type": "stream",
     "text": [
      " 40%|███▉      | 60/151 [18:22<25:59, 17.14s/it]"
     ]
    },
    {
     "name": "stdout",
     "output_type": "stream",
     "text": [
      "{'summary': 'Der Liebherr SUFsg 5001-70 MediLine ist ein Ultratiefkühlschrank mit Edelstahl-Innenbehälter und einem Nutzvolumen von 477 Litern. Er eignet sich für die kryogene Lagerung von biologischen Produkten, Antikörpern, Seren, Impfstoffen und anderen temperaturempfindlichen Substanzen bei Temperaturen von -40°C bis -86°C. Der Ultratiefkühlschrank ist mit einem 3-stufigen Überwachungssystem, SmartMonitoring-Fähigkeit und akustischen sowie optischen Alarmen ausgestattet, um die Temperatursicherheit zu gewährleisten. Zusätzlich bietet er eine präzise Temperatursteuerung mit 1-Punkt-Kalibrierung und Echtzeit-Uhr. Der SUFsg 5001-70 verfügt über drei flexibel positionierbare Ablageflächen aus Edelstahl und ein schmutzresistentes Bedienfeld, das eine einfache Reinigung ermöglicht. Mit seiner robusten Bauweise und den umfangreichen Überwachungsfunktionen ist dieser Ultratiefkühlschrank ideal für den Einsatz in Forschung und Labor.', 'category': 'Ultratiefkühlschrank', 'manufacturer': 'Liebherr', 'title': 'SUFsg 5001-70 MediLine'}\n",
      "['Der Ultratiefkühlschrank SUFsg 5001-70 aus der MediLine-Serie von Liebherr ist speziell für den Einsatz in Forschung und Labor entwickelt worden. Er bietet maximale Temperatursicherheit und präzise Temperatureinstellmöglichkeiten für die kryogene Lagerung von biologischen Produkten wie Antikörpern, Seren, Impfstoffen, Bakterien und Proteinen. Auch hochempfindliche Stoffe können bei Temperaturen von -40°C bis -86°C sicher gelagert werden.', 'Der Ultratiefkühlschrank ist nach der Norm EN 60068-3 geprüft und gewährleistet durch das Liebherr-Umluft-Kältesystem und eine optimale Luftführung eine konstante Innenraumtemperatur mit minimalen Fluktuationen. Die präzise Temperatursteuerung wird durch eine 1-Punkt-Kalibrierung und eine integrierte Echtzeit-Uhr ermöglicht. Die Kombination aus FCKW-freier PU-Schäumung und vakuumisolierten Paneelen sorgt für eine optimale Isolierung und verhindert schnelle Temperaturanstiege.', 'Ein 3-stufiges Überwachungssystem und die Option auf SmartMonitoring ermöglichen ein Eingreifen in kritischen Situationen. Über- und Unterschreitungen der Temperaturgrenzen, eine zu lange geöffnete Tür oder Netzprobleme werden akustisch und optisch signalisiert. Bei Stromausfall wird die Elektronik durch integrierte 12-Volt-Batterien versorgt, was jederzeit mit der Alarm-Test-Funktion überprüft werden kann, ohne den Inhalt zu gefährden.', 'Der Ultratiefkühlschrank bietet ein Höchstmaß an Flexibilität und Hygiene durch drei flexibel positionierbare Ablageflächen aus rostfreiem Edelstahl, aushängbare Innentüren und ein schmutzresistentes Bedienfeld, das sich einfach reinigen lässt.', 'Weitere Merkmale des Liebherr SUFsg 5001-70 MediLine sind eine präzise Komfortelektronik mit 1/10°-Temperaturanzeige, ein optischer und akustischer Alarm bei Temperaturabweichungen, eine zu lange geöffneter Tür und Netzstörungen, sowie eine funktionale verschließbare Tür mit ergonomischem und bruchsicherem Alu-Hebelgriff mit integriertem mechanischem Schloss.', 'Das Überwachungssystem SmartMonitoring kann zusätzlich über eine Ethernet-Schnittstelle verbunden werden. Mit einer gesondert erhältlichen SmartMonitoring-Lizenz können Sie die SmartMonitoring-App nutzen, die es ermöglicht, sämtliche Mess- und Betriebsdaten überall zu überprüfen.']\n",
      "{'Abmessungen-cm': {'Außenmaße_Breite': 92, 'Außenmaße_Tiefe': 108.2, 'Außenmaße_Höhe': 196.6, 'Innenmaße_Breite': 60.6, 'Innenmaße_Tiefe': 60.5, 'Innenmaße_Höhe': 130}, 'Gewicht-kg': {'netto': 254, 'brutto': 308}, 'Volumen-l': {'Kühlinhalt': 477, 'Gefrierinhalt': 491}, 'Temperatur-celsius': {'Einstellung_min': -86, 'Einstellung_max': -40, 'Umgebungstemperatur_min': 16, 'Umgebungstemperatur_max': 32}, 'Energie': {'Normalverbrauch-kwh_24h': 8, 'Wärmeabgabe-watt': 329}, 'Spannung-volt': {'Spannung': 230}, 'Frequenz-hz': {}, 'Geräusch-db': {'Emission': 47}, 'Innenausstattung': {'Anzahl_Schubfächer': 4, 'Anzahl_Ablageflächen': 13, 'Belastbarkeit_Ablagefläche-kg': 50, 'Material_Schubfächer': 'Edelstahl'}, 'Ausstattung': {'Abtauung_automatisch': False, 'DIN_13221_konform': False, 'DIN_58375_konform': False, 'DIN_13277_konform': False, 'ATEX_95_konform': False, 'Türaufalarm': 'akustisch', 'Logging': True, 'Datenlogger': True, 'Schnittstelle': 'LAN', 'Steuerung': 'LED-7-Segmentanzeige mit Tasten'}, 'Sonstiges': {'Kältemittel': 'R 290 / R 170', 'Kühlsystem': 'statisch', 'Material Innenbehälter': 'Edelstahl', 'Netzausfallalarm': 'unmittelbar bei Netzunterbrechung für 72 h', 'Rollen': 'Lenkrollen mit Feststellbremse vorne, Bockrollen hinten', 'Türanschlag': 'rechts fest', 'Vernetzungslösung': 'Nachrüstbar', 'Wärmeabgabesystem / Kältetechnologie': 'Luftkühlung / Kaskadenkühlung', 'Gehäusematerial / Farbe': 'Stahl / weiß', 'Türausführung': 'Stahl', 'Max. Anzahl Kryoboxen 50 mm / 75 mm': '352 / 224', 'Belastbarkeit Gerät': '200 kg'}}\n"
     ]
    },
    {
     "name": "stderr",
     "output_type": "stream",
     "text": [
      " 40%|████      | 61/151 [18:52<31:35, 21.06s/it]"
     ]
    },
    {
     "name": "stdout",
     "output_type": "stream",
     "text": [
      "{'summary': 'Der Liebherr SUFsg 7001-70 ist ein Ultratiefkühlschrank aus der MediLine-Serie, speziell für die Lagerung biologischer Produkte, Antikörper, Seren, Impfstoffe und anderer temperaturempfindlicher Substanzen entwickelt. Mit einem Nutzvolumen von 700 Litern und einem Temperaturbereich von -40°C bis -86°C bietet er präzise Temperaturkontrolle und maximale Temperatursicherheit. Der Ultratiefkühlschrank ist mit einem 3-stufigen Überwachungssystem, SmartMonitoring-Fähigkeit und akustischen sowie optischen Alarmen ausgestattet, um Temperaturabweichungen, Netzstörungen und andere kritische Situationen zu melden. Der Edelstahl-Innenbehälter und die flexibel positionierbaren Ablageflächen aus rostfreiem Edelstahl gewährleisten höchste Hygiene und Flexibilität. Zusätzlich verfügt der Schrank über eine integrierte USB-Schnittstelle für Datenlogging und eine LAN-Schnittstelle für die Vernetzung.', 'category': 'Ultratiefkühlschrank', 'manufacturer': 'Liebherr', 'title': 'SUFsg 7001-70'}\n",
      "['Der Ultratiefkühlschrank SUFsg 7001-70 aus der MediLine-Serie von Liebherr ist speziell für den Einsatz in Forschung und Labor konzipiert. Er bietet maximale Temperatursicherheit und präzise Temperatureinstellmöglichkeiten, was ihn ideal für die kryogene Lagerung von biologischen Produkten, Antikörpern, Seren, Impfstoffen, Bakterien und Proteinen macht. Auch hochempfindliche Stoffe können bei Temperaturen von -40°C bis -86°C sicher gelagert werden.', 'Der Ultratiefkühlschrank ist nach der Norm EN 60068-3 geprüft und gewährleistet durch das Liebherr-Umluft-Kältesystem und eine optimale Luftführung konstante Innenraumtemperaturen mit minimalen Schwankungen. Die Temperatursteuerung erfolgt präzise mittels 1-Punkt-Kalibrierung und einer integrierten Echtzeit-Uhr. Die Kombination aus FCKW-freier PU-Schäumung und vakuumisolierten Paneelen sorgt für eine optimale Isolierung und verhindert schnelle Temperaturanstiege.', 'Ein 3-stufiges Überwachungssystem und die Option für SmartMonitoring ermöglichen es, in kritischen Situationen einzugreifen. Über- und Unterschreitungen der Temperaturgrenzen, eine zu lange geöffnete Tür oder Netzprobleme werden akustisch und optisch signalisiert. Bei Stromausfall wird die Elektronik umgehend durch integrierte 12-Volt-Batterien versorgt. Die Alarm-Test-Funktion ermöglicht eine Überprüfung des Systems ohne Gefährdung des Inhalts.', 'Der Ultratiefkühlschrank bietet mit drei flexibel positionierbaren Ablageflächen aus rostfreiem Edelstahl, aushängbaren Innentüren und einem schmutzresistenten Bedienfeld ein Höchstmaß an Flexibilität und Hygiene. Das Bedienfeld lässt sich einfach reinigen, was die Wartung erleichtert.', 'Die präzise Komfortelektronik des SUFsg 7001-70 ermöglicht eine Temperaturanzeige mit einer Genauigkeit von 1/10°. Optische und akustische Alarme warnen bei Temperaturabweichungen, zu lange geöffneter Tür und Netzstörungen. Die funktionale, verschließbare Tür ist mit einem ergonomischen und bruchsicheren Alu-Hebelgriff mit integriertem mechanischen Schloss ausgestattet.', 'Das SmartMonitoring-System kann zusätzlich über eine Ethernet-Schnittstelle verbunden werden. Mit einer gesondert erhältlichen SmartMonitoring-Lizenz können Sie die SmartMonitoring-App nutzen, die es ermöglicht, sämtliche Mess- und Betriebsdaten überall zu überprüfen.']\n",
      "{'Abmessungen-cm': {'Außenmaße_Breite': 120.4, 'Außenmaße_Tiefe': 108.2, 'Außenmaße_Höhe': 196.6, 'Innenmaße_Breite': 89, 'Innenmaße_Tiefe': 60.5, 'Innenmaße_Höhe': 130}, 'Gewicht-kg': {'netto': 313, 'brutto': 361}, 'Volumen-l': {'Kühlinhalt': 700, 'Gefrierinhalt': 728}, 'Temperatur-celsius': {'Einstellung_min': -86, 'Einstellung_max': -40, 'Umgebungstemperatur_min': 16, 'Umgebungstemperatur_max': 32}, 'Energie': {'Normalverbrauch-kwh_24h': 8.1, 'Wärmeabgabe-watt': 340}, 'Spannung-volt': {'Spannung': 230, 'Anschlusswert': 7}, 'Frequenz-hz': {}, 'Geräusch-db': {'Emission': 47}, 'Innenausstattung': {'Anzahl_Schubfächer': 4, 'Anzahl_Ablageflächen': 13, 'Belastbarkeit_Ablagefläche-kg': 50, 'Material_Schubfächer': 'Edelstahl'}, 'Ausstattung': {'Abtauung_automatisch': False, 'Umluftkühlung': False, 'Türaufalarm': 'akustisch', 'Datenlogger': True, 'Schnittstelle': 'LAN', 'Steuerung': 'LED-7-Segmentanzeige mit Tasten'}, 'Sonstiges': {'Kältemittel': 'R 290 / R 170', 'Kühlsystem': 'statisch', 'Material Innenbehälter': 'Edelstahl', 'Netzausfallalarm': 'unmittelbar bei Netzunterbrechung für 72 h', 'Rollen': 'Lenkrollen mit Feststellbremse vorne, Bockrollen hinten', 'Türanschlag': 'rechts fest', 'Vernetzungslösung': 'Nachrüstbar', 'Wärmeabgabesystem / Kältetechnologie': 'Luftkühlung / Kaskadenkühlung', 'Gehäusematerial / Farbe': 'Stahl / weiß', 'Türausführung': 'Stahl', 'Anzahl Racks pro Einschub': 6, 'Max. Anzahl Kryoboxen 50 mm / 75 mm': '528 / 336', 'Belastbarkeit Gerät': 200, 'Fühlerdurchführung': '2 x Ø 28 mm', 'Potentialfreier Kontakt': True, 'Abkühlung +22 °C auf -80 °C': '450 min', 'Erwärmung -80 °C auf -60 °C / auf 0 °C': '250 min / 2220 min'}}\n"
     ]
    },
    {
     "name": "stderr",
     "output_type": "stream",
     "text": [
      " 41%|████      | 62/151 [19:20<34:13, 23.07s/it]"
     ]
    },
    {
     "name": "stdout",
     "output_type": "stream",
     "text": [
      "{'summary': 'Der Liebherr SRPvh 6511 Perfection ist ein hochmodernes Laborkühlgerät mit Glastür, das speziell für medizinische Einrichtungen, Forschungslabore und Apotheken entwickelt wurde. Mit einem Bruttovolumen von 642 Litern und einem einstellbaren Temperaturbereich von 0°C bis +16°C bietet dieses Gerät optimale Bedingungen für die sichere Lagerung temperaturempfindlicher Substanzen. Die dynamische Umluftkühlung sorgt für eine gleichmäßige Temperaturverteilung im gesamten Innenraum, wobei die Temperaturabweichung maximal ±2°C beträgt. Der SRPvh 6511 ist mit einem Alarm-Relais und einer integrierten WiFi-/LAN-Schnittstelle ausgestattet, die die Integration in das Liebherr SmartMonitoring-System ermöglicht. Diese digitale Lösung überwacht und dokumentiert die Lagertemperatur kontinuierlich und alarmiert bei Abweichungen. Mit einem jährlichen Energieverbrauch von 317 kWh und einer Nutzungsdauer von bis zu 15 Jahren bietet der SRPvh 6511 Perfection eine nachhaltige und zuverlässige Lösung für anspruchsvolle Anwendungen.', 'category': 'Laborkühlschrank', 'manufacturer': 'Liebherr', 'title': 'SRPvh 6511 Perfection'}\n",
      "['Der Liebherr SRPvh 6511 ist ein Laborkühlschrank, der speziell für medizinische Einrichtungen, Forschungslabore und Apotheken entwickelt wurde. Mit einem Bruttovolumen von 642 Litern und einem einstellbaren Temperaturbereich von 0\\u202f°C bis +16\\u202f°C bietet dieses Gerät optimale Lagerbedingungen für temperaturempfindliche Substanzen.', 'Die dynamische Umluftkühlung sorgt für eine gleichmäßige Temperaturverteilung im gesamten Innenraum mit einer maximalen Abweichung von ±2\\u202f°C. Dies gewährleistet eine konstante Lagerumgebung und schützt empfindliche Proben vor Qualitätseinbußen.', 'Für zusätzliche Sicherheit ist der SRPvh 6511 mit einem Alarm-Relais ausgestattet, das im Falle einer Störung sofort eine Benachrichtigung sendet. Optional kann das Gerät mit einer integrierten WiFi-/LAN-Schnittstelle ausgestattet werden, die die Integration in das Liebherr SmartMonitoring-System ermöglicht. Diese digitale Lösung überwacht und dokumentiert die Lagertemperatur kontinuierlich und alarmiert bei Abweichungen.', 'Mit einem jährlichen Energieverbrauch von 317\\u202fkWh und einer Nutzungsdauer von bis zu 15 Jahren bietet der SRPvh 6511 eine nachhaltige und zuverlässige Lösung für anspruchsvolle Anwendungen. Hochwertige Materialien und eine solide Verarbeitung garantieren Langlebigkeit, während eine Ersatzteilverfügbarkeit von mindestens zehn Jahren sichergestellt ist.', 'Die Außenmaße von 213,5 cm (Höhe) x 69,7 cm (Breite) x 86,7 cm (Tiefe) ermöglichen eine flexible Platzierung. Die selbstschließende Tür mit 90°-Feststellung und die LED-Innenbeleuchtung tragen zur Benutzerfreundlichkeit bei. Der Innenraum ist mit vier beschichteten Rosten ausgestattet, die eine individuelle Anpassung an unterschiedliche Lagerbedürfnisse ermöglichen.']\n",
      "{'Abmessungen-cm': {'Außenmaße_Breite': 69.7, 'Außenmaße_Tiefe': 86.7, 'Außenmaße_Höhe': 213.5, 'Innenmaße_Breite': 48.9, 'Innenmaße_Tiefe': 63.8, 'Innenmaße_Höhe': 149.3}, 'Gewicht-kg': {'netto': 152, 'brutto': 169, 'Maximale Gesamtbeladung': 240}, 'Volumen-l': {'Kühlinhalt': 480, 'Brutto': 642}, 'Temperatur-celsius': {'Einstellung_min': 0, 'Einstellung_max': 16, 'Umgebungstemperatur_min': 10, 'Umgebungstemperatur_max': 35, 'Abweichung': 3.4}, 'Energie': {'Normalverbrauch-kwh_24h': 0.87, 'Wärmeabgabe-watt': 101.39}, 'Spannung-volt': {'Spannung': 240}, 'Frequenz-hz': {'Frequenz': 50}, 'Geräusch-db': {'Emission': 60}, 'Innenausstattung': {'Anzahl_Ablageflächen': 4, 'Belastbarkeit_Ablagefläche-kg': 60, 'Material_Ablageflächen': 'Kunststoffbeschichtet'}, 'Ausstattung': {'Abtauung_automatisch': True, 'DIN_13277_konform': True, 'Türaufalarm': 'akustisch+optisch', 'Datenlogger': True, 'Schnittstelle': 'WLAN/LAN', 'Steuerung': '2,4\"-Farbdisplay, Touch & Swipe'}, 'Sonstiges': {'Kältemittel': 'R 600a', 'Kühlsystem': 'dynamisch', 'Material Innenbehälter': 'Chrom-Nickel-Stahl (1.4301 / AISI 304)', 'Türmaterial': 'Isolierglastür mit Stahlrahmen', 'Farbe': 'weiß', 'Reinraumklasse': 'ISO-Klasse 6', 'GMP-Klasse': 'GMP-Klasse B', 'Innenbeleuchtung': 'LED-Lichtsäule links, separat schaltbar', 'Griff': 'Vertikale Griffmulde', 'Rollen': 'Lenkrollen mit Feststellbremse vorne, Bockrollen hinten', 'Schloss': 'elektronisch, mit Fernbedienung', 'Vernetzungslösung': 'Integriert, entnehmbar', 'Potentialfreier Kontakt': True, 'Netzausfallalarm': 'unmittelbar bei Netzunterbrechung für mind. 12 h'}}\n"
     ]
    },
    {
     "name": "stderr",
     "output_type": "stream",
     "text": [
      " 42%|████▏     | 63/151 [20:01<41:47, 28.49s/it]"
     ]
    },
    {
     "name": "stdout",
     "output_type": "stream",
     "text": [
      "{'summary': 'Der HMFvh 5501 H63 Perfection ist ein Medikamentenkühlschrank von Liebherr mit einem Nutzvolumen von 355 Litern und einer konstanten Temperatur von +5°C. Der Kühlschrank verfügt über ein dynamisches Kühlsystem, eine hochwirksame Isolierung und eine gradgenaue Temperaturregelung, die eine zuverlässige Lagerung von sensiblen Substanzen und Präparaten gewährleistet. Mit einem integrierten Ordnungssystem mit 7 Schubfächern, optischen und akustischen Alarmsystemen sowie einer WiFi-/LAN-Schnittstelle für SmartMonitoring bietet er höchste Sicherheit und Benutzerfreundlichkeit. Der integrierte Logger speichert Temperaturprofile, Alarmhistorie und Serviceinformationen bis zu fünf Jahre lang. Bei Stromausfall übernimmt ein integrierter Akku die Stromversorgung und löst Alarme aus. Die Perfection-Serie zeichnet sich durch Temperaturstabilität, Lagersicherheit und Energieeffizienz aus.', 'category': 'Medikamentenkühlschrank', 'manufacturer': 'Liebherr', 'title': 'HMFvh 5501 H63 Perfection'}\n",
      "['Der Medikamentenkühlschrank HMFvh 5501-20 H63 verfügt über ein integriertes Ordnungssystem mit 7 Schubfächern und bietet eine zuverlässige Lagerung von sensiblen Substanzen und Präparaten, die rund um die Uhr zugänglich sind.', 'Der Kühlschrank ist mit einem dynamischen Kühlsystem, einer hochwirksamen Isolierung und einer gradgenauen Temperaturregelung ausgestattet. Optische und akustische Alarmsysteme sorgen für zusätzliche Sicherheit. Die Temperaturstabilität beträgt +/-2 K Abweichung vom Sollwert (bei der Modellvariante H63 +/-3 K).', 'Der integrierte Logger kann das Temperaturprofil, die Alarmhistorie und Serviceinformationen bis zu fünf Jahre lang speichern. Diese Daten können einfach per USB-Schnittstelle direkt am Gerät ausgelesen werden. Dank der integrierten WiFi-/LAN-Schnittstelle können die Geräte mit dem SmartMonitoring von Liebherr oder anderen lokalen Systemen verbunden werden. SmartMonitoring ist eine cloudbasierte, digitale Lösung, die Temperaturen kontinuierlich überwacht und bei Abweichungen sofort per E-Mail, SMS oder Anruf alarmiert.', 'Bei einem Stromausfall oder anderen Störungen wird der integrierte Akku aktiviert, der optische und akustische Alarme auslöst und die Stromversorgung übernimmt. Sollte die Temperatur im Störfall unter +2°C fallen, übernimmt das SafetyDevice die Kontrolle, stabilisiert die Temperatur und schützt den Inhalt vor dem Einfrieren. SmartLock verriegelt automatisch die Tür, wenn ein Alarm ausgelöst wird, um sicherzustellen, dass Produkte nach einer Unterbrechung der Kühlkette nicht versehentlich in Umlauf geraten.', 'Der Kühlschrank verfügt über ein 2,4”-Farbdisplay mit Touch- und Swipe-Funktion, einen Wartungstimer, eine Verdampferabdeckung zum Schutz vor Anfrieren, eine Fühlerdurchführung und einen antimikrobiellen Griff mit Öffnungsmechanik. Die Alarmeinstellungen sind individuell möglich und das Gerät verfügt über ein elektronisches Schloss.', 'Die Isolier- und Glastürmodelle sind mit vertikaler Beleuchtung ausgestattet. Der Kühlschrank ist ultra-effizient im Energieverbrauch und erfüllt die DIN 13277 sowie die Sicherheit nach IEC 61010-2-011.']\n",
      "{'Abmessungen-cm': {'Außenmaße_Breite': 74.7, 'Außenmaße_Tiefe': 76.9, 'Außenmaße_Höhe': 179.3, 'Innenmaße_Breite': 55.6, 'Innenmaße_Tiefe': 46, 'Innenmaße_Höhe': 146}, 'Gewicht-kg': {'netto': 100, 'brutto': 106}, 'Volumen-l': {'Kühlinhalt': 355, 'Gefrierinhalt': 558}, 'Temperatur-celsius': {'Einstellung_min': 5, 'Einstellung_max': 5, 'Umgebungstemperatur_min': 10, 'Umgebungstemperatur_max': 35}, 'Energie': {'Normalverbrauch-kwh_24h': 0.47}, 'Spannung-volt': {'Spannung': 220, 'Anschlusswert': 240}, 'Frequenz-hz': {}, 'Geräusch-db': {'Emission': 49}, 'Innenausstattung': {'Anzahl_Schubfächer': 7, 'Anzahl_Ablageflächen': 1, 'Belastbarkeit_Ablagefläche-kg': 50, 'Material_Schubfächer': 'Kunststoff'}, 'Ausstattung': {'Abtauung_automatisch': True, 'Türaufalarm': 'akustisch+optisch', 'Datenlogger': True, 'Schnittstelle': 'WLAN/LAN', 'Steuerung': '2,4\"-Farbdisplay, Touch & Swipe'}, 'Sonstiges': {'Kältemittel': 'R 600a', 'Innenbeleuchtung': 'LED-Lichtsäule links', 'Griff': 'Antimikrobieller Griff mit Öffnungsmechanik', 'Rollen': 'Lenkrollen mit Feststellbremse vorne, Bockrollen hinten', 'Türanschlag': 'rechts wechselbar', 'Gehäusematerial': 'Stahl', 'Farbe': 'weiß', 'Türausführung': 'Volltür', 'Material_Innenbehälter': 'Kunststoff weiß', 'Potentialfreier_Kontakt': True, 'Art_der_Vernetzbarkeit': 'SmartModule', 'Vernetzungslösung': 'Integriert, entnehmbar', 'Art_des_Schlosses': 'elektronisch, mit Fernbedienung'}}\n"
     ]
    },
    {
     "name": "stderr",
     "output_type": "stream",
     "text": [
      " 42%|████▏     | 64/151 [20:27<40:10, 27.71s/it]"
     ]
    },
    {
     "name": "stdout",
     "output_type": "stream",
     "text": [
      "{'summary': 'Der Liebherr LCexv 4010 MediLine ist ein hochwertiger Laborkühlschrank mit integriertem Gefrierteil, der speziell für die Anforderungen von Laboratorien entwickelt wurde. Mit einem Kühlteil von 240 Litern und einem Gefrierteil von 105 Litern bietet er ausreichend Platz für die Lagerung von temperaturempfindlichen Substanzen. Der Kühlteil arbeitet im Temperaturbereich von +3°C bis +16°C, während das Gefrierteil Temperaturen von -9°C bis -30°C erreicht. Der LCexv 4010 verfügt über eine präzise Komfortelektronik mit 1/10°-Temperaturanzeige und ist mit einem Sicherheitsthermostat ausgestattet, das im Fehlerfall verhindert, dass die Innentemperatur unter +2°C fällt. Zudem erfüllt er die NF X 15-140 Norm hinsichtlich maximaler Temperaturstabilität und optimaler Temperaturkonstanz. Der Kühlschrank ist mit einem optischen und akustischen Alarmsystem ausgestattet, das bei Temperaturabweichungen und zu lange geöffneter Tür warnt. Ein integrierter Datenspeicher protokolliert kontinuierlich die Innentemperatur und die letzten Alarmmeldungen. Der LCexv 4010 verfügt über eine RS 485 Schnittstelle und ist mit SmartMonitoring vorinstalliert, was die Überwachung und Steuerung der Geräte erleichtert. Der explosionsgeschützte Innenraum erfüllt die EU Richtlinie 2014/34/EU (ATEX) und ist somit geeignet für die Lagerung von explosiven und leicht entzündlichen Stoffen in geschlossenen Behältnissen.', 'category': 'Laborkühlschrank', 'manufacturer': 'Liebherr', 'title': 'LCexv 4010 MediLine'}\n",
      "['Der Liebherr LCexv 4010 MediLine ist ein Labor-Kühlschrank mit Gefrierteil, der speziell für die Lagerung von explosiven und leicht entzündlichen Stoffen in geschlossenen Behältnissen geeignet ist. Er erfüllt die EU-Richtlinie 2014/34/EU (ATEX) und ist gemäß der Klassifizierung II 3G Ex nA II T6 zertifiziert. Dies macht ihn besonders interessant für Sonderlaboratorien und die chemische Industrie.', 'Der Kühlschrank verfügt über eine präzise Komfortelektronik, die die Innentemperatur exakt auf dem eingestellten Wert hält. Die Temperatur im Kühlfach kann auf 1/10 Grad genau eingestellt und angezeigt werden. Zur Gewährleistung der Hygiene ist die Anzeige und Tastatur foliert und leicht abwaschbar.', 'Die Temperatursteuerung erfolgt über eine 1-Punkt-Kalibrierung, die eine möglichst genaue Messung der Innentemperatur ermöglicht. Ein Sicherheitsthermostat verhindert, dass die Innentemperatur im Fehlerfall unter +2°C fällt. Dadurch erfüllt der Kühlschrank die NF X 15-140 Norm hinsichtlich maximaler Temperaturstabilität und optimaler Temperaturkonstanz.', 'Das Alarmsystem warnt bei Überschreitung der eingestellten Temperaturgrenze, bei länger als eine Minute offen stehender Tür (akustisch und optisch), bei Netzausfall (optisch) und bei Defekt des Fühlers. Ein Datenspeicher protokolliert kontinuierlich die Innentemperatur sowie die letzten drei Temperatur- und Netzausfallalarme mit Datum, Uhrzeit und Dauer. Diese Daten können jederzeit über das Display ausgelesen werden.', 'Der Kühlschrank verfügt über eine RS 485 Schnittstelle zur Anbindung an zentrale Alarm- und Dokumentationssysteme sowie über einen potentialfreien Kontakt zur Alarmweiterschaltung an ein externes Fernwarnsystem. Zudem ist SmartMonitoring vorinstalliert, das mit einer gesondert erhältlichen Lizenz die Überwachung von Mess- und Betriebsdaten über eine App ermöglicht.', 'Der LCexv 4010 bietet ein Kühlfach mit drei kunststoffbeschichteten, höhenverstellbaren Gitterrosten mit einer Tragkraft von bis zu 45 kg und ein Gefrierfach mit drei Schubladen, deren Temperatur zwischen -9°C und -30°C justiert werden kann. Die Schubladen haben eine Tragkraft von bis zu 24 kg. Die Tür des Kühlschranks ist funktional verschließbar, bleibt bei einem Öffnungswinkel von 90° geöffnet und schließt sich automatisch bei einem Winkel unter 60°.']\n",
      "{'Abmessungen-cm': {'Außenmaße_Breite': 60.1, 'Außenmaße_Tiefe': 61.8, 'Außenmaße_Höhe': 200.3, 'Innenmaße_Breite_Gefrierteil': 43.3, 'Innenmaße_Tiefe_Gefrierteil': 43.3, 'Innenmaße_Höhe_Gefrierteil': 59.7, 'Innenmaße_Breite_Kühlteil': 44, 'Innenmaße_Tiefe_Kühlteil': 44.1, 'Innenmaße_Höhe_Kühlteil': 110.5}, 'Gewicht-kg': {'netto': 85, 'brutto': 92}, 'Volumen-l': {'Kühlinhalt': 240, 'Gefrierinhalt': 105}, 'Temperatur-celsius': {'Einstellung_min_Kühlteil': 3, 'Einstellung_max_Kühlteil': 16, 'Einstellung_min_Gefrierteil': -30, 'Einstellung_max_Gefrierteil': -9, 'Umgebungstemperatur_min': 10, 'Umgebungstemperatur_max': 35, 'Abweichung_Kühlteil': 3.9, 'Abweichung_Gefrierteil': 5.5}, 'Energie': {'Normalverbrauch_kwh_24h': 1.8}, 'Spannung-volt': {'Spannung': 230, 'Anschlusswert': 1.5}, 'Frequenz-hz': {}, 'Geräusch-db': {'Emission': 52}, 'Innenausstattung': {'Anzahl_Schubfächer': 3, 'Anzahl_Ablageflächen': 4, 'Belastbarkeit_Ablagefläche_Kühlteil': 40, 'Belastbarkeit_Ablagefläche_Gefrierteil': 24, 'Material_Schubfächer': 'Glas', 'Material_Ablageflächen': 'Glas'}, 'Ausstattung': {'Abtauung_automatisch_Kühlteil': True, 'Abtauung_automatisch_Gefrierteil': False, 'Türaufalarm': 'akustisch+optisch', 'Schnittstelle': 'RS485', 'Steuerung': 'LED-7-Segmentanzeige mit Tasten'}, 'Sonstiges': {'Kältemittel': 'R 600a', 'Material_Innenbehälter': 'Kunststoff weiß', 'Netzausfallalarm': 'bei Netzrückkehr', 'Potentialfreier_Kontakt': True, 'Türanschlag': 'rechts wechselbar', 'Vernetzungslösung': 'Nachrüstbar', 'Art_der_Vernetzbarkeit': 'SmartCoolingHub', 'Art_des_Schlosses': 'mechanisch', 'Griff': 'Stangengriff mit integrierter Öffnungsmechanik', 'Gehäusematerial': 'Stahl', 'Gehäusefarbe': 'weiß', 'Türausführung': 'Stahl', 'Kühlsystem_Kühlteil': 'dynamisch', 'Kühlsystem_Gefrierteil': 'statisch'}}\n"
     ]
    },
    {
     "name": "stderr",
     "output_type": "stream",
     "text": [
      " 43%|████▎     | 65/151 [20:46<36:16, 25.30s/it]"
     ]
    },
    {
     "name": "stdout",
     "output_type": "stream",
     "text": [
      "{'summary': 'Der Kirsch LABEX-720 ULTIMATE ist ein Laborkühlschrank mit explosionsgeschütztem Innenraum, speziell für die Lagerung von leicht entzündlichen und explosiven Stoffen. Mit einem Nutzvolumen von 700 Litern und einer Temperaturregelung von +0°C bis +15°C bietet er höchste Sicherheit und Temperaturkonstanz. Der Kühlschrank verfügt über eine PRO-ACTIVE-Steuerung, automatische Abtauung und eine Umluftkühlung mit Querstromgebläse. Zusätzlich ist er mit einem Touch-Display, Zugangskontrolle, grafischer Temperaturverlaufsanzeige und digitaler Datendokumentation über USB-Schnittstelle ausgestattet. Der Innenraum besteht aus poliertem Aluminium mit Schutzbeschichtung und sechs kunststoffbeschichteten Rosten. Das Außengehäuse ist aus verzinktem Stahlblech mit einer kratzfesten Pulverbeschichtung. Der Kirsch LABEX-720 ULTIMATE ist ideal für Laboratorien, Kliniken und das Gesundheitswesen.', 'category': 'Laborkühlschrank', 'manufacturer': 'Kirsch', 'title': 'LABEX-720 ULTIMATE'}\n",
      "['Der Kirsch LABEX-720 Laborkühlschrank ist speziell für die sichere Lagerung von leicht entzündlichen und explosiven Stoffen konzipiert. Der explosionsgeschützte Innenraum entspricht den Sicherheitsanforderungen der Zone 2 und ist TÜV-zertifiziert, was die Zündquellfreiheit im Inneren garantiert.', 'Der Kühlschrank verfügt über eine geräuscharme, energiesparende und hermetisch gekapselte Kältemaschine für 220-240 V Wechselstrom. Die automatische Abtauung erfolgt durch zeitlich begrenzte und thermische Umkehr des Kältemittelkreislaufs, wobei das Tauwasser in einem Gefäß gesammelt und manuell entleert werden kann. Die 70 mm starke Isolierung aus hochwertigen, druckgeschäumten und umweltschonenden Materialien sorgt für höchste Temperaturkonstanz bei geringem Energieverbrauch.', 'Der Innenraum besteht aus poliertem Aluminium mit einer farblosen Schutzbeschichtung und Stellleisten. Die Innenausstattung umfasst sechs kunststoffbeschichtete Roste, die jeweils bis zu 40 kg belastbar sind. Das Außengehäuse ist aus verzinktem Stahlblech gefertigt und mit einer kratzfesten, weißen Pulverbeschichtung versehen.', 'Die elektronische Temperatursteuerung gewährleistet eine konstante Innentemperatur, unabhängig von schwankenden Außentemperaturen, vorausgesetzt, die Umgebungstemperatur liegt mindestens 3°C über der gespeicherten Innentemperatur. Der Kühlschrank verfügt über zahlreiche innovative Funktionen wie ein Umluftgekühltes System mit Querstromgebläse, das bei Türöffnung automatisch abschaltet, ein Schaltzentrum mit Schlüsselschalter und Folientastatur, digitale Temperaturanzeige sowie akustische und optische Alarmsignale.', 'Zu den weiteren Merkmalen gehören ein potentialfreier Kontakt für den Anschluss an die zentrale Leittechnik, eine USB-Schnittstelle und eine Sicherheitseinrichtung gegen Minustemperaturen. Der Kirsch LABEX-720 ist somit ideal für den Einsatz in Laboren, Kliniken und im gesamten Gesundheitswesen geeignet.', 'Der Kirsch LABEX-720 Laborkühlschrank bietet eine Temperaturregelung von ca. +0°C bis +15°C und verfügt über eine PRO-ACTIVE Steuerungselektronik, die eine permanente Überwachung der Leistungsdaten und Alarmierung bei Abweichungen ermöglicht. Die genaue Temperatursteuerung wird durch zwei serienmäßige PT-1000 Fühler gewährleistet.', 'Die digitale Temperaturdokumentation kann über einen PC-KIT-STICK und USB-Stick erfolgen. Der Kühlschrank ist mit einer Tür ausgestattet, die einen austauschbaren, leichten Kunststoff-Magnetdichtungsrahmen besitzt und abschließbar ist. Der Türanschlag ist wechselbar und die verstellbaren Füße ermöglichen einen Ausgleich von Bodenunebenheiten.', 'Mit einem Kühlinhalt von ca. 700 Litern und einem Normalverbrauch von 1,23 kWh in 24 Stunden ist der Kirsch LABEX-720 besonders energieeffizient. Die Außenmaße betragen 77x98x196 cm (BxTxH) und die Innenmaße 62x77x140 cm (BxTxH).', 'Der Kirsch LABEX-720 Laborkühlschrank ist mit einem Touch-Display in edlem Glasdesign ausgestattet. Er bietet eine Zugangskontrolle mit Protokoll, eine grafische Anzeige des Temperaturverlaufs und der Min/Max-Temperatur sowie eine digitale Datendokumentation über PC-KIT-NET oder USB-Schnittstelle mit der Software KIRSCH Datanet.']\n",
      "{'Abmessungen-cm': {'Außenmaße_Breite': 77, 'Außenmaße_Tiefe': 98, 'Außenmaße_Höhe': 195.5, 'Innenmaße_Breite': 60, 'Innenmaße_Tiefe': 77, 'Innenmaße_Höhe': 140}, 'Gewicht-kg': {'netto': 145, 'brutto': 174}, 'Volumen-l': {'Kühlinhalt': 700}, 'Temperatur-celsius': {'Einstellung_min': 0, 'Einstellung_max': 15, 'Umgebungstemperatur_min': 10, 'Umgebungstemperatur_max': 38, 'Abweichung': 1}, 'Energie': {'Leistungsaufnahme-watt': 237, 'Wärmeabgabe-watt': 545, 'Normalverbrauch-kwh_24h': 1.23}, 'Spannung-volt': {'Spannung': 220, 'Spannung_max': 240}, 'Frequenz-hz': {'Frequenz': 50}, 'Geräusch-db': {'Emission': 42}, 'Innenausstattung': {'Anzahl_Rost': 5, 'Belastbarkeit_Ablagefläche-kg': 40, 'Material_Körbe': 'optional'}, 'Ausstattung': {'Abtauung_automatisch': True, 'Umluftkühlung': True, 'DIN_58375_konform': True, 'DIN_13221_konform': True, 'ATEX_95_konform': True, 'Türaufalarm': 'akustisch', 'Steuerung': 'PC-KIT-NET'}, 'Sonstiges': {'Kältemaschine_wassergekühlt': 'optional', 'Kältemaschine_60Hz': 'optional', 'Kältemaschinen-Ventilator': True, 'Dekorrahmen': 'optional', 'Glastür_mit_Schloss': 'optional', 'Türkoppelungs-Beschlag': 'optional', 'fahrbare_Ausführung': True, 'Rost_mit_Schienen': 'optional', 'flexible_Ausstattung': True, 'Tauwassergefäß': True}}\n"
     ]
    },
    {
     "name": "stderr",
     "output_type": "stream",
     "text": [
      " 43%|████▎     | 65/151 [21:02<27:50, 19.42s/it]"
     ]
    },
    {
     "name": "stdout",
     "output_type": "stream",
     "text": [
      "{'summary': 'Der Kirsch MED-340 PRO-ACTIVE ist ein Medikamentenkühlschrank nach DIN 58345 mit einem Bruttofassungsvermögen von 330 Litern. Er verfügt über neun Schubfächer auf Rollen, die eine hohe Stauraumkapazität bieten, sowie über eine Temperaturregelung von +2°C bis +15°C. Der Kühlschrank ist mit einer automatischen Abtauung und einer Umluftkühlung ausgestattet, die eine gleichmäßige Temperaturverteilung gewährleistet. Der Innenbehälter besteht aus glattem Aluminium, und das Gerät zeichnet sich durch einen geringen Energieverbrauch von 0,82 kWh/24 h aus. Der MED-340 ist ideal für die sichere Lagerung von Medikamenten in medizinischen Einrichtungen.', 'category': 'Medikamentenkühlschrank', 'manufacturer': 'Kirsch', 'title': 'MED-340 PRO-ACTIVE'}\n",
      "['Der Kirsch MED-340 ist ein nach DIN 58345 genormter Medikamentenkühlschrank mit PRO-Active-Steuerung. Er bietet eine hohe Staukapazität durch neun, auf Rollen gelagerten und arretierenden Schubfächern. Zur besseren Übersicht sind drei Längs- und neun Querteiler vorhanden. Das Bruttofassungsvermögen beträgt 330 Liter.', 'Der Innenbehälter des MED-340 besteht aus glattem Aluminium. Die Kühltemperatur liegt zwischen +2 und +15°C, bei einem Energieverbrauch von 0,82 kWh/24 h. Der Medikamentenkühlschrank garantiert höchste Temperaturkonstanz und ist mit einer umweltschonenden, druckgeschäumten Isolierung ausgestattet.', 'Der Kirsch MED-340 verfügt über eine Umluftkühlung und eine automatische Abtauung mit Tauwasserverdunstung. Die Temperatur- und Abtauregelung wird mikroprozessorgesteuert für maximale Temperaturkonstanz durchgeführt. Bei Stromausfall gibt es optische und akustische Alarmsignale. Zudem ist der Kühlschrank mit einer Sicherheitseinrichtung gegen Minustemperaturen und einem potentialfreien Kontakt für den Anschluss an Fernwarnanlagen ausgestattet.', 'Die DIN 58345 fordert unter anderem eine verschließbare Tür, eine Betriebstemperatur zwischen +2°C und +8°C, Referenzmessungen bei den Baureihen, akustische und optische Warnung bei Stromausfall, Sicherheitseinrichtung gegen Minustemperaturen sowie einen potentialfreien Kontakt für Fernwarnungen. Der MED-340 erfüllt diese Anforderungen und ist somit ideal für den Einsatz in medizinischen Einrichtungen geeignet.']\n",
      "{'Abmessungen-cm': {'Außenmaße_Breite': 67, 'Außenmaße_Tiefe': 66, 'Außenmaße_Höhe': 189, 'Innenmaße_Breite': 53, 'Innenmaße_Tiefe': 45, 'Innenmaße_Höhe': 128}, 'Gewicht-kg': {'netto': 100, 'brutto': 114}, 'Volumen-l': {'Kühlinhalt': 330}, 'Temperatur-celsius': {'Einstellung_min': 2, 'Einstellung_max': 15, 'Umgebungstemperatur_min': 10, 'Umgebungstemperatur_max': 38, 'Abweichung': 1.75}, 'Energie': {'Leistungsaufnahme-watt': 108, 'Wärmeabgabe-watt': 165, 'Normalverbrauch-kwh_24h': 0.82}, 'Spannung-volt': {'Spannung': 220, 'Spannung_max': 240}, 'Frequenz-hz': {'Frequenz': 50}, 'Geräusch-db': {'Emission': 39}, 'Innenausstattung': {'Anzahl_Schubfächer': 9, 'Belastbarkeit_Ablagefläche-kg': 16, 'Material_Körbe': 'Kunststoff'}, 'Ausstattung': {'Abtauung_automatisch': True, 'Umluftkühlung': True, 'DIN_58375_konform': True, 'Kältemaschine_60Hz': 'optional', 'Kältemaschinen-Ventilator': 'optional', 'Alarmierung_Stromausfall': True, 'PC-KIT-NET': 'optional', 'Dekorrahmen': 'optional', 'LED-Lichtleiste': 'optional', 'Glastür': 'optional', 'Türkoppelungs-Beschlag': 'optional', 'Fahrbare_Ausführung': 'optional', 'Rost_mit_Auflegern': 'optional', 'oberstes_Schubfach_abschließbar': 'optional', 'zusätzliche_Teiler': 'optional', 'Vario_Support': 'optional', 'Tauwassergefäß': 'optional'}, 'Sonstiges': {'Außengehäuse': 'Chromnickelstahl 4301', 'Tischplatte': False, 'Ein_Unterbaufähig': False, 'Rost': False, 'Alu-Blech_mit_Schienen': False, 'Drahtkorb_mit_Schienen': False, 'Kunststoff-Schubfach': False}}\n"
     ]
    },
    {
     "name": "stderr",
     "output_type": "stream",
     "text": [
      "\n"
     ]
    }
   ],
   "source": [
    "for index, row in tqdm(df.iterrows(), total=len(df)):\n",
    "\n",
    "    summs_response = agent_request(summs_promt, json.dumps(row.to_dict(), ensure_ascii=False), False)\n",
    "    descs_response = agent_request(descs_promt, row['description'], False)\n",
    "    specs_response = agent_request(specs_promt, json.dumps(row['specs'], ensure_ascii=False), row['description'])\n",
    "\n",
    "    summs_result = json.loads(summs_response.choices[0].message.content)                              \n",
    "    descs_result = json.loads(descs_response.choices[0].message.content)\n",
    "    specs_result = json.loads(specs_response.choices[0].message.content)\n",
    "\n",
    "    print(summs_result)\n",
    "    print(descs_result)\n",
    "    print(specs_result)\n",
    "\n",
    "    category = summs_result['category']\n",
    "    manufacturer = summs_result['manufacturer']\n",
    "    title = summs_result['title']\n",
    "\n",
    "    product_metadata = {\n",
    "        'product_id': row['id'],\n",
    "        'product_title': title,\n",
    "        'product_url': row['url'],\n",
    "        'product_category': category,\n",
    "        'product_manufacturer': manufacturer,\n",
    "        'product_price': row['price'],\n",
    "        'product_sku': row['order_number']\n",
    "    }\n",
    "\n",
    "    summs_chunks.append({\n",
    "        'document': summs_result['summary'],\n",
    "        'metadata': {\n",
    "            'chunk_id': f\"{row['id']}_summ_0\",\n",
    "            'chunk_type': 'description',\n",
    "            **product_metadata\n",
    "        }\n",
    "    })\n",
    "\n",
    "    for i, pararagraph in enumerate(descs_result):\n",
    "        descs_chunks.append({\n",
    "            'document': pararagraph,\n",
    "            'metadata': {\n",
    "                'chunk_id': f\"{row['id']}_desc_{i}\",\n",
    "                'chunk_type': 'description',\n",
    "                **product_metadata\n",
    "            }\n",
    "        })\n",
    "\n",
    "    for i, (group_name, specs_list) in enumerate(specs_result.items()):\n",
    "        if specs_list:\n",
    "            specs_chunks.append({\n",
    "                'document': format_spec(group_name, specs_list),\n",
    "                'metadata': {\n",
    "                    'chunk_id': f\"{row['id']}_spec_{i}\",\n",
    "                    'chunk_type': 'specs',\n",
    "                    **product_metadata\n",
    "                }\n",
    "            })\n",
    "\n",
    "    # Testing only\n",
    "    # if index == 65: break\n",
    "\n",
    "summs_df = pd.DataFrame(summs_chunks)\n",
    "descs_df = pd.DataFrame(descs_chunks)\n",
    "specs_df = pd.DataFrame(specs_chunks)"
   ]
  },
  {
   "cell_type": "markdown",
   "id": "ce93d0f9",
   "metadata": {},
   "source": [
    "## Quality Checks\n",
    "\n",
    "Wir müssen zuletzt noch in die Chunks schauen ob sie die wichtigsten Rahmenbedinungen einhalten. Vor allem die Länge da die meisten Models eine beschränkte Anzahl an Tokes verarbeiten kann und die darf von den Chunks nicht überschritten werden."
   ]
  },
  {
   "cell_type": "code",
   "execution_count": 31,
   "id": "f169d7a1",
   "metadata": {},
   "outputs": [],
   "source": [
    "def stats(df, treshhold, name):\n",
    "\n",
    "    df['length'] = df['document'].str.len()\n",
    "    small = df[df['length'] < treshhold]\n",
    "\n",
    "    print(f'=== {name} ===')\n",
    "    print(f\"{df['length'].describe()}\")\n",
    "    print(f'TOTAL CHUNKS: {len(df)}')\n",
    "    print(f'SHORT CHUNKS: {len(small)}')\n",
    "\n",
    "    for idx, row in small.iterrows():\n",
    "        \n",
    "        print(f\"{row['metadata']['product_title']}\")\n",
    "        print(f\"Document: {row['document']}\")\n",
    "        print(f\"Length: {row['length']}\")\n",
    "        print(f'--- --- ---')\n",
    "\n",
    "    print('\\n')\n"
   ]
  },
  {
   "cell_type": "code",
   "execution_count": 32,
   "id": "c904f041",
   "metadata": {},
   "outputs": [
    {
     "name": "stdout",
     "output_type": "stream",
     "text": [
      "=== Summs ===\n",
      "count      66.000000\n",
      "mean      937.681818\n",
      "std       190.068745\n",
      "min       583.000000\n",
      "25%       842.500000\n",
      "50%       929.500000\n",
      "75%      1036.500000\n",
      "max      1605.000000\n",
      "Name: length, dtype: float64\n",
      "TOTAL CHUNKS: 66\n",
      "SHORT CHUNKS: 0\n",
      "\n",
      "\n",
      "=== Descriptions ===\n",
      "count     394.000000\n",
      "mean      350.614213\n",
      "std       117.198591\n",
      "min       116.000000\n",
      "25%       280.000000\n",
      "50%       330.000000\n",
      "75%       403.500000\n",
      "max      1336.000000\n",
      "Name: length, dtype: float64\n",
      "TOTAL CHUNKS: 394\n",
      "SHORT CHUNKS: 16\n",
      "HMFvh 5511 H63 Perfection\n",
      "Document: Der HMFvh 5501-20 H63 ist ultra-effizient im Energieverbrauch und erfüllt die Sicherheitsstandards nach IEC 61010-2-011.\n",
      "Length: 120\n",
      "--- --- ---\n",
      "Tiefkühltruhe TT 50-90\n",
      "Document: Mit einem Nutzinhalt von 90 Litern und einem Innenraum frei von Anbauten bietet die TT 50-90 viel Platz für Ihre Proben. Die Temperaturregelung ist mit einer Genauigkeit von +/- 1K sehr präzise.\n",
      "Length: 194\n",
      "--- --- ---\n",
      "Tiefkühltruhe TT 50-90\n",
      "Document: Die Abmessungen der Tiefkühltruhe betragen (BxHxT) 76x88x71 cm außen und 59x37x43 cm innen. Der Temperaturbereich liegt zwischen -50°C und -10°C bei einer Umgebungstemperatur von +12°C bis +30°C.\n",
      "Length: 195\n",
      "--- --- ---\n",
      "HC 502 FS\n",
      "Document: Der Dometic HC 502 FS ist auch als DIN-konforme Ausführung (HC 502 D) erhältlich, um unterschiedliche Anforderungen und Standards zu erfüllen.\n",
      "Length: 142\n",
      "--- --- ---\n",
      "LABO-125 ESSENTIAL\n",
      "Document: Der Kühlschrank verfügt über zwei kunststoffbeschichtete Roste, die jeweils bis zu 25 kg belastbar sind. Dies erleichtert die Organisation und den Zugriff auf die gelagerten Artikel.\n",
      "Length: 182\n",
      "--- --- ---\n",
      "LABO-125 ESSENTIAL\n",
      "Document: Die automatische Abtauung mit Tauwasserverdunstung sorgt für einen wartungsarmen Betrieb. Der Energieverbrauch von 0,68 kWh in 24 Stunden macht den Kühlschrank zudem energieeffizient.\n",
      "Length: 183\n",
      "--- --- ---\n",
      "LABO-125 ESSENTIAL\n",
      "Document: Die Tür des Kühlschranks ist abschließbar und verfügt über einen leicht austauschbaren Kunststoff-Magnetdichtungsrahmen. Dies gewährleistet Sicherheit und einfache Wartung.\n",
      "Length: 172\n",
      "--- --- ---\n",
      "LABO-125 ESSENTIAL\n",
      "Document: Eine digitale Temperaturanzeige im Innenraum ermöglicht eine einfache Überwachung der Lagerbedingungen. Optische und akustische Alarmsignale warnen bei Abweichungen von den eingestellten Werten.\n",
      "Length: 194\n",
      "--- --- ---\n",
      "HMFvh 4011 H63 Perfection\n",
      "Document: Der HMFvh 4011-20 ist ein Medikamentenkühlschrank mit Glastür und integriertem Ordnungssystem. Er bietet eine zuverlässige Lagerung von temperaturempfindlichen Medikamenten, Impfstoffen und Proben.\n",
      "Length: 197\n",
      "--- --- ---\n",
      "HMFvh 4011 H63 Perfection\n",
      "Document: Der HMFvh 4011-20 ist ultra-effizient im Energieverbrauch und erfüllt die Sicherheitsstandards nach IEC 61010-2-011.\n",
      "Length: 116\n",
      "--- --- ---\n",
      "HMFvh 4001 Perfection\n",
      "Document: Die Schnittstellen umfassen LAN/WiFi, eine lokale API und eine USB-Schnittstelle zum Auslesen des Datenloggers. SmartMonitoring ist durch ein integriertes SmartModule möglich.\n",
      "Length: 175\n",
      "--- --- ---\n",
      "HMFvh 4001 Perfection\n",
      "Document: Die Medikamentenkühlschränke sind ultra-effizient im Energieverbrauch und entsprechen den Sicherheitsstandards nach IEC 61010-2-011.\n",
      "Length: 132\n",
      "--- --- ---\n",
      "LGUex 1500 MediLine\n",
      "Document: Der Gefrierschrank ist mit SmartMonitoring vorinstalliert. Mit einer gesondert erhältlichen Lizenz können Nutzer die SmartMonitoring-App verwenden, um Mess- und Betriebsdaten einfach zu überwachen.\n",
      "Length: 197\n",
      "--- --- ---\n",
      "HC 502 D\n",
      "Document: Der HC 502 D ist mit einem Türschloss für eine sichere Aufbewahrung der Medikamente ausgestattet. Die Schubladen bieten flexible Abteilungen und ein Volumen von bis zu 35 Litern.\n",
      "Length: 178\n",
      "--- --- ---\n",
      "FROSTER MED-95 PRO-ACTIVE\n",
      "Document: Die maximale Belastung des Schubfachs beträgt 13 kg und die der Roste 25 kg. Das Gerät ist mit einem 2,8 m langen Stecker-Kabel ausgestattet.\n",
      "Length: 141\n",
      "--- --- ---\n",
      "LABEX-468 PRO-ACTIVE\n",
      "Document: Diese Eigenschaften machen den Kirsch LABEX-468 Laborkühlschrank zu einem optimalen Partner für die Kühlung in Laboren, Kliniken und im gesamten Gesundheitswesen.\n",
      "Length: 162\n",
      "--- --- ---\n",
      "\n",
      "\n",
      "=== Specs ===\n",
      "count    635.000000\n",
      "mean     110.033071\n",
      "std      116.085117\n",
      "min       24.000000\n",
      "25%       36.000000\n",
      "50%       69.000000\n",
      "75%      141.000000\n",
      "max      745.000000\n",
      "Name: length, dtype: float64\n",
      "TOTAL CHUNKS: 635\n",
      "SHORT CHUNKS: 373\n",
      "LABO-288 PRO-ACTIVE\n",
      "Document: Gewicht (kg) - netto: 71, brutto: 83\n",
      "Length: 36\n",
      "--- --- ---\n",
      "LABO-288 PRO-ACTIVE\n",
      "Document: Volumen (l) - Kühlinhalt: 280\n",
      "Length: 29\n",
      "--- --- ---\n",
      "LABO-288 PRO-ACTIVE\n",
      "Document: Energie - Leistungsaufnahme-watt: 88, Wärmeabgabe-watt: 165, Normalverbrauch-kwh 24h: 0.68\n",
      "Length: 90\n",
      "--- --- ---\n",
      "LABO-288 PRO-ACTIVE\n",
      "Document: Spannung (volt) - Spannung: 220, Frequenz-hz: 50\n",
      "Length: 48\n",
      "--- --- ---\n",
      "LABO-288 PRO-ACTIVE\n",
      "Document: Geräusch (db) - Emission: 41\n",
      "Length: 28\n",
      "--- --- ---\n",
      "LABO-288 PRO-ACTIVE\n",
      "Document: Sonstiges - flexible Ausstattung: True\n",
      "Length: 38\n",
      "--- --- ---\n",
      "FROSTER LABEX-530 ULTIMATE\n",
      "Document: Gewicht (kg) - netto: 138, brutto: 163\n",
      "Length: 38\n",
      "--- --- ---\n",
      "FROSTER LABEX-530 ULTIMATE\n",
      "Document: Volumen (l) - Kühlinhalt: 500\n",
      "Length: 29\n",
      "--- --- ---\n",
      "FROSTER LABEX-530 ULTIMATE\n",
      "Document: Energie - Leistungsaufnahme-watt: 550, Wärmeabgabe-watt: 717, Normalverbrauch-kwh 24h: 5.8\n",
      "Length: 90\n",
      "--- --- ---\n",
      "FROSTER LABEX-530 ULTIMATE\n",
      "Document: Spannung (volt) - Spannung: 220, Spannung max: 240\n",
      "Length: 50\n",
      "--- --- ---\n",
      "FROSTER LABEX-530 ULTIMATE\n",
      "Document: Frequenz (hz) - Frequenz: 50\n",
      "Length: 28\n",
      "--- --- ---\n",
      "FROSTER LABEX-530 ULTIMATE\n",
      "Document: Geräusch (db) - Emission: 53.3\n",
      "Length: 30\n",
      "--- --- ---\n",
      "FROSTER LABEX-530 ULTIMATE\n",
      "Document: Sonstiges - flexible Ausstattung: True, Tauwassergefäß zur manuellen Entleerung: True\n",
      "Length: 85\n",
      "--- --- ---\n",
      "LABO-340 ULTIMATE\n",
      "Document: Gewicht (kg) - netto: 90, brutto: 104\n",
      "Length: 37\n",
      "--- --- ---\n",
      "LABO-340 ULTIMATE\n",
      "Document: Volumen (l) - Kühlinhalt: 330\n",
      "Length: 29\n",
      "--- --- ---\n",
      "LABO-340 ULTIMATE\n",
      "Document: Energie - Leistungsaufnahme-watt: 110, Wärmeabgabe-watt: 166, Normalverbrauch-kwh 24h: 0.65\n",
      "Length: 91\n",
      "--- --- ---\n",
      "LABO-340 ULTIMATE\n",
      "Document: Spannung (volt) - Spannung: 220, Spannung max: 240\n",
      "Length: 50\n",
      "--- --- ---\n",
      "LABO-340 ULTIMATE\n",
      "Document: Frequenz (hz) - Frequenz: 50\n",
      "Length: 28\n",
      "--- --- ---\n",
      "LABO-340 ULTIMATE\n",
      "Document: Geräusch (db) - Emission: 39\n",
      "Length: 28\n",
      "--- --- ---\n",
      "HMFvh 5511 H63 Perfection\n",
      "Document: Gewicht (kg) - netto: 97, brutto: 101\n",
      "Length: 37\n",
      "--- --- ---\n",
      "HMFvh 5511 H63 Perfection\n",
      "Document: Volumen (l) - Kühlinhalt: 355, Gefrierinhalt: 588\n",
      "Length: 49\n",
      "--- --- ---\n",
      "HMFvh 5511 H63 Perfection\n",
      "Document: Energie - Normalverbrauch-kwh 24h: 1.1\n",
      "Length: 38\n",
      "--- --- ---\n",
      "HMFvh 5511 H63 Perfection\n",
      "Document: Spannung (volt) - Spannung: 230, Anschlusswert: 2\n",
      "Length: 49\n",
      "--- --- ---\n",
      "HMFvh 5511 H63 Perfection\n",
      "Document: Geräusch (db) - Emission: 49\n",
      "Length: 28\n",
      "--- --- ---\n",
      "TUS 80-100 logg\n",
      "Document: Gewicht (kg) - netto: 120\n",
      "Length: 25\n",
      "--- --- ---\n",
      "TUS 80-100 logg\n",
      "Document: Volumen (l) - Gefrierinhalt: 100\n",
      "Length: 32\n",
      "--- --- ---\n",
      "TUS 80-100 logg\n",
      "Document: Spannung (volt) - Anschluss: 230\n",
      "Length: 32\n",
      "--- --- ---\n",
      "TUS 80-100 logg\n",
      "Document: Frequenz (hz) - Anschluss: 50\n",
      "Length: 29\n",
      "--- --- ---\n",
      "TUS 80-100 logg\n",
      "Document: Innenausstattung - Anzahl Schubfächer: 4, Material Schubfächer: Edelstahl\n",
      "Length: 73\n",
      "--- --- ---\n",
      "SFFsg 5501 Performance\n",
      "Document: Gewicht (kg) - netto: 80, brutto: 94\n",
      "Length: 36\n",
      "--- --- ---\n",
      "SFFsg 5501 Performance\n",
      "Document: Volumen (l) - Kühlinhalt: 394, Gefrierinhalt: 499\n",
      "Length: 49\n",
      "--- --- ---\n",
      "SFFsg 5501 Performance\n",
      "Document: Energie - Normalverbrauch-kwh 24h: 1.37, Leistungsaufnahme-watt: 460\n",
      "Length: 68\n",
      "--- --- ---\n",
      "SFFsg 5501 Performance\n",
      "Document: Spannung (volt) - Spannung: 230\n",
      "Length: 31\n",
      "--- --- ---\n",
      "SFFsg 5501 Performance\n",
      "Document: Geräusch (db) - Emission: 49\n",
      "Length: 28\n",
      "--- --- ---\n",
      "BL-720 ULTIMATE\n",
      "Document: Gewicht (kg) - netto: 171, brutto: 196\n",
      "Length: 38\n",
      "--- --- ---\n",
      "BL-720 ULTIMATE\n",
      "Document: Volumen (l) - Kühlinhalt: 700\n",
      "Length: 29\n",
      "--- --- ---\n",
      "BL-720 ULTIMATE\n",
      "Document: Energie - Leistungsaufnahme-watt: 250, Wärmeabgabe-watt: 554, Normalverbrauch-kwh 24h: 1.56\n",
      "Length: 91\n",
      "--- --- ---\n",
      "BL-720 ULTIMATE\n",
      "Document: Spannung (volt) - Spannung: 220, Frequenz-hz: 50\n",
      "Length: 48\n",
      "--- --- ---\n",
      "BL-720 ULTIMATE\n",
      "Document: Geräusch (db) - Emission: 41.8\n",
      "Length: 30\n",
      "--- --- ---\n",
      "TS 50-100 logg\n",
      "Document: Gewicht (kg) - netto: 120\n",
      "Length: 25\n",
      "--- --- ---\n",
      "TS 50-100 logg\n",
      "Document: Volumen (l) - Kühlinhalt: 100\n",
      "Length: 29\n",
      "--- --- ---\n",
      "TS 50-100 logg\n",
      "Document: Spannung (volt) - Anschluss: 230\n",
      "Length: 32\n",
      "--- --- ---\n",
      "TS 50-100 logg\n",
      "Document: Frequenz (hz) - Anschluss: 50\n",
      "Length: 29\n",
      "--- --- ---\n",
      "LABEX-288 PRO-ACTIVE\n",
      "Document: Gewicht (kg) - netto: 75, brutto: 87\n",
      "Length: 36\n",
      "--- --- ---\n",
      "LABEX-288 PRO-ACTIVE\n",
      "Document: Volumen (l) - Kühlinhalt: 280\n",
      "Length: 29\n",
      "--- --- ---\n",
      "LABEX-288 PRO-ACTIVE\n",
      "Document: Energie - Leistungsaufnahme-watt: 100, Wärmeabgabe-watt: 173, Normalverbrauch-kwh 24h: 0.76\n",
      "Length: 91\n",
      "--- --- ---\n",
      "LABEX-288 PRO-ACTIVE\n",
      "Document: Spannung (volt) - Spannung: 220, Spannung max: 240\n",
      "Length: 50\n",
      "--- --- ---\n",
      "LABEX-288 PRO-ACTIVE\n",
      "Document: Frequenz (hz) - Frequenz: 50\n",
      "Length: 28\n",
      "--- --- ---\n",
      "LABEX-288 PRO-ACTIVE\n",
      "Document: Geräusch (db) - Emission: 40\n",
      "Length: 28\n",
      "--- --- ---\n",
      "LABEX-288 PRO-ACTIVE\n",
      "Document: Sonstiges - flexible Ausstattung: True, Tauwassergefäß: True\n",
      "Length: 60\n",
      "--- --- ---\n",
      "Tiefkühltruhe TT 50-90\n",
      "Document: Gewicht (kg) - netto: 120\n",
      "Length: 25\n",
      "--- --- ---\n",
      "Tiefkühltruhe TT 50-90\n",
      "Document: Volumen (l) - Gefrierinhalt: 90\n",
      "Length: 31\n",
      "--- --- ---\n",
      "Tiefkühltruhe TT 50-90\n",
      "Document: Spannung (volt) - Anschluss: 230\n",
      "Length: 32\n",
      "--- --- ---\n",
      "Tiefkühltruhe TT 50-90\n",
      "Document: Frequenz (hz) - Anschluss: 50\n",
      "Length: 29\n",
      "--- --- ---\n",
      "Tiefkühltruhe TT 50-90\n",
      "Document: Innenausstattung - Material Schubfächer: Edelstahl\n",
      "Length: 50\n",
      "--- --- ---\n",
      "Tiefkühltruhe TT 50-90\n",
      "Document: Sonstiges - Netzkabel: 3, Umluftventilator: optional, Rollen: optional\n",
      "Length: 70\n",
      "--- --- ---\n",
      "BL-720 PRO-ACTIVE\n",
      "Document: Gewicht (kg) - netto: 171, brutto: 196\n",
      "Length: 38\n",
      "--- --- ---\n",
      "BL-720 PRO-ACTIVE\n",
      "Document: Volumen (l) - Kühlinhalt: 700\n",
      "Length: 29\n",
      "--- --- ---\n",
      "BL-720 PRO-ACTIVE\n",
      "Document: Energie - Leistungsaufnahme-watt: 250, Wärmeabgabe-watt: 554, Normalverbrauch-kwh 24h: 1.56\n",
      "Length: 91\n",
      "--- --- ---\n",
      "BL-720 PRO-ACTIVE\n",
      "Document: Spannung (volt) - Spannung: 220, Frequenz-hz: 50\n",
      "Length: 48\n",
      "--- --- ---\n",
      "BL-720 PRO-ACTIVE\n",
      "Document: Geräusch (db) - Emission: 41.8\n",
      "Length: 30\n",
      "--- --- ---\n",
      "HMTvh 1501 Perfection\n",
      "Document: Abmessungen (cm) - nutzbare Breite Ablageflächen: 39, nutzbare Tiefe Ablageflächen: 37\n",
      "Length: 86\n",
      "--- --- ---\n",
      "HMTvh 1501 Perfection\n",
      "Document: Gewicht (kg) - netto: 37, brutto: 40, Maximale Gesamtbeladung: 75\n",
      "Length: 65\n",
      "--- --- ---\n",
      "HMTvh 1501 Perfection\n",
      "Document: Temperatur (celsius) - Einstellung min: 5, Einstellung max: 5, Gradient: 3.7, max Fluktuation: 3.4\n",
      "Length: 98\n",
      "--- --- ---\n",
      "HMTvh 1501 Perfection\n",
      "Document: Spannung (volt) - Spannung: 220, Frequenz: 50\n",
      "Length: 45\n",
      "--- --- ---\n",
      "HMTvh 1501 Perfection\n",
      "Document: Geräusch (db) - Emission: 44\n",
      "Length: 28\n",
      "--- --- ---\n",
      "BL-176 PRO-ACTIVE\n",
      "Document: Gewicht (kg) - netto: 77, brutto: 83\n",
      "Length: 36\n",
      "--- --- ---\n",
      "BL-176 PRO-ACTIVE\n",
      "Document: Volumen (l) - Kühlinhalt: 170\n",
      "Length: 29\n",
      "--- --- ---\n",
      "BL-176 PRO-ACTIVE\n",
      "Document: Energie - Leistungsaufnahme-watt: 120, Wärmeabgabe-watt: 186, Normalverbrauch-kwh 24h: 1.22\n",
      "Length: 91\n",
      "--- --- ---\n",
      "BL-176 PRO-ACTIVE\n",
      "Document: Spannung (volt) - Spannung: 220, Spannung max: 240\n",
      "Length: 50\n",
      "--- --- ---\n",
      "BL-176 PRO-ACTIVE\n",
      "Document: Frequenz (hz) - Frequenz: 50\n",
      "Length: 28\n",
      "--- --- ---\n",
      "BL-176 PRO-ACTIVE\n",
      "Document: Geräusch (db) - Emission: 38.6\n",
      "Length: 30\n",
      "--- --- ---\n",
      "SFTfg 1501 Performance\n",
      "Document: Gewicht (kg) - netto: 36, brutto: 38\n",
      "Length: 36\n",
      "--- --- ---\n",
      "SFTfg 1501 Performance\n",
      "Document: Volumen (l) - Kühlinhalt: 73, Gefrierinhalt: 101\n",
      "Length: 48\n",
      "--- --- ---\n",
      "SFTfg 1501 Performance\n",
      "Document: Energie - Normalverbrauch-kwh 24h: 0.49, Wärmeabgabe-watt: 60\n",
      "Length: 61\n",
      "--- --- ---\n",
      "SFTfg 1501 Performance\n",
      "Document: Spannung (volt) - Spannung: 240\n",
      "Length: 31\n",
      "--- --- ---\n",
      "SFTfg 1501 Performance\n",
      "Document: Frequenz (hz) - Frequenz: 50\n",
      "Length: 28\n",
      "--- --- ---\n",
      "SFTfg 1501 Performance\n",
      "Document: Geräusch (db) - Emission: 40\n",
      "Length: 28\n",
      "--- --- ---\n",
      "SUFsg 5001 H72\n",
      "Document: Gewicht (kg) - netto: 254, brutto: 308\n",
      "Length: 38\n",
      "--- --- ---\n",
      "SUFsg 5001 H72\n",
      "Document: Volumen (l) - Kühlinhalt: 477, Gefrierinhalt: 491\n",
      "Length: 49\n",
      "--- --- ---\n",
      "SUFsg 5001 H72\n",
      "Document: Energie - Normalverbrauch-kwh 24h: 7.9, Wärmeabgabe-watt: 330\n",
      "Length: 61\n",
      "--- --- ---\n",
      "SUFsg 5001 H72\n",
      "Document: Spannung (volt) - Spannung: 230, Anschlusswert: 7\n",
      "Length: 49\n",
      "--- --- ---\n",
      "SUFsg 5001 H72\n",
      "Document: Geräusch (db) - Emission: 47\n",
      "Length: 28\n",
      "--- --- ---\n",
      "HC 502 FS\n",
      "Document: Volumen (l) - Kühlinhalt: 43\n",
      "Length: 28\n",
      "--- --- ---\n",
      "HC 502 FS\n",
      "Document: Temperatur (celsius) - Einstellung min: 2, Einstellung max: 8\n",
      "Length: 61\n",
      "--- --- ---\n",
      "HC 502 FS\n",
      "Document: Innenausstattung - Anzahl Schubfächer: 1, Material Schubfächer: Kunststoff\n",
      "Length: 74\n",
      "--- --- ---\n",
      "HC 502 FS\n",
      "Document: Ausstattung - Türaufalarm: akustisch, DIN 13221 konform: optional\n",
      "Length: 65\n",
      "--- --- ---\n",
      "DS301H\n",
      "Document: Abmessungen (cm) - Innenmaße Breite: 31.5, Innenmaße Höhe: 8.5, Innenmaße Tiefe: 16\n",
      "Length: 83\n",
      "--- --- ---\n",
      "DS301H\n",
      "Document: Temperatur (celsius) - Einstellung min: 2, Einstellung max: 8\n",
      "Length: 61\n",
      "--- --- ---\n",
      "DS301H\n",
      "Document: Energie - Normalverbrauch-kwh 24h: 0.86\n",
      "Length: 39\n",
      "--- --- ---\n",
      "DS301H\n",
      "Document: Ausstattung - Abtauung automatisch: True, Türaufalarm: akustisch, Datenlogger: True\n",
      "Length: 83\n",
      "--- --- ---\n",
      "SRTvg 1501 Performance\n",
      "Document: Gewicht (kg) - netto: 37, brutto: 39, Belastbarkeit Ablagefläche: 45, Maximale Gesamtbeladung: 180\n",
      "Length: 98\n",
      "--- --- ---\n",
      "SRTvg 1501 Performance\n",
      "Document: Volumen (l) - Kühlinhalt: 102, Gefrierinhalt: 134\n",
      "Length: 49\n",
      "--- --- ---\n",
      "SRTvg 1501 Performance\n",
      "Document: Energie - Normalverbrauch kwh 24h: 0.427, Wärmeabgabe watt: 47.22\n",
      "Length: 65\n",
      "--- --- ---\n",
      "SRTvg 1501 Performance\n",
      "Document: Spannung (volt) - Spannung: 240\n",
      "Length: 31\n",
      "--- --- ---\n",
      "SRTvg 1501 Performance\n",
      "Document: Frequenz (hz) - Frequenz: 50\n",
      "Length: 28\n",
      "--- --- ---\n",
      "SRTvg 1501 Performance\n",
      "Document: Geräusch (db) - Emission: 47\n",
      "Length: 28\n",
      "--- --- ---\n",
      "FROSTER BL-730 PRO-ACTIVE\n",
      "Document: Gewicht (kg) - netto: 202, brutto: 237\n",
      "Length: 38\n",
      "--- --- ---\n",
      "FROSTER BL-730 PRO-ACTIVE\n",
      "Document: Volumen (l) - Kühlinhalt: 700\n",
      "Length: 29\n",
      "--- --- ---\n",
      "FROSTER BL-730 PRO-ACTIVE\n",
      "Document: Energie - Leistungsaufnahme-watt: 790, Wärmeabgabe-watt: 860, Normalverbrauch-kwh 24h: 11.1\n",
      "Length: 91\n",
      "--- --- ---\n",
      "FROSTER BL-730 PRO-ACTIVE\n",
      "Document: Spannung (volt) - Spannung: 220, Spannung max: 240\n",
      "Length: 50\n",
      "--- --- ---\n",
      "FROSTER BL-730 PRO-ACTIVE\n",
      "Document: Frequenz (hz) - Frequenz: 50\n",
      "Length: 28\n",
      "--- --- ---\n",
      "FROSTER BL-730 PRO-ACTIVE\n",
      "Document: Geräusch (db) - Emission: 49.7\n",
      "Length: 30\n",
      "--- --- ---\n",
      "FROSTER BL-530 PRO-ACTIVE\n",
      "Document: Gewicht (kg) - netto: 161, brutto: 183\n",
      "Length: 38\n",
      "--- --- ---\n",
      "FROSTER BL-530 PRO-ACTIVE\n",
      "Document: Volumen (l) - Kühlinhalt: 500\n",
      "Length: 29\n",
      "--- --- ---\n",
      "FROSTER BL-530 PRO-ACTIVE\n",
      "Document: Energie - Leistungsaufnahme-watt: 740, Wärmeabgabe-watt: 827, Normalverbrauch-kwh 24h: 10.81\n",
      "Length: 92\n",
      "--- --- ---\n",
      "FROSTER BL-530 PRO-ACTIVE\n",
      "Document: Spannung (volt) - Spannung: 220, Spannung max: 240\n",
      "Length: 50\n",
      "--- --- ---\n",
      "FROSTER BL-530 PRO-ACTIVE\n",
      "Document: Frequenz (hz) - Frequenz: 50\n",
      "Length: 28\n",
      "--- --- ---\n",
      "FROSTER BL-530 PRO-ACTIVE\n",
      "Document: Geräusch (db) - Emission: 51.5\n",
      "Length: 30\n",
      "--- --- ---\n",
      "FROSTER BL-530 PRO-ACTIVE\n",
      "Document: Ausstattung - Abtauung automatisch: True, Umluftkühlung: True, DIN 58375 konform: True\n",
      "Length: 86\n",
      "--- --- ---\n",
      "HMTvh 1511 Perfection\n",
      "Document: Gewicht (kg) - netto: 46, brutto: 48\n",
      "Length: 36\n",
      "--- --- ---\n",
      "HMTvh 1511 Perfection\n",
      "Document: Volumen (l) - Kühlinhalt: 82, Gefrierinhalt: 137\n",
      "Length: 48\n",
      "--- --- ---\n",
      "HMTvh 1511 Perfection\n",
      "Document: Energie - Normalverbrauch-kwh 24h: 0.512, Wärmeabgabe-watt: 47.22\n",
      "Length: 65\n",
      "--- --- ---\n",
      "HMTvh 1511 Perfection\n",
      "Document: Spannung (volt) - Spannung: 240\n",
      "Length: 31\n",
      "--- --- ---\n",
      "HMTvh 1511 Perfection\n",
      "Document: Frequenz (hz) - Frequenz: 50\n",
      "Length: 28\n",
      "--- --- ---\n",
      "HMTvh 1511 Perfection\n",
      "Document: Geräusch (db) - Emission: 44\n",
      "Length: 28\n",
      "--- --- ---\n",
      "HMTvh 1511 Perfection\n",
      "Document: Innenausstattung - Belastbarkeit Ablagefläche-kg: 25\n",
      "Length: 52\n",
      "--- --- ---\n",
      "KBT 08-51\n",
      "Document: Gewicht (kg) - netto: 32\n",
      "Length: 24\n",
      "--- --- ---\n",
      "KBT 08-51\n",
      "Document: Volumen (l) - Gefrierinhalt: 8\n",
      "Length: 30\n",
      "--- --- ---\n",
      "KBT 08-51\n",
      "Document: Spannung (volt) - Anschluss: 230\n",
      "Length: 32\n",
      "--- --- ---\n",
      "KBT 08-51\n",
      "Document: Frequenz (hz) - Anschluss: 50\n",
      "Length: 29\n",
      "--- --- ---\n",
      "KBT 08-51\n",
      "Document: Innenausstattung - Material Schubfächer: Edelstahl\n",
      "Length: 50\n",
      "--- --- ---\n",
      "KBT 08-51\n",
      "Document: Ausstattung - Abtauung automatisch: False, Steuerung: elektronisch\n",
      "Length: 66\n",
      "--- --- ---\n",
      "KBT 08-51\n",
      "Document: Sonstiges - Netzkabel: 3\n",
      "Length: 24\n",
      "--- --- ---\n",
      "TUS 50-100 logg\n",
      "Document: Gewicht (kg) - netto: 120\n",
      "Length: 25\n",
      "--- --- ---\n",
      "TUS 50-100 logg\n",
      "Document: Volumen (l) - Gefrierinhalt: 100\n",
      "Length: 32\n",
      "--- --- ---\n",
      "TUS 50-100 logg\n",
      "Document: Spannung (volt) - Anschluss: 230\n",
      "Length: 32\n",
      "--- --- ---\n",
      "TUS 50-100 logg\n",
      "Document: Frequenz (hz) - Anschluss: 50\n",
      "Length: 29\n",
      "--- --- ---\n",
      "TUS 50-100 logg\n",
      "Document: Innenausstattung - Anzahl Schubfächer: 4, Material Schubfächer: Edelstahl\n",
      "Length: 73\n",
      "--- --- ---\n",
      "LABEX-340 ULTIMATE\n",
      "Document: Gewicht (kg) - netto: 95, brutto: 109\n",
      "Length: 37\n",
      "--- --- ---\n",
      "LABEX-340 ULTIMATE\n",
      "Document: Volumen (l) - Kühlinhalt: 330\n",
      "Length: 29\n",
      "--- --- ---\n",
      "LABEX-340 ULTIMATE\n",
      "Document: Energie - Leistungsaufnahme-watt: 128, Wärmeabgabe-watt: 178, Normalverbrauch-kwh 24h: 1.14\n",
      "Length: 91\n",
      "--- --- ---\n",
      "LABEX-340 ULTIMATE\n",
      "Document: Spannung (volt) - Spannung: 220, Spannung max: 240\n",
      "Length: 50\n",
      "--- --- ---\n",
      "LABEX-340 ULTIMATE\n",
      "Document: Frequenz (hz) - Frequenz: 50\n",
      "Length: 28\n",
      "--- --- ---\n",
      "LABEX-340 ULTIMATE\n",
      "Document: Geräusch (db) - Emission: 40\n",
      "Length: 28\n",
      "--- --- ---\n",
      "LABEX-340 ULTIMATE\n",
      "Document: Sonstiges - flexible Ausstattung: True, Tauwassergefäß: True\n",
      "Length: 60\n",
      "--- --- ---\n",
      "SRPvg 8401 Performance\n",
      "Document: Gewicht (kg) - netto: 149, brutto: 166, Maximale Gesamtbeladung: 240\n",
      "Length: 68\n",
      "--- --- ---\n",
      "SRPvg 8401 Performance\n",
      "Document: Volumen (l) - Kühlinhalt: 702, Gefrierinhalt: 871\n",
      "Length: 49\n",
      "--- --- ---\n",
      "SRPvg 8401 Performance\n",
      "Document: Energie - Normalverbrauch-kwh 24h: 0.534, Wärmeabgabe-watt: 97.22\n",
      "Length: 65\n",
      "--- --- ---\n",
      "SRPvg 8401 Performance\n",
      "Document: Spannung (volt) - Spannung: 220, Frequenz-hz: 50\n",
      "Length: 48\n",
      "--- --- ---\n",
      "SRPvg 8401 Performance\n",
      "Document: Geräusch (db) - Emission: 60\n",
      "Length: 28\n",
      "--- --- ---\n",
      "LABO-468 PRO-ACTIVE\n",
      "Document: Gewicht (kg) - netto: 113, brutto: 127\n",
      "Length: 38\n",
      "--- --- ---\n",
      "LABO-468 PRO-ACTIVE\n",
      "Document: Volumen (l) - Kühlinhalt: 460\n",
      "Length: 29\n",
      "--- --- ---\n",
      "LABO-468 PRO-ACTIVE\n",
      "Document: Energie - Leistungsaufnahme-watt: 170, Wärmeabgabe-watt: 280, Normalverbrauch-kwh 24h: 1\n",
      "Length: 88\n",
      "--- --- ---\n",
      "LABO-468 PRO-ACTIVE\n",
      "Document: Spannung (volt) - Spannung: 220, Frequenz-hz: 50\n",
      "Length: 48\n",
      "--- --- ---\n",
      "LABO-468 PRO-ACTIVE\n",
      "Document: Geräusch (db) - Emission: 41\n",
      "Length: 28\n",
      "--- --- ---\n",
      "LABO-468 PRO-ACTIVE\n",
      "Document: Sonstiges - flexible Ausstattung: True\n",
      "Length: 38\n",
      "--- --- ---\n",
      "LABO-125 ESSENTIAL\n",
      "Document: Gewicht (kg) - netto: 42, brutto: 44\n",
      "Length: 36\n",
      "--- --- ---\n",
      "LABO-125 ESSENTIAL\n",
      "Document: Volumen (l) - Kühlinhalt: 120\n",
      "Length: 29\n",
      "--- --- ---\n",
      "LABO-125 ESSENTIAL\n",
      "Document: Energie - Leistungsaufnahme-watt: 125, Wärmeabgabe-watt: 123, Normalverbrauch-kwh 24h: 0.55\n",
      "Length: 91\n",
      "--- --- ---\n",
      "LABO-125 ESSENTIAL\n",
      "Document: Spannung (volt) - Spannung: 220, Frequenz-hz: 50\n",
      "Length: 48\n",
      "--- --- ---\n",
      "LABO-125 ESSENTIAL\n",
      "Document: Geräusch (db) - Emission: 41.4\n",
      "Length: 30\n",
      "--- --- ---\n",
      "LABO-288 ULTIMATE\n",
      "Document: Gewicht (kg) - netto: 78, brutto: 85\n",
      "Length: 36\n",
      "--- --- ---\n",
      "LABO-288 ULTIMATE\n",
      "Document: Volumen (l) - Kühlinhalt: 280\n",
      "Length: 29\n",
      "--- --- ---\n",
      "LABO-288 ULTIMATE\n",
      "Document: Energie - Leistungsaufnahme-watt: 88, Wärmeabgabe-watt: 165, Normalverbrauch-kwh 24h: 0.68\n",
      "Length: 90\n",
      "--- --- ---\n",
      "LABO-288 ULTIMATE\n",
      "Document: Spannung (volt) - Spannung: 220\n",
      "Length: 31\n",
      "--- --- ---\n",
      "LABO-288 ULTIMATE\n",
      "Document: Frequenz (hz) - Frequenz: 50\n",
      "Length: 28\n",
      "--- --- ---\n",
      "LABO-288 ULTIMATE\n",
      "Document: Geräusch (db) - Emission: 41\n",
      "Length: 28\n",
      "--- --- ---\n",
      "LABO-288 ULTIMATE\n",
      "Document: Sonstiges - flexible Ausstattung: True, Dekorrahmen: optional\n",
      "Length: 61\n",
      "--- --- ---\n",
      "LABEX-105 PRO-ACTIVE\n",
      "Document: Gewicht (kg) - netto: 46, brutto: 50\n",
      "Length: 36\n",
      "--- --- ---\n",
      "LABEX-105 PRO-ACTIVE\n",
      "Document: Volumen (l) - Kühlinhalt: 95\n",
      "Length: 28\n",
      "--- --- ---\n",
      "LABEX-105 PRO-ACTIVE\n",
      "Document: Energie - Leistungsaufnahme-watt: 86, Wärmeabgabe-watt: 191, Normalverbrauch-kwh 24h: 0.43\n",
      "Length: 90\n",
      "--- --- ---\n",
      "LABEX-105 PRO-ACTIVE\n",
      "Document: Spannung (volt) - Spannung: 220, Frequenz-hz: 50\n",
      "Length: 48\n",
      "--- --- ---\n",
      "LABEX-105 PRO-ACTIVE\n",
      "Document: Frequenz (hz) - Kältemaschine 60Hz: optional\n",
      "Length: 44\n",
      "--- --- ---\n",
      "LABEX-105 PRO-ACTIVE\n",
      "Document: Geräusch (db) - Emission: 41\n",
      "Length: 28\n",
      "--- --- ---\n",
      "LKexv 3600 MediLine\n",
      "Document: Gewicht (kg) - netto: 59, brutto: 64\n",
      "Length: 36\n",
      "--- --- ---\n",
      "LKexv 3600 MediLine\n",
      "Document: Volumen (l) - Kühlinhalt: 307, Gefrierinhalt: 333\n",
      "Length: 49\n",
      "--- --- ---\n",
      "LKexv 3600 MediLine\n",
      "Document: Energie - Normalverbrauch-kwh 24h: 0.95\n",
      "Length: 39\n",
      "--- --- ---\n",
      "LKexv 3600 MediLine\n",
      "Document: Spannung (volt) - Anschlusswert: 220\n",
      "Length: 36\n",
      "--- --- ---\n",
      "LKexv 3600 MediLine\n",
      "Document: Geräusch (db) - Emission: 48\n",
      "Length: 28\n",
      "--- --- ---\n",
      "LKexv 3600 MediLine\n",
      "Document: Ausstattung - Abtauung automatisch: True, Umluftkühlung: True, Steuerung: mechanische Steuerung\n",
      "Length: 95\n",
      "--- --- ---\n",
      "MED-125 ESSENTIAL\n",
      "Document: Gewicht (kg) - netto: 42, brutto: 48\n",
      "Length: 36\n",
      "--- --- ---\n",
      "MED-125 ESSENTIAL\n",
      "Document: Volumen (l) - Kühlinhalt: 120\n",
      "Length: 29\n",
      "--- --- ---\n",
      "MED-125 ESSENTIAL\n",
      "Document: Energie - Leistungsaufnahme-watt: 115, Wärmeabgabe-watt: 190, Normalverbrauch-kwh 24h: 0.97\n",
      "Length: 91\n",
      "--- --- ---\n",
      "MED-125 ESSENTIAL\n",
      "Document: Spannung (volt) - Spannung: 220, Spannung max: 240\n",
      "Length: 50\n",
      "--- --- ---\n",
      "MED-125 ESSENTIAL\n",
      "Document: Frequenz (hz) - Frequenz: 50\n",
      "Length: 28\n",
      "--- --- ---\n",
      "MED-125 ESSENTIAL\n",
      "Document: Geräusch (db) - Emission: 40\n",
      "Length: 28\n",
      "--- --- ---\n",
      "SRPvg 1412 Performance\n",
      "Document: Gewicht (kg) - netto: 271, brutto: 292\n",
      "Length: 38\n",
      "--- --- ---\n",
      "SRPvg 1412 Performance\n",
      "Document: Volumen (l) - Kühlinhalt: 1091, Gefrierinhalt: 1447\n",
      "Length: 51\n",
      "--- --- ---\n",
      "SRPvg 1412 Performance\n",
      "Document: Energie - Normalverbrauch-kwh 24h: 1.98, Wärmeabgabe-watt: 180.56\n",
      "Length: 65\n",
      "--- --- ---\n",
      "SRPvg 1412 Performance\n",
      "Document: Spannung (volt) - Spannung: 230, Frequenz: 50\n",
      "Length: 45\n",
      "--- --- ---\n",
      "SRPvg 1412 Performance\n",
      "Document: Geräusch (db) - Emission: 60\n",
      "Length: 28\n",
      "--- --- ---\n",
      "DS 601 H\n",
      "Document: Temperatur (celsius) - Einstellung min: 2, Einstellung max: 8\n",
      "Length: 61\n",
      "--- --- ---\n",
      "DS 601 H\n",
      "Document: Innenausstattung - Anzahl Schubfächer: 1\n",
      "Length: 40\n",
      "--- --- ---\n",
      "DS 601 H\n",
      "Document: Ausstattung - Umluftkühlung: True, Türaufalarm: akustisch\n",
      "Length: 57\n",
      "--- --- ---\n",
      "LABO-520 PRO-ACTIVE\n",
      "Document: Gewicht (kg) - netto: 120, brutto: 148\n",
      "Length: 38\n",
      "--- --- ---\n",
      "LABO-520 PRO-ACTIVE\n",
      "Document: Volumen (l) - Kühlinhalt: 500\n",
      "Length: 29\n",
      "--- --- ---\n",
      "LABO-520 PRO-ACTIVE\n",
      "Document: Energie - Leistungsaufnahme-watt: 250, Wärmeabgabe-watt: 553, Normalverbrauch-kwh 24h: 1.4\n",
      "Length: 90\n",
      "--- --- ---\n",
      "LABO-520 PRO-ACTIVE\n",
      "Document: Spannung (volt) - Spannung: 240, Frequenz-hz: 50\n",
      "Length: 48\n",
      "--- --- ---\n",
      "LABO-520 PRO-ACTIVE\n",
      "Document: Geräusch (db) - Emission: 42\n",
      "Length: 28\n",
      "--- --- ---\n",
      "LABO-520 PRO-ACTIVE\n",
      "Document: Innenausstattung - Anzahl Schubfächer: 5, Belastbarkeit Ablagefläche-kg: 40\n",
      "Length: 75\n",
      "--- --- ---\n",
      "HMFvh 4011 H63 Perfection\n",
      "Document: Gewicht (kg) - netto: 69, brutto: 82\n",
      "Length: 36\n",
      "--- --- ---\n",
      "HMFvh 4011 H63 Perfection\n",
      "Document: Volumen (l) - Kühlinhalt: 235, Gefrierinhalt: 420\n",
      "Length: 49\n",
      "--- --- ---\n",
      "HMFvh 4011 H63 Perfection\n",
      "Document: Energie - Normalverbrauch-kwh 24h: 1.12\n",
      "Length: 39\n",
      "--- --- ---\n",
      "HMFvh 4011 H63 Perfection\n",
      "Document: Spannung (volt) - Spannung: 230, Anschlusswert: 2\n",
      "Length: 49\n",
      "--- --- ---\n",
      "HMFvh 4011 H63 Perfection\n",
      "Document: Geräusch (db) - Emission: 49\n",
      "Length: 28\n",
      "--- --- ---\n",
      "TT 85-90 logg\n",
      "Document: Gewicht (kg) - netto: 120\n",
      "Length: 25\n",
      "--- --- ---\n",
      "TT 85-90 logg\n",
      "Document: Volumen (l) - Gefrierinhalt: 90\n",
      "Length: 31\n",
      "--- --- ---\n",
      "TT 85-90 logg\n",
      "Document: Spannung (volt) - Anschluss: 230\n",
      "Length: 32\n",
      "--- --- ---\n",
      "TT 85-90 logg\n",
      "Document: Frequenz (hz) - Anschluss: 50\n",
      "Length: 29\n",
      "--- --- ---\n",
      "TT 85-90 logg\n",
      "Document: Innenausstattung - Material Schubfächer: Edelstahl\n",
      "Length: 50\n",
      "--- --- ---\n",
      "HC 302\n",
      "Document: Volumen (l) - Kühlinhalt: 22\n",
      "Length: 28\n",
      "--- --- ---\n",
      "HC 302\n",
      "Document: Temperatur (celsius) - Einstellung min: 2, Einstellung max: 8\n",
      "Length: 61\n",
      "--- --- ---\n",
      "HC 302\n",
      "Document: Innenausstattung - Anzahl Schubfächer: 1, Material Schubfächer: Kunststoff\n",
      "Length: 74\n",
      "--- --- ---\n",
      "HC 302\n",
      "Document: Ausstattung - DIN 58375 konform: True, Türaufalarm: akustisch, Umluftkühlung: True\n",
      "Length: 82\n",
      "--- --- ---\n",
      "FROSTER LABEX-730 ULTIMATE\n",
      "Document: Gewicht (kg) - netto: 165, brutto: 200\n",
      "Length: 38\n",
      "--- --- ---\n",
      "FROSTER LABEX-730 ULTIMATE\n",
      "Document: Volumen (l) - Kühlinhalt: 700\n",
      "Length: 29\n",
      "--- --- ---\n",
      "FROSTER LABEX-730 ULTIMATE\n",
      "Document: Energie - Leistungsaufnahme-watt: 550, Wärmeabgabe-watt: 706, Normalverbrauch-kwh 24h: 6.02\n",
      "Length: 91\n",
      "--- --- ---\n",
      "FROSTER LABEX-730 ULTIMATE\n",
      "Document: Spannung (volt) - Spannung: 220, Spannung max: 240\n",
      "Length: 50\n",
      "--- --- ---\n",
      "FROSTER LABEX-730 ULTIMATE\n",
      "Document: Frequenz (hz) - Frequenz: 50\n",
      "Length: 28\n",
      "--- --- ---\n",
      "FROSTER LABEX-730 ULTIMATE\n",
      "Document: Geräusch (db) - Emission: 53.9\n",
      "Length: 30\n",
      "--- --- ---\n",
      "FROSTER LABEX-730 ULTIMATE\n",
      "Document: Innenausstattung - Anzahl Rost: 5, Belastbarkeit Ablagefläche-kg: 40\n",
      "Length: 68\n",
      "--- --- ---\n",
      "FROSTER LABEX-730 ULTIMATE\n",
      "Document: Sonstiges - flexible Ausstattung: True\n",
      "Length: 38\n",
      "--- --- ---\n",
      "HMFvh 4001 Perfection\n",
      "Document: Gewicht (kg) - netto: 64.5, brutto: 73\n",
      "Length: 38\n",
      "--- --- ---\n",
      "HMFvh 4001 Perfection\n",
      "Document: Volumen (l) - Kühlinhalt: 295, Gefrierinhalt: 394\n",
      "Length: 49\n",
      "--- --- ---\n",
      "HMFvh 4001 Perfection\n",
      "Document: Energie - Normalverbrauch-kwh 24h: 0.47, Wärmeabgabe-watt: 69.44\n",
      "Length: 64\n",
      "--- --- ---\n",
      "HMFvh 4001 Perfection\n",
      "Document: Spannung (volt) - Spannung: 230, Anschlusswert: 2\n",
      "Length: 49\n",
      "--- --- ---\n",
      "HMFvh 4001 Perfection\n",
      "Document: Geräusch (db) - Emission: 49\n",
      "Length: 28\n",
      "--- --- ---\n",
      "FROSTER LABO-330 ULTIMATE\n",
      "Document: Gewicht (kg) - netto: 127, brutto: 142\n",
      "Length: 38\n",
      "--- --- ---\n",
      "FROSTER LABO-330 ULTIMATE\n",
      "Document: Volumen (l) - Kühlinhalt: 300\n",
      "Length: 29\n",
      "--- --- ---\n",
      "FROSTER LABO-330 ULTIMATE\n",
      "Document: Energie - Leistungsaufnahme-watt: 590, Wärmeabgabe-watt: 693, Normalverbrauch-kwh 24h: 3.69\n",
      "Length: 91\n",
      "--- --- ---\n",
      "FROSTER LABO-330 ULTIMATE\n",
      "Document: Spannung (volt) - Spannung: 220, Spannung max: 240\n",
      "Length: 50\n",
      "--- --- ---\n",
      "FROSTER LABO-330 ULTIMATE\n",
      "Document: Frequenz (hz) - Frequenz: 50\n",
      "Length: 28\n",
      "--- --- ---\n",
      "FROSTER LABO-330 ULTIMATE\n",
      "Document: Geräusch (db) - Emission: 51.2\n",
      "Length: 30\n",
      "--- --- ---\n",
      "FROSTER LABO-330 ULTIMATE\n",
      "Document: Innenausstattung - Anzahl Schubfächer: 4, Belastbarkeit Ablagefläche-kg: 40\n",
      "Length: 75\n",
      "--- --- ---\n",
      "LGUex 1500 MediLine\n",
      "Document: Gewicht (kg) - netto: 42, brutto: 43\n",
      "Length: 36\n",
      "--- --- ---\n",
      "LGUex 1500 MediLine\n",
      "Document: Volumen (l) - Kühlinhalt: 129, Gefrierinhalt: 139\n",
      "Length: 49\n",
      "--- --- ---\n",
      "LGUex 1500 MediLine\n",
      "Document: Energie - Normalverbrauch-kwh 24h: 0.805\n",
      "Length: 40\n",
      "--- --- ---\n",
      "LGUex 1500 MediLine\n",
      "Document: Spannung (volt) - Spannung: 220\n",
      "Length: 31\n",
      "--- --- ---\n",
      "LGUex 1500 MediLine\n",
      "Document: Geräusch (db) - Emission: 45\n",
      "Length: 28\n",
      "--- --- ---\n",
      "SFTfg 1501 Performance\n",
      "Document: Gewicht (kg) - netto: 39, brutto: 41, Maximale Gesamtbeladung: 120\n",
      "Length: 66\n",
      "--- --- ---\n",
      "SFTfg 1501 Performance\n",
      "Document: Volumen (l) - Kühlinhalt: 71, Gefrierinhalt: 101\n",
      "Length: 48\n",
      "--- --- ---\n",
      "SFTfg 1501 Performance\n",
      "Document: Energie - Normalverbrauch-kwh 24h: 0.49, Wärmeabgabe-watt: 60\n",
      "Length: 61\n",
      "--- --- ---\n",
      "SFTfg 1501 Performance\n",
      "Document: Spannung (volt) - Spannung: 240\n",
      "Length: 31\n",
      "--- --- ---\n",
      "SFTfg 1501 Performance\n",
      "Document: Frequenz (hz) - Frequenz: 50\n",
      "Length: 28\n",
      "--- --- ---\n",
      "SFTfg 1501 Performance\n",
      "Document: Geräusch (db) - Emission: 40\n",
      "Length: 28\n",
      "--- --- ---\n",
      "BL-520 PRO-ACTIVE\n",
      "Document: Gewicht (kg) - netto: 139, brutto: 160\n",
      "Length: 38\n",
      "--- --- ---\n",
      "BL-520 PRO-ACTIVE\n",
      "Document: Volumen (l) - Kühlinhalt: 500\n",
      "Length: 29\n",
      "--- --- ---\n",
      "BL-520 PRO-ACTIVE\n",
      "Document: Energie - Leistungsaufnahme-watt: 250, Wärmeabgabe-watt: 554, Normalverbrauch-kwh 24h: 1.5\n",
      "Length: 90\n",
      "--- --- ---\n",
      "BL-520 PRO-ACTIVE\n",
      "Document: Spannung (volt) - Spannung: 220, Spannung max: 240\n",
      "Length: 50\n",
      "--- --- ---\n",
      "BL-520 PRO-ACTIVE\n",
      "Document: Frequenz (hz) - Frequenz: 50\n",
      "Length: 28\n",
      "--- --- ---\n",
      "BL-520 PRO-ACTIVE\n",
      "Document: Geräusch (db) - Emission: 41.2\n",
      "Length: 30\n",
      "--- --- ---\n",
      "BL-520 PRO-ACTIVE\n",
      "Document: Sonstiges - Außengehäuse Chromnickelstahl 4301: optional, Dekorrahmen: optional\n",
      "Length: 79\n",
      "--- --- ---\n",
      "SFPvh 1402 Perfection\n",
      "Document: Gewicht (kg) - netto: 210, brutto: 235, Maximale Gesamtbeladung: 520\n",
      "Length: 68\n",
      "--- --- ---\n",
      "SFPvh 1402 Perfection\n",
      "Document: Volumen (l) - Kühlinhalt: 1091, Gefrierinhalt: 1391\n",
      "Length: 51\n",
      "--- --- ---\n",
      "SFPvh 1402 Perfection\n",
      "Document: Energie - Normalverbrauch-kwh 24h: 3.18, Wärmeabgabe-watt: 412.5\n",
      "Length: 64\n",
      "--- --- ---\n",
      "SFPvh 1402 Perfection\n",
      "Document: Spannung (volt) - Spannung: 240\n",
      "Length: 31\n",
      "--- --- ---\n",
      "SFPvh 1402 Perfection\n",
      "Document: Frequenz (hz) - Frequenz: 50\n",
      "Length: 28\n",
      "--- --- ---\n",
      "SFPvh 1402 Perfection\n",
      "Document: Geräusch (db) - Emission: 60\n",
      "Length: 28\n",
      "--- --- ---\n",
      "LABEX-125 ESSENTIAL\n",
      "Document: Volumen (l) - Kühlinhalt: 120\n",
      "Length: 29\n",
      "--- --- ---\n",
      "LABEX-125 ESSENTIAL\n",
      "Document: Temperatur (celsius) - Einstellung min: 2, Einstellung max: 12\n",
      "Length: 62\n",
      "--- --- ---\n",
      "LABEX-125 ESSENTIAL\n",
      "Document: Energie - Normalverbrauch-kwh 24h: 0.68\n",
      "Length: 39\n",
      "--- --- ---\n",
      "LABEX-125 ESSENTIAL\n",
      "Document: Spannung (volt) - Spannung: 220, Spannung max: 240\n",
      "Length: 50\n",
      "--- --- ---\n",
      "SUFsg 3501 MediLine\n",
      "Document: Volumen (l) - Kühlinhalt: 382, Gefrierinhalt: 402\n",
      "Length: 49\n",
      "--- --- ---\n",
      "SUFsg 3501 MediLine\n",
      "Document: Energie - Normalverbrauch-kwh 24h: 7.5, Wärmeabgabe-watt: 310\n",
      "Length: 61\n",
      "--- --- ---\n",
      "SUFsg 3501 MediLine\n",
      "Document: Spannung (volt) - Spannung: 230\n",
      "Length: 31\n",
      "--- --- ---\n",
      "SUFsg 3501 MediLine\n",
      "Document: Frequenz (hz) - Frequenz: 50\n",
      "Length: 28\n",
      "--- --- ---\n",
      "SUFsg 3501 MediLine\n",
      "Document: Geräusch (db) - Emission: 47\n",
      "Length: 28\n",
      "--- --- ---\n",
      "SUFsg 3501 MediLine\n",
      "Document: Innenausstattung - Anzahl Ablageflächen: 4, Material Ablageflächen: Edelstahl\n",
      "Length: 77\n",
      "--- --- ---\n",
      "SFTsg 1501 Performance\n",
      "Document: Gewicht (kg) - netto: 35, brutto: 37, Belastbarkeit Ablagefläche: 45, Maximale Gesamtbeladung: 135\n",
      "Length: 98\n",
      "--- --- ---\n",
      "SFTsg 1501 Performance\n",
      "Document: Volumen (l) - Kühlinhalt: 69, Gefrierinhalt: 101\n",
      "Length: 48\n",
      "--- --- ---\n",
      "SFTsg 1501 Performance\n",
      "Document: Energie - Normalverbrauch-kwh 24h: 0.49, Wärmeabgabe-watt: 60\n",
      "Length: 61\n",
      "--- --- ---\n",
      "SFTsg 1501 Performance\n",
      "Document: Spannung (volt) - Spannung: 220, Frequenz: 50\n",
      "Length: 45\n",
      "--- --- ---\n",
      "SFTsg 1501 Performance\n",
      "Document: Geräusch (db) - Emission: 40\n",
      "Length: 28\n",
      "--- --- ---\n",
      "KBT 08-51+ST100\n",
      "Document: Gewicht (kg) - netto: 32\n",
      "Length: 24\n",
      "--- --- ---\n",
      "KBT 08-51+ST100\n",
      "Document: Volumen (l) - Gefrierinhalt: 8\n",
      "Length: 30\n",
      "--- --- ---\n",
      "KBT 08-51+ST100\n",
      "Document: Spannung (volt) - Anschluss: 230\n",
      "Length: 32\n",
      "--- --- ---\n",
      "KBT 08-51+ST100\n",
      "Document: Frequenz (hz) - Anschluss: 50\n",
      "Length: 29\n",
      "--- --- ---\n",
      "KBT 08-51+ST100\n",
      "Document: Innenausstattung - Material Schubfächer: Edelstahl\n",
      "Length: 50\n",
      "--- --- ---\n",
      "KBT 08-51+ST100\n",
      "Document: Ausstattung - Abtauung automatisch: False, Türaufalarm: akustisch, Steuerung: ST100\n",
      "Length: 83\n",
      "--- --- ---\n",
      "KBT 08-51+ST100\n",
      "Document: Sonstiges - Netzkabel: 3m Länge, Rammschutzring: True, Zertifizierte Premium-Qualität: True\n",
      "Length: 91\n",
      "--- --- ---\n",
      "LKv 3910 MediLine\n",
      "Document: Gewicht (kg) - netto: 65, brutto: 70\n",
      "Length: 36\n",
      "--- --- ---\n",
      "LKv 3910 MediLine\n",
      "Document: Volumen (l) - Kühlinhalt: 333, Gefrierinhalt: 28\n",
      "Length: 48\n",
      "--- --- ---\n",
      "LKv 3910 MediLine\n",
      "Document: Energie - Normalverbrauch-kwh 24h: 0.85, Leistungsaufnahme-watt: 330\n",
      "Length: 68\n",
      "--- --- ---\n",
      "LKv 3910 MediLine\n",
      "Document: Spannung (volt) - Anschlusswert: 230\n",
      "Length: 36\n",
      "--- --- ---\n",
      "LKv 3910 MediLine\n",
      "Document: Geräusch (db) - Emission: 48\n",
      "Length: 28\n",
      "--- --- ---\n",
      "HC 502 D\n",
      "Document: Volumen (l) - Kühlinhalt: 35\n",
      "Length: 28\n",
      "--- --- ---\n",
      "HC 502 D\n",
      "Document: Temperatur (celsius) - Einstellung min: 2, Einstellung max: 8\n",
      "Length: 61\n",
      "--- --- ---\n",
      "HC 502 D\n",
      "Document: Innenausstattung - Anzahl Schubfächer: 1\n",
      "Length: 40\n",
      "--- --- ---\n",
      "HC 502 D\n",
      "Document: Ausstattung - DIN 58375 konform: True, Türaufalarm: akustisch, Umluftkühlung: True\n",
      "Length: 82\n",
      "--- --- ---\n",
      "LABEX-720 PRO-ACTIVE\n",
      "Document: Gewicht (kg) - netto: 145, brutto: 174\n",
      "Length: 38\n",
      "--- --- ---\n",
      "LABEX-720 PRO-ACTIVE\n",
      "Document: Volumen (l) - Kühlinhalt: 700\n",
      "Length: 29\n",
      "--- --- ---\n",
      "LABEX-720 PRO-ACTIVE\n",
      "Document: Energie - Leistungsaufnahme-watt: 237, Wärmeabgabe-watt: 545, Normalverbrauch-kwh 24h: 1.23\n",
      "Length: 91\n",
      "--- --- ---\n",
      "LABEX-720 PRO-ACTIVE\n",
      "Document: Spannung (volt) - Spannung: 220, Spannung max: 240\n",
      "Length: 50\n",
      "--- --- ---\n",
      "LABEX-720 PRO-ACTIVE\n",
      "Document: Frequenz (hz) - Frequenz: 50\n",
      "Length: 28\n",
      "--- --- ---\n",
      "LABEX-720 PRO-ACTIVE\n",
      "Document: Geräusch (db) - Emission: 42\n",
      "Length: 28\n",
      "--- --- ---\n",
      "LABEX-720 PRO-ACTIVE\n",
      "Document: Innenausstattung - Anzahl Rost: 5, Belastbarkeit Ablagefläche-kg: 40\n",
      "Length: 68\n",
      "--- --- ---\n",
      "LABEX-720 PRO-ACTIVE\n",
      "Document: Sonstiges - Lichtes Rostmaß Breite: 59, Lichtes Rostmaß Tiefe: 65\n",
      "Length: 65\n",
      "--- --- ---\n",
      "TUS 50-100\n",
      "Document: Gewicht (kg) - netto: 120\n",
      "Length: 25\n",
      "--- --- ---\n",
      "TUS 50-100\n",
      "Document: Volumen (l) - Gefrierinhalt: 100\n",
      "Length: 32\n",
      "--- --- ---\n",
      "TUS 50-100\n",
      "Document: Spannung (volt) - Anschluss: 230\n",
      "Length: 32\n",
      "--- --- ---\n",
      "TUS 50-100\n",
      "Document: Frequenz (hz) - Anschluss: 50\n",
      "Length: 29\n",
      "--- --- ---\n",
      "TUS 50-100\n",
      "Document: Innenausstattung - Anzahl Schubfächer: 1, Anzahl Ablageflächen: 4, Material Schubfächer: Edelstahl\n",
      "Length: 98\n",
      "--- --- ---\n",
      "TUS 50-100\n",
      "Document: Sonstiges - Netzkabel: 3, Stapelbar: 2, Vakuum-Isolierung: True, Umluftventilator: optional\n",
      "Length: 91\n",
      "--- --- ---\n",
      "LABO-100 PRO-ACTIVE\n",
      "Document: Gewicht (kg) - netto: 46, brutto: 50\n",
      "Length: 36\n",
      "--- --- ---\n",
      "LABO-100 PRO-ACTIVE\n",
      "Document: Volumen (l) - Kühlinhalt: 95\n",
      "Length: 28\n",
      "--- --- ---\n",
      "LABO-100 PRO-ACTIVE\n",
      "Document: Energie - Leistungsaufnahme-watt: 76, Wärmeabgabe-watt: 184, Normalverbrauch-kwh 24h: 0.64\n",
      "Length: 90\n",
      "--- --- ---\n",
      "LABO-100 PRO-ACTIVE\n",
      "Document: Spannung (volt) - Spannung: 220, Spannung max: 240\n",
      "Length: 50\n",
      "--- --- ---\n",
      "LABO-100 PRO-ACTIVE\n",
      "Document: Frequenz (hz) - Frequenz: 50\n",
      "Length: 28\n",
      "--- --- ---\n",
      "LABO-100 PRO-ACTIVE\n",
      "Document: Geräusch (db) - Emission: 41\n",
      "Length: 28\n",
      "--- --- ---\n",
      "LABEX-520 ULTIMATE\n",
      "Document: Gewicht (kg) - netto: 120, brutto: 148\n",
      "Length: 38\n",
      "--- --- ---\n",
      "LABEX-520 ULTIMATE\n",
      "Document: Volumen (l) - Kühlinhalt: 500\n",
      "Length: 29\n",
      "--- --- ---\n",
      "LABEX-520 ULTIMATE\n",
      "Document: Energie - Leistungsaufnahme-watt: 234, Wärmeabgabe-watt: 543, Normalverbrauch-kwh 24h: 1.2\n",
      "Length: 90\n",
      "--- --- ---\n",
      "LABEX-520 ULTIMATE\n",
      "Document: Spannung (volt) - Spannung: 220, Spannung max: 240\n",
      "Length: 50\n",
      "--- --- ---\n",
      "LABEX-520 ULTIMATE\n",
      "Document: Frequenz (hz) - Frequenz: 50\n",
      "Length: 28\n",
      "--- --- ---\n",
      "LABEX-520 ULTIMATE\n",
      "Document: Geräusch (db) - Emission: 41\n",
      "Length: 28\n",
      "--- --- ---\n",
      "LABEX-520 ULTIMATE\n",
      "Document: Innenausstattung - Anzahl Rost: 5, Belastbarkeit Rost-kg: 40, Belastbarkeit Schubfach-kg: 24\n",
      "Length: 92\n",
      "--- --- ---\n",
      "LABEX-520 ULTIMATE\n",
      "Document: Sonstiges - flexible Ausstattung: True\n",
      "Length: 38\n",
      "--- --- ---\n",
      "TS 50-100\n",
      "Document: Gewicht (kg) - netto: 120\n",
      "Length: 25\n",
      "--- --- ---\n",
      "TS 50-100\n",
      "Document: Volumen (l) - Gefrierinhalt: 100\n",
      "Length: 32\n",
      "--- --- ---\n",
      "TS 50-100\n",
      "Document: Spannung (volt) - Anschluss: 230\n",
      "Length: 32\n",
      "--- --- ---\n",
      "TS 50-100\n",
      "Document: Frequenz (hz) - Anschluss: 50\n",
      "Length: 29\n",
      "--- --- ---\n",
      "TS 50-100\n",
      "Document: Innenausstattung - Anzahl Schubfächer: 4, Material Schubfächer: Edelstahl\n",
      "Length: 73\n",
      "--- --- ---\n",
      "ULT U35\n",
      "Document: Volumen (l) - Kühlinhalt: 37\n",
      "Length: 28\n",
      "--- --- ---\n",
      "ULT U35\n",
      "Document: Energie - Normalverbrauch kwh 24h: 3.2\n",
      "Length: 38\n",
      "--- --- ---\n",
      "ULT U35\n",
      "Document: Spannung (volt) - Spannung: 230\n",
      "Length: 31\n",
      "--- --- ---\n",
      "ULT U35\n",
      "Document: Frequenz (hz) - Frequenz: 50\n",
      "Length: 28\n",
      "--- --- ---\n",
      "ULT U35\n",
      "Document: Sonstiges - Kältemittel: Nature R, Kompressorart: Einzelphase, Temperatursonde: 1/PT 1000\n",
      "Length: 89\n",
      "--- --- ---\n",
      "FROSTER MED-95 PRO-ACTIVE\n",
      "Document: Gewicht (kg) - netto: 50, brutto: 54\n",
      "Length: 36\n",
      "--- --- ---\n",
      "FROSTER MED-95 PRO-ACTIVE\n",
      "Document: Volumen (l) - Kühlinhalt: 95\n",
      "Length: 28\n",
      "--- --- ---\n",
      "FROSTER MED-95 PRO-ACTIVE\n",
      "Document: Energie - Leistungsaufnahme-watt: 123, Wärmeabgabe-watt: 162, Normalverbrauch-kwh 24h: 1.33\n",
      "Length: 91\n",
      "--- --- ---\n",
      "FROSTER MED-95 PRO-ACTIVE\n",
      "Document: Spannung (volt) - Spannung: 220, Frequenz: 50\n",
      "Length: 45\n",
      "--- --- ---\n",
      "FROSTER MED-95 PRO-ACTIVE\n",
      "Document: Geräusch (db) - Emission: 38\n",
      "Length: 28\n",
      "--- --- ---\n",
      "LABEX-468 PRO-ACTIVE\n",
      "Document: Gewicht (kg) - netto: 120, brutto: 134\n",
      "Length: 38\n",
      "--- --- ---\n",
      "LABEX-468 PRO-ACTIVE\n",
      "Document: Volumen (l) - Kühlinhalt: 460\n",
      "Length: 29\n",
      "--- --- ---\n",
      "LABEX-468 PRO-ACTIVE\n",
      "Document: Energie - Leistungsaufnahme-watt: 170, Wärmeabgabe-watt: 280, Normalverbrauch-kwh 24h: 1.03\n",
      "Length: 91\n",
      "--- --- ---\n",
      "LABEX-468 PRO-ACTIVE\n",
      "Document: Spannung (volt) - Spannung: 220, Frequenz-hz: 50\n",
      "Length: 48\n",
      "--- --- ---\n",
      "LABEX-468 PRO-ACTIVE\n",
      "Document: Geräusch (db) - Emission: 40\n",
      "Length: 28\n",
      "--- --- ---\n",
      "LABEX-468 PRO-ACTIVE\n",
      "Document: Sonstiges - flexible Ausstattung möglich: True, Tauwassergefäß zur man. Entleerung: True\n",
      "Length: 88\n",
      "--- --- ---\n",
      "MED-720 ULTIMATE\n",
      "Document: Volumen (l) - Kühlinhalt: 700\n",
      "Length: 29\n",
      "--- --- ---\n",
      "MED-720 ULTIMATE\n",
      "Document: Energie - Leistungsaufnahme-watt: 250, Normalverbrauch-kwh 24h: 1.55\n",
      "Length: 68\n",
      "--- --- ---\n",
      "MED-720 ULTIMATE\n",
      "Document: Spannung (volt) - Spannung: 220, Spannung max: 240\n",
      "Length: 50\n",
      "--- --- ---\n",
      "MED-720 ULTIMATE\n",
      "Document: Frequenz (hz) - Frequenz: 50\n",
      "Length: 28\n",
      "--- --- ---\n",
      "MED-720 ULTIMATE\n",
      "Document: Innenausstattung - Anzahl Schubfächer: 12, Material Körbe: Kunststoff\n",
      "Length: 69\n",
      "--- --- ---\n",
      "SUFsg 5001-70 MediLine\n",
      "Document: Gewicht (kg) - netto: 254, brutto: 308\n",
      "Length: 38\n",
      "--- --- ---\n",
      "SUFsg 5001-70 MediLine\n",
      "Document: Volumen (l) - Kühlinhalt: 477, Gefrierinhalt: 491\n",
      "Length: 49\n",
      "--- --- ---\n",
      "SUFsg 5001-70 MediLine\n",
      "Document: Energie - Normalverbrauch-kwh 24h: 8, Wärmeabgabe-watt: 329\n",
      "Length: 59\n",
      "--- --- ---\n",
      "SUFsg 5001-70 MediLine\n",
      "Document: Spannung (volt) - Spannung: 230\n",
      "Length: 31\n",
      "--- --- ---\n",
      "SUFsg 5001-70 MediLine\n",
      "Document: Geräusch (db) - Emission: 47\n",
      "Length: 28\n",
      "--- --- ---\n",
      "SUFsg 7001-70\n",
      "Document: Gewicht (kg) - netto: 313, brutto: 361\n",
      "Length: 38\n",
      "--- --- ---\n",
      "SUFsg 7001-70\n",
      "Document: Volumen (l) - Kühlinhalt: 700, Gefrierinhalt: 728\n",
      "Length: 49\n",
      "--- --- ---\n",
      "SUFsg 7001-70\n",
      "Document: Energie - Normalverbrauch-kwh 24h: 8.1, Wärmeabgabe-watt: 340\n",
      "Length: 61\n",
      "--- --- ---\n",
      "SUFsg 7001-70\n",
      "Document: Spannung (volt) - Spannung: 230, Anschlusswert: 7\n",
      "Length: 49\n",
      "--- --- ---\n",
      "SUFsg 7001-70\n",
      "Document: Geräusch (db) - Emission: 47\n",
      "Length: 28\n",
      "--- --- ---\n",
      "SRPvh 6511 Perfection\n",
      "Document: Gewicht (kg) - netto: 152, brutto: 169, Maximale Gesamtbeladung: 240\n",
      "Length: 68\n",
      "--- --- ---\n",
      "SRPvh 6511 Perfection\n",
      "Document: Volumen (l) - Kühlinhalt: 480, Brutto: 642\n",
      "Length: 42\n",
      "--- --- ---\n",
      "SRPvh 6511 Perfection\n",
      "Document: Energie - Normalverbrauch-kwh 24h: 0.87, Wärmeabgabe-watt: 101.39\n",
      "Length: 65\n",
      "--- --- ---\n",
      "SRPvh 6511 Perfection\n",
      "Document: Spannung (volt) - Spannung: 240\n",
      "Length: 31\n",
      "--- --- ---\n",
      "SRPvh 6511 Perfection\n",
      "Document: Frequenz (hz) - Frequenz: 50\n",
      "Length: 28\n",
      "--- --- ---\n",
      "SRPvh 6511 Perfection\n",
      "Document: Geräusch (db) - Emission: 60\n",
      "Length: 28\n",
      "--- --- ---\n",
      "HMFvh 5501 H63 Perfection\n",
      "Document: Gewicht (kg) - netto: 100, brutto: 106\n",
      "Length: 38\n",
      "--- --- ---\n",
      "HMFvh 5501 H63 Perfection\n",
      "Document: Volumen (l) - Kühlinhalt: 355, Gefrierinhalt: 558\n",
      "Length: 49\n",
      "--- --- ---\n",
      "HMFvh 5501 H63 Perfection\n",
      "Document: Energie - Normalverbrauch-kwh 24h: 0.47\n",
      "Length: 39\n",
      "--- --- ---\n",
      "HMFvh 5501 H63 Perfection\n",
      "Document: Spannung (volt) - Spannung: 220, Anschlusswert: 240\n",
      "Length: 51\n",
      "--- --- ---\n",
      "HMFvh 5501 H63 Perfection\n",
      "Document: Geräusch (db) - Emission: 49\n",
      "Length: 28\n",
      "--- --- ---\n",
      "LCexv 4010 MediLine\n",
      "Document: Gewicht (kg) - netto: 85, brutto: 92\n",
      "Length: 36\n",
      "--- --- ---\n",
      "LCexv 4010 MediLine\n",
      "Document: Volumen (l) - Kühlinhalt: 240, Gefrierinhalt: 105\n",
      "Length: 49\n",
      "--- --- ---\n",
      "LCexv 4010 MediLine\n",
      "Document: Energie - Normalverbrauch kwh 24h: 1.8\n",
      "Length: 38\n",
      "--- --- ---\n",
      "LCexv 4010 MediLine\n",
      "Document: Spannung (volt) - Spannung: 230, Anschlusswert: 1.5\n",
      "Length: 51\n",
      "--- --- ---\n",
      "LCexv 4010 MediLine\n",
      "Document: Geräusch (db) - Emission: 52\n",
      "Length: 28\n",
      "--- --- ---\n",
      "LABEX-720 ULTIMATE\n",
      "Document: Gewicht (kg) - netto: 145, brutto: 174\n",
      "Length: 38\n",
      "--- --- ---\n",
      "LABEX-720 ULTIMATE\n",
      "Document: Volumen (l) - Kühlinhalt: 700\n",
      "Length: 29\n",
      "--- --- ---\n",
      "LABEX-720 ULTIMATE\n",
      "Document: Energie - Leistungsaufnahme-watt: 237, Wärmeabgabe-watt: 545, Normalverbrauch-kwh 24h: 1.23\n",
      "Length: 91\n",
      "--- --- ---\n",
      "LABEX-720 ULTIMATE\n",
      "Document: Spannung (volt) - Spannung: 220, Spannung max: 240\n",
      "Length: 50\n",
      "--- --- ---\n",
      "LABEX-720 ULTIMATE\n",
      "Document: Frequenz (hz) - Frequenz: 50\n",
      "Length: 28\n",
      "--- --- ---\n",
      "LABEX-720 ULTIMATE\n",
      "Document: Geräusch (db) - Emission: 42\n",
      "Length: 28\n",
      "--- --- ---\n",
      "LABEX-720 ULTIMATE\n",
      "Document: Innenausstattung - Anzahl Rost: 5, Belastbarkeit Ablagefläche-kg: 40, Material Körbe: optional\n",
      "Length: 94\n",
      "--- --- ---\n",
      "MED-340 PRO-ACTIVE\n",
      "Document: Gewicht (kg) - netto: 100, brutto: 114\n",
      "Length: 38\n",
      "--- --- ---\n",
      "MED-340 PRO-ACTIVE\n",
      "Document: Volumen (l) - Kühlinhalt: 330\n",
      "Length: 29\n",
      "--- --- ---\n",
      "MED-340 PRO-ACTIVE\n",
      "Document: Energie - Leistungsaufnahme-watt: 108, Wärmeabgabe-watt: 165, Normalverbrauch-kwh 24h: 0.82\n",
      "Length: 91\n",
      "--- --- ---\n",
      "MED-340 PRO-ACTIVE\n",
      "Document: Spannung (volt) - Spannung: 220, Spannung max: 240\n",
      "Length: 50\n",
      "--- --- ---\n",
      "MED-340 PRO-ACTIVE\n",
      "Document: Frequenz (hz) - Frequenz: 50\n",
      "Length: 28\n",
      "--- --- ---\n",
      "MED-340 PRO-ACTIVE\n",
      "Document: Geräusch (db) - Emission: 39\n",
      "Length: 28\n",
      "--- --- ---\n",
      "\n",
      "\n"
     ]
    }
   ],
   "source": [
    "stats(summs_df, 200, 'Summs')\n",
    "stats(descs_df, 200, 'Descriptions')\n",
    "stats(specs_df, 100, 'Specs')"
   ]
  },
  {
   "cell_type": "markdown",
   "id": "8db9e120",
   "metadata": {},
   "source": [
    "An dieser Stelle wurden weitere Verbesserungen an den Promts vorgenommen und getestet... Mit den Specs muss noch eine andere Strategie ausgedacht werden. Jetzt erstmal mit den kleinen Chunks probieren. "
   ]
  },
  {
   "cell_type": "markdown",
   "id": "cae7fc31",
   "metadata": {},
   "source": [
    "## Speichern"
   ]
  },
  {
   "cell_type": "code",
   "execution_count": 33,
   "id": "cf904fde",
   "metadata": {},
   "outputs": [],
   "source": [
    "summs_df.to_json('summs_chunks.jsonl', orient='records', lines=True, force_ascii=False)\n",
    "descs_df.to_json('descs_chunks.jsonl', orient='records', lines=True, force_ascii=False)\n",
    "specs_df.to_json('specs_chunks.jsonl', orient='records', lines=True, force_ascii=False)"
   ]
  }
 ],
 "metadata": {
  "kernelspec": {
   "display_name": "Python 3",
   "language": "python",
   "name": "python3"
  },
  "language_info": {
   "codemirror_mode": {
    "name": "ipython",
    "version": 3
   },
   "file_extension": ".py",
   "mimetype": "text/x-python",
   "name": "python",
   "nbconvert_exporter": "python",
   "pygments_lexer": "ipython3",
   "version": "3.13.7"
  }
 },
 "nbformat": 4,
 "nbformat_minor": 5
}
