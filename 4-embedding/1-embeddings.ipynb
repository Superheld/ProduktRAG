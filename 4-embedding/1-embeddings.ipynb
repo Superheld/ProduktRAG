{
 "cells": [
  {
   "cell_type": "markdown",
   "id": "ed9c4817",
   "metadata": {},
   "source": [
    "# Embedding"
   ]
  },
  {
   "cell_type": "code",
   "execution_count": 5,
   "id": "b3a40bfc",
   "metadata": {},
   "outputs": [
    {
     "name": "stdout",
     "output_type": "stream",
     "text": [
      "Specs: 4208\n",
      "Descs: 411\n"
     ]
    }
   ],
   "source": [
    "import pandas as pd\n",
    "import numpy as np  \n",
    "\n",
    "from sentence_transformers import SentenceTransformer, util\n",
    "\n",
    "specs_df = pd.read_json('../2-chunking/chunks_specs.jsonl', lines=True)\n",
    "descs_df = pd.read_json('../2-chunking/chunks_description.jsonl', lines=True)\n",
    "\n",
    "print(f\"Specs: {len(specs_df)}\")\n",
    "print(f\"Descs: {len(descs_df)}\")\n",
    "\n",
    "all_chunks = pd.concat([specs_df, descs_df], ignore_index=True)"
   ]
  },
  {
   "cell_type": "markdown",
   "id": "e146abfe",
   "metadata": {},
   "source": [
    "## Daten aufbereiten"
   ]
  },
  {
   "cell_type": "code",
   "execution_count": 9,
   "id": "855c0fe8",
   "metadata": {},
   "outputs": [],
   "source": [
    "documents = all_chunks['document'].tolist()\n",
    "\n",
    "no_empty_mask = all_chunks['document'].str.len() > 3\n",
    "all_chunks_clean = all_chunks[no_empty_mask].reset_index(drop=True)\n",
    "documents_clean = all_chunks_clean['document'].tolist()"
   ]
  },
  {
   "cell_type": "markdown",
   "id": "65a441b7",
   "metadata": {},
   "source": [
    "## Embeddings generieren"
   ]
  },
  {
   "cell_type": "code",
   "execution_count": 11,
   "id": "57e6f41b",
   "metadata": {},
   "outputs": [
    {
     "name": "stderr",
     "output_type": "stream",
     "text": [
      "No sentence-transformers model found with name deepset/gbert-large. Creating a new one with mean pooling.\n",
      "Batches: 100%|██████████| 289/289 [16:35<00:00,  3.45s/it] \n"
     ]
    }
   ],
   "source": [
    "model = SentenceTransformer('deepset/gbert-large')\n",
    "\n",
    "embeddings = model.encode(\n",
    "    documents_clean,\n",
    "    batch_size=16,\n",
    "    show_progress_bar=True,\n",
    "    normalize_embeddings=True,\n",
    "    convert_to_numpy=True\n",
    ")\n",
    "\n",
    "np.save('./embeddings_gbert.npy', embeddings)"
   ]
  },
  {
   "cell_type": "code",
   "execution_count": null,
   "id": "ce5e77bf",
   "metadata": {},
   "outputs": [
    {
     "name": "stdout",
     "output_type": "stream",
     "text": [
      "Shape: (4618, 1024)\n",
      "Dtype: float32\n"
     ]
    }
   ],
   "source": [
    "print(f\"Shape: {embeddings.shape}\")\n",
    "print(f\"Dtype: {embeddings.dtype}\")"
   ]
  }
 ],
 "metadata": {
  "kernelspec": {
   "display_name": "Python 3",
   "language": "python",
   "name": "python3"
  },
  "language_info": {
   "codemirror_mode": {
    "name": "ipython",
    "version": 3
   },
   "file_extension": ".py",
   "mimetype": "text/x-python",
   "name": "python",
   "nbconvert_exporter": "python",
   "pygments_lexer": "ipython3",
   "version": "3.13.7"
  }
 },
 "nbformat": 4,
 "nbformat_minor": 5
}
